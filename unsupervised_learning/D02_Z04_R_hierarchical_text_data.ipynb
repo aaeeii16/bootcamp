{
 "cells": [
  {
   "cell_type": "markdown",
   "metadata": {},
   "source": [
    "# Zad.\n",
    "Pytamy się jakie są naturalne grupy w postach. Bierzemy zbiór 20newsgroups."
   ]
  },
  {
   "cell_type": "code",
   "execution_count": 1,
   "metadata": {},
   "outputs": [],
   "source": [
    "import numpy as np\n",
    "import pandas as pd\n",
    "import matplotlib.pyplot as plt"
   ]
  },
  {
   "cell_type": "markdown",
   "metadata": {},
   "source": [
    "### wczytaj dane"
   ]
  },
  {
   "cell_type": "code",
   "execution_count": 2,
   "metadata": {},
   "outputs": [],
   "source": [
    "from sklearn.datasets import fetch_20newsgroups\n",
    "twenty = fetch_20newsgroups(subset='all', shuffle=True)"
   ]
  },
  {
   "cell_type": "code",
   "execution_count": 3,
   "metadata": {},
   "outputs": [
    {
     "data": {
      "text/plain": [
       "'.. _20newsgroups_dataset:\\n\\nThe 20 newsgroups text dataset\\n------------------------------\\n\\nThe 20 newsgroups dataset comprises around 18000 newsgroups posts on\\n20 topics split in two subsets: one for training (or development)\\nand the other one for testing (or for performance evaluation). The split\\nbetween the train and test set is based upon a messages posted before\\nand after a specific date.\\n\\nThis module contains two loaders. The first one,\\n:func:`sklearn.datasets.fetch_20newsgroups`,\\nreturns a list of the raw texts that can be fed to text feature\\nextractors such as :class:`sklearn.feature_extraction.text.CountVectorizer`\\nwith custom parameters so as to extract feature vectors.\\nThe second one, :func:`sklearn.datasets.fetch_20newsgroups_vectorized`,\\nreturns ready-to-use features, i.e., it is not necessary to use a feature\\nextractor.\\n\\n**Data Set Characteristics:**\\n\\n    =================   ==========\\n    Classes                     20\\n    Samples total            18846\\n    Dimensionality               1\\n    Features                  text\\n    =================   ==========\\n\\nUsage\\n~~~~~\\n\\nThe :func:`sklearn.datasets.fetch_20newsgroups` function is a data\\nfetching / caching functions that downloads the data archive from\\nthe original `20 newsgroups website`_, extracts the archive contents\\nin the ``~/scikit_learn_data/20news_home`` folder and calls the\\n:func:`sklearn.datasets.load_files` on either the training or\\ntesting set folder, or both of them::\\n\\n  >>> from sklearn.datasets import fetch_20newsgroups\\n  >>> newsgroups_train = fetch_20newsgroups(subset=\\'train\\')\\n\\n  >>> from pprint import pprint\\n  >>> pprint(list(newsgroups_train.target_names))\\n  [\\'alt.atheism\\',\\n   \\'comp.graphics\\',\\n   \\'comp.os.ms-windows.misc\\',\\n   \\'comp.sys.ibm.pc.hardware\\',\\n   \\'comp.sys.mac.hardware\\',\\n   \\'comp.windows.x\\',\\n   \\'misc.forsale\\',\\n   \\'rec.autos\\',\\n   \\'rec.motorcycles\\',\\n   \\'rec.sport.baseball\\',\\n   \\'rec.sport.hockey\\',\\n   \\'sci.crypt\\',\\n   \\'sci.electronics\\',\\n   \\'sci.med\\',\\n   \\'sci.space\\',\\n   \\'soc.religion.christian\\',\\n   \\'talk.politics.guns\\',\\n   \\'talk.politics.mideast\\',\\n   \\'talk.politics.misc\\',\\n   \\'talk.religion.misc\\']\\n\\nThe real data lies in the ``filenames`` and ``target`` attributes. The target\\nattribute is the integer index of the category::\\n\\n  >>> newsgroups_train.filenames.shape\\n  (11314,)\\n  >>> newsgroups_train.target.shape\\n  (11314,)\\n  >>> newsgroups_train.target[:10]\\n  array([ 7,  4,  4,  1, 14, 16, 13,  3,  2,  4])\\n\\nIt is possible to load only a sub-selection of the categories by passing the\\nlist of the categories to load to the\\n:func:`sklearn.datasets.fetch_20newsgroups` function::\\n\\n  >>> cats = [\\'alt.atheism\\', \\'sci.space\\']\\n  >>> newsgroups_train = fetch_20newsgroups(subset=\\'train\\', categories=cats)\\n\\n  >>> list(newsgroups_train.target_names)\\n  [\\'alt.atheism\\', \\'sci.space\\']\\n  >>> newsgroups_train.filenames.shape\\n  (1073,)\\n  >>> newsgroups_train.target.shape\\n  (1073,)\\n  >>> newsgroups_train.target[:10]\\n  array([0, 1, 1, 1, 0, 1, 1, 0, 0, 0])\\n\\nConverting text to vectors\\n~~~~~~~~~~~~~~~~~~~~~~~~~~\\n\\nIn order to feed predictive or clustering models with the text data,\\none first need to turn the text into vectors of numerical values suitable\\nfor statistical analysis. This can be achieved with the utilities of the\\n``sklearn.feature_extraction.text`` as demonstrated in the following\\nexample that extract `TF-IDF`_ vectors of unigram tokens\\nfrom a subset of 20news::\\n\\n  >>> from sklearn.feature_extraction.text import TfidfVectorizer\\n  >>> categories = [\\'alt.atheism\\', \\'talk.religion.misc\\',\\n  ...               \\'comp.graphics\\', \\'sci.space\\']\\n  >>> newsgroups_train = fetch_20newsgroups(subset=\\'train\\',\\n  ...                                       categories=categories)\\n  >>> vectorizer = TfidfVectorizer()\\n  >>> vectors = vectorizer.fit_transform(newsgroups_train.data)\\n  >>> vectors.shape\\n  (2034, 34118)\\n\\nThe extracted TF-IDF vectors are very sparse, with an average of 159 non-zero\\ncomponents by sample in a more than 30000-dimensional space\\n(less than .5% non-zero features)::\\n\\n  >>> vectors.nnz / float(vectors.shape[0])\\n  159.01327...\\n\\n:func:`sklearn.datasets.fetch_20newsgroups_vectorized` is a function which \\nreturns ready-to-use token counts features instead of file names.\\n\\n.. _`20 newsgroups website`: http://people.csail.mit.edu/jrennie/20Newsgroups/\\n.. _`TF-IDF`: https://en.wikipedia.org/wiki/Tf-idf\\n\\n\\nFiltering text for more realistic training\\n~~~~~~~~~~~~~~~~~~~~~~~~~~~~~~~~~~~~~~~~~~\\n\\nIt is easy for a classifier to overfit on particular things that appear in the\\n20 Newsgroups data, such as newsgroup headers. Many classifiers achieve very\\nhigh F-scores, but their results would not generalize to other documents that\\naren\\'t from this window of time.\\n\\nFor example, let\\'s look at the results of a multinomial Naive Bayes classifier,\\nwhich is fast to train and achieves a decent F-score::\\n\\n  >>> from sklearn.naive_bayes import MultinomialNB\\n  >>> from sklearn import metrics\\n  >>> newsgroups_test = fetch_20newsgroups(subset=\\'test\\',\\n  ...                                      categories=categories)\\n  >>> vectors_test = vectorizer.transform(newsgroups_test.data)\\n  >>> clf = MultinomialNB(alpha=.01)\\n  >>> clf.fit(vectors, newsgroups_train.target)\\n  MultinomialNB(alpha=0.01, class_prior=None, fit_prior=True)\\n\\n  >>> pred = clf.predict(vectors_test)\\n  >>> metrics.f1_score(newsgroups_test.target, pred, average=\\'macro\\')\\n  0.88213...\\n\\n(The example :ref:`sphx_glr_auto_examples_text_plot_document_classification_20newsgroups.py` shuffles\\nthe training and test data, instead of segmenting by time, and in that case\\nmultinomial Naive Bayes gets a much higher F-score of 0.88. Are you suspicious\\nyet of what\\'s going on inside this classifier?)\\n\\nLet\\'s take a look at what the most informative features are:\\n\\n  >>> import numpy as np\\n  >>> def show_top10(classifier, vectorizer, categories):\\n  ...     feature_names = np.asarray(vectorizer.get_feature_names())\\n  ...     for i, category in enumerate(categories):\\n  ...         top10 = np.argsort(classifier.coef_[i])[-10:]\\n  ...         print(\"%s: %s\" % (category, \" \".join(feature_names[top10])))\\n  ...\\n  >>> show_top10(clf, vectorizer, newsgroups_train.target_names)\\n  alt.atheism: edu it and in you that is of to the\\n  comp.graphics: edu in graphics it is for and of to the\\n  sci.space: edu it that is in and space to of the\\n  talk.religion.misc: not it you in is that and to of the\\n\\n\\nYou can now see many things that these features have overfit to:\\n\\n- Almost every group is distinguished by whether headers such as\\n  ``NNTP-Posting-Host:`` and ``Distribution:`` appear more or less often.\\n- Another significant feature involves whether the sender is affiliated with\\n  a university, as indicated either by their headers or their signature.\\n- The word \"article\" is a significant feature, based on how often people quote\\n  previous posts like this: \"In article [article ID], [name] <[e-mail address]>\\n  wrote:\"\\n- Other features match the names and e-mail addresses of particular people who\\n  were posting at the time.\\n\\nWith such an abundance of clues that distinguish newsgroups, the classifiers\\nbarely have to identify topics from text at all, and they all perform at the\\nsame high level.\\n\\nFor this reason, the functions that load 20 Newsgroups data provide a\\nparameter called **remove**, telling it what kinds of information to strip out\\nof each file. **remove** should be a tuple containing any subset of\\n``(\\'headers\\', \\'footers\\', \\'quotes\\')``, telling it to remove headers, signature\\nblocks, and quotation blocks respectively.\\n\\n  >>> newsgroups_test = fetch_20newsgroups(subset=\\'test\\',\\n  ...                                      remove=(\\'headers\\', \\'footers\\', \\'quotes\\'),\\n  ...                                      categories=categories)\\n  >>> vectors_test = vectorizer.transform(newsgroups_test.data)\\n  >>> pred = clf.predict(vectors_test)\\n  >>> metrics.f1_score(pred, newsgroups_test.target, average=\\'macro\\')\\n  0.77310...\\n\\nThis classifier lost over a lot of its F-score, just because we removed\\nmetadata that has little to do with topic classification.\\nIt loses even more if we also strip this metadata from the training data:\\n\\n  >>> newsgroups_train = fetch_20newsgroups(subset=\\'train\\',\\n  ...                                       remove=(\\'headers\\', \\'footers\\', \\'quotes\\'),\\n  ...                                       categories=categories)\\n  >>> vectors = vectorizer.fit_transform(newsgroups_train.data)\\n  >>> clf = MultinomialNB(alpha=.01)\\n  >>> clf.fit(vectors, newsgroups_train.target)\\n  MultinomialNB(alpha=0.01, class_prior=None, fit_prior=True)\\n\\n  >>> vectors_test = vectorizer.transform(newsgroups_test.data)\\n  >>> pred = clf.predict(vectors_test)\\n  >>> metrics.f1_score(newsgroups_test.target, pred, average=\\'macro\\')\\n  0.76995...\\n\\nSome other classifiers cope better with this harder version of the task. Try\\nrunning :ref:`sphx_glr_auto_examples_model_selection_grid_search_text_feature_extraction.py` with and without\\nthe ``--filter`` option to compare the results.\\n\\n.. topic:: Recommendation\\n\\n  When evaluating text classifiers on the 20 Newsgroups data, you\\n  should strip newsgroup-related metadata. In scikit-learn, you can do this by\\n  setting ``remove=(\\'headers\\', \\'footers\\', \\'quotes\\')``. The F-score will be\\n  lower because it is more realistic.\\n\\n.. topic:: Examples\\n\\n   * :ref:`sphx_glr_auto_examples_model_selection_grid_search_text_feature_extraction.py`\\n\\n   * :ref:`sphx_glr_auto_examples_text_plot_document_classification_20newsgroups.py`\\n'"
      ]
     },
     "execution_count": 3,
     "metadata": {},
     "output_type": "execute_result"
    }
   ],
   "source": [
    "twenty.DESCR"
   ]
  },
  {
   "cell_type": "code",
   "execution_count": 4,
   "metadata": {},
   "outputs": [
    {
     "data": {
      "text/plain": [
       "['alt.atheism',\n",
       " 'comp.graphics',\n",
       " 'comp.os.ms-windows.misc',\n",
       " 'comp.sys.ibm.pc.hardware',\n",
       " 'comp.sys.mac.hardware',\n",
       " 'comp.windows.x',\n",
       " 'misc.forsale',\n",
       " 'rec.autos',\n",
       " 'rec.motorcycles',\n",
       " 'rec.sport.baseball',\n",
       " 'rec.sport.hockey',\n",
       " 'sci.crypt',\n",
       " 'sci.electronics',\n",
       " 'sci.med',\n",
       " 'sci.space',\n",
       " 'soc.religion.christian',\n",
       " 'talk.politics.guns',\n",
       " 'talk.politics.mideast',\n",
       " 'talk.politics.misc',\n",
       " 'talk.religion.misc']"
      ]
     },
     "execution_count": 4,
     "metadata": {},
     "output_type": "execute_result"
    }
   ],
   "source": [
    "twenty.target_names"
   ]
  },
  {
   "cell_type": "code",
   "execution_count": 5,
   "metadata": {},
   "outputs": [],
   "source": [
    "data = []\n",
    "for j in range(len(twenty.target_names)):\n",
    "    data.append([twenty.data[i] for i in range(twenty.target.shape[0]) if twenty.target[i] == j])"
   ]
  },
  {
   "cell_type": "markdown",
   "metadata": {},
   "source": [
    "### Wypisz pierwszy post"
   ]
  },
  {
   "cell_type": "code",
   "execution_count": 6,
   "metadata": {},
   "outputs": [
    {
     "name": "stdout",
     "output_type": "stream",
     "text": [
      "From: kmr4@po.CWRU.edu (Keith M. Ryan)\n",
      "Subject: Re: Islam And Scientific Predictions (was Re: Genocide is Caused by Atheism)\n",
      "Organization: Case Western Reserve University\n",
      "Lines: 14\n",
      "NNTP-Posting-Host: b64635.student.cwru.edu\n",
      "\n",
      "In article <1993Apr19.231641.21652@monu6.cc.monash.edu.au> darice@yoyo.cc.monash.edu.au (Fred Rice) writes:\n",
      "\n",
      ">The positive aspect of this verse noted by Dr. Maurice Bucaille is that\n",
      ">while geocentrism was the commonly accepted notion at the time (and for\n",
      ">a long time afterwards), there is no notion of geocentrism in this verse\n",
      ">(or anywhere in the Qur'an).\n",
      "\n",
      "\tThere is no notion of heliocentric, or even galacticentric either.\n",
      "\n",
      "\n",
      "\n",
      "--------------------------------------------------------------------------------\n",
      "\t\t\n",
      "\t\t\"My sole intention was learning to fly.\"\n",
      "\n"
     ]
    }
   ],
   "source": [
    "print(data[0][0])"
   ]
  },
  {
   "cell_type": "markdown",
   "metadata": {},
   "source": [
    "### Zapisz dane w dwóch zmiennych \n",
    "\n",
    " * X_set\n",
    " * y_set\n",
    " \n",
    "biorąc okreslona ilosc danych z kazdej klasy\n",
    "\n",
    "5 klas po 50 elementów"
   ]
  },
  {
   "cell_type": "code",
   "execution_count": 8,
   "metadata": {},
   "outputs": [],
   "source": [
    "#biore okreslona ilosc danych z kazdej klasy\n",
    "\n",
    "categories = 5\n",
    "num=50\n",
    "X_set = []\n",
    "Y_set =[]\n",
    "for i in range(categories):\n",
    "    X_set = X_set + data[i][:num]\n",
    "    Y_set = Y_set + [i]*num"
   ]
  },
  {
   "cell_type": "markdown",
   "metadata": {},
   "source": [
    "### wypisz pierwszy post"
   ]
  },
  {
   "cell_type": "code",
   "execution_count": 9,
   "metadata": {},
   "outputs": [
    {
     "data": {
      "text/plain": [
       "'From: kmr4@po.CWRU.edu (Keith M. Ryan)\\nSubject: Re: Islam And Scientific Predictions (was Re: Genocide is Caused by Atheism)\\nOrganization: Case Western Reserve University\\nLines: 14\\nNNTP-Posting-Host: b64635.student.cwru.edu\\n\\nIn article <1993Apr19.231641.21652@monu6.cc.monash.edu.au> darice@yoyo.cc.monash.edu.au (Fred Rice) writes:\\n\\n>The positive aspect of this verse noted by Dr. Maurice Bucaille is that\\n>while geocentrism was the commonly accepted notion at the time (and for\\n>a long time afterwards), there is no notion of geocentrism in this verse\\n>(or anywhere in the Qur\\'an).\\n\\n\\tThere is no notion of heliocentric, or even galacticentric either.\\n\\n\\n\\n--------------------------------------------------------------------------------\\n\\t\\t\\n\\t\\t\"My sole intention was learning to fly.\"\\n'"
      ]
     },
     "execution_count": 9,
     "metadata": {},
     "output_type": "execute_result"
    }
   ],
   "source": [
    "X_set[0]"
   ]
  },
  {
   "cell_type": "markdown",
   "metadata": {},
   "source": [
    "### wypisz pierwszy label posta"
   ]
  },
  {
   "cell_type": "code",
   "execution_count": 11,
   "metadata": {},
   "outputs": [
    {
     "data": {
      "text/plain": [
       "0"
      ]
     },
     "execution_count": 11,
     "metadata": {},
     "output_type": "execute_result"
    }
   ],
   "source": [
    "Y_set[0]"
   ]
  },
  {
   "cell_type": "markdown",
   "metadata": {},
   "source": [
    "### wektoryzuje dane"
   ]
  },
  {
   "cell_type": "code",
   "execution_count": 12,
   "metadata": {},
   "outputs": [],
   "source": [
    "#wektoryzuje dane\n",
    "\n",
    "from sklearn.feature_extraction.text import CountVectorizer\n",
    "\n",
    "tf_vectorizer = CountVectorizer(strip_accents = 'unicode',\n",
    "                                stop_words = 'english',\n",
    "                                lowercase = True,\n",
    "                                token_pattern = r'\\b[a-zA-Z]{3,}\\b',\n",
    "                                max_df = 0.5, \n",
    "                                min_df = 10)\n",
    "X_vectors = tf_vectorizer.fit_transform(X_set)"
   ]
  },
  {
   "cell_type": "code",
   "execution_count": 13,
   "metadata": {},
   "outputs": [
    {
     "name": "stdout",
     "output_type": "stream",
     "text": [
      "(250, 312)\n",
      "250\n"
     ]
    }
   ],
   "source": [
    "print(X_vectors.shape)\n",
    "print(len(Y_set))"
   ]
  },
  {
   "cell_type": "code",
   "execution_count": 14,
   "metadata": {},
   "outputs": [],
   "source": [
    "# df = pd.DataFrame(X_vectors.todense())\n",
    "# df"
   ]
  },
  {
   "cell_type": "code",
   "execution_count": 15,
   "metadata": {},
   "outputs": [
    {
     "data": {
      "text/plain": [
       "array([0, 1, 2, 3, 4])"
      ]
     },
     "execution_count": 15,
     "metadata": {},
     "output_type": "execute_result"
    }
   ],
   "source": [
    "np.unique(Y_set)"
   ]
  },
  {
   "cell_type": "markdown",
   "metadata": {},
   "source": [
    "# Zad. \n",
    "\n",
    "Wykonajmy grupowanie danych metodą hierarchiczną.\n",
    "\n",
    "Użyj odległości:\n",
    "    \n",
    "   * 'euclidean'\n",
    "   * 'cosine'\n",
    "    \n",
    "Dlaczego odległość 'euclidean' jest gorsza od 'cosine'?"
   ]
  },
  {
   "cell_type": "code",
   "execution_count": 17,
   "metadata": {},
   "outputs": [
    {
     "data": {
      "image/png": "[encoded data removed]",
      "text/plain": [
       "<Figure size 1800x720 with 1 Axes>"
      ]
     },
     "metadata": {
      "needs_background": "light"
     },
     "output_type": "display_data"
    }
   ],
   "source": [
    "from scipy.spatial.distance import pdist, squareform\n",
    "from scipy.cluster.hierarchy import linkage\n",
    "from scipy.cluster.hierarchy import dendrogram\n",
    "from scipy.cluster.hierarchy import fcluster\n",
    "from sklearn import metrics\n",
    "\n",
    "df = pd.DataFrame(X_vectors.todense())\n",
    "df\n",
    "\n",
    "plt.figure(figsize=(25, 10))\n",
    "row_clusters = linkage(pdist(df, metric='euclidean'), method='ward') \n",
    "row_dendr = dendrogram(row_clusters)\n",
    "\n",
    "plt.ylabel('Euclidean distance')\n",
    "plt.show()\n"
   ]
  },
  {
   "cell_type": "code",
   "execution_count": 18,
   "metadata": {},
   "outputs": [
    {
     "name": "stdout",
     "output_type": "stream",
     "text": [
      "[16 11 16 10 16 16 10 16 16 16 13 16 16 16 16 16  5 10 16 16 16 16 16 16\n",
      " 16  6 16 16 10 16 16 16 16 16 16 16 16 16 16 16 10 16 16 16 16 12 12 16\n",
      " 16 16 16 16 16 16 16 15 16 16 16 16 16 16 16 16 18 16 16  7 16 15 17 16\n",
      " 17 16 10 16 16  8 14 16 16 16 16 16 20 16 16 16 16 16 17 10 16 16 16 16\n",
      "  7 16 17 16 16 16 15 17 16 15 16 14 16 15 16 16 16 16 15 15 15 16 17 16\n",
      " 16 15 16 16 16 15 16 16 15 19 16 15 16 17 15 16 16 16 16 15 17 15 15 15\n",
      " 15 16 10 10 16 16 17  2 17 15 16 17 16  1 17  1 16 16 17 16 16 16 17 17\n",
      " 16  3 15 16 16 16 17 16 16 16  7 17 16 17 17 16  1 16 17 16 16  4 16 16\n",
      " 16 16 16 16  1 16  7  3 16 16 16 16  8 10 16 16 16 16 16 16 16 17 10 16\n",
      "  9 16 16 16 17 16 16 16  9 16 16 17 16 16 16 10 17 16  9 17 16 16 16 16\n",
      " 10 16 16  7 17 16 16 16 16 16]\n",
      "[ 1  2  3  4  5  6  7  8  9 10 11 12 13 14 15 16 17 18 19 20]\n",
      "0.024221343327018547\n"
     ]
    }
   ],
   "source": [
    "part = fcluster(row_clusters, 20, 'maxclust')\n",
    "print(part)\n",
    "print(np.unique(part))\n",
    "print(metrics.adjusted_rand_score(Y_set, part))"
   ]
  },
  {
   "cell_type": "code",
   "execution_count": 41,
   "metadata": {},
   "outputs": [
    {
     "data": {
      "image/png": "[encoded data removed]",
      "text/plain": [
       "<Figure size 1800x720 with 1 Axes>"
      ]
     },
     "metadata": {
      "needs_background": "light"
     },
     "output_type": "display_data"
    }
   ],
   "source": [
    "df = pd.DataFrame(X_vectors.todense())\n",
    "df\n",
    "\n",
    "plt.figure(figsize=(25, 10))\n",
    "row_clusters = linkage(pdist(df, metric='cosine'), method='ward') \n",
    "row_dendr = dendrogram(row_clusters)\n",
    "\n",
    "plt.ylabel('Euclidean distance')\n",
    "plt.show()\n"
   ]
  },
  {
   "cell_type": "code",
   "execution_count": 42,
   "metadata": {},
   "outputs": [
    {
     "name": "stdout",
     "output_type": "stream",
     "text": [
      "[ 4  5 11  5  3  5  5  3 13 12  5 13  5  3  4  5  5  5  4  5  5  4  5  3\n",
      " 10  5  4 13  5 13  3  5  5  5  5  5 13  3  1  5  5  4  3  5 10  5  5  4\n",
      "  5 13 11 19  8  8  8  6 18 13  2 15  9  1 19 11  9 19 12  3  6 16 19  6\n",
      "  3  8 20  1 15 10  9 16  3 20 15  6  3  9 18 11  9  8  9 11 13  8 20 18\n",
      "  1 15 14  8 10 18  6  6 10  9  8  9 20  6 15 10  8  6  6  6 10  6 16  9\n",
      " 11 16 12 10  6  6  9 11  6  6 20  6  6  5  6  6  3 13 10  6 14 16  6  6\n",
      "  6 18 20 10  6  3 14  7 15 16 10  7 17  7 14  7 15 18  3  1  3 15 16  5\n",
      " 16  7 16  8 20 20  7 11  3 13  3 14  3 10 16 17  7  1  7  9 18  7 16  3\n",
      "  3 15 14  8  7  9  1  7 15  8  8 12 10 20  3 10 14  8 14 17  6 16 10 10\n",
      "  2 13  6 13 10 15 17 15  2  3  8 14 15 15  8 10  7  3  2 15 18 12 11 15\n",
      " 12 17  2  3 14  3 15 10 20 15]\n",
      "[ 1  2  3  4  5  6  7  8  9 10 11 12 13 14 15 16 17 18 19 20]\n",
      "0.1355214533306596\n"
     ]
    }
   ],
   "source": [
    "part = fcluster(row_clusters, 20, 'maxclust')\n",
    "print(part)\n",
    "print(np.unique(part))\n",
    "print(metrics.adjusted_rand_score(Y_set, part))"
   ]
  },
  {
   "cell_type": "code",
   "execution_count": 34,
   "metadata": {},
   "outputs": [
    {
     "data": {
      "image/png": "[encoded data removed]",
      "text/plain": [
       "<Figure size 1800x720 with 1 Axes>"
      ]
     },
     "metadata": {
      "needs_background": "light"
     },
     "output_type": "display_data"
    }
   ],
   "source": [
    "df = pd.DataFrame(X_vectors.todense())\n",
    "df\n",
    "\n",
    "plt.figure(figsize=(25, 10))\n",
    "row_clusters = linkage(pdist(df, metric='cosine'), method='complete') \n",
    "row_dendr = dendrogram(row_clusters)\n",
    "\n",
    "plt.ylabel('Euclidean distance')\n",
    "plt.show()\n",
    "\n",
    "part = fcluster(row_clusters, 20, 'maxclust')\n",
    "print(part)\n",
    "print(np.unique(part))\n",
    "print(metrics.adjusted_rand_score(Y_set, part))"
   ]
  },
  {
   "cell_type": "markdown",
   "metadata": {},
   "source": [
    "# Zad \n",
    "Podziel dane na grupy np. 20."
   ]
  },
  {
   "cell_type": "code",
   "execution_count": 35,
   "metadata": {},
   "outputs": [
    {
     "name": "stdout",
     "output_type": "stream",
     "text": [
      "[ 1  9  9 15 16 20 15  5  3  7 15 12 20  5 20 20 20 20 20  1 20 20 20  5\n",
      "  3 20 20  3 20 12  5 20 20 20 15 15  3  5  5  9 20 20  5 20 15 20 20 20\n",
      " 15  3 12 19  8  8  1 18 10 12 14  8  2  8 19 12  2 19  7  5  2 14 19 18\n",
      "  5  8 12  5  8  7  3  8  5  3  8 16 16  2  8  9 17  8  2 12 12  8 17 10\n",
      "  5  8 13  8 10 10 18 18  7  2  8  3 17 14  1 10  8 14 18 18 14  5  8 14\n",
      "  9 14  7  9 18 14 14  9 18 14 17 14 18 16 14 14  5  7  7 18 13  7 14 18\n",
      " 18 10  3 14 18  5  6 11 17 14  9 16  4 11  6 11  8 17  5  8  5 16  6 16\n",
      "  8 11 14  8 11 17 11  9  5  7  5  6  5 15  7  4 11  8 11  2 10 11  6  5\n",
      "  5 17  6  8 11 14  5 11 16  1  8  7  7  3  5 15  1  8  1  4  2  6  1 14\n",
      "  5  3 13 12  7  1  4  1  5  1  9  6  1  8  8  1 11  5  5  5 10  7  9  8\n",
      "  7  4  5  5  6  1  5  4  3  1]\n",
      "[ 1  2  3  4  5  6  7  8  9 10 11 12 13 14 15 16 17 18 19 20]\n"
     ]
    }
   ],
   "source": [
    "part = fcluster(row_clusters, 20, 'maxclust')\n",
    "print(part)\n",
    "print(np.unique(part))\n",
    "print(metrics.adjusted_rand_score(Y_set, part))"
   ]
  },
  {
   "cell_type": "code",
   "execution_count": 37,
   "metadata": {},
   "outputs": [
    {
     "name": "stdout",
     "output_type": "stream",
     "text": [
      "0.11989509919645194\n"
     ]
    }
   ],
   "source": [
    "print(metrics.adjusted_rand_score(Y_set, part))"
   ]
  },
  {
   "cell_type": "code",
   "execution_count": 29,
   "metadata": {},
   "outputs": [
    {
     "data": {
      "text/plain": [
       "(array([ 1,  2,  3,  4,  5,  6,  7,  8,  9, 10, 11, 12, 13, 14, 15, 16, 17,\n",
       "        18, 19, 20], dtype=int32),\n",
       " array([15,  8, 12,  6, 32,  9, 15, 27, 11,  8, 12,  9,  3, 19,  9,  8,  8,\n",
       "        13,  4, 22], dtype=int64))"
      ]
     },
     "execution_count": 29,
     "metadata": {},
     "output_type": "execute_result"
    }
   ],
   "source": [
    "np.unique(part, return_counts = True)"
   ]
  },
  {
   "cell_type": "markdown",
   "metadata": {},
   "source": [
    "# Zad \n",
    "Wylicz średnie w każdym klastrze"
   ]
  },
  {
   "cell_type": "code",
   "execution_count": 53,
   "metadata": {},
   "outputs": [
    {
     "name": "stdout",
     "output_type": "stream",
     "text": [
      "---------------------------\n",
      "[[0.13333333 0.         0.2        ... 0.06666667 0.06666667 0.        ]\n",
      " [0.         0.125      0.         ... 0.375      0.         0.        ]\n",
      " [0.08333333 0.08333333 0.08333333 ... 0.16666667 0.08333333 0.16666667]\n",
      " ...\n",
      " [0.         0.30769231 0.07692308 ... 0.07692308 0.         0.        ]\n",
      " [0.25       0.         0.         ... 0.         0.         0.25      ]\n",
      " [0.04545455 0.         0.31818182 ... 0.31818182 0.36363636 0.27272727]]\n",
      "---------------------------\n"
     ]
    }
   ],
   "source": [
    "n_elements = len(set(part))\n",
    "\n",
    "X_dense = X_vectors.todense()\n",
    "centers = np.zeros((n_elements, X_dense.shape[1]))\n",
    "\n",
    "for i in range(1,n_elements+1):\n",
    "    centers[i-1] = np.mean(X_dense[part == i], axis = 0)\n",
    "print(\"---------------------------\")\n",
    "print(centers)\n",
    "print(\"---------------------------\")"
   ]
  },
  {
   "cell_type": "markdown",
   "metadata": {},
   "source": [
    "# Zad. \n",
    "\n",
    "Wypisujem po kilka najczęstszych słów z klastrach"
   ]
  },
  {
   "cell_type": "code",
   "execution_count": 54,
   "metadata": {},
   "outputs": [
    {
     "name": "stdout",
     "output_type": "stream",
     "text": [
      "['university', 'nntp', 'posting', 'host', 'article', 'writes', 'time', 'apple', 'like', 'good', 'just', 'note', 'don', 'hard', 'problems', 'having', 'engineering', 'number', 'software', 'machine']\n",
      "['university', 'nntp', 'posting', 'host', 'article', 'writes', 'better', 'need', 'computer', 'thing', 'just', 'use', 'memory', 'bit', 'based', 'graphics', 'windows', 'running', 'image', 'uses']\n",
      "['university', 'article', 'writes', 'state', 'com', 'like', 'know', 'make', 'tell', 'way', 'problem', 'life', 'file', 'don', 'help', 'want', 'read', 'memory', 'using', 'work']\n",
      "['posting', 'question', 'way', 'problem', 'did', 'public', 'access', 'mail', 'help', 'want', 'thanks', 'does', 'distribution', 'world', 'mac', 'message', 'robert', 'running', 'org', 'computers']\n",
      "['nntp', 'posting', 'host', 'article', 'writes', 'time', 'com', 'know', 'think', 'use', 'don', 'does', 'distribution', 'world', 'using', 'mac', 'ibm', 'color', 'card', 'port']\n",
      "['university', 'nntp', 'posting', 'host', 'com', 'high', 'use', 'email', 'does', 'version', 'bit', 'work', 'video', 'card', 'display', 'cards', 'bus', 'performance', 'drivers', 'monitor']\n",
      "['university', 'writes', 'state', 'apple', 'know', 'speed', 'just', 'think', 'thanks', 'does', 'problems', 'memory', 'second', 'tried', 'college', 'windows', 'usa', 'video', 'performance', 'monitor']\n",
      "['university', 'nntp', 'posting', 'host', 'know', 'need', 'way', 'looking', 'new', 'think', 'don', 'mail', 'thanks', 'does', 'distribution', 'world', 'ibm', 'program', 'disk', 'drivers']\n",
      "['university', 'nntp', 'posting', 'host', 'article', 'writes', 'say', 'know', 'right', 'wrong', 'good', 'make', 'better', 'question', 'correct', 'makes', 'ask', 'computer', 'science', 'just']\n",
      "['case', 'time', 'problem', 'science', 'works', 'fax', 'mail', 'thanks', 'email', 'problems', 'having', 'address', 'try', 'post', 'hello', 'college', 'wanted', 'windows', 'running', 'advance']\n",
      "['article', 'writes', 'com', 'use', 'hard', 'want', 'does', 'mac', 'data', 'ibm', 'devices', 'format', 'card', 'disk', 'bus', 'drive', 'scsi', 'isa', 'controller', 'ide']\n",
      "['university', 'article', 'writes', 'know', 'right', 'information', 'looking', 'computer', 'science', 'think', 'reply', 'help', 'email', 'systems', 'post', 'uiuc', 'programs', 'graphics', 'comp', 'fast']\n",
      "['university', 'article', 'just', 'able', 'mail', 'thanks', 'box', 'version', 'support', 'come', 'tech', 'ftp', 'software', 'vesa', 'running', 'color', 'ram', 'available', 'card', 'driver']\n",
      "['university', 'nntp', 'posting', 'host', 'article', 'writes', 'com', 'like', 'need', 'just', 'use', 'don', 'using', 'run', 'dos', 'ibm', 'sys', 'windows', 'files', 'drivers']\n",
      "['atheism', 'university', 'writes', 'time', 'say', 'people', 'right', 'good', 'really', 'point', 'did', 'just', 'new', 'think', 'believe', 'don', 'hard', 'deleted', 'atheist', 'atheists']\n",
      "['article', 'time', 'com', 'know', 'information', 'make', 'just', 'use', 'mail', 'list', 'send', 'address', 'post', 'michael', 'old', 'message', 'interested', 'software', 'available', 'drive']\n",
      "['university', 'need', 'tell', 'problem', 'big', 'trying', 'mail', 'help', 'thanks', 'board', 'far', 'data', 'number', 'ibm', 'mode', 'greatly', 'meg', 'format', 'port', 'drive']\n",
      "['university', 'article', 'writes', 'john', 'com', 'know', 'file', 'new', 'david', 'help', 'thanks', 'version', 'run', 'dos', 'windows', 'files', 'card', 'screen', 'win', 'computers']\n",
      "['say', 'uucp', 'wrong', 'need', 'just', 'don', 'reply', 'mail', 'distribution', 'world', 'support', 'robert', 'software', 'graphics', 'program', 'vesa', 'mode', 'vga', 'card', 'bios']\n",
      "['keith', 'article', 'writes', 'say', 'com', 'know', 'people', 'way', 'true', 'just', 'reason', 'think', 'believe', 'god', 'don', 'does', 'atheists', 'read', 'claim', 'mean']\n"
     ]
    }
   ],
   "source": [
    "top = 20\n",
    "for i in range(n_elements):\n",
    "    tops = np.argsort(centers[i,:])[-top:]#[::-1]\n",
    "    print([w for w in tf_vectorizer.vocabulary_ if tf_vectorizer.vocabulary_[w] in tops])"
   ]
  },
  {
   "cell_type": "markdown",
   "metadata": {},
   "source": [
    "# Zad\n",
    "\n",
    "Wypiszmy teraz posty najbardziej reprezentujące klaster (zdania najbliższe średniej)"
   ]
  },
  {
   "cell_type": "code",
   "execution_count": 55,
   "metadata": {},
   "outputs": [
    {
     "name": "stdout",
     "output_type": "stream",
     "text": [
      "From: Geoffrey_Hansen@mindlink.bc.ca (Geoffrey Hansen)\n",
      "Subject: Re: VESA on the Speedstar 24\n",
      "Organization: MIND LINK! - British Columbia, Canada\n",
      "Lines: 12\n",
      "\n",
      "Using the VMODE command, all you need to do is type VMODE VESA at the dos\n",
      "prompt. VMODE is included with the Speedstar 24.  I have used the VESA mode\n",
      "for autodesk animator pro.\n",
      "\n",
      "--\n",
      "   <=================================================|\n",
      "             |     geoffrey_hansen@mindlink.bc.ca    |\n",
      "             |=================================================>\n",
      " \"Inumerable confusions and a feeling of despair invariably emerge\n",
      "  in periods of great technological and cultural transition.\"\n",
      "                                                     Marshall McLuhan\n",
      "\n",
      "\n",
      "-----------------------------------------------------------------------------\n",
      "From: v-cckch@microsoft.com (Kenneth Charlton)\n",
      "Subject: Re: \"Jump Starting\" a Mac II\n",
      "Organization: Microsoft Corp.\n",
      "Distribution: usa\n",
      "Lines: 5\n",
      "\n",
      "Apple dealerships once had kits to replace the soldered in batteries with a battery \n",
      "holder.\n",
      "\n",
      "Real easy to install, but it does require some soldering.\n",
      "\n",
      "\n",
      "-----------------------------------------------------------------------------\n",
      "From: gregof@JSP.UMontreal.CA (Grego Filippo)\n",
      "Subject: Info wanted on Tseng Labs ET4000 VLB\n",
      "Organization: Universite de Montreal\n",
      "Lines: 9\n",
      "\n",
      "Hi fellow netters,\n",
      "\n",
      "does anybody have any info on Tseng Labs ET4000 VLB card:\n",
      "price, speed, compatibility with existing and up-comming softwares,\n",
      "performance compared to others cards ( is it an S3 based card ?)....\n",
      "\n",
      "Thank you..\n",
      "\n",
      "\n",
      "\n",
      "-----------------------------------------------------------------------------\n",
      "From: edb@dmssyd.syd.dms.CSIRO.AU (Ed Breen)\n",
      "Subject: DICTA-93\n",
      "Originator: edb@friend.syd.dms.CSIRO.AU\n",
      "Keywords: Conference\n",
      "Reply-To: edb@dmssyd.syd.dms.CSIRO.AU (Ed Breen)\n",
      "Organization: CSIRO Division of Mathematics and Statistics, Australia\n",
      "Lines: 163\n",
      "\n",
      "\n",
      "                Australian Pattern Recognition Society\n",
      "\n",
      "                         2nd CALL FOR PAPERS\n",
      "\n",
      "                               DICTA-93\n",
      "\n",
      "                          2nd Conference on -\n",
      "\n",
      "         DIGITAL IMAGING COMPUTING: TECHNIQUES AND APPLICATIONS\n",
      "\n",
      "\n",
      "Location: Macquarie Theatre\n",
      "          Macquarie University\n",
      "          Sydney\n",
      "\n",
      "Date: 8-10 December 1993.\n",
      "\n",
      "\n",
      "   DICTA-93 is the second biennial national conference of the\n",
      "Australian Pattern Recognition Society.\n",
      "\n",
      "   This event will provide an opportunity for any persons with an\n",
      "interest in computer vision, digital image processing/analysis and other\n",
      "aspects of pattern recognition to become informed about contemporary\n",
      "developments in the area, to exchange ideas, to establish contacts and\n",
      "to share details of their own work with others.\n",
      "\n",
      "        The Following invited speakers will provide specialised\n",
      "presentations:\n",
      "\n",
      "Prof Gabor T. Herman, University of Pennsylvania on Medical Imaging.\n",
      "\n",
      "Prof. R.M. Hodgson, Massey University New Zealand on Computer Vision.\n",
      "\n",
      "Prof. Dominique Juelin, Centre de Morphologie Mathematique, Paris on\n",
      "Mathematical Morphology.\n",
      "\n",
      "Prof. John Richards, Aust. Defence Force Academy, Canberra on Remote\n",
      "Sensing.\n",
      "\n",
      "Dr. Phillip K. Robertson, CSIRO Division of Information Technology,\n",
      "Canberra on Interactive Visualisation.\n",
      "\n",
      "\n",
      "   The conference will concentrate on (but is not limited to) the\n",
      "following areas of image processing:-\n",
      "\n",
      "                * Computer Vision and Object Recognition\n",
      "                * Motion Analysis\n",
      "                * Morphology\n",
      "                * Medical Imaging\n",
      "                * Fuzzy logic and Neural Networks\n",
      "                * Image Coding\n",
      "                * Machine Vision and Robotics\n",
      "                * Enhancement and Restoration\n",
      "                * Enhancement and Restoration\n",
      "                * Visualisation\n",
      "                * Industrial Applications\n",
      "                * Software and Hardware Tools\n",
      "\n",
      "   Papers are sought for presentation at the conference and publication\n",
      "in the conference proceedings. Submission for peer review should consist\n",
      "of an extended abstract of 750-1000 words of doubled spaced text, summarizing the\n",
      "technical aspects of the paper and any results that will be quoted.\n",
      "Final papers should be limited to no more than 8 pages of text and\n",
      "illustrations in camera-ready form.\n",
      "\n",
      "\n",
      "   Four (4) copies of the abstract should be sent to:\n",
      "\n",
      "\n",
      "                               DICTA-93\n",
      "                          C/- Tony Adriaansen\n",
      "                  CSIRO - Division of Wool Technology\n",
      "                                PO Box 7\n",
      "                             Ryde NSW 2112\n",
      "                               Australia\n",
      "\n",
      "\n",
      "\n",
      "                            IMPORTANT DATES\n",
      "\n",
      "                Abstract due            - 25th June 1993\n",
      "                Acceptance notified     - 27th August 1993\n",
      "                Final paper due         - 15th October 1993\n",
      "\n",
      "\n",
      "\n",
      "SOCIAL PROGRAM:\n",
      "\n",
      "The conference dinner will be held on the Thursday 9th of December 1993.\n",
      "Other social activities are being arranged.\n",
      "\n",
      "Situated on a beautiful harbour, Sydney has many and varied places of\n",
      "interest. The Opera House and Harbour Bridge are just two of the well\n",
      "known landmarks. Harbour cruises, city tours to the Blue Mountains run\n",
      "daily. We can provide further information on request.\n",
      "\n",
      "\n",
      "ACCOMMODATION:\n",
      "\n",
      "Accommodation within 15 min walking distance is available, ranging from\n",
      "college style to 5 star Hotel facilities. Information will be supplied\n",
      "upon request.\n",
      "\n",
      "\n",
      "CONFERENCE FEES:\n",
      "\n",
      "                        before 30th Sep.        After 30th Sep.\n",
      "APRS Members              A$220                   A$250\n",
      "APRS Student Members      A$120                   A$150\n",
      "Others                    A$250                   A$280\n",
      "\n",
      "Conference Dinner         A$35\n",
      "on Dec 9th 1993\n",
      "\n",
      "\n",
      "-------------------------------------------------------------\n",
      "                ADVANCED REGISTRATION\n",
      "\n",
      "Name:\n",
      "Organisation:\n",
      "Address\n",
      "\n",
      "Phone:\n",
      "Fax:\n",
      "email:\n",
      "\n",
      "                - I am a current Member of APRS.\n",
      "\n",
      "                - I am not a current member of APRS.\n",
      "\n",
      "                - Please send me information on accommodation.\n",
      "\n",
      "\n",
      "I enclose a cheque for\n",
      "\n",
      "-------------------------------------------------------------\n",
      "\n",
      "Please send the above form to\n",
      "\n",
      "DICTA-93\n",
      "C/- Tony Adriaansen\n",
      "CSIRO - Division of Wool Technology\n",
      "PO Box 7\n",
      "Ryde NSW 2112\n",
      "Australia\n",
      "\n",
      "The cheques should be made payable to DICTA-93.\n",
      "\n",
      "For further information contact:\n",
      "* Tony Adriaansen (02) 809 9495\n",
      "* Athula Ginigie  (02) 330 2393\n",
      "* email: dicta93@ee.uts.edu.au\n",
      "\n",
      "APRS is a member of IAPP the International Association for Pattern\n",
      "Recognition, Inc. An affiliated member of the International Federation\n",
      "for Information Processing.\n",
      "\n",
      "\n",
      "\n",
      "\n",
      "\n",
      "-----------------------------------------------------------------------------\n",
      "From: chugh@niktow.canisius.edu (Kevin Chugh)\n",
      "Subject: micro solutions backpack not working properly\n",
      "Organization: Canisius College, Buffalo NY. 14208\n",
      "Lines: 14\n",
      "\n",
      "\n",
      "\n",
      "\n",
      "\n",
      "hello all- i have a problem with my micro solutions backpack- sometimes \n",
      "it works, sometimes it doesnt.  i will either start a backup, or \n",
      "start a tape format, and at about 20 percent i get an error either saying\n",
      "the tape is bad or the backup/format has aborted for an unknown reason.\n",
      "if i turn everything off and wait a half hour it works fine.  is it\n",
      "because the tape backup is too warm?  has anyone had similar experiences?\n",
      "\n",
      "\n",
      "thanks,\n",
      "kevin\n",
      "\n",
      "-----------------------------------------------------------------------------\n",
      "From: chugh@niktow.canisius.edu (Kevin Chugh)\n",
      "Subject: micro solutions backpack not working properly\n",
      "Organization: Canisius College, Buffalo NY. 14208\n",
      "Lines: 14\n",
      "\n",
      "\n",
      "\n",
      "\n",
      "\n",
      "hello all- i have a problem with my micro solutions backpack- sometimes \n",
      "it works, sometimes it doesnt.  i will either start a backup, or \n",
      "start a tape format, and at about 20 percent i get an error either saying\n",
      "the tape is bad or the backup/format has aborted for an unknown reason.\n",
      "if i turn everything off and wait a half hour it works fine.  is it\n",
      "because the tape backup is too warm?  has anyone had similar experiences?\n",
      "\n",
      "\n",
      "thanks,\n",
      "kevin\n",
      "\n",
      "-----------------------------------------------------------------------------\n",
      "From: Geoffrey_Hansen@mindlink.bc.ca (Geoffrey Hansen)\n",
      "Subject: Re: VESA on the Speedstar 24\n",
      "Organization: MIND LINK! - British Columbia, Canada\n",
      "Lines: 12\n",
      "\n",
      "Using the VMODE command, all you need to do is type VMODE VESA at the dos\n",
      "prompt. VMODE is included with the Speedstar 24.  I have used the VESA mode\n",
      "for autodesk animator pro.\n",
      "\n",
      "--\n",
      "   <=================================================|\n",
      "             |     geoffrey_hansen@mindlink.bc.ca    |\n",
      "             |=================================================>\n",
      " \"Inumerable confusions and a feeling of despair invariably emerge\n",
      "  in periods of great technological and cultural transition.\"\n",
      "                                                     Marshall McLuhan\n",
      "\n",
      "\n",
      "-----------------------------------------------------------------------------\n",
      "From: wlieftin@cs.vu.nl (Liefting W)\n",
      "Subject: Re: 486/33 WIN3.1 HANG\n",
      "Organization: Fac. Wiskunde & Informatica, VU, Amsterdam\n",
      "Lines: 19\n",
      "\n",
      "10748539@eng2.eng.monash.edu.au (CHARLES CHOONG) writes:\n",
      "\n",
      ">HELP, PROBLEM 486/33MHZ HANGS IN EXTENDED MODE TRYING TO\n",
      ">ACCESS DRIVES A: OR B: , SOMETIMES IT WILL DO DIR , SOMETIMES WILL HANG\n",
      ">ON ACCESS SOMETIMES WILL WHEN TYING A TEXT FILE.\n",
      "\n",
      ">HARDWARE:\n",
      ">AMERICAN MEGATREND MOTHERBOARD\n",
      ">AMI BIOS 91\n",
      ">CONNER 85MB HARD DRIVE\n",
      ">TRIDENT 1 MEG SVGA\n",
      "\n",
      ">PLEASE HELP!!!\n",
      ">ITS OK IN STANDARD MODE!!!\n",
      "\n",
      "I have the same problem. Someone suggested it might be a BIOS bug.\n",
      "Gonna check with my supplier tomorrow. I'll tell you if it helps.\n",
      "\n",
      "Wouter.\n",
      "\n",
      "-----------------------------------------------------------------------------\n",
      "From: Geoffrey_Hansen@mindlink.bc.ca (Geoffrey Hansen)\n",
      "Subject: Re: VESA on the Speedstar 24\n",
      "Organization: MIND LINK! - British Columbia, Canada\n",
      "Lines: 12\n",
      "\n",
      "Using the VMODE command, all you need to do is type VMODE VESA at the dos\n",
      "prompt. VMODE is included with the Speedstar 24.  I have used the VESA mode\n",
      "for autodesk animator pro.\n",
      "\n",
      "--\n",
      "   <=================================================|\n",
      "             |     geoffrey_hansen@mindlink.bc.ca    |\n",
      "             |=================================================>\n",
      " \"Inumerable confusions and a feeling of despair invariably emerge\n",
      "  in periods of great technological and cultural transition.\"\n",
      "                                                     Marshall McLuhan\n",
      "\n",
      "\n",
      "-----------------------------------------------------------------------------\n",
      "Subject: Re: Feminism and Islam, again\n",
      "From: kmagnacca@eagle.wesleyan.edu\n",
      "Organization: Wesleyan University\n",
      "Nntp-Posting-Host: wesleyan.edu\n",
      "Lines: 30\n",
      "\n",
      "In article <1993Apr14.030334.8650@ultb.isc.rit.edu>, snm6394@ultb.isc.rit.edu (S.N. Mozumder ) writes:\n",
      "> In article <1993Apr11.145519.1@eagle.wesleyan.edu> kmagnacca@eagle.wesleyan.edu writes:\n",
      ">>\n",
      ">>There's a way around that via the hadith, which state that silence is\n",
      ">>taken to mean \"yes\" and that women may not speak before a judge, who\n",
      ">>must conduct the marriage.\n",
      "> \n",
      "> Actaully, that's a false hadith, because it contradicts verses in the\n",
      "> Quran, that says women may testify- speak before a judge.\n",
      "> \n",
      "> Hadiths are declared false when they contradict the Quran.  Hadiths\n",
      "> weren't written during the revelation or during the life of the prophet,\n",
      "> and so may contain errors.\n",
      "\n",
      "So the only way you can tell a false hadith from a true one is\n",
      "if it contradicts the Quran?  What if it relates to something\n",
      "that isn't explicitly spelled out in the Quran?\n",
      "\n",
      "Also, the Quran wasn't written down during the life of Muhammed\n",
      "either.  It wasn't long after, but 20 years or so is still long\n",
      "enough to shift a few verses around.\n",
      "\n",
      "Karl\n",
      " -----------------------------------------------------------------------------\n",
      "| \"Lastly, I come to China in the hope      | \"All you touch and all you see  |\n",
      "| of fulfilling a lifelong ambition -       | Is all your life will ever be.\" |\n",
      "| dropping acid on the Great Wall.\"  --Duke |                 --Pink Floyd    |\n",
      "|-----------------------------------------------------------------------------|\n",
      "|         A Lie is still a Lie even if 3.8 billion people believe it.         |\n",
      " -----------------------------------------------------------------------------\n",
      "\n",
      "-----------------------------------------------------------------------------\n",
      "From: weidlich@arb-phys.uni-dortmund.de (Weidlich)\n",
      "Subject: Searching for a phonetic font\n",
      "Organization: Institut f. Arbeitsphysiologie a.d. Uni Dortmund\n",
      "Lines: 13\n",
      "\n",
      "I'm searching for a phonetic TrueType font for Windows 3.1. If \n",
      "anybody knows one, please mail me!\n",
      "\n",
      "Thanks.\n",
      "\n",
      "dw \n",
      "\n",
      "\n",
      "##################################################################\n",
      "Dipl.-Inform. Dietmar Weidlich    # IfADo, Ardeystr. 67          #\n",
      "weidlich@arb-phys.uni-dortmund.de # D-4600 Dortmund 50           #\n",
      "Phone ++49 231 1084-250           # >> Dr. B.: \"Koennten Sie das #\n",
      "Fax   ++49 231 1084-401           #      MAL EBEN erledigen?\" << #\n",
      "\n",
      "-----------------------------------------------------------------------------\n",
      "From: gkoh@athena.mit.edu (Glenn Koh)\n",
      "Subject: Re: Gateway 4DX-33V - too high a price?\n",
      "Organization: Massachusetts Institute of Technology\n",
      "Lines: 9\n",
      "NNTP-Posting-Host: w20-575-74.mit.edu\n",
      "\n",
      "\n",
      "Then again, maybe $2445 for the gateway system isn't too cheap.\n",
      "\n",
      "I have a system from Micron computers:\n",
      "\n",
      "486-2-50, 16 meg ram, 245 Maxtor HD, Local bus IDE / 2 meg video card, and\n",
      "the same 15\" monitor.  The system with shipping came to $2200.  I sold the\n",
      "sx-33 chip that came with it and bought a dx2-50.  Total price $2300-2400.\n",
      "\n",
      "\n",
      "-----------------------------------------------------------------------------\n",
      "From: root@c1.nkw.ac.uk (Convex UNIX)\n",
      "Subject: re: Help with WinQVT\n",
      "Reply-To: tb@ua.nbu.ac.uk\n",
      "Organization: Natural Environment Research Council\n",
      "Lines: 4\n",
      "\n",
      "\n",
      "I had a similar problem - try changing the netmask to 0.0.0.0 or 255.255.254.0\n",
      "\n",
      "Tommy.\n",
      "\n",
      "-----------------------------------------------------------------------------\n",
      "From: prg@nessie.mcc.ac.uk (Pete Green)\n",
      "Subject: Wanted: Advice/comments on building a PC\n",
      "Distribution: uk\n",
      "Organization: Manchester Computing Centre\n",
      "Lines: 14\n",
      "\n",
      "In the next few months I am intending to build a 386 or 486 PC system\n",
      "for remote monitoring. I would welcome any comments or advice you may\n",
      "have on the choice of motherboard, HDDs and I/O boards. Recommendations\n",
      "for good companies selling these would be a big help.\n",
      "\n",
      "Many thanks,\n",
      "\n",
      "Peter Green.\n",
      "\n",
      "\n",
      "-- \n",
      "Peter R. Green ------- Tel:+44 61 200 4738 ---- Fax:+44 61 200 4019 -----------\n",
      "  JANET: prg@uk.ac.mcc.nessie            INTERNET: prg%nessie.mcc.ac.uk   \n",
      "----------------------- #include <std.disclaimers> ----------------------------\n",
      "\n",
      "-----------------------------------------------------------------------------\n",
      "From: stjohn@math1.kaist.ac.kr (Ryou Seong Joon)\n",
      "Subject: WANTED: Multi-page GIF!!\n",
      "Organization: Korea Advanced Institute of Science and Technology\n",
      "X-Newsreader: Tin 1.1 PL3\n",
      "Lines:       12\n",
      "\n",
      "Hi!... \n",
      "\n",
      "I am searching for packages that could handle Multi-page GIF\n",
      "files...    \n",
      "\n",
      "Are there any on some ftp servers?\n",
      "\n",
      "I'll appreciate one which works on PC (either on DOS or Windows 3.0/3.1).\n",
      "But any package works on Unix will be OK..\n",
      "\n",
      "Thanks in advance...\n",
      "\n",
      "-----------------------------------------------------------------------------\n",
      "From: ebraeden@magnus.acs.ohio-state.edu (Eric W Braeden)\n",
      "Subject: ** What exactly is the IBM made 486SLC or SLC2 Processor? **\n",
      "Nntp-Posting-Host: top.magnus.acs.ohio-state.edu\n",
      "Organization: The Ohio State University\n",
      "Distribution: na\n",
      "Lines: 11\n",
      "\n",
      "Could someone please tell me if the 486SLC and 486SLC2 processors\n",
      "IBM is putting in their Thinkpad 700's and other PC's is a REAL\n",
      "486 with a math coprocessor or if it is really some Kludge that\n",
      "should not be called a 486 at all?\n",
      "\n",
      "Thanks,\n",
      "Eric\n",
      "-- \n",
      "Eric W. Braeden                    | \"Der Verstand war zwar praechtig\n",
      "Ohio State University              | doch das Nuetzte am Ende nicht viel\"\n",
      "ebraeden@magnus.acs.ohio-state.edu | Peter Schilling   120 Grad    1983\n",
      "\n",
      "-----------------------------------------------------------------------------\n",
      "From: scrowe@hemel.bull.co.uk (Simon Crowe)\n",
      "Subject: BGI Drivers for SVGA\n",
      "Summary: Ftp site for SVGA Driver\n",
      "Keywords: BGI, SVGA\n",
      "Nntp-Posting-Host: bogart\n",
      "Organization: Bull HN UK\n",
      "Lines: 11\n",
      "\n",
      "I require BGI drivers for Super VGA Displays and Super XVGA Displays. Does \n",
      "anyone know where I could obtain the relevant drivers ? (FTP sites ??)\n",
      "\n",
      "\tRegards\n",
      "\n",
      "\n",
      "\t\tSimon Crowe\n",
      "\n",
      "\n",
      "\n",
      "\n",
      "\n",
      "-----------------------------------------------------------------------------\n",
      "From: mcook@cs.ulowell.edu (Michael Cook)\n",
      "Subject: CMOS Checksum error\n",
      "Organization: UMass-Lowell Computer Science\n",
      "Lines: 10\n",
      "\n",
      "Recently, I have been getting a CMOS Checksum error when I first turn on my\n",
      "computer.  It doesn't happen everytime I turn it on, nor can I predict when it\n",
      "is going to happen.  I have an AMI BIOS and all of the setting are lost, for\n",
      "example the drive types and the password options.  However, the date and time\n",
      "remain correct.  If anyone knows what can be causing this, please let me know.\n",
      "\n",
      "Thank you,\n",
      "Mike\n",
      "\n",
      "\n",
      "\n",
      "-----------------------------------------------------------------------------\n",
      "Subject: Computer repairs\n",
      "From: <BR4416A@auvm.american.edu>\n",
      "Organization: The American University - University Computing Center\n",
      "Lines: 9\n",
      "\n",
      "Does anyone out there know where some one can become educated in the art of\n",
      "repairing Macintosh computers?  Also, how does one gain the prestige of being\n",
      "refered to as a Authorized Apple Service person?  Has anyone out there actually\n",
      "done any of this or maybe even know someone who did.  I would appreciate any\n",
      "and all comments on this subject.\n",
      "\n",
      "-------------------------------------------------------------------------------\n",
      "Ben Roy--------internet<br4416a@american.edu>---------PCS(poor college student)\n",
      "-------------------------------------------------------------------------------\n",
      "\n",
      "-----------------------------------------------------------------------------\n",
      "From: weidlich@arb-phys.uni-dortmund.de (Weidlich)\n",
      "Subject: Searching for a phonetic font\n",
      "Organization: Institut f. Arbeitsphysiologie a.d. Uni Dortmund\n",
      "Lines: 13\n",
      "\n",
      "I'm searching for a phonetic TrueType font for Windows 3.1. If \n",
      "anybody knows one, please mail me!\n",
      "\n",
      "Thanks.\n",
      "\n",
      "dw \n",
      "\n",
      "\n",
      "##################################################################\n",
      "Dipl.-Inform. Dietmar Weidlich    # IfADo, Ardeystr. 67          #\n",
      "weidlich@arb-phys.uni-dortmund.de # D-4600 Dortmund 50           #\n",
      "Phone ++49 231 1084-250           # >> Dr. B.: \"Koennten Sie das #\n",
      "Fax   ++49 231 1084-401           #      MAL EBEN erledigen?\" << #\n",
      "\n",
      "-----------------------------------------------------------------------------\n"
     ]
    }
   ],
   "source": [
    "\n",
    "top = 1\n",
    "import scipy.spatial.distance as dist\n",
    "\n",
    "#macierz odległości zdanie-center\n",
    "distances = [[dist.cosine(w,c) for w in X_dense] for c in centers] \n",
    "for i in range(n_elements):\n",
    "    tops = np.argsort(distances[i])[-top:]\n",
    "    for s in tops:\n",
    "        print(X_set[s])\n",
    "    print(\"-----------------------------------------------------------------------------\")\n",
    "#     print([w for w in tf_vectorizer.vocabulary_ if tf_vectorizer.vocabulary_[w] in tops])\n",
    "\n",
    "\n",
    "# #wypiszmy teraz posty najbardziej reprezentujące klaster (zdania najbliższe średniej\n",
    "# top = 2\n",
    "# import scipy.spatial.distance as dist"
   ]
  },
  {
   "cell_type": "code",
   "execution_count": null,
   "metadata": {
    "collapsed": true
   },
   "outputs": [],
   "source": []
  },
  {
   "cell_type": "code",
   "execution_count": null,
   "metadata": {
    "collapsed": true
   },
   "outputs": [],
   "source": []
  }
 ],
 "metadata": {
  "kernelspec": {
   "display_name": "Python 3",
   "language": "python",
   "name": "python3"
  },
  "language_info": {
   "codemirror_mode": {
    "name": "ipython",
    "version": 3
   },
   "file_extension": ".py",
   "mimetype": "text/x-python",
   "name": "python",
   "nbconvert_exporter": "python",
   "pygments_lexer": "ipython3",
   "version": "3.7.6"
  }
 },
 "nbformat": 4,
 "nbformat_minor": 2
}
