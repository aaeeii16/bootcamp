{
 "cells": [
  {
   "cell_type": "code",
   "execution_count": 1,
   "metadata": {
    "collapsed": true
   },
   "outputs": [],
   "source": [
    "from urllib import request\n",
    "from bs4 import BeautifulSoup\n",
    "from urllib.request import urlopen"
   ]
  },
  {
   "cell_type": "markdown",
   "metadata": {},
   "source": [
    "# Zad\n",
    "Zczytaj z wikipedi artykuły o tytułach \n",
    "```python\n",
    "[\"Integral\", \"Riemann_integral\", \"Riemann-Stieltjes_integral\", \"Derivative\",\n",
    "    \"Limit_of_a_sequence\", \"Edvard_Munch\", \"Vincent_van_Gogh\", \"Jan_Matejko\",\n",
    "    \"Lev_Tolstoj\", \"Franz_Kafka\", \"J._R._R._Tolkien\"]\n",
    "```\n",
    "i zapisz w tablicy zawartości tych podstron ($id=\"bodyContent\"$)"
   ]
  },
  {
   "cell_type": "code",
   "execution_count": 2,
   "metadata": {
    "collapsed": true
   },
   "outputs": [],
   "source": [
    "wiki = \"http://en.wikipedia.org/wiki/\"\n",
    "titles = [\"Integral\", \"Riemann_integral\", \"Riemann-Stieltjes_integral\", \"Derivative\",\n",
    "    \"Limit_of_a_sequence\", \"Edvard_Munch\", \"Vincent_van_Gogh\", \"Jan_Matejko\",\n",
    "    \"Lev_Tolstoj\", \"Franz_Kafka\", \"J._R._R._Tolkien\"]\n",
    "\n"
   ]
  },
  {
   "cell_type": "code",
   "execution_count": 3,
   "metadata": {},
   "outputs": [
    {
     "name": "stderr",
     "output_type": "stream",
     "text": [
      "C:\\Users\\admin\\Anaconda3\\lib\\site-packages\\bs4\\__init__.py:181: UserWarning: No parser was explicitly specified, so I'm using the best available HTML parser for this system (\"lxml\"). This usually isn't a problem, but if you run this code on another system, or in a different virtual environment, it may use a different parser and behave differently.\n",
      "\n",
      "The code that caused this warning is on line 193 of the file C:\\Users\\admin\\Anaconda3\\lib\\runpy.py. To get rid of this warning, change code that looks like this:\n",
      "\n",
      " BeautifulSoup(YOUR_MARKUP})\n",
      "\n",
      "to this:\n",
      "\n",
      " BeautifulSoup(YOUR_MARKUP, \"lxml\")\n",
      "\n",
      "  markup_type=markup_type))\n"
     ]
    },
    {
     "data": {
      "text/plain": [
       "'<p>In <a href=\"/wiki/Mathematics\" title=\"Mathematics\">mathematics</a>, an <b>integral</b> assigns numbers to functions in a way that can describe displacement, area, volume, and other concepts that ar'"
      ]
     },
     "execution_count": 3,
     "metadata": {},
     "output_type": "execute_result"
    }
   ],
   "source": [
    "def parse(url):        \n",
    "    x = urlopen(url).read()\n",
    "    x = BeautifulSoup(x).find(\"div\",id=\"bodyContent\").find_all(\"p\")\n",
    "    return(x)\n",
    "\n",
    "articles = [parse(url) for url in [wiki+x for x in titles]]\n",
    "articles = [\" \".join([str(paragraph) for paragraph in article]) for article in articles]\n",
    "\n",
    "articles[0][:200]"
   ]
  },
  {
   "cell_type": "code",
   "execution_count": 4,
   "metadata": {
    "collapsed": true
   },
   "outputs": [],
   "source": [
    "import re\n",
    "articles = [re.sub(\"<.+?>\",\" \",a) for a in articles] # ew (str(a))"
   ]
  },
  {
   "cell_type": "code",
   "execution_count": 5,
   "metadata": {},
   "outputs": [
    {
     "data": {
      "text/plain": [
       "' In  mathematics , an  integral  assigns numbers to functions in a way that can describe displacement, area, volume, and other concepts that arise by combining  infinitesimal  data. Integration is one of the two main operations of  calculus , with its inverse operation,  differentiation , being the other. Given a  function   f  of a  real   variable   x  and an  interval   [ a ,  b ]  of the  real line , the  definite integral \\n   is defined informally as the signed  area  of the region in the  xy -plane that is bounded by the  graph  of  f , the  x -axis and the vertical lines   x  =  a   and   x  =  b  . The area above the  x -axis adds to the total and that below the  x -axis subtracts from the total.\\n   The operation of integration, up to an additive constant, is the inverse of the operation of differentiation. For this reason, the term  integral  may also refer to the related notion of the  antiderivative , a function  F  whose derivative is the given function  f . In this case, it is called an indefinite integral and is written:\\n   The integrals discussed in this article are those termed  definite integrals . It is the  fundamental theorem of calculus  that connects differentiation with the definite integral: if  f  is a continuous real-valued function defined on a  closed interval   [ a ,  b ] , then, once an antiderivative  F  of  f  is known, the definite integral of  f  over that interval is given by\\n   The principles of integration were formulated independently by  Isaac Newton  and  Gottfried Wilhelm Leibniz  in the late 17th century, who thought of the integral as an infinite sum of rectangles of  infinitesimal  width.  Bernhard Riemann  gave a rigorous mathematical definition of integrals. It is based on a limiting procedure that approximates the area of a  curvilinear  region by breaking the region into thin vertical slabs. Beginning in the nineteenth century, more sophisticated notions of integrals began to appear, where the type of the function as well as the  domain  over which the integration is performed has been generalised. A  line integral  is defined for functions of two or more variables, and the interval of integration  [ a ,  b ]  is replaced by a  curve  connecting the two endpoints. In a  surface integral , the curve is replaced by a piece of a  surface  in  three-dimensional space .\\n   The first documented systematic technique capable of determining integrals is the  method of exhaustion  of the  ancient Greek  astronomer  Eudoxus  ( ca.  370 BC), which sought to find areas and volumes by breaking them up into an infinite number of divisions for which the area or volume was known. This method was further developed and employed by  Archimedes  in the 3rd century BC and used to calculate areas for  parabolas  and an approximation to the  area of a circle .\\n   A similar method was independently developed in China around the 3rd century AD by  Liu Hui , who used it to find the area of the circle. This method was later used in the 5th century by Chinese father-and-son mathematicians  Zu Chongzhi  and  Zu Geng  to find the volume of a sphere ( Shea 2007 ;  Katz 2004 , pp.\\xa0125–126).\\n   The next significant advances in integral calculus did not begin to appear until the 17th century. At this time, the work of  Cavalieri  with his  method of Indivisibles , and work by  Fermat , began to lay the foundations of modern calculus, with Cavalieri computing the integrals of   x   n    up to degree   n  = 9  in  Cavalieri\\'s quadrature formula . Further steps were made in the early 17th century by  Barrow  and  Torricelli , who provided the first hints of a connection between integration and  differentiation . Barrow provided the first proof of the  fundamental theorem of calculus .  Wallis  generalized Cavalieri\\'s method, computing integrals of  x  to a general power, including negative powers and fractional powers.\\n   The major advance in integration came in the 17th century with the independent discovery of the  fundamental theorem of calculus  by  Newton  and  Leibniz . The theorem demonstrates a connection between integration and differentiation. This connection, combined with the comparative ease of differentiation, can be exploited to calculate integrals. In particular, the fundamental theorem of calculus allows one to solve a much broader class of problems. Equal in importance is the comprehensive mathematical framework that both Newton and Leibniz developed. Given the name infinitesimal calculus, it allowed for precise analysis of functions within continuous domains. This framework eventually became modern  calculus , whose notation for integrals is drawn directly from the work of Leibniz.\\n   While Newton and Leibniz provided a systematic approach to integration, their work lacked a degree of  rigour .  Bishop Berkeley  memorably attacked the vanishing increments used by Newton, calling them \" ghosts of departed quantities \". Calculus acquired a firmer footing with the development of  limits . Integration was first rigorously formalized, using limits, by  Riemann . Although all bounded piecewise continuous functions are Riemann-integrable on a bounded interval, subsequently more general functions were considered—particularly in the context of  Fourier analysis —to which Riemann\\'s definition does not apply, and  Lebesgue  formulated a  different definition of integral , founded in  measure theory  (a subfield of  real analysis ). Other definitions of integral, extending Riemann\\'s and Lebesgue\\'s approaches, were proposed. These approaches based on the real number system are the ones most common today, but alternative approaches exist, such as a definition of integral as the  standard part  of an infinite Riemann sum, based on the  hyperreal number  system.\\n    Isaac Newton  used a small vertical bar above a variable to indicate integration, or placed the variable inside a box. The vertical bar was easily confused with      .    x      or   x ′ , which are used to indicate differentiation, and the box notation was difficult for printers to reproduce, so these notations were not widely adopted.\\n   The modern notation for the indefinite integral was introduced by  Gottfried Wilhelm Leibniz  in 1675 ( Burton 1988 , p.\\xa0359;  Leibniz 1899 , p.\\xa0154). He adapted the  integral symbol ,  ∫ , from the letter  ſ  ( long s ), standing for  summa  (written as  ſumma ; Latin for \"sum\" or \"total\"). The modern notation for the definite integral, with limits above and below the integral sign, was first used by  Joseph Fourier  in  Mémoires  of the French Academy around 1819–20, reprinted in his book of 1822 ( Cajori 1929 , pp.\\xa0249–250;  Fourier 1822 , §231).\\n   Integrals are used extensively in many areas of mathematics as well as in many other areas that rely on mathematics.\\n   For example, in  probability theory , integrals are used to determine the probability of some  random variable  falling within a certain range. Moreover, the integral under an entire  probability density function  must equal 1, which provides a test of whether a  function  with no negative values could be a density function or not.\\n   Integrals can be used for computing the  area  of a two-dimensional region that has a curved boundary, as well as  computing the volume  of a three-dimensional object that has a curved boundary. The area of a two-dimensional region can be calculated using the aforementioned definite integral. \\n   The volume of a three-dimensional object such as a disc or washer, as outlined in  Disc integration  can be computed using the equation for the volume of a cylinder,    \\n \\n \\n \\n π  \\n \\n r \\n \\n 2 \\n \\n \\n h \\n \\n \\n {\\\\displaystyle \\\\pi r^{2}h} \\n \\n    , where    \\n \\n \\n \\n r \\n \\n \\n {\\\\displaystyle r} \\n \\n     is the radius, which in this case would be the distance from the curve of a function to the line about which it is being rotated. For a simple disc, the radius will be the equation of the function minus the given    \\n \\n \\n \\n x \\n \\n \\n {\\\\displaystyle x} \\n \\n    -value or    \\n \\n \\n \\n y \\n \\n \\n {\\\\displaystyle y} \\n \\n    -value of the line. For instance, the radius of a disc created by rotating a quadratic    \\n \\n \\n \\n y \\n = \\n −  \\n \\n x \\n \\n 2 \\n \\n \\n + \\n 4 \\n \\n \\n {\\\\displaystyle y=-x^{2}+4} \\n \\n     around the line    \\n \\n \\n \\n y \\n = \\n −  \\n 1 \\n \\n \\n {\\\\displaystyle y=-1} \\n \\n     would be given by the expression    \\n \\n \\n \\n −  \\n \\n x \\n \\n 2 \\n \\n \\n + \\n 4 \\n −  \\n ( \\n −  \\n 1 \\n ) \\n \\n \\n {\\\\displaystyle -x^{2}+4-(-1)} \\n \\n    or    \\n \\n \\n \\n −  \\n \\n x \\n \\n 2 \\n \\n \\n + \\n 5 \\n \\n \\n {\\\\displaystyle -x^{2}+5} \\n \\n    . In order to find the volume for this same shape, an integral with bounds    \\n \\n \\n \\n a \\n \\n \\n {\\\\displaystyle a} \\n \\n     and    \\n \\n \\n \\n b \\n \\n \\n {\\\\displaystyle b} \\n \\n     such that    \\n \\n \\n \\n a \\n \\n \\n {\\\\displaystyle a} \\n \\n     and    \\n \\n \\n \\n b \\n \\n \\n {\\\\displaystyle b} \\n \\n     are intersections of the line    \\n \\n \\n \\n y \\n = \\n −  \\n \\n x \\n \\n 2 \\n \\n \\n + \\n 4 \\n \\n \\n {\\\\displaystyle y=-x^{2}+4} \\n \\n     and    \\n \\n \\n \\n y \\n = \\n −  \\n 1 \\n \\n \\n {\\\\displaystyle y=-1} \\n \\n     would be used as follows:   Integrals are also used in physics, in areas like  kinematics  to find quantities like  displacement ,  time , and  velocity . For example, in rectilinear motion, the displacement of an object over the time interval    \\n \\n \\n \\n [ \\n a \\n , \\n b \\n ] \\n \\n \\n {\\\\displaystyle [a,b]} \\n \\n     is given by: \\n   where    \\n \\n \\n \\n v \\n ( \\n t \\n ) \\n \\n \\n {\\\\displaystyle v(t)} \\n \\n     is the velocity expressed as a function of time. The work done by a force    \\n \\n \\n \\n F \\n ( \\n x \\n ) \\n \\n \\n {\\\\displaystyle F(x)} \\n \\n     (given as a function of position) from an initial position    \\n \\n \\n \\n A \\n \\n \\n {\\\\displaystyle A} \\n \\n     to a final position    \\n \\n \\n \\n B \\n \\n \\n {\\\\displaystyle B} \\n \\n     is:\\n   Integrals are also used in  thermodynamics , where  thermodynamic integration  is used to calculate the difference in free energy between two given states.\\n   The integral with respect to  x  of a  real-valued function    f ( x )  of a real variable  x  on the interval  [ a ,  b ]  is written as\\n   The integral sign  ∫  represents integration. The symbol  dx , called the  differential  of the variable  x , indicates that the variable of integration is  x . The function   f ( x )  to be integrated is called the integrand. The symbol  dx  is separated from the integrand by a space (as shown). If a function has an integral, it is said to be integrable. The points  a  and  b  are called the limits of the integral. An integral where the limits are specified is called a definite integral. The integral is said to be over the interval  [ a ,  b ] .\\n   If the integral goes from a finite value  a  to the upper limit infinity, the integral expresses the limit of the integral from  a  to a value  b  as  b  goes to infinity. If the value of the integral gets closer and closer to a finite value, the integral is said to  converge  to that value. If not, the integral is said to diverge.\\n   When the limits are omitted, as in\\n   the integral is called an indefinite integral, which represents a class of functions (the  antiderivative ) whose derivative is the integrand. The  fundamental theorem of calculus  relates the evaluation of definite integrals to indefinite integrals. Occasionally, limits of integration are omitted for definite integrals when the same limits occur repeatedly in a particular context. Usually, the author will make this convention clear at the beginning of the relevant text.\\n   There are several extensions of the notation for integrals to encompass integration on unbounded domains and/or in multiple dimensions (see later sections of this article).\\n   Historically, the symbol  dx  was taken to represent an infinitesimally \"small piece\" of the independent variable  x  to be multiplied by the integrand and summed up in an infinite sense. While this notion is still heuristically useful, later mathematicians have deemed infinitesimal quantities to be untenable from the standpoint of the real number system.  [1]   In introductory calculus, the expression  dx  is therefore not assigned an independent meaning; instead, it is viewed as part of the symbol for integration and serves as its delimiter on the right side of the expression being integrated. \\n   In more sophisticated contexts,  dx  can have its own significance, the meaning of which depending on the particular area of mathematics being discussed. When used in one of these ways, the original Leibnitz notation is co-opted to apply to a generalization of the original definition of the integral. Some common interpretations of  dx  include: an integrator function in  Riemann-Stieltjes integration  (indicated by  dα ( x ) in general), a  measure  in Lebesgue theory (indicated by  dμ  in general), or a  differential form  in exterior calculus (indicated by    \\n \\n \\n \\n d \\n \\n x \\n \\n \\n i \\n \\n 1 \\n \\n \\n \\n \\n ∧  \\n ⋯  \\n ∧  \\n d \\n \\n x \\n \\n \\n i \\n \\n k \\n \\n \\n \\n \\n \\n \\n {\\\\displaystyle dx^{i_{1}}\\\\wedge \\\\cdots \\\\wedge dx^{i_{k}}} \\n \\n     in general). In the last case, even the letter  d  has an independent meaning — as the  exterior derivative  operator on differential forms.\\n   Conversely, in advanced settings, it is not uncommon to leave out  dx  when only the simple Riemann integral is being used, or the exact type of integral is immaterial. For instance, one might write    \\n \\n \\n \\n \\n ∫  \\n \\n a \\n \\n \\n b \\n \\n \\n ( \\n \\n c \\n \\n 1 \\n \\n \\n f \\n + \\n \\n c \\n \\n 2 \\n \\n \\n g \\n ) \\n = \\n \\n c \\n \\n 1 \\n \\n \\n \\n ∫  \\n \\n a \\n \\n \\n b \\n \\n \\n f \\n + \\n \\n c \\n \\n 2 \\n \\n \\n \\n ∫  \\n \\n a \\n \\n \\n b \\n \\n \\n g \\n \\n \\n {\\\\textstyle \\\\int _{a}^{b}(c_{1}f+c_{2}g)=c_{1}\\\\int _{a}^{b}f+c_{2}\\\\int _{a}^{b}g} \\n \\n     to express the linearity of the integral, a property shared by the Riemann integral and all generalizations thereof.\\n   In  modern Arabic mathematical notation , a reflected integral symbol     is used instead of the symbol  ∫ , since the Arabic script and mathematical expressions go right to left.  [2]  \\n   Some authors, particularly of European origin, use an upright \"d\" to indicate the variable of integration (i.e.,  d x   instead of   dx  ), since properly speaking, \"d\" is not a variable. \\n   The symbol  dx  is not always placed after   f ( x ) , as for instance in\\n   In the first expression, the differential is treated as an infinitesimal \"multiplicative\" factor, formally following a \"commutative property\" when \"multiplied\" by the expression 3/( x  2 +1). In the second expression, showing the differentials first highlights and clarifies the variables that are being integrated with respect to, a practice particularly popular with physicists.\\n   Integrals appear in many practical situations. If a swimming pool is rectangular with a flat bottom, then from its length, width, and depth we can easily determine the volume of water it can contain (to fill it), the area of its surface (to cover it), and the length of its edge (to rope it). But if it is oval with a rounded bottom, all of these quantities call for integrals. Practical approximations may suffice for such trivial examples, but  precision engineering  (of any discipline) requires exact and rigorous values for these elements.\\n   To start off, consider the curve   y  =  f ( x )  between   x  = 0  and   x  = 1  with   f ( x ) =  √  x     (see figure). We ask:\\n   and call this (yet unknown) area the (definite)  integral  of  f . The notation for this integral will be\\n   As a first approximation, look at the unit square given by the sides   x  = 0  to   x  = 1  and   y  =  f (0) = 0  and   y  =  f (1) = 1 . Its area is exactly 1. Actually, the true value of the integral must be somewhat less than 1. Decreasing the width of the approximation rectangles and increasing the number of rectangles gives a better result; so cross the interval in five steps, using the approximation points 0, 1/5, 2/5, and so on to 1. Fit a box for each step using the right end height of each curve piece, thus   √ 1/5   ,   √ 2/5   , and so on to   √ 1   = 1 . Summing the areas of these rectangles, we get a better approximation for the sought integral, namely\\n   We are taking a sum of finitely many function values of  f , multiplied with the differences of two subsequent approximation points. We can easily see that the approximation is still too large. Using more steps produces a closer approximation, but will always be too high and will never be exact. Alternatively, replacing these subintervals by ones with the left end height of each piece, we will get an approximation that is too low: for example, with twelve such subintervals we will get an approximate value for the area of 0.6203. \\n   The key idea is the transition from adding  finitely many  differences of approximation points multiplied by their respective function values to using infinitely many fine, or   infinitesimal   steps. When this transition is completed in the above example, it turns out that the area under the curve within the stated bounds is 2/3.\\n   The notation\\n   conceives the integral as a weighted sum, denoted by the elongated  s , of function values,   f ( x ) , multiplied by infinitesimal step widths, the so-called  differentials , denoted by  dx .\\n   Historically, after the failure of early efforts to rigorously interpret infinitesimals, Riemann formally defined integrals as a  limit  of weighted sums, so that the  dx  suggested the limit of a difference (namely, the interval width). Shortcomings of Riemann\\'s dependence on intervals and continuity motivated newer definitions, especially the  Lebesgue integral , which is founded on an ability to extend the idea of \"measure\" in much more flexible ways. Thus the notation\\n   refers to a weighted sum in which the function values are partitioned, with  μ  measuring the weight to be assigned to each value. Here  A  denotes the region of integration.\\n   There are many ways of formally defining an integral, not all of which are equivalent. The differences exist mostly to deal with differing special cases which may not be integrable under other definitions, but also occasionally for pedagogical reasons. The most commonly used definitions of integral are Riemann integrals and Lebesgue integrals.\\n   The Riemann integral is defined in terms of  Riemann sums  of functions with respect to  tagged partitions  of an interval.  [3]   Let  [ a ,  b ]  be a  closed interval  of the real line; then a  tagged partition  of  [ a ,  b ]  is a finite sequence\\n   This partitions the interval  [ a ,  b ]  into  n  sub-intervals  [ x   i −1 ,  x   i  ]  indexed by  i , each of which is \"tagged\" with a distinguished point   t   i   ∈ [ x   i −1 ,  x   i  ] . A  Riemann sum  of a function  f  with respect to such a tagged partition is defined as\\n   thus each term of the sum is the area of a rectangle with height equal to the function value at the distinguished point of the given sub-interval, and width the same as the sub-interval width. Let  Δ  i   =  x   i  − x   i −1   be the width of sub-interval  i ; then the  mesh  of such a tagged partition is the width of the largest sub-interval formed by the partition,  max  i =1... n   Δ  i   . The  Riemann integral  of a function  f  over the interval  [ a ,  b ]  is equal to  S  if:\\n   When the chosen tags give the maximum (respectively, minimum) value of each interval, the Riemann sum becomes an upper (respectively, lower)  Darboux sum , suggesting the close connection between the Riemann integral and the  Darboux integral .\\n   It is often of interest, both in theory and applications, to be able to pass to the limit under the integral. For instance, a sequence of functions can frequently be constructed that approximate, in a suitable sense, the solution to a problem. Then the integral of the solution function should be the limit of the integrals of the approximations. However, many functions that can be obtained as limits are not Riemann-integrable, and so such limit theorems do not hold with the Riemann integral. Therefore, it is of great importance to have a definition of the integral that allows a wider class of functions to be integrated ( Rudin 1987 ).\\n   Such an integral is the Lebesgue integral, that exploits the following fact to enlarge the class of integrable functions: if the values of a function are rearranged over the domain, the integral of a function should remain the same. Thus  Henri Lebesgue  introduced the integral bearing his name, explaining this integral thus in a letter to  Paul Montel :\\n   I have to pay a certain sum, which I have collected in my pocket. I take the bills and coins out of my pocket and give them to the creditor in the order I find them until I have reached the total sum. This is the Riemann integral. But I can proceed differently. After I have taken all the money out of my pocket I order the bills and coins according to identical values and then I pay the several heaps one after the other to the creditor. This is my integral.   As  Folland (1984 , p.\\xa056) puts it, \"To compute the Riemann integral of  f , one partitions the domain  [ a ,  b ]  into subintervals\", while in the Lebesgue integral, \"one is in effect partitioning the range of  f  \". The definition of the Lebesgue integral thus begins with a  measure , μ. In the simplest case, the  Lebesgue measure    μ ( A )  of an interval   A  = [ a ,  b ]  is its width,   b  −  a  , so that the Lebesgue integral agrees with the (proper) Riemann integral when both exist. In more complicated cases, the sets being measured can be highly fragmented, with no continuity and no resemblance to intervals.\\n   Using the \"partitioning the range of  f  \" philosophy, the integral of a non-negative function   f \\xa0:  R  →  R   should be the sum over  t  of the areas between a thin horizontal strip between   y  =  t   and   y  =  t  +  dt  . This area is just   μ {  x \\xa0:  f ( x ) &gt;  t }\\u2009 dt  . Let   f  ∗ ( t ) =  μ {  x \\xa0:  f ( x ) &gt;  t  }. The Lebesgue integral of  f  is then defined by ( Lieb &amp; Loss 2001 )\\n   where the integral on the right is an ordinary improper Riemann integral (  f  ∗   is a strictly decreasing positive function, and therefore has a  well-defined  improper Riemann integral). For a suitable class of functions (the  measurable functions ) this defines the Lebesgue integral.\\n   A general measurable function  f  is Lebesgue-integrable if the sum of the absolute values of the areas of the regions between the graph of  f  and the  x -axis is finite:\\n   In that case, the integral is, as in the Riemannian case, the difference between the area above the  x -axis and the area below the  x -axis:\\n   where\\n   Although the Riemann and Lebesgue integrals are the most widely used definitions of the integral, a number of others exist, including:\\n   The collection of Riemann-integrable functions on a closed interval  [ a ,  b ]  forms a  vector space  under the operations of  pointwise addition  and multiplication by a scalar, and the operation of integration\\n   is a  linear functional  on this vector space. Thus, firstly, the collection of integrable functions is closed under taking  linear combinations ; and, secondly, the integral of a linear combination is the linear combination of the integrals,\\n   Similarly, the set of  real -valued Lebesgue-integrable functions on a given  measure space   E  with measure  μ  is closed under taking linear combinations and hence form a vector space, and the Lebesgue integral\\n   is a linear functional on this vector space, so that\\n   More generally, consider the vector space of all  measurable functions  on a measure space  ( E , μ ) , taking values in a  locally compact   complete   topological vector space   V  over a locally compact  topological field    K ,  f \\xa0:  E  →  V  . Then one may define an abstract integration map assigning to each function  f  an element of  V  or the symbol   ∞  ,\\n   that is compatible with linear combinations. In this situation, the linearity holds for the subspace of functions whose integral is an element of  V  (i.e. \"finite\"). The most important special cases arise when  K  is   R  ,   C  , or a finite extension of the field   Q   p    of  p-adic numbers , and  V  is a finite-dimensional vector space over  K , and when   K  =  C   and  V  is a complex  Hilbert space .\\n   Linearity, together with some natural continuity properties and normalisation for a certain class of \"simple\" functions, may be used to give an alternative definition of the integral. This is the approach of  Daniell  for the case of real-valued functions on a set  X , generalized by  Nicolas Bourbaki  to functions with values in a locally compact topological vector space. See ( Hildebrandt 1953 ) for an axiomatic characterisation of the integral.\\n   A number of general inequalities hold for Riemann-integrable  functions  defined on a  closed  and  bounded   interval   [ a ,  b ]  and can be generalized to other notions of integral (Lebesgue and Daniell).\\n   In this section,  f  is a  real-valued  Riemann-integrable  function . The integral\\n   over an interval  [ a ,  b ]  is defined if   a  &lt;  b  . This means that the upper and lower sums of the function  f  are evaluated on a partition   a  =  x  0  ≤  x  1  ≤ . . . ≤  x   n   =  b   whose values   x   i    are increasing. Geometrically, this signifies that integration takes place \"left to right\", evaluating  f  within intervals  [ x  \\u2009 i  \\u2009,  x  \\u2009 i \\u2009+1 ]  where an interval with a higher index lies to the right of one with a lower index. The values  a  and  b , the end-points of the  interval , are called the  limits of integration  of  f . Integrals can also be defined if   a  &gt;  b  :\\n   This, with   a  =  b  , implies:\\n   The first convention is necessary in consideration of taking integrals over subintervals of  [ a ,  b ] ; the second says that an integral taken over a degenerate interval, or a  point , should be  zero . One reason for the first convention is that the integrability of  f  on an interval  [ a ,  b ]  implies that  f  is integrable on any subinterval  [ c ,  d ] , but in particular integrals have the property that:\\n   With the first convention, the resulting relation\\n   is then well-defined for any cyclic permutation of  a ,  b , and  c .\\n   The  fundamental theorem of calculus  is the statement that  differentiation  and integration are inverse operations: if a  continuous function  is first integrated and then differentiated, the original function is retrieved. An important consequence, sometimes called the  second fundamental theorem of calculus , allows one to compute integrals by using an antiderivative of the function to be integrated.\\n   Let  f  be a continuous real-valued function defined on a  closed interval   [ a ,  b ] . Let  F  be the function defined, for all  x  in  [ a ,  b ] , by\\n   Then,  F  is continuous on  [ a ,  b ] , differentiable on the open interval  ( a ,  b ) , and\\n   for all  x  in  ( a ,  b ) .\\n   Let  f  be a real-valued function defined on a  closed interval  [  a ,  b  ] that admits an  antiderivative   F  on  [ a ,  b ] . That is,  f  and  F  are functions such that for all  x  in  [ a ,  b ] ,\\n   If  f  is integrable on  [ a ,  b ]  then\\n   The second fundamental theorem allows many integrals to be calculated explicitly. For example, to calculate the integral\\n   of the square root function   f ( x ) =  x  1/2   between 0 and 1, it is sufficient to find an antiderivative, that is, a function   F ( x )  whose derivative equals    f ( x ) :\\n   One such function is   F ( x ) =   2  /  3   x  3/2  . Then the value of the integral in question is\\n   This is a case of a general rule, that for   f ( x ) =  x   q   , with   q  ≠ −1 , the related function, the so-called antiderivative is   F ( x ) =  x   q  + 1 /( q  + 1).  Tables of this and similar antiderivatives can be used to calculate integrals explicitly, in much the same way that tables of derivatives can be used.\\n   A \"proper\" Riemann integral assumes the integrand is defined and finite on a closed and bounded interval, bracketed by the limits of integration. An improper integral occurs when one or more of these conditions is not satisfied. In some cases such integrals may be defined by considering the  limit  of a  sequence  of proper  Riemann integrals  on progressively larger intervals.\\n   If the interval is unbounded, for instance at its upper end, then the improper integral is the limit as that endpoint goes to infinity.\\n   If the integrand is only defined or finite on a half-open interval, for instance  ( a ,  b ] , then again a limit may provide a finite result.\\n   That is, the improper integral is the  limit  of proper integrals as one endpoint of the interval of integration approaches either a specified  real number , or  ∞ , or  −∞ . In more complicated cases, limits are required at both endpoints, or at interior points.\\n   Just as the definite integral of a positive function of one variable represents the  area  of the region between the graph of the function and the  x -axis, the  double integral  of a positive function of two variables represents the  volume  of the region between the surface defined by the function and the plane that contains its  domain . For example, a function in two dimensions depends on two real variables,  x  and  y , and the integral of a function  f  over the rectangle  R  given as the  Cartesian product  of two intervals    \\n \\n \\n \\n R \\n = \\n [ \\n a \\n , \\n b \\n ] \\n ×  \\n [ \\n c \\n , \\n d \\n ] \\n \\n \\n {\\\\displaystyle R=[a,b]\\\\times [c,d]} \\n \\n     can be written\\n   where the differential   dA   indicates that integration is taken with respect to area. This  double integral  can be defined using  Riemann sums , and represents the (signed) volume under the graph of   z  =  f ( x , y )  over the domain  R . Under suitable conditions (e.g., if  f  is continuous), then  Fubini\\'s theorem  guarantees that this integral can be expressed as an equivalent iterated integral\\n   This reduces the problem of computing a double integral to computing one-dimensional integrals. Because of this, another notation for the integral over  R  uses a double integral sign:\\n   Integration over more general domains is possible. The integral of a function  f , with respect to volume, over a subset  D  of  ℝ n  is denoted by notation such as\\n   or similar. See  volume integral .\\n   The concept of an integral can be extended to more general domains of integration, such as curved lines and surfaces. Such integrals are known as line integrals and surface integrals respectively. These have important applications in physics, as when dealing with  vector fields .\\n   A  line integral  (sometimes called a  path integral ) is an integral where the  function  to be integrated is evaluated along a  curve . Various different line integrals are in use. In the case of a closed curve it is also called a  contour integral .\\n   The function to be integrated may be a  scalar field  or a  vector field . The value of the line integral is the sum of values of the field at all points on the curve, weighted by some scalar function on the curve (commonly  arc length  or, for a vector field, the  scalar product  of the vector field with a  differential  vector in the curve). This weighting distinguishes the line integral from simpler integrals defined on  intervals . Many simple formulas in physics have natural continuous analogs in terms of line integrals; for example, the fact that  work  is equal to  force ,   F  , multiplied by displacement,   s  , may be expressed (in terms of vector quantities) as:\\n   For an object moving along a path   C   in a  vector field    F   such as an  electric field  or  gravitational field , the total work done by the field on the object is obtained by summing up the differential work done in moving from   s   to   s  +  d  s  . This gives the line integral\\n   A  surface integral  is a definite integral taken over a  surface  (which may be a curved set in  space ); it can be thought of as the  double integral  analog of the  line integral . The function to be integrated may be a  scalar field  or a  vector field . The value of the surface integral is the sum of the field at all points on the surface. This can be achieved by splitting the surface into surface elements, which provide the partitioning for Riemann sums.\\n   For an example of applications of surface integrals, consider a vector field   v   on a surface   S  ; that is, for each point   x   in   S  ,   v ( x )  is a vector. Imagine that we have a fluid flowing through   S  , such that   v ( x )  determines the velocity of the fluid at  x . The  flux  is defined as the quantity of fluid flowing through   S   in unit amount of time. To find the flux, we need to take the  dot product  of   v   with the unit  surface normal  to   S   at each point, which will give us a scalar field, which we integrate over the surface:\\n   The fluid flux in this example may be from a physical fluid such as water or air, or from electrical or magnetic flux. Thus surface integrals have applications in physics, particularly with the  classical theory  of  electromagnetism .\\n   In  complex analysis , the integrand is a  complex-valued function  of a complex variable  z  instead of a real function of a real variable  x . When a complex function is integrated along a curve    \\n \\n \\n \\n γ  \\n \\n \\n {\\\\displaystyle \\\\gamma } \\n \\n     in the complex plane, the integral is denoted as follows\\n   This is known as a  contour integral .\\n   A  differential form  is a mathematical concept in the fields of  multivariable calculus ,  differential topology , and  tensors . Differential forms are organized by degree. For example, a one-form is a weighted sum of the differentials of the coordinates, such as:\\n   where  E ,  F ,  G  are functions in three dimensions. A differential one-form can be integrated over an oriented path, and the resulting integral is just another way of writing a line integral. Here the basic differentials  dx ,  dy ,  dz  measure infinitesimal oriented lengths parallel to the three coordinate axes.\\n   A differential two-form is a sum of the form\\n   Here the basic two-forms    \\n \\n \\n \\n d \\n x \\n ∧  \\n d \\n y \\n , \\n d \\n z \\n ∧  \\n d \\n x \\n , \\n d \\n y \\n ∧  \\n d \\n z \\n \\n \\n {\\\\displaystyle dx\\\\wedge dy,dz\\\\wedge dx,dy\\\\wedge dz} \\n \\n     measure oriented areas parallel to the coordinate two-planes. The symbol    \\n \\n \\n \\n ∧  \\n \\n \\n {\\\\displaystyle \\\\wedge } \\n \\n     denotes the  wedge product , which is similar to the  cross product  in the sense that the wedge product of two forms representing oriented lengths represents an oriented area. A two-form can be integrated over an oriented surface, and the resulting integral is equivalent to the surface integral giving the flux of    \\n \\n \\n \\n E \\n \\n i \\n \\n + \\n F \\n \\n j \\n \\n + \\n G \\n \\n k \\n \\n \\n \\n {\\\\displaystyle E\\\\mathbf {i} +F\\\\mathbf {j} +G\\\\mathbf {k} } \\n \\n    .\\n   Unlike the cross product, and the three-dimensional vector calculus, the wedge product and the calculus of differential forms makes sense in arbitrary dimension and on more general manifolds (curves, surfaces, and their higher-dimensional analogs). The  exterior derivative  plays the role of the  gradient  and  curl  of vector calculus, and  Stokes\\' theorem  simultaneously generalizes the three theorems of vector calculus: the  divergence theorem ,  Green\\'s theorem , and the  Kelvin-Stokes theorem .\\n   The discrete equivalent of integration is  summation . Summations and integrals can be put on the same foundations using the theory of  Lebesgue integrals  or  time scale calculus .\\n   The most basic technique for computing definite integrals of one real variable is based on the  fundamental theorem of calculus . Let   f ( x )  be the function of  x  to be integrated over a given interval  [ a ,  b ] . Then, find an antiderivative of  f ; that is, a function  F  such that   F ′ =  f   on the interval. Provided the integrand and integral have no  singularities  on the path of integration, by the fundamental theorem of calculus,\\n   The integral is not actually the antiderivative, but the fundamental theorem provides a way to use antiderivatives to evaluate definite integrals.\\n   The most difficult step is usually to find the antiderivative of  f . It is rarely possible to glance at a function and write down its antiderivative. More often, it is necessary to use one of the many techniques that have been developed to evaluate integrals. Most of these techniques rewrite one integral as a different one which is hopefully more tractable. Techniques include:\\n   Alternative methods exist to compute more complex integrals. Many  nonelementary integrals  can be expanded in a  Taylor series  and integrated term by term. Occasionally, the resulting infinite series can be summed analytically. The method of convolution using  Meijer G-functions  can also be used, assuming that the integrand can be written as a product of Meijer G-functions. There are also many less common ways of calculating definite integrals; for instance,  Parseval\\'s identity  can be used to transform an integral over a rectangular region into an infinite sum. Occasionally, an integral can be evaluated by a trick; for an example of this, see  Gaussian integral .\\n   Computations of volumes of  solids of revolution  can usually be done with  disk integration  or  shell integration .\\n   Specific results which have been worked out by various techniques are collected in the  list of integrals .\\n   Many problems in mathematics, physics, and engineering involve integration where an explicit formula for the integral is desired. Extensive  tables of integrals  have been compiled and published over the years for this purpose. With the spread of computers, many professionals, educators, and students have turned to  computer algebra systems  that are specifically designed to perform difficult or tedious tasks, including integration. Symbolic integration has been one of the motivations for the development of the first such systems, like  Macsyma .\\n   A major mathematical difficulty in symbolic integration is that in many cases, a closed formula for the antiderivative of a rather simple-looking function does not exist. For instance, it is known that the antiderivatives of the functions  exp( x  2 ),  x   x    and  (sin  x )/ x   cannot be expressed in the closed form involving only  rational  and  exponential  functions,  logarithm ,  trigonometric functions  and  inverse trigonometric functions , and the operations of multiplication and composition; in other words, none of the three given functions is integrable in  elementary functions , which are the functions which may be built from  rational functions,  roots of a polynomial , logarithm, and exponential functions. The  Risch algorithm  provides a general criterion to determine whether the antiderivative of an elementary function is elementary, and, if it is, to compute it. Unfortunately, it turns out that functions with closed expressions of antiderivatives are the exception rather than the rule. Consequently, computerized algebra systems have no hope of being able to find an antiderivative for a randomly constructed elementary function. On the positive side, if the \\'building blocks\\' for antiderivatives are fixed in advance, it may be still be possible to decide whether the antiderivative of a given function can be expressed using these blocks and operations of multiplication and composition, and to find the symbolic answer whenever it exists. The  Risch algorithm , implemented in  Mathematica  and other  computer algebra systems , does just that for functions and antiderivatives built from  rational functions,  radicals , logarithm, and exponential functions.\\n   Some special integrands occur often enough to warrant special study. In particular, it may be useful to have, in the set of antiderivatives, the  special functions  (like the  Legendre functions , the  hypergeometric function , the  gamma function , the  incomplete gamma function  and so on\\xa0— see  Symbolic integration  for more details). Extending the Risch\\'s algorithm to include such functions is possible but challenging and has been an active research subject.\\n   More recently a new approach has emerged, using   D -finite functions , which are the solutions of  linear differential equations  with polynomial coefficients. Most of the elementary and special functions are  D -finite, and the integral of a  D -finite function is also a  D -finite function. This provides an algorithm to express the antiderivative of a  D -finite function as the solution of a differential equation.\\n   This theory also allows one to compute the definite integral of a  D -function as the sum of a series given by the first coefficients, and provides an algorithm to compute any coefficient.  [4]  \\n   Some integrals found in real applications can be computed by closed-form antiderivatives. Others are not so accommodating. Some antiderivatives do not have closed forms, some closed forms require special functions that themselves are a challenge to compute, and others are so complex that finding the exact answer is too slow. This motivates the study and application of numerical approximations of integrals. This subject, called  numerical integration  or  numerical quadrature , arose early in the study of integration for the purpose of making hand calculations. The development of general-purpose computers made numerical integration more practical and drove a desire for improvements. The goals of numerical integration are accuracy, reliability, efficiency, and generality, and sophisticated modern methods can vastly outperform a naive method by all four measures ( Dahlquist &amp; Björck 2008 ;  Kahaner, Moler &amp; Nash 1989 ;  Stoer &amp; Bulirsch 2002 ).\\n   Consider, for example, the integral\\n   which has the exact answer  94/25 = 3.76 . (In ordinary practice, the answer is not known in advance, so an important task\\xa0— not explored here\\xa0— is to decide when an approximation is good enough.) A “calculus book” approach divides the integration range into, say, 16 equal pieces, and computes function values.\\n   Using the left end of each piece, the  rectangle method  sums 16 function values and multiplies by the step width,  h , here 0.25, to get an approximate value of 3.94325 for the integral. The accuracy is not impressive, but calculus formally uses pieces of infinitesimal width, so initially this may seem little cause for concern. Indeed, repeatedly doubling the number of steps eventually produces an approximation of 3.76001. However, 2 18  pieces are required, a great computational expense for such little accuracy; and a reach for greater accuracy can force steps so small that arithmetic precision becomes an obstacle.\\n   A better approach replaces the rectangles used in a Riemann sum with trapezoids. The  trapezoid rule  is almost as easy to calculate; it sums all 17 function values, but weights the first and last by one half, and again multiplies by the step width. This immediately improves the approximation to 3.76925, which is noticeably more accurate. Furthermore, only 2 10  pieces are needed to achieve 3.76000, substantially less computation than the rectangle method for comparable accuracy. The idea behind the trapezoid rule, that more accurate approximations to the function yield better approximations to the integral, can be carried further.  Simpson\\'s rule  approximates the integrand by a piecewise quadratic function. Riemann sums, the trapezoid rule, and Simpson\\'s rule are examples of a family of quadrature rules called  Newton–Cotes formulas . The degree   n   Newton–Cotes quadrature rule approximates the polynomial on each subinterval by a degree   n   polynomial. This polynomial is chosen to interpolate the values of the function on the interval. Higher degree Newton-Cotes approximations can be more accurate, but they require more function evaluations (already Simpson\\'s rule requires twice the function evaluations of the trapezoid rule), and they can suffer from numerical inaccuracy due to  Runge\\'s phenomenon . One solution to this problem is  Clenshaw–Curtis quadrature , in which the integrand is approximated by expanding it in terms of  Chebyshev polynomials . This produces an approximation whose values never deviate far from those of the original function.\\n    Romberg\\'s method  builds on the trapezoid method to great effect. First, the step lengths are halved incrementally, giving trapezoid approximations denoted by   T ( h  0 ),  T ( h  1 ) , and so on, where   h   k +1   is half of   h   k   . For each new step size, only half the new function values need to be computed; the others carry over from the previous size (as shown in the table above). But the really powerful idea is to  interpolate  a polynomial through the approximations, and extrapolate to   T (0) . With this method a numerically  exact  answer here requires only four pieces (five function values). The  Lagrange polynomial  interpolating  { h   k  , T ( h   k  )}  k  = 0...2  =  {(4.00,6.128), (2.00,4.352), (1.00,3.908)} is 3.76 + 0.148  h  2  , producing the extrapolated value 3.76 at   h  = 0 .\\n    Gaussian quadrature  often requires noticeably less work for superior accuracy. In this example, it can compute the function values at just two  x  positions,  ±2 ⁄  √ 3   , then double each value and sum to get the numerically exact answer. The explanation for this dramatic success lies in the choice of points. Unlike Newton–Cotes rules, which interpolate the integrand at evenly spaced points, Gaussian quadrature evaluates the function at the roots of a set of  orthogonal polynomials . An  n -point Gaussian method is exact for polynomials of degree up to  2 n  − 1 . The function in this example is a degree 3 polynomial, plus a term that cancels because the chosen endpoints are symmetric around zero. (Cancellation also benefits the Romberg method.)\\n   In practice, each method must use extra evaluations to ensure an error bound on an unknown function; this tends to offset some of the advantage of the pure Gaussian method, and motivates the popular  Gauss–Kronrod quadrature formulae . More broadly,  adaptive quadrature  partitions a range into pieces based on function properties, so that data points are concentrated where they are needed most.\\n   The computation of higher-dimensional integrals (for example, volume calculations) makes important use of such alternatives as  Monte Carlo integration .\\n   A calculus text is no substitute for numerical analysis, but the reverse is also true. Even the best adaptive numerical code sometimes requires a user to help with the more demanding integrals. For example, improper integrals may require a change of variable or methods that can avoid infinite function values, and known properties like symmetry and periodicity may provide critical leverage. For example, the integral    \\n \\n \\n \\n \\n ∫  \\n \\n 0 \\n \\n \\n 1 \\n \\n \\n \\n x \\n \\n −  \\n 1 \\n \\n / \\n \\n 2 \\n \\n \\n \\n e \\n \\n −  \\n x \\n \\n \\n  \\n d \\n x \\n \\n \\n {\\\\displaystyle \\\\int _{0}^{1}x^{-1/2}e^{-x}\\\\,dx} \\n \\n     is difficult to evaluate numerically because it is infinite at   x  = 0 . However, the substitution   u  =  √  x     transforms the integral into    \\n \\n \\n \\n 2 \\n \\n ∫  \\n \\n 0 \\n \\n \\n 1 \\n \\n \\n \\n e \\n \\n −  \\n \\n u \\n \\n 2 \\n \\n \\n \\n \\n  \\n d \\n u \\n \\n \\n {\\\\displaystyle 2\\\\int _{0}^{1}e^{-u^{2}}\\\\,du} \\n \\n    , which has no singularities at all.\\n   The area of an arbitrary two-dimensional shape can be determined using a measuring instrument called  planimeter . The volume of irregular objects can be measured with precision by the fluid  displaced  as the object is submerged.\\n   Area can sometimes be found via  geometrical   compass-and-straightedge constructions  of an equivalent  square .\\n '"
      ]
     },
     "execution_count": 5,
     "metadata": {},
     "output_type": "execute_result"
    }
   ],
   "source": [
    "articles[0]"
   ]
  },
  {
   "cell_type": "code",
   "execution_count": 6,
   "metadata": {},
   "outputs": [
    {
     "data": {
      "text/plain": [
       "' In the branch of  mathematics  known as  real analysis , the  Riemann integral , created by  Bernhard Riemann , was the first rigorous definition of the  integral  of a  function  on an  interval .  It was presented to the faculty at the  University of Göttingen  in 1854, but not published in a journal until 1868.  [1]   For many functions and practical applications, the Riemann integral can be evaluated by the  fundamental theorem of calculus  or approximated by  numerical integration .\\n   The Riemann integral is unsuitable for many theoretical purposes. Some of the technical deficiencies in Riemann integration can be remedied with the  Riemann–Stieltjes integral , and most disappear with the  Lebesgue integral .\\n   Let  f  be a non-negative  real -valued function on the interval  [ a ,  b ] , and let\\n   be the region of the plane under the graph of the function  f  and above the interval  [ a ,  b ]  (see the figure on the top right). We are interested in measuring the area of  S . Once we have measured it, we will denote the area by:\\n   The basic idea of the Riemann integral is to use very simple approximations for the area of  S . By taking better and better approximations, we can say that \"in the limit\" we get exactly the area of  S  under the curve.\\n   Note that where  f  can be both positive and negative, the definition of  S  is modified so that the integral corresponds to the  signed area  under the graph of  f : that is, the area above the  x -axis minus the area below the  x -axis.\\n   A  partition of an interval   [ a ,  b ]  is a finite sequence of numbers of the form\\n   Each  [ x i  ,  x   i  + 1 ]  is called a  sub-interval  of the partition. The  mesh  or  norm  of a partition is defined to be the length of the longest sub-interval, that is,\\n   A  tagged partition    P ( x ,  t )  of an interval  [ a ,  b ]  is a partition together with a finite sequence of numbers   t  0 , ...,  t   n  − 1   subject to the conditions that for each  i ,   t i   ∈ [ x i  ,  x   i  + 1 ] . In other words, it is a partition together with a distinguished point of every sub-interval. The mesh of a tagged partition is the same as that of an ordinary partition.\\n   Suppose that two partitions   P ( x ,  t )  and   Q ( y ,  s )  are both partitions of the interval  [ a ,  b ] . We say that   Q ( y ,  s )  is a  refinement  of   P ( x ,  t )  if for each integer  i , with   i  ∈ [0,  n ] , there exists an integer   r ( i )  such that   x i   =  y   r ( i )   and such that   t i   =  s j    for some  j  with   j  ∈ [ r ( i ),  r ( i  + 1)) . Said more simply, a refinement of a tagged partition breaks up some of the sub-intervals and adds tags to the partition where necessary, thus it \"refines\" the accuracy of the partition.\\n   We can define a  partial order  on the set of all tagged partitions by saying that one tagged partition is greater or equal to another if the former is a refinement of the latter.\\n   Let  f  be a real-valued function defined on the interval  [ a ,  b ] . The   Riemann sum   of  f  with respect to the tagged partition   x  0 , ...,  x n    together with   t  0 , ...,  t   n  − 1   is  [2]  \\n   Each term in the sum is the product of the value of the function at a given point and the length of an interval. Consequently, each term represents the (signed) area of a rectangle with height   f ( t i  )  and width   x   i  + 1  −  x i   . The Riemann sum is the (signed) area of all the rectangles.\\n   A closely related concept are the  lower and upper Darboux sums . These are similar to Riemann sums, but the tags are replaced by the  infimum and supremum  (respectively) of  f  on each sub-interval:\\n   If  f  is continuous, then the lower and upper Darboux sums for an untagged partition are equal to the Riemann sum for that partition, where the tags are chosen to be the minimum or maximum (respectively) of  f  on each subinterval. (When  f  is discontinuous on a subinterval, there may not be a tag that achieves the infimum or supremum on that subinterval.) The  Darboux integral , which is similar to the Riemann integral but based on Darboux sums, is equivalent to the Riemann integral.\\n   Loosely speaking, the Riemann integral is the limit of the Riemann sums of a function as the partitions get finer. If the limit exists then the function is said to be  integrable  (or more specifically  Riemann-integrable ). The Riemann sum can be made as close as desired to the Riemann integral by making the partition fine enough.  [3]  \\n   One important requirement is that the mesh of the partitions must become smaller and smaller, so that in the limit, it is zero. If this were not so, then we would not be getting a good approximation to the function on certain subintervals. In fact, this is enough to define an integral. To be specific, we say that the Riemann integral of  f  equals  s  if the following condition holds:\\n   For all   ε  &gt; 0 , there exists   δ  &gt; 0  such that for any tagged partition   x  0 , ...,  x n    and   t  0 , ...,  t   n  − 1   whose mesh is less than  δ , we have\\n   Unfortunately, this definition is very difficult to use. It would help to develop an equivalent definition of the Riemann integral which is easier to work with. We develop this definition now, with a proof of equivalence following. Our new definition says that the Riemann integral of  f  equals  s  if the following condition holds:\\n   For all   ε  &gt; 0 , there exists a tagged partition   y  0 , ...,  y m    and   r  0 , ...,  r   m  − 1   such that for any tagged partition   x  0 , ...,  x n    and   t  0 , ...,  t   n  − 1   which is a refinement of   y  0 , ...,  y m    and   r  0 , ...,  r   m  − 1  , we have\\n   Both of these mean that eventually, the Riemann sum of  f  with respect to any partition gets trapped close to  s . Since this is true no matter how close we demand the sums be trapped, we say that the Riemann sums converge to  s . These definitions are actually a special case of a more general concept, a  net .\\n   As we stated earlier, these two definitions are equivalent. In other words,  s  works in the first definition if and only if  s  works in the second definition. To show that the first definition implies the second, start with an  ε , and choose a  δ  that satisfies the condition. Choose any tagged partition whose mesh is less than  δ . Its Riemann sum is within  ε  of  s , and any refinement of this partition will also have mesh less than  δ , so the Riemann sum of the refinement will also be within  ε  of  s .\\n   To show that the second definition implies the first, it is easiest to use the  Darboux integral . First, one shows that the second definition is equivalent to the definition of the Darboux integral; for this see the article on Darboux integration. Now we will show that a Darboux integrable function satisfies the first definition. Fix  ε , and choose a partition   y  0 , ...,  y m    such that the lower and upper Darboux sums with respect to this partition are within   ε /2  of the value  s  of the Darboux integral. Let\\n   If   r  = 0 , then  f  is the zero function, which is clearly both Darboux and Riemann integrable with integral zero. Therefore, we will assume that   r  &gt; 0 . If   m  &gt; 1 , then we choose  δ  such that\\n   If   m  = 1 , then we choose  δ  to be less than one. Choose a tagged partition   x  0 , ...,  x n    and   t  0 , ...,  t   n  − 1   with mesh smaller than  δ . We must show that the Riemann sum is within  ε  of  s .\\n   To see this, choose an interval  [ x i  ,  x   i  + 1 ] . If this interval is contained within some  [ y j  ,  y   j  + 1 ] , then\\n   where  m j   and  M j   are respectively, the infimum and the supremum of  f  on  [ y j  ,  y   j  + 1 ] . If all intervals had this property, then this would conclude the proof, because each term in the Riemann sum would be bounded by a corresponding term in the Darboux sums, and we chose the Darboux sums to be near  s . This is the case when   m  = 1 , so the proof is finished in that case.\\n   Therefore, we may assume that   m  &gt; 1 . In this case, it is possible that one of the  [ x i  ,  x   i  + 1 ]  is not contained in any  [ y j  ,  y   j  + 1 ] . Instead, it may stretch across two of the intervals determined by   y  0 , ...,  y m   . (It cannot meet three intervals because  δ  is assumed to be smaller than the length of any one interval.) In symbols, it may happen that\\n   (We may assume that all the inequalities are strict because otherwise we are in the previous case by our assumption on the length of  δ .) This can happen at most   m  − 1  times.\\n   To handle this case, we will estimate the difference between the Riemann sum and the Darboux sum by subdividing the partition   x  0 , ...,  x n    at   y   j  + 1  . The term   f ( t i  )( x   i  + 1  −  x i  )  in the Riemann sum splits into two terms:\\n   Suppose, without loss of generality, that   t i   ∈ [ y j  ,  y   j  + 1 ] . Then\\n   so this term is bounded by the corresponding term in the Darboux sum for  y j  . To bound the other term, notice that\\n   It follows that, for some (indeed any)   t   *    i    ∈ [ y   j  + 1 ,  x   i  + 1 ] ,\\n   Since this happens at most   m  − 1  times, the distance between the Riemann sum and a Darboux sum is at most   ε /2 . Therefore, the distance between the Riemann sum and  s  is at most\\xa0 ε .\\n   Let   f \\xa0: [0, 1] →  R   be the function which takes the value 1 at every point. Any Riemann sum of  f  on  [0, 1]  will have the value 1, therefore the Riemann integral of  f  on  [0, 1]  is 1.\\n   Let   I   Q  \\xa0: [0, 1] →  R   be the  indicator function  of the rational numbers in  [0, 1] ; that is,   I   Q    takes the value 1 on rational numbers and 0 on irrational numbers. This function does not have a Riemann integral. To prove this, we will show how to construct tagged partitions whose Riemann sums get arbitrarily close to both zero and one.\\n   To start, let   x  0 , ...,  x n    and   t  0 , ...,  t   n  − 1   be a tagged partition (each  t i   is between  x i   and   x   i  + 1  ). Choose   ε  &gt; 0 . The  t i   have already been chosen, and we can\\'t change the value of  f  at those points. But if we cut the partition into tiny pieces around each  t i  , we can minimize the effect of the  t i  . Then, by carefully choosing the new tags, we can make the value of the Riemann sum turn out to be within  ε  of either zero or one.\\n   Our first step is to cut up the partition. There are  n  of the  t i  , and we want their total effect to be less than  ε . If we confine each of them to an interval of length less than   ε / n  , then the contribution of each  t i   to the Riemann sum will be at least  0 ·  ε / n   and at most  1 ·  ε / n  . This makes the total sum at least zero and at most  ε . So let  δ  be a positive number less than   ε / n  . If it happens that two of the  t i   are within  δ  of each other, choose  δ  smaller. If it happens that some  t i   is within  δ  of some  x j  , and  t i   is not equal to  x j  , choose  δ  smaller. Since there are only finitely many  t i   and  x j  , we can always choose  δ  sufficiently small.\\n   Now we add two cuts to the partition for each  t i  . One of the cuts will be at   t i   −  δ /2 , and the other will be at   t i   +  δ /2 . If one of these leaves the interval [0, 1], then we leave it out.  t i   will be the tag corresponding to the subinterval\\n   If  t i   is directly on top of one of the  x j  , then we let  t i   be the tag for both intervals:\\n   We still have to choose tags for the other subintervals. We will choose them in two different ways. The first way is to always choose a  rational point , so that the Riemann sum is as large as possible. This will make the value of the Riemann sum at least  1 −  ε  . The second way is to always choose an irrational point, so that the Riemann sum is as small as possible. This will make the value of the Riemann sum at most  ε .\\n   Since we started from an arbitrary partition and ended up as close as we wanted to either zero or one, it is false to say that we are eventually trapped near some number  s , so this function is not Riemann integrable. However, it is  Lebesgue integrable . In the Lebesgue sense its integral is zero, since the function is zero  almost everywhere . But this is a fact that is beyond the reach of the Riemann integral.\\n   There are even worse examples.   I   Q    is equivalent (that is, equal almost everywhere) to a Riemann integrable function, but there are non-Riemann integrable bounded functions which are not equivalent to any Riemann integrable function. For example, let  C  be the  Smith–Volterra–Cantor set , and let   I   C    be its indicator function. Because  C  is not  Jordan measurable ,   I   C    is not Riemann integrable. Moreover, no function  g  equivalent to   I   C    is Riemann integrable:  g , like   I   C   , must be zero on a dense set, so as in the previous example, any Riemann sum of  g  has a refinement which is within  ε  of 0 for any positive number\\xa0 ε . But if the Riemann integral of  g  exists, then it must equal the Lebesgue integral of   I   C   , which is  1/2 . Therefore,  g  is not Riemann integrable.\\n   It is popular to define the Riemann integral as the  Darboux integral . This is because the Darboux integral is technically simpler and because a function is Riemann-integrable if and only if it is Darboux-integrable.\\n   Some calculus books do not use general tagged partitions, but limit themselves to specific types of tagged partitions. If the type of partition is limited too much, some non-integrable functions may appear to be integrable.\\n   One popular restriction is the use of \"left-hand\" and \"right-hand\" Riemann sums. In a left-hand Riemann sum,   t i   =  x i    for all  i , and in a right-hand Riemann sum,   t i   =  x   i  + 1   for all  i . Alone this restriction does not impose a problem: we can refine any partition in a way that makes it a left-hand or right-hand sum by subdividing it at each  t i  . In more formal language, the set of all left-hand Riemann sums and the set of all right-hand Riemann sums is  cofinal  in the set of all tagged partitions.\\n   Another popular restriction is the use of regular subdivisions of an interval. For example, the  n th regular subdivision of  [0, 1]  consists of the intervals \\n   Again, alone this restriction does not impose a problem, but the reasoning required to see this fact is more difficult than in the case of left-hand and right-hand Riemann sums.\\n   However, combining these restrictions, so that one uses only left-hand or right-hand Riemann sums on regularly divided intervals, is dangerous. If a function is known in advance to be Riemann integrable, then this technique will give the correct value of the integral. But under these conditions the  indicator function    I   Q    will appear to be integrable on  [0, 1]  with integral equal to one: Every endpoint of every subinterval will be a rational number, so the function will always be evaluated at rational numbers, and hence it will appear to always equal one. The problem with this definition becomes apparent when we try to split the integral into two pieces. The following equation ought to hold:\\n   If we use regular subdivisions and left-hand or right-hand Riemann sums, then the two terms on the left are equal to zero, since every endpoint except 0 and 1 will be irrational, but as we have seen the term on the right will equal 1.\\n   As defined above, the Riemann integral avoids this problem by refusing to integrate   I   Q   . The Lebesgue integral is defined in such a way that all these integrals are 0.\\n   The Riemann integral is a linear transformation; that is, if  f  and  g  are Riemann-integrable on  [ a ,  b ]  and  α  and  β  are constants, then\\n   Because the Riemann integral of a function is a number, this makes the Riemann integral a  linear functional  on the  vector space  of Riemann-integrable functions.\\n   A  bounded function  on a  compact interval   [ a ,  b ]  is Riemann integrable if and only if it is  continuous   almost everywhere  (the set of its points of discontinuity has  measure zero , in the sense of  Lebesgue measure ). This is known as the     Lebesgue\\'s integrability condition   or  Lebesgue\\'s criterion for Riemann integrability  or the  Riemann–Lebesgue theorem .  [4]   The criterion has  nothing to do  with the  Lebesgue integral . It is due to  Lebesgue  and uses his  measure zero , but makes use of neither Lebesgue\\'s general measure or integral.\\n   The integrability condition can be proven in various ways,  [4]    [5]    [6]    [7]   one of which is sketched below.\\n   One direction can be proven using the  oscillation  definition of continuity:  [8]   For every positive  ε , Let   X   ε    be the set of points in  [ a ,  b ]  with oscillation of at least  ε . Since every point where  f  is discontinuous has a positive oscillation and vice versa, the set of points in  [ a ,  b ] , where  f  is discontinuous is equal to the union over  { X  1/ n  }  for all natural numbers  n .\\n   If this set does not have a zero  Lebesgue measure , then by  countable additivity  of the measure there is at least one such  n  so that   X  1/ n    does not have a zero measure. Thus there is some positive number  c  such that every  countable  collection of open intervals  covering    X  1/ n    has a total length of at least  c . In particular this is also true for every such finite collection of intervals. Note that this remains true also for   X  1/ n    less a finite number of points (as a finite number of points can always be covered by a finite collection of intervals with arbitrarily small total length).\\n   For every  partition of  [ a ,  b ]  , consider the set of intervals whose interiors include points from   X  1/ n   . These interiors consist of a finite open cover of   X  1/ n   , possibly up to a finite number of points (which may fall on interval edges). Thus these intervals have a total length of at least  c . Since in these points  f  has oscillation of at least  1/ n  , the  infimum and supremum  of  f  in each of these intervals differ by at least  1/ n  . Thus the upper and lower sums of  f  differ by at least   c / n  . Since this is true for every partition,  f  is not Riemann integrable.\\n   We now prove the converse direction using the sets   X   ε    defined above.  [9]   Note that for every  ε ,   X   ε    is  compact , as it is bounded (by  a  and  b ) and closed:\\n   Now, suppose that  f  is continuous  almost everywhere . Then for every  ε ,   X   ε    has zero  Lebesgue measure . Therefore, there is a countable collections of open intervals in  [ a ,  b ]  which is an  open cover  of   X   ε   , such that the sum over all their lengths is arbitrarily small.  Since   X   ε    is compact , there is a finite  subcover  – a finite collections of open intervals in  [ a ,  b ]  with arbitrarily small total length that together contain all points in   X   ε   . We denote these intervals  { I ( ε )  i  } , for  1 ≤  i  ≤  k  , for some natural  k .\\n   The  complement  of the union of these intervals is itself a union of a finite number of intervals, which we denote  { J ( ε )  i  }  (for  1 ≤  i  ≤  k  − 1  and possibly for   i  =  k ,  k  + 1  as well).\\n   We now show that for every   ε  &gt; 0 , there are  upper and lower sums  whose difference is less than  ε , from which Riemann integrability follows. To this end, we construct a  partition of  [ a ,  b ]   as follows:\\n   Denote   ε  1  =  ε  / 2( b  −  a )  and   ε  2  =  ε  / 2( M  −  m ) , where  m  and  M  are the  infimum and supremum  of  f  on  [ a ,  b ] . Since we may choose intervals  { I ( ε  1 )  i  }  with arbitrarily small total length, we choose them to have total length smaller than   ε  2  .\\n   Each of the intervals  { J ( ε  1 )  i  }  has an empty intersection with   X   ε  1   , so each point in it has a neighborhood with oscillation smaller than   ε  1  . These neighborhoods consist of an  open cover  of the interval, and since the interval is compact there is a finite subcover of them. This subcover is a finite collection of open intervals, which are subintervals of   J ( ε  1 )  i    (except for those that include an edge point, for which we only take their intersection with   J ( ε  1 )  i  ) . We take the edge points of the subintervals for all   J ( ε  1 )  i   −  s  , including the edge points of the intervals themselves, as our partition.\\n   Thus the partition divides  [ a ,  b ]  to two kinds of intervals:\\n   In total, the difference between the upper and lower sums of the partition is smaller than  ε , as required.\\n   In particular, any set that is at most  countable  has  Lebesgue measure  zero, and thus a bounded function (on a compact interval) with only finitely or countably many discontinuities is Riemann integrable.\\n   An  indicator function  of a bounded set is Riemann-integrable if and only if the set is  Jordan measurable .  [10]   The Riemann integral can be interpreted  measure-theoretically  as the integral with respect to the Jordan measure.\\n   If a real-valued function is  monotone  on the interval  [ a ,  b ]  it is Riemann-integrable, since its set of discontinuities is at most countable, and therefore of Lebesgue measure zero.\\n   If a real-valued function on  [ a ,  b ]  is Riemann-integrable, it is  Lebesgue-integrable . That is, Riemann-integrability is a  stronger  (meaning more difficult to satisfy) condition than Lebesgue-integrability.\\n   If   f   n    is a  uniformly convergent  sequence on  [ a ,  b ]  with limit  f , then Riemann integrability of all   f   n    implies Riemann integrability of  f , and\\n   However, the  Lebesgue monotone convergence theorem  (on a monotone pointwise limit) does not hold. In Riemann integration, taking limits under the integral sign is far more difficult to logically justify than in Lebesgue integration.  [11]  \\n   It is easy to extend the Riemann integral to functions with values in the Euclidean vector space   R   n    for any  n . The integral is defined component-wise; in other words, if   f  = ( f  1 , ...,  f   n  )  then\\n   In particular, since the complex numbers are a real  vector space , this allows the integration of complex valued functions.\\n   The Riemann integral is only defined on bounded intervals, and it does not extend well to unbounded intervals. The simplest possible extension is to define such an integral as a limit, in other words, as an  improper integral :\\n   This definition carries with it some subtleties, such as the fact that it is not always equivalent to compute the  Cauchy principal value \\n   For example, consider the function   f ( x )  which is 0 at   x  = 0 , 1 for   x  &gt; 0 , and −1 for   x  &lt; 0 . By symmetry,\\n   always, regardless of  a . But there are many ways for the interval of integration to expand to fill the real line, and other ways can produce different results; in other words, the multivariate limit does not always exist. We can compute\\n   In general, this improper Riemann integral is undefined. Even standardizing a way for the interval to approach the real line does not work because it leads to disturbingly counterintuitive results. If we agree (for instance) that the improper integral should always be\\n   then the integral of the translation   f ( x  − 1)  is −2, so this definition is not invariant under shifts, a highly undesirable property. In fact, not only does this function not have an improper Riemann integral, its Lebesgue integral is also undefined (it equals  ∞ − ∞ ).\\n   Unfortunately, the improper Riemann integral is not powerful enough. The most severe problem is that there are no widely applicable theorems for commuting improper Riemann integrals with limits of functions. In applications such as  Fourier series  it is important to be able to approximate the integral of a function using integrals of approximations to the function. For proper Riemann integrals, a standard theorem states that if   f   n    is a sequence of functions that  converge uniformly  to  f  on a compact set  [ a ,  b ] , then\\n   On non-compact intervals such as the real line, this is false. For example, take   f   n  ( x )  to be   n  −1   on  [0,  n ]  and zero elsewhere. For all  n  we have:\\n   The sequence  { f   n  }  converges uniformly to the zero function, and clearly the integral of the zero function is zero. Consequently,\\n   This demonstrates that for integrals on unbounded intervals, uniform convergence of a function is not strong enough to allow passing a limit through an integral sign. This makes the Riemann integral unworkable in applications (even though the Riemann integral assigns both sides the correct value), because there is no other general criterion for exchanging a limit and a Riemann integral, and without such a criterion it is difficult to approximate integrals by approximating their integrands.\\n   A better route is to abandon the Riemann integral for the  Lebesgue integral . The definition of the Lebesgue integral is not obviously a generalization of the Riemann integral, but it is not hard to prove that every Riemann-integrable function is Lebesgue-integrable and that the values of the two integrals agree whenever they are both defined. Moreover, a function  f  defined on a bounded interval is Riemann-integrable if and only if it is bounded and the set of points where  f  is discontinuous has Lebesgue measure zero.\\n   An integral which is in fact a direct generalization of the Riemann integral is the  Henstock–Kurzweil integral .\\n   Another way of generalizing the Riemann integral is to replace the factors   x   k  + 1  −  x   k    in the definition of a Riemann sum by something else; roughly speaking, this gives the interval of integration a different notion of length. This is the approach taken by the  Riemann–Stieltjes integral .\\n   In  multivariable calculus , the Riemann integrals for functions from   R   n   →  R   are  multiple integrals .\\n '"
      ]
     },
     "execution_count": 6,
     "metadata": {},
     "output_type": "execute_result"
    }
   ],
   "source": [
    "articles[1]"
   ]
  },
  {
   "cell_type": "markdown",
   "metadata": {},
   "source": [
    "# Zad.\n",
    "\n",
    "Proszę wykonać podstawową tekenizację biorąc pod uwagę:\n",
    "\n",
    " * bierzemy kolejne artykuły i dzieli go na tokeny\n",
    " * bierzemy listę tokenów i usuwamy punktory\n",
    " * bierzemy listę tokenów i usuwa liczby\n",
    " * bierzemy listę tokenów i zamieniamy na małe litery\n",
    "\n",
    "a następnie stworzyć reprezentację **Tf-Idf**.\n",
    "\n",
    "Użyj:\n",
    "\n",
    "```python\n",
    "from sklearn.feature_extraction.text import TfidfVectorizer\n",
    "```"
   ]
  },
  {
   "cell_type": "code",
   "execution_count": 7,
   "metadata": {},
   "outputs": [],
   "source": [
    "from nltk.corpus import stopwords\n",
    "import string\n",
    "from nltk.stem import PorterStemmer\n",
    "from nltk.tokenize import word_tokenize\n",
    "from sklearn.feature_extraction.text import TfidfVectorizer\n",
    "\n",
    "def remove_punctuation(words):\n",
    "    remove_list = list(string.punctuation) + [\"--\", \"\\\"\", \"``\" , \"...\", \"''\", \"'\" ]\n",
    "    return [w for w in words if not w in set(remove_list)]\n",
    "\n",
    "def remove_nummbers(words):\n",
    "    return [w for w in words if not w.isdigit()]\n",
    "\n",
    "def to_lower(words):\n",
    "    return [w.lower() for w in words]\n",
    "\n",
    "\n",
    "def my_tokenizer(sent):\n",
    "    tokens = word_tokenize(sent)\n",
    "    tokens = remove_punctuation(tokens)\n",
    "    tokens = remove_nummbers(tokens)\n",
    "    tokens = to_lower(tokens)\n",
    "    stemmer = PorterStemmer()\n",
    "    res = [stemmer.stem(word) for word in tokens]\n",
    "    return res \n",
    "\n",
    "tfidf_vectorizer = TfidfVectorizer(tokenizer=my_tokenizer, stop_words=stopwords.words('english') + list(string.punctuation))\n",
    "tfidf_matrix = tfidf_vectorizer.fit_transform(articles)"
   ]
  },
  {
   "cell_type": "code",
   "execution_count": 8,
   "metadata": {},
   "outputs": [
    {
     "name": "stdout",
     "output_type": "stream",
     "text": [
      "----\n",
      "(11, 6733)\n",
      "[[0.         0.         0.00450557 ... 0.         0.         0.00450557]\n",
      " [0.         0.         0.         ... 0.         0.         0.        ]\n",
      " [0.         0.         0.         ... 0.         0.         0.        ]\n",
      " ...\n",
      " [0.         0.         0.         ... 0.         0.         0.        ]\n",
      " [0.         0.         0.         ... 0.         0.         0.        ]\n",
      " [0.         0.         0.         ... 0.         0.         0.        ]]\n"
     ]
    }
   ],
   "source": [
    "print(\"----\")\n",
    "print(tfidf_matrix.todense().shape)\n",
    "print(tfidf_matrix.todense())"
   ]
  },
  {
   "cell_type": "markdown",
   "metadata": {
    "collapsed": true
   },
   "source": [
    "# Zad \n",
    "Wypisz 10 najważniejszych sów w każdym, zdaniu względem Tf-Idf"
   ]
  },
  {
   "cell_type": "code",
   "execution_count": 9,
   "metadata": {},
   "outputs": [
    {
     "name": "stdout",
     "output_type": "stream",
     "text": [
      "['integr' 'function' 'x' 'f' 'interv' 'b' 'antideriv' 'differenti'\n",
      " 'riemann' 'sum']\n",
      "['integr' 'riemann' 'interv' 'ε' 'x' 'partit' 'sum' 'f' 'function' 'n']\n",
      "['g' 'integr' 'riemann–stieltj' 'x' '\\\\displaystyl' 'function' 'f'\n",
      " 'partit' 'p' 'gener']\n",
      "['f' 'deriv' 'x' 'function' 'h' '′' 'differenti' 'vector' 'v' 'thi']\n",
      "['n' '\\\\displaystyl' 'x' 'sequenc' 'x_' '\\\\to' 'limit' '→' 'b' 'converg']\n",
      "['munch' 'hi' 'cm' '×' 'oslo' 'paint' '⁄' 'museum' 'wa' \"'s\"]\n",
      "['gogh' 'van' 'hi' 'paint' 'theo' 'wa' \"'s\" 'arl' 'vincent' 'gauguin']\n",
      "['matejko' 'kraków' 'hi' 'polish' 'paint' 'jan' 'wa' 'histor' 'fine'\n",
      " 'finish']\n",
      "['tolstoy' 'hi' \"'s\" 'wa' 'war' 'russian' 'anarchist' 'novel' 'peac'\n",
      " 'gandhi']\n",
      "['kafka' 'hi' \"'s\" 'brod' 'wa' 'work' 'stori' 'publish' 'der' 'jewish']\n"
     ]
    }
   ],
   "source": [
    "import numpy as np\n",
    "for i in range(10):\n",
    "    print(np.array(tfidf_vectorizer.get_feature_names())[\n",
    "        tfidf_matrix.getrow(i).todense().argsort().A.flatten()[-10:][::-1]\n",
    "    ])"
   ]
  },
  {
   "cell_type": "markdown",
   "metadata": {},
   "source": [
    "# Zad\n",
    "Porównaj wyniki z najczęstszymi słowami."
   ]
  },
  {
   "cell_type": "code",
   "execution_count": 10,
   "metadata": {
    "collapsed": true
   },
   "outputs": [],
   "source": [
    "from sklearn.feature_extraction.text import CountVectorizer\n",
    "\n",
    "cv_vectorizer = CountVectorizer(tokenizer=my_tokenizer, stop_words=stopwords.words('english') + list(string.punctuation))\n",
    "cv_matrix = cv_vectorizer.fit_transform(articles)"
   ]
  },
  {
   "cell_type": "code",
   "execution_count": 11,
   "metadata": {},
   "outputs": [
    {
     "name": "stdout",
     "output_type": "stream",
     "text": [
      "['integr' 'function' 'x' 'f' 'thi' 'b' 'use' 'valu' 'interv' 'sum']\n",
      "['integr' 'riemann' 'x' 'sum' 'ε' 'interv' 'thi' 'partit' 'function' 'f']\n",
      "['integr' 'g' 'x' 'function' 'riemann–stieltj' '\\\\displaystyl' 'f' 'gener'\n",
      " 'continu' 'partit']\n",
      "['f' 'deriv' 'function' 'x' 'thi' 'h' 'n' 'point' '′' 'differenti']\n",
      "['n' '\\\\displaystyl' 'x' 'sequenc' 'limit' 'x_' '→' 'b' '\\\\to' 'f']\n",
      "['munch' 'hi' 'wa' \"'s\" 'paint' 'cm' '×' 'museum' 'oslo' 'work']\n",
      "['hi' 'van' 'gogh' 'wa' \"'s\" 'paint' 'work' 'theo' 'art' 'museum']\n",
      "['hi' 'matejko' 'wa' 'paint' 'kraków' 'polish' \"'s\" 'jan' 'year' 'art']\n",
      "['tolstoy' 'hi' \"'s\" 'wa' 'war' 'work' 'also' 'russian' 'novel'\n",
      " 'anarchist']\n",
      "['kafka' 'hi' \"'s\" 'wa' 'work' 'publish' 'stori' 'brod' 'write' 'der']\n"
     ]
    }
   ],
   "source": [
    "import numpy as np\n",
    "for i in range(10):\n",
    "    print(np.array(cv_vectorizer.get_feature_names())[\n",
    "        cv_matrix.getrow(i).todense().argsort().A.flatten()[-10:][::-1]\n",
    "    ])"
   ]
  },
  {
   "cell_type": "markdown",
   "metadata": {},
   "source": [
    "# Zad\n",
    "Znajdź najbliższe zdanie z korpusu do zdań:\n",
    "\n",
    "* \"Integrals are OK\"\n",
    "* \"I love art\""
   ]
  },
  {
   "cell_type": "code",
   "execution_count": 26,
   "metadata": {},
   "outputs": [
    {
     "name": "stdout",
     "output_type": "stream",
     "text": [
      "[[0. 0. 0. ... 0. 0. 0.]]\n"
     ]
    },
    {
     "data": {
      "text/plain": [
       "matrix([[0.72139115],\n",
       "        [0.44981537],\n",
       "        [0.47728516],\n",
       "        [0.00832261],\n",
       "        [0.        ],\n",
       "        [0.        ],\n",
       "        [0.        ],\n",
       "        [0.        ],\n",
       "        [0.        ],\n",
       "        [0.        ],\n",
       "        [0.00177815]])"
      ]
     },
     "execution_count": 26,
     "metadata": {},
     "output_type": "execute_result"
    }
   ],
   "source": [
    "query = [\"Integrals are OK\"]\n",
    "\n",
    "query_data = tfidf_vectorizer.transform(query)\n",
    "print(query_data.todense())\n",
    "\n",
    "res = np.sum(np.dot(tfidf_matrix, query_data.T).todense(),axis=1)\n",
    "res"
   ]
  },
  {
   "cell_type": "code",
   "execution_count": 27,
   "metadata": {},
   "outputs": [
    {
     "name": "stdout",
     "output_type": "stream",
     "text": [
      "[[0. 0. 0. ... 0. 0. 0.]]\n"
     ]
    },
    {
     "data": {
      "text/plain": [
       "matrix([[0.        ],\n",
       "        [0.        ],\n",
       "        [0.        ],\n",
       "        [0.        ],\n",
       "        [0.        ],\n",
       "        [0.07483569],\n",
       "        [0.05372964],\n",
       "        [0.06946146],\n",
       "        [0.01559913],\n",
       "        [0.00772017],\n",
       "        [0.01596209]])"
      ]
     },
     "execution_count": 27,
     "metadata": {},
     "output_type": "execute_result"
    }
   ],
   "source": [
    "query = [\"I love art\"]\n",
    "\n",
    "query_data = tfidf_vectorizer.transform(query)\n",
    "print(query_data.todense())\n",
    "\n",
    "res = np.sum(np.dot(tfidf_matrix, query_data.T).todense(),axis=1)\n",
    "res"
   ]
  },
  {
   "cell_type": "markdown",
   "metadata": {},
   "source": [
    "# Zad\n",
    "Znajdź najbliższe zdanie z korpusu do zdań za pomocą najczęściej występujących słów:\n",
    "\n",
    "* \"Integrals are OK\"\n",
    "* \"I love art\""
   ]
  },
  {
   "cell_type": "code",
   "execution_count": 29,
   "metadata": {},
   "outputs": [
    {
     "name": "stdout",
     "output_type": "stream",
     "text": [
      "[[0 0 0 ... 0 0 0]]\n"
     ]
    },
    {
     "data": {
      "text/plain": [
       "matrix([[264],\n",
       "        [110],\n",
       "        [ 44],\n",
       "        [  3],\n",
       "        [  0],\n",
       "        [  0],\n",
       "        [  0],\n",
       "        [  0],\n",
       "        [  0],\n",
       "        [  0],\n",
       "        [  1]], dtype=int64)"
      ]
     },
     "execution_count": 29,
     "metadata": {},
     "output_type": "execute_result"
    }
   ],
   "source": [
    "query = [\"Integrals are OK\"]\n",
    "\n",
    "query_data = cv_vectorizer.transform(query)\n",
    "print(query_data.todense())\n",
    "\n",
    "res = np.sum(np.dot(cv_matrix, query_data.T).todense(),axis=1)\n",
    "res"
   ]
  },
  {
   "cell_type": "code",
   "execution_count": 30,
   "metadata": {},
   "outputs": [
    {
     "name": "stdout",
     "output_type": "stream",
     "text": [
      "[[0 0 0 ... 0 0 0]]\n"
     ]
    },
    {
     "data": {
      "text/plain": [
       "matrix([[ 0],\n",
       "        [ 0],\n",
       "        [ 0],\n",
       "        [ 0],\n",
       "        [ 0],\n",
       "        [46],\n",
       "        [46],\n",
       "        [13],\n",
       "        [ 6],\n",
       "        [ 5],\n",
       "        [13]], dtype=int64)"
      ]
     },
     "execution_count": 30,
     "metadata": {},
     "output_type": "execute_result"
    }
   ],
   "source": [
    "query = [\"I love art\"]\n",
    "\n",
    "query_data = cv_vectorizer.transform(query)\n",
    "print(query_data.todense())\n",
    "\n",
    "res = np.sum(np.dot(cv_matrix, query_data.T).todense(),axis=1)\n",
    "res"
   ]
  },
  {
   "cell_type": "code",
   "execution_count": null,
   "metadata": {
    "collapsed": true
   },
   "outputs": [],
   "source": []
  }
 ],
 "metadata": {
  "kernelspec": {
   "display_name": "Python 3",
   "language": "python",
   "name": "python3"
  },
  "language_info": {
   "codemirror_mode": {
    "name": "ipython",
    "version": 3
   },
   "file_extension": ".py",
   "mimetype": "text/x-python",
   "name": "python",
   "nbconvert_exporter": "python",
   "pygments_lexer": "ipython3",
   "version": "3.7.6"
  }
 },
 "nbformat": 4,
 "nbformat_minor": 2
}
