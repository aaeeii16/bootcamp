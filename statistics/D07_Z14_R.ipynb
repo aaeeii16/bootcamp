{
 "cells": [
  {
   "cell_type": "code",
   "execution_count": 1,
   "metadata": {
    "collapsed": true
   },
   "outputs": [],
   "source": [
    "import numpy as np\n",
    "import matplotlib.pyplot as plt\n",
    "from scipy import stats\n",
    "import pandas as pd\n",
    "from statsmodels.formula.api import ols\n",
    "from statsmodels.stats.anova import anova_lm\n",
    "from statsmodels.stats.multicomp import (pairwise_tukeyhsd, MultiComparison)\n",
    "from statsmodels.stats.libqsturng import psturng"
   ]
  },
  {
   "cell_type": "markdown",
   "metadata": {},
   "source": [
    "# Zadanie \n",
    "Pewna grupa poddała się trzem testom.\n",
    "Na podstawie poniższych wyników chcielibyśmy zweryfikować hipotezę zerowa mówiącą, że środni wynik w tych trzech testach jest taki sam."
   ]
  },
  {
   "cell_type": "code",
   "execution_count": 6,
   "metadata": {
    "collapsed": true
   },
   "outputs": [],
   "source": [
    "\n",
    "data = np.rec.array([\n",
    "    (  1,   'mental',  2 ),\n",
    "    (  2,   'mental',  2 ),\n",
    "    (  3,   'mental',  3 ),\n",
    "    (  4,   'mental',  4 ),\n",
    "    (  5,   'mental',  4 ),\n",
    "    (  6,   'mental',  5 ),\n",
    "    (  7,   'mental',  3 ),\n",
    "    (  8,   'mental',  4 ),\n",
    "    (  9,   'mental',  4 ),\n",
    "    ( 10,   'mental',  4 ),\n",
    "    ( 11, 'physical',  4 ),\n",
    "    ( 12, 'physical',  4 ),\n",
    "    ( 13, 'physical',  3 ),\n",
    "    ( 14, 'physical',  5 ),\n",
    "    ( 15, 'physical',  4 ),\n",
    "    ( 16, 'physical',  1 ),\n",
    "    ( 17, 'physical',  1 ),\n",
    "    ( 18, 'physical',  2 ),\n",
    "    ( 19, 'physical',  3 ),\n",
    "    ( 20, 'physical',  3 ),\n",
    "    ( 21,  'medical',  1 ),\n",
    "    ( 22,  'medical',  2 ),\n",
    "    ( 23,  'medical',  2 ),\n",
    "    ( 24,  'medical',  2 ),\n",
    "    ( 25,  'medical',  3 ),\n",
    "    ( 26,  'medical',  2 ),\n",
    "    ( 27,  'medical',  3 ),\n",
    "    ( 28,  'medical',  1 ),\n",
    "    ( 29,  'medical',  3 ),\n",
    "    ( 30,  'medical',  1 )], dtype=[('idx', '<i4'),\n",
    "                                    ('Treatment', '|S8'),\n",
    "                                    ('StressReduction', '<i4')])"
   ]
  },
  {
   "cell_type": "code",
   "execution_count": null,
   "metadata": {
    "collapsed": true
   },
   "outputs": [],
   "source": []
  },
  {
   "cell_type": "code",
   "execution_count": 7,
   "metadata": {
    "collapsed": true
   },
   "outputs": [],
   "source": [
    "df = pd.DataFrame(data)\n",
    "d1=df[\"StressReduction\"][df[\"Treatment\"]==b'mental']\n",
    "d2=df[\"StressReduction\"][df[\"Treatment\"]==b'physical']\n",
    "d3=df[\"StressReduction\"][df[\"Treatment\"]==b'medical']"
   ]
  },
  {
   "cell_type": "code",
   "execution_count": 8,
   "metadata": {},
   "outputs": [
    {
     "data": {
      "image/png": "[encoded data removed]",
      "text/plain": [
       "<Figure size 432x288 with 1 Axes>"
      ]
     },
     "metadata": {},
     "output_type": "display_data"
    }
   ],
   "source": [
    "import seaborn as sns\n",
    "import matplotlib.pyplot as plt\n",
    "plt.boxplot([d1,d2,d3], sym='*',meanline=True)\n",
    "plt.show()"
   ]
  },
  {
   "cell_type": "code",
   "execution_count": null,
   "metadata": {
    "collapsed": true
   },
   "outputs": [],
   "source": []
  },
  {
   "cell_type": "code",
   "execution_count": 9,
   "metadata": {},
   "outputs": [
    {
     "name": "stdout",
     "output_type": "stream",
     "text": [
      "0.4567120561411028\n"
     ]
    }
   ],
   "source": [
    "# First, check if the variances are equal, with the \"Levene\"-test\n",
    "(W,p) = stats.levene(d1, d2, d3)\n",
    "print(p)\n",
    "if p<0.05:\n",
    "    print(('Warning: the p-value of the Levene test is <0.05: p={0}'.format(p)))"
   ]
  },
  {
   "cell_type": "markdown",
   "metadata": {},
   "source": [
    "# Wykonujemy test ANOVA"
   ]
  },
  {
   "cell_type": "code",
   "execution_count": 10,
   "metadata": {},
   "outputs": [
    {
     "name": "stdout",
     "output_type": "stream",
     "text": [
      "                df     sum_sq   mean_sq         F    PR(>F)\n",
      "C(Treatment)   2.0  11.666667  5.833333  5.163934  0.012617\n",
      "Residual      27.0  30.500000  1.129630       NaN       NaN\n",
      "One of the groups is different.\n"
     ]
    },
    {
     "name": "stderr",
     "output_type": "stream",
     "text": [
      "C:\\Users\\admin\\Anaconda3\\lib\\site-packages\\scipy\\stats\\_distn_infrastructure.py:879: RuntimeWarning: invalid value encountered in greater\n",
      "  return (self.a < x) & (x < self.b)\n",
      "C:\\Users\\admin\\Anaconda3\\lib\\site-packages\\scipy\\stats\\_distn_infrastructure.py:879: RuntimeWarning: invalid value encountered in less\n",
      "  return (self.a < x) & (x < self.b)\n",
      "C:\\Users\\admin\\Anaconda3\\lib\\site-packages\\scipy\\stats\\_distn_infrastructure.py:1818: RuntimeWarning: invalid value encountered in less_equal\n",
      "  cond2 = cond0 & (x <= self.a)\n"
     ]
    }
   ],
   "source": [
    "df = pd.DataFrame(data)\n",
    "model = ols('StressReduction ~ C(Treatment)',df).fit()\n",
    "anovaResults =  anova_lm(model)\n",
    "print(anovaResults)\n",
    "if anovaResults['PR(>F)'][0] < 0.05:\n",
    "    print('One of the groups is different.')"
   ]
  },
  {
   "cell_type": "markdown",
   "metadata": {},
   "source": [
    "## Wniosek\n",
    "Ponieważ, odrzucamy hipotezę zerową o równości średnich zastanawiamy się czy któryś ze strzelców nie radzi sobie istotnie lepiej.\n",
    "\n",
    "# Wykonujemy analizę post hoc"
   ]
  },
  {
   "cell_type": "code",
   "execution_count": 8,
   "metadata": {
    "collapsed": true
   },
   "outputs": [],
   "source": [
    "#Then, do the multiple testing\n",
    "multiComp = MultiComparison(data['StressReduction'], data['Treatment'])"
   ]
  },
  {
   "cell_type": "code",
   "execution_count": 9,
   "metadata": {},
   "outputs": [
    {
     "name": "stdout",
     "output_type": "stream",
     "text": [
      "  Multiple Comparison of Means - Tukey HSD,FWER=0.05 \n",
      "=====================================================\n",
      "  group1      group2   meandiff  lower  upper  reject\n",
      "-----------------------------------------------------\n",
      "b'medical'  b'mental'    1.5     0.3217 2.6783  True \n",
      "b'medical' b'physical'   1.0    -0.1783 2.1783 False \n",
      "b'mental'  b'physical'   -0.5   -1.6783 0.6783 False \n",
      "-----------------------------------------------------\n"
     ]
    }
   ],
   "source": [
    "print((multiComp.tukeyhsd().summary()))"
   ]
  },
  {
   "cell_type": "code",
   "execution_count": 10,
   "metadata": {},
   "outputs": [
    {
     "name": "stdout",
     "output_type": "stream",
     "text": [
      "[b'medical' b'mental' b'physical']\n"
     ]
    }
   ],
   "source": [
    "# Calculate the p-values:\n",
    "res2 = pairwise_tukeyhsd(data['StressReduction'], data['Treatment'])\n",
    "#http://cleverowl.uk/2015/07/01/using-one-way-anova-and-tukeys-test-to-compare-data-sets/\n",
    "#Należy również zauważyć, że funkcja tukeyhsd() ma parametr alfa, \n",
    "#którego nie określamy wyraźnie, \n",
    "#ponieważ jesteśmy zadowoleni ze swojej wartości domyślnej (α = 0.05α = 0.05).\n",
    "df = pd.DataFrame(data)\n",
    "numData = len(df)\n",
    "numTreatments = len(df.Treatment.unique())\n",
    "dof = numData - numTreatments\n",
    "# Show the group names\n",
    "print((multiComp.groupsunique))\n",
    "# Generate a print -------------------\n",
    "    \n"
   ]
  },
  {
   "cell_type": "code",
   "execution_count": 11,
   "metadata": {},
   "outputs": [
    {
     "data": {
      "image/png": "[encoded data removed]",
      "text/plain": [
       "<Figure size 432x288 with 1 Axes>"
      ]
     },
     "metadata": {},
     "output_type": "display_data"
    }
   ],
   "source": [
    "# Get the data\n",
    "xvals = np.arange(3)\n",
    "res2 = pairwise_tukeyhsd(data['StressReduction'], data['Treatment'])\n",
    "errors = np.ravel(np.diff(res2.confint)/2)\n",
    "\n",
    "# Plot them\n",
    "plt.plot(xvals, res2.meandiffs, 'o')\n",
    "plt.errorbar(xvals, res2.meandiffs, yerr=errors, fmt='o')\n",
    "\n",
    "# Put on labels\n",
    "pair_labels = multiComp.groupsunique[np.column_stack(res2._multicomp.pairindices)]\n",
    "plt.xticks(xvals, pair_labels)\n",
    "\n",
    "# Format the plot\n",
    "xlim = -0.5, 2.5\n",
    "plt.hlines(0, *xlim)\n",
    "plt.xlim(*xlim)\n",
    "plt.title('Multiple Comparison of Means - Tukey HSD, FWER=0.05' + '\\n Pairwise Mean Differences')          \n",
    "plt.show()"
   ]
  },
  {
   "cell_type": "code",
   "execution_count": 12,
   "metadata": {},
   "outputs": [
    {
     "name": "stdout",
     "output_type": "stream",
     "text": [
      "3.5\n",
      "3.0\n",
      "2.0\n"
     ]
    }
   ],
   "source": [
    "print(np.mean(d1))\n",
    "print(np.mean(d2))\n",
    "print(np.mean(d3))"
   ]
  },
  {
   "cell_type": "code",
   "execution_count": 14,
   "metadata": {},
   "outputs": [
    {
     "data": {
      "text/plain": [
       "0    2\n",
       "1    2\n",
       "2    3\n",
       "3    4\n",
       "4    4\n",
       "5    5\n",
       "6    3\n",
       "7    4\n",
       "8    4\n",
       "9    4\n",
       "Name: StressReduction, dtype: int32"
      ]
     },
     "execution_count": 14,
     "metadata": {},
     "output_type": "execute_result"
    }
   ],
   "source": [
    "d1"
   ]
  },
  {
   "cell_type": "code",
   "execution_count": null,
   "metadata": {
    "collapsed": true
   },
   "outputs": [],
   "source": []
  },
  {
   "cell_type": "code",
   "execution_count": null,
   "metadata": {
    "collapsed": true
   },
   "outputs": [],
   "source": []
  }
 ],
 "metadata": {
  "kernelspec": {
   "display_name": "Python 3",
   "language": "python",
   "name": "python3"
  },
  "language_info": {
   "codemirror_mode": {
    "name": "ipython",
    "version": 3
   },
   "file_extension": ".py",
   "mimetype": "text/x-python",
   "name": "python",
   "nbconvert_exporter": "python",
   "pygments_lexer": "ipython3",
   "version": "3.6.7"
  }
 },
 "nbformat": 4,
 "nbformat_minor": 2
}
