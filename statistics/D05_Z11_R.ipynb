{
 "cells": [
  {
   "cell_type": "markdown",
   "metadata": {},
   "source": [
    "# Zadanie\n",
    "Średnia cena 100 losowo wybranych książek do nauki programowania wyniosła 120.50 PLN. Wiadomo, ze odchylenie standardowe cen książek wynosi 10.75 PLN. Wyznaczyć 90% przedział ufności dla średniej ceny książki do programowania zakładając, że rozkład cen jest rozkładem normalnym."
   ]
  },
  {
   "cell_type": "code",
   "execution_count": 2,
   "metadata": {},
   "outputs": [],
   "source": [
    "import matplotlib.pyplot as plt\n",
    "import numpy as np\n",
    "from scipy import stats\n",
    "from scipy import integrate"
   ]
  },
  {
   "cell_type": "code",
   "execution_count": 7,
   "metadata": {},
   "outputs": [
    {
     "name": "stdout",
     "output_type": "stream",
     "text": [
      "118.73178235102716\n",
      "122.26821764897284\n"
     ]
    },
    {
     "data": {
      "text/plain": [
       "(118.73178235102716, 122.26821764897284)"
      ]
     },
     "execution_count": 7,
     "metadata": {},
     "output_type": "execute_result"
    }
   ],
   "source": [
    "(mu, sigma)=(0,1)\n",
    "X=stats.norm(mu, sigma)\n",
    "\n",
    "n=100\n",
    "bar_x = 120.50 \n",
    "alpha = 0.1\n",
    "s = 10.75\n",
    "L=bar_x-X.ppf(1-alpha/2)*(s/np.sqrt(n))\n",
    "R=bar_x+X.ppf(1-alpha/2)*(s/np.sqrt(n))\n",
    "\n",
    "print(L)\n",
    "print(R)\n",
    "\n",
    "ci = stats.norm.interval(1-alpha, loc=bar_x, scale=s/np.sqrt(n))\n",
    "ci"
   ]
  },
  {
   "cell_type": "code",
   "execution_count": null,
   "metadata": {},
   "outputs": [],
   "source": []
  }
 ],
 "metadata": {
  "kernelspec": {
   "display_name": "Python 3",
   "language": "python",
   "name": "python3"
  },
  "language_info": {
   "codemirror_mode": {
    "name": "ipython",
    "version": 3
   },
   "file_extension": ".py",
   "mimetype": "text/x-python",
   "name": "python",
   "nbconvert_exporter": "python",
   "pygments_lexer": "ipython3",
   "version": "3.7.3"
  }
 },
 "nbformat": 4,
 "nbformat_minor": 4
}
