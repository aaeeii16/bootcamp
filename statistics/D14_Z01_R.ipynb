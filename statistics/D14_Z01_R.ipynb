{
 "cells": [
  {
   "cell_type": "markdown",
   "metadata": {
    "collapsed": true
   },
   "source": [
    "# Zad 1.\n",
    "Wylosuj próbkę 1000-elementową liczb pseudolosowych zgodnie z modelem LCG.\n"
   ]
  },
  {
   "cell_type": "code",
   "execution_count": 30,
   "metadata": {
    "collapsed": true
   },
   "outputs": [],
   "source": [
    "import matplotlib.pylab as plt\n",
    "import numpy as np\n",
    "import scipy.stats as stats"
   ]
  },
  {
   "cell_type": "code",
   "execution_count": 31,
   "metadata": {
    "collapsed": false
   },
   "outputs": [
    {
     "data": {
      "image/png": "[encoded data removed]",
      "text/plain": [
       "<matplotlib.figure.Figure at 0x71dfa2c278>"
      ]
     },
     "metadata": {},
     "output_type": "display_data"
    }
   ],
   "source": [
    "import matplotlib.pylab as plt\n",
    "import numpy as np\n",
    "\n",
    "def gen_random(n_samples, m, a, c, seed):\n",
    "    results = []\n",
    "    temp = seed\n",
    "    for i in range(n_samples):\n",
    "        temp = (a * temp + c) % m\n",
    "        results.append(temp)\n",
    "    return results\n",
    "\n",
    "x=gen_random(n_samples=100, m=2**32, a=1103515245, c=12345, seed=1)\n",
    "plt.hist(x)\n",
    "plt.show()"
   ]
  },
  {
   "cell_type": "markdown",
   "metadata": {},
   "source": [
    "# Zad 2.\n",
    "Wylosuj próbkę 1000-elementową z rozkładu jednostajnego na odcinku (wykorzystując kod z Zad 1.)."
   ]
  },
  {
   "cell_type": "code",
   "execution_count": 37,
   "metadata": {
    "collapsed": false
   },
   "outputs": [
    {
     "data": {
      "image/png": "[encoded data removed]",
      "text/plain": [
       "<matplotlib.figure.Figure at 0x71e0a0c550>"
      ]
     },
     "metadata": {},
     "output_type": "display_data"
    }
   ],
   "source": [
    "def gen_uniform(n_samples, lower_bound, upper_bound, m, a, c, seed):\n",
    "    return list(map(lambda x: x / m * (upper_bound - lower_bound) + lower_bound,\n",
    "                    gen_random(n_samples, m, a, c, seed)))\n",
    "\n",
    "x = gen_uniform(10000, 0, 1, 2 ** 31, 48271, 0, 444)\n",
    "\n",
    "bins = np.linspace(0, 1, 10)\n",
    "x_plot = np.linspace(-0.2,1.2,100)\n",
    "plt.hist(x, bins=bins, normed=True)\n",
    "plt.plot(x_plot, stats.uniform.pdf(x_plot), linewidth=2)\n",
    "plt.axis([-0.2,1.2,0,1.2])\n",
    "plt.show()"
   ]
  },
  {
   "cell_type": "markdown",
   "metadata": {},
   "source": [
    "# Zad 3.\n",
    "Wylosuj próbkę 1000-elementową z rozkładu Bernoulliego."
   ]
  },
  {
   "cell_type": "code",
   "execution_count": 70,
   "metadata": {
    "collapsed": true
   },
   "outputs": [],
   "source": [
    "p=1/2\n",
    "x = gen_uniform(10000, 0, 1, 2 ** 31, 48271, 0, 444)\n",
    "xb=np.array(x)<p\n",
    "y=1*xb"
   ]
  },
  {
   "cell_type": "code",
   "execution_count": 71,
   "metadata": {
    "collapsed": false
   },
   "outputs": [
    {
     "data": {
      "image/png": "[encoded data removed]",
      "text/plain": [
       "<matplotlib.figure.Figure at 0x71e06c5b70>"
      ]
     },
     "metadata": {},
     "output_type": "display_data"
    }
   ],
   "source": [
    "plt.hist(y, bins=bins, normed=True)\n",
    "plt.show()"
   ]
  },
  {
   "cell_type": "markdown",
   "metadata": {},
   "source": [
    "# Zad 4.\n",
    "Wylosuj próbkę 1000-elementową z rozkładu dwumianowego."
   ]
  },
  {
   "cell_type": "code",
   "execution_count": 95,
   "metadata": {
    "collapsed": false
   },
   "outputs": [
    {
     "data": {
      "image/png": "[encoded data removed]",
      "text/plain": [
       "<matplotlib.figure.Figure at 0x71e0646940>"
      ]
     },
     "metadata": {},
     "output_type": "display_data"
    }
   ],
   "source": [
    "p=0.5\n",
    "n=5\n",
    "z=[]\n",
    "for i in range(100):\n",
    "    U = stats.uniform().rvs(n)\n",
    "    y=1*(U<p)\n",
    "    z.append(sum(y))\n",
    "plt.hist(z, normed=True)\n",
    "plt.show()"
   ]
  },
  {
   "cell_type": "markdown",
   "metadata": {},
   "source": [
    "# Zadanie 5\n",
    "Wylosuj próbkę 1000-elementową z rozkładu geometrycznego."
   ]
  },
  {
   "cell_type": "code",
   "execution_count": 109,
   "metadata": {
    "collapsed": false
   },
   "outputs": [],
   "source": [
    "p=0.2\n",
    "X=1\n",
    "w=[]\n",
    "for i in range(100):\n",
    "    while( stats.uniform().rvs(1) < p):\n",
    "        X=X+1\n",
    "    w.append(X) "
   ]
  },
  {
   "cell_type": "code",
   "execution_count": 110,
   "metadata": {
    "collapsed": false
   },
   "outputs": [
    {
     "data": {
      "image/png": "[encoded data removed]",
      "text/plain": [
       "<matplotlib.figure.Figure at 0x71dfd08a58>"
      ]
     },
     "metadata": {},
     "output_type": "display_data"
    }
   ],
   "source": [
    "plt.hist(w, normed=True)\n",
    "plt.show()"
   ]
  },
  {
   "cell_type": "markdown",
   "metadata": {},
   "source": [
    "# Zadanie 6\n",
    "Wylosuj próbkę 1000-elementową z rozkładu X, takiego, że\n",
    "\n",
    "- $P(X=1) = 0.2$\n",
    "- $P(X=2) = 0.3$\n",
    "- $P(X=3) = 0.25$\n",
    "- $P(X=4) = 0.24$"
   ]
  },
  {
   "cell_type": "code",
   "execution_count": null,
   "metadata": {
    "collapsed": true
   },
   "outputs": [],
   "source": []
  }
 ],
 "metadata": {
  "kernelspec": {
   "display_name": "Python 3",
   "language": "python",
   "name": "python3"
  },
  "language_info": {
   "codemirror_mode": {
    "name": "ipython",
    "version": 3
   },
   "file_extension": ".py",
   "mimetype": "text/x-python",
   "name": "python",
   "nbconvert_exporter": "python",
   "pygments_lexer": "ipython3",
   "version": "3.6.0"
  }
 },
 "nbformat": 4,
 "nbformat_minor": 2
}
