{
 "cells": [
  {
   "cell_type": "markdown",
   "metadata": {},
   "source": [
    "# Zadanie\n",
    "W pozwie dotyczącym morderstwa obrona wykorzystuje kwestionariusz do wykazania, że pozwany jest szalony. W wyniku kwestionariusza oskarżony twierdzi, że \"nie jest winny z powodu szaleństwa\".\n",
    "\n",
    "W odpowiedzi, adwokat oskarżyciela chce pokazać, że kwestionariusz nie działa. Zatrudnia doświadczonego neurologa i przedstawia mu $40$ pacjentów, dla których $20$ ukończyło test z wynikiem \"szalonym:, a $20$ ze \"zdrowy\". \n",
    "Po wykonaniu badań przez neurologa otrzymujemy, że: $19$ osób z wynikiem testu \"zdrowych\" jest zdrowy zdrowe, ale tylko $6$ spośród $20$ z wynikiem \"szalony\" jest uznanych za \"szalonych\".\n",
    "\n",
    "<table>\n",
    "  <tr>\n",
    "    <th></th>\n",
    "    <td>Sane by expert</td> \n",
    "    <td>Insane by expert</td>\n",
    "    <td>Total</td>\n",
    "  </tr>\n",
    "  <tr>\n",
    "    <td>Sane</td>\n",
    "    <td>19</td>\n",
    "    <td>1</td>\n",
    "    <td>20</td>\n",
    "  </tr>\n",
    "  <tr>\n",
    "    <td>Insane</td>\n",
    "    <td>6</td>\n",
    "    <td>14</td>\n",
    "    <td>20</td>\n",
    "  </tr>\n",
    "  <tr>\n",
    "    <td>Total</td>\n",
    "    <td>22</td>\n",
    "    <td>18</td>\n",
    "    <td>40</td>\n",
    "  </tr>\n",
    "</table>   \n",
    "\n",
    "- Czy ten wynik jest znacząco różny od kwestionariusza? \n",
    "- Czy wynik byłby znacząco różny, gdyby ekspert orzekł że 20 a nie 19 ludzi z wynikiem \"zdrowy\" są naprawdę zdrowi.\n"
   ]
  },
  {
   "cell_type": "markdown",
   "metadata": {},
   "source": [
    "## Wykonujemy test"
   ]
  },
  {
   "cell_type": "code",
   "execution_count": 1,
   "metadata": {
    "collapsed": true
   },
   "outputs": [],
   "source": [
    "import numpy as np\n",
    "import pandas as pd\n",
    "from scipy import stats\n",
    "from statsmodels.sandbox.stats.runs import mcnemar"
   ]
  },
  {
   "cell_type": "code",
   "execution_count": 3,
   "metadata": {},
   "outputs": [
    {
     "name": "stdout",
     "output_type": "stream",
     "text": [
      "\n",
      "--- McNemar Test ---\n",
      "The results from the neurologist are NOT significanlty different from the questionnaire (p=0.125).\n",
      "The results would change if the expert had diagnosed all \"sane\" people correctly.\n"
     ]
    }
   ],
   "source": [
    "obs = [[19,1], [6, 14]]\n",
    "obs2 = [[20,0], [6, 14]]\n",
    "\n",
    "_, p = mcnemar(obs)\n",
    "_, p2 = mcnemar(obs2)\n",
    "\n",
    "print('\\n--- McNemar Test ---')\n",
    "if p < 0.05:\n",
    "    print('The results from the neurologist are significanlty different from the questionnaire (p={0:5.3f}).'.format(p))\n",
    "else:\n",
    "    print('The results from the neurologist are NOT significanlty different from the questionnaire (p={0:5.3f}).'.format(p))\n",
    "    \n",
    "if (p<0.05 == p2<0.05):\n",
    "    print('The results would NOT change if the expert had diagnosed all \"sane\" people correctly.')\n",
    "else:\n",
    "    print('The results would change if the expert had diagnosed all \"sane\" people correctly.')"
   ]
  },
  {
   "cell_type": "code",
   "execution_count": null,
   "metadata": {
    "collapsed": true
   },
   "outputs": [],
   "source": []
  }
 ],
 "metadata": {
  "kernelspec": {
   "display_name": "Python 3",
   "language": "python",
   "name": "python3"
  },
  "language_info": {
   "codemirror_mode": {
    "name": "ipython",
    "version": 3
   },
   "file_extension": ".py",
   "mimetype": "text/x-python",
   "name": "python",
   "nbconvert_exporter": "python",
   "pygments_lexer": "ipython3",
   "version": "3.6.3"
  }
 },
 "nbformat": 4,
 "nbformat_minor": 2
}
