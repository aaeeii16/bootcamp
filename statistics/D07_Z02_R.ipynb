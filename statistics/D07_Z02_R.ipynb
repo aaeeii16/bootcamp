{
 "cells": [
  {
   "cell_type": "code",
   "execution_count": 4,
   "metadata": {},
   "outputs": [],
   "source": [
    "import numpy as np\n",
    "import matplotlib.pyplot as plt\n",
    "import scipy.stats as stats\n",
    "import pandas as pd\n",
    "# additional packages\n",
    "from statsmodels.stats.diagnostic import lilliefors"
   ]
  },
  {
   "cell_type": "markdown",
   "metadata": {},
   "source": [
    "# Badanie założenia o normalności rozkładu"
   ]
  },
  {
   "cell_type": "markdown",
   "metadata": {},
   "source": [
    "Wylosujmy próbki z rozkładu normalnego, jednostajnego i t-studenta, a następnie sprawdźmy jak zadziałają testy na tych próbkach."
   ]
  },
  {
   "cell_type": "code",
   "execution_count": 5,
   "metadata": {},
   "outputs": [],
   "source": [
    "n=1000\n",
    "ud=stats.uniform(-1,2)\n",
    "nd=stats.norm()\n",
    "td=stats.t(7)\n",
    "data_u=ud.rvs(n)\n",
    "data_n=nd.rvs(n)\n",
    "data_t=td.rvs(n)\n",
    "fewData_u = data_u[:100]\n",
    "fewData_n = data_n[:100]\n",
    "fewData_t = data_t[:100]"
   ]
  },
  {
   "cell_type": "code",
   "execution_count": 3,
   "metadata": {},
   "outputs": [
    {
     "name": "stdout",
     "output_type": "stream",
     "text": [
      "p-values for all 1000 data points: ----------------\n",
      "Omnibus               3.751512e-181\n",
      "Shapiro-Wilk           2.042336e-17\n",
      "Lilliefors             1.363065e-11\n",
      "Kolmogorov-Smirnov     2.103390e-04\n",
      "dtype: float64\n",
      "p-values for the first 100 data points: ----------------\n",
      "Omnibus               0.000001\n",
      "Shapiro-Wilk          0.002761\n",
      "Lilliefors            0.070869\n",
      "Kolmogorov-Smirnov    0.443667\n",
      "dtype: float64\n"
     ]
    },
    {
     "name": "stderr",
     "output_type": "stream",
     "text": [
      "C:\\Users\\admin\\anaconda3\\lib\\site-packages\\ipykernel_launcher.py:4: DeprecationWarning: The default dtype for empty Series will be 'object' instead of 'float64' in a future version. Specify a dtype explicitly to silence this warning.\n",
      "  after removing the cwd from sys.path.\n",
      "C:\\Users\\admin\\anaconda3\\lib\\site-packages\\ipykernel_launcher.py:5: DeprecationWarning: The default dtype for empty Series will be 'object' instead of 'float64' in a future version. Specify a dtype explicitly to silence this warning.\n",
      "  \"\"\"\n",
      "C:\\Users\\admin\\anaconda3\\lib\\site-packages\\statsmodels\\stats\\_lilliefors.py:272: FutureWarning: The default pvalmethod will change from \"approx\" to \"table\" after 0.11. The \"table\" method uses values from a very large simulation and is more accurate.  Explicitly set this parameter to \"approx\" or \"table\" to silence this warning\n",
      "  warnings.warn(msg, FutureWarning)\n"
     ]
    }
   ],
   "source": [
    "data = data_u\n",
    "fewData = fewData_u\n",
    "\n",
    "pVals = pd.Series()\n",
    "pFewVals = pd.Series()\n",
    "# The scipy normaltest is based on D-Agostino and Pearsons test that\n",
    "# combines skew and kurtosis to produce an omnibus test of normality.\n",
    "_, pVals['Omnibus']    = stats.normaltest(data)\n",
    "_, pFewVals['Omnibus'] = stats.normaltest(fewData)\n",
    "\n",
    "# Shapiro-Wilk test\n",
    "_, pVals['Shapiro-Wilk']    = stats.shapiro(data)\n",
    "_, pFewVals['Shapiro-Wilk'] = stats.shapiro(fewData)\n",
    "\n",
    "# Or you can check for normality with Lilliefors-test\n",
    "_, pVals['Lilliefors']    = lilliefors(data)\n",
    "_, pFewVals['Lilliefors'] = lilliefors(fewData)\n",
    "\n",
    "# Alternatively with original Kolmogorov-Smirnov test\n",
    "_, pVals['Kolmogorov-Smirnov']    = stats.kstest((data-np.mean(data))/np.std(data,ddof=1), 'norm')\n",
    "_, pFewVals['Kolmogorov-Smirnov'] = stats.kstest((fewData-np.mean(fewData))/np.std(fewData,ddof=1), 'norm')\n",
    "\n",
    "print('p-values for all {0} data points: ----------------'.format(len(data)))\n",
    "print(pVals)\n",
    "print('p-values for the first 100 data points: ----------------')\n",
    "print(pFewVals)\n",
    "\n",
    "if pVals['Omnibus'] > 0.05:\n",
    "    print('Data are normally distributed')"
   ]
  },
  {
   "cell_type": "code",
   "execution_count": 11,
   "metadata": {},
   "outputs": [
    {
     "name": "stdout",
     "output_type": "stream",
     "text": [
      "p-values for all 1000 data points: ----------------\n",
      "Omnibus               0.000228\n",
      "Shapiro-Wilk          0.002206\n",
      "Lilliefors            0.213919\n",
      "Kolmogorov-Smirnov    0.589189\n",
      "dtype: float64\n",
      "p-values for the first 100 data points: ----------------\n",
      "Omnibus               0.226711\n",
      "Shapiro-Wilk          0.404436\n",
      "Lilliefors            0.634908\n",
      "Kolmogorov-Smirnov    0.919067\n",
      "dtype: float64\n"
     ]
    },
    {
     "name": "stderr",
     "output_type": "stream",
     "text": [
      "C:\\Users\\admin\\anaconda3\\lib\\site-packages\\ipykernel_launcher.py:4: DeprecationWarning: The default dtype for empty Series will be 'object' instead of 'float64' in a future version. Specify a dtype explicitly to silence this warning.\n",
      "  after removing the cwd from sys.path.\n",
      "C:\\Users\\admin\\anaconda3\\lib\\site-packages\\ipykernel_launcher.py:5: DeprecationWarning: The default dtype for empty Series will be 'object' instead of 'float64' in a future version. Specify a dtype explicitly to silence this warning.\n",
      "  \"\"\"\n"
     ]
    }
   ],
   "source": [
    "data = data_t\n",
    "fewData = fewData_t\n",
    "\n",
    "pVals = pd.Series()\n",
    "pFewVals = pd.Series()\n",
    "# The scipy normaltest is based on D-Agostino and Pearsons test that\n",
    "# combines skew and kurtosis to produce an omnibus test of normality.\n",
    "_, pVals['Omnibus']    = stats.normaltest(data)\n",
    "_, pFewVals['Omnibus'] = stats.normaltest(fewData)\n",
    "\n",
    "# Shapiro-Wilk test\n",
    "_, pVals['Shapiro-Wilk']    = stats.shapiro(data)\n",
    "_, pFewVals['Shapiro-Wilk'] = stats.shapiro(fewData)\n",
    "\n",
    "# Or you can check for normality with Lilliefors-test\n",
    "_, pVals['Lilliefors']    = lilliefors(data)\n",
    "_, pFewVals['Lilliefors'] = lilliefors(fewData)\n",
    "\n",
    "# Alternatively with original Kolmogorov-Smirnov test\n",
    "_, pVals['Kolmogorov-Smirnov']    = stats.kstest((data-np.mean(data))/np.std(data,ddof=1), 'norm')\n",
    "_, pFewVals['Kolmogorov-Smirnov'] = stats.kstest((fewData-np.mean(fewData))/np.std(fewData,ddof=1), 'norm')\n",
    "\n",
    "print('p-values for all {0} data points: ----------------'.format(len(data)))\n",
    "print(pVals)\n",
    "print('p-values for the first 100 data points: ----------------')\n",
    "print(pFewVals)\n",
    "\n",
    "if pVals['Omnibus'] > 0.05:\n",
    "    print('Data are normally distributed')"
   ]
  },
  {
   "cell_type": "code",
   "execution_count": 13,
   "metadata": {},
   "outputs": [
    {
     "name": "stdout",
     "output_type": "stream",
     "text": [
      "p-values for all 1000 data points: ----------------\n",
      "Omnibus               0.688842\n",
      "Shapiro-Wilk          0.566532\n",
      "Lilliefors            0.605827\n",
      "Kolmogorov-Smirnov    0.869534\n",
      "dtype: float64\n",
      "p-values for the first 100 data points: ----------------\n",
      "Omnibus               0.484472\n",
      "Shapiro-Wilk          0.150856\n",
      "Lilliefors            0.416973\n",
      "Kolmogorov-Smirnov    0.812971\n",
      "dtype: float64\n",
      "Data are normally distributed\n"
     ]
    },
    {
     "name": "stderr",
     "output_type": "stream",
     "text": [
      "C:\\Users\\admin\\anaconda3\\lib\\site-packages\\ipykernel_launcher.py:4: DeprecationWarning: The default dtype for empty Series will be 'object' instead of 'float64' in a future version. Specify a dtype explicitly to silence this warning.\n",
      "  after removing the cwd from sys.path.\n",
      "C:\\Users\\admin\\anaconda3\\lib\\site-packages\\ipykernel_launcher.py:5: DeprecationWarning: The default dtype for empty Series will be 'object' instead of 'float64' in a future version. Specify a dtype explicitly to silence this warning.\n",
      "  \"\"\"\n"
     ]
    }
   ],
   "source": [
    "data = data_n\n",
    "fewData = fewData_n\n",
    "\n",
    "pVals = pd.Series()\n",
    "pFewVals = pd.Series()\n",
    "# The scipy normaltest is based on D-Agostino and Pearsons test that\n",
    "# combines skew and kurtosis to produce an omnibus test of normality.\n",
    "_, pVals['Omnibus']    = stats.normaltest(data)\n",
    "_, pFewVals['Omnibus'] = stats.normaltest(fewData)\n",
    "\n",
    "# Shapiro-Wilk test\n",
    "_, pVals['Shapiro-Wilk']    = stats.shapiro(data)\n",
    "_, pFewVals['Shapiro-Wilk'] = stats.shapiro(fewData)\n",
    "\n",
    "# Or you can check for normality with Lilliefors-test\n",
    "_, pVals['Lilliefors']    = lilliefors(data)\n",
    "_, pFewVals['Lilliefors'] = lilliefors(fewData)\n",
    "\n",
    "# Alternatively with original Kolmogorov-Smirnov test\n",
    "_, pVals['Kolmogorov-Smirnov']    = stats.kstest((data-np.mean(data))/np.std(data,ddof=1), 'norm')\n",
    "_, pFewVals['Kolmogorov-Smirnov'] = stats.kstest((fewData-np.mean(fewData))/np.std(fewData,ddof=1), 'norm')\n",
    "\n",
    "print('p-values for all {0} data points: ----------------'.format(len(data)))\n",
    "print(pVals)\n",
    "print('p-values for the first 100 data points: ----------------')\n",
    "print(pFewVals)\n",
    "\n",
    "if pVals['Omnibus'] > 0.05:\n",
    "    print('Data are normally distributed')"
   ]
  },
  {
   "cell_type": "code",
   "execution_count": 16,
   "metadata": {},
   "outputs": [],
   "source": [
    "pass_n = 0\n",
    "pass_u = 0\n",
    "pass_t = 0\n",
    "\n",
    "for i in np.arange(100):\n",
    "    n=100\n",
    "    ud=stats.uniform(-1,2)\n",
    "    nd=stats.norm()\n",
    "    td=stats.t(7)\n",
    "    data_u=ud.rvs(n)\n",
    "    data_n=nd.rvs(n)\n",
    "    data_t=td.rvs(n)\n",
    "    _, p = lilliefors(data_u)\n",
    "    if( p > 0.05 ):\n",
    "        pass_u = pass_u +1\n",
    "    _, p = lilliefors(data_t)\n",
    "    if( p > 0.05 ):\n",
    "        pass_t = pass_t +1\n",
    "    _, p = lilliefors(data_n)\n",
    "    if( p > 0.05 ):\n",
    "        pass_n = pass_n +1   \n",
    "        \n",
    "print(\"pass u\", pass_u)\n",
    "print(\"pass n\", pass_n)\n",
    "print(\"pass t\", pass_t)        "
   ]
  },
  {
   "cell_type": "code",
   "execution_count": 17,
   "metadata": {},
   "outputs": [
    {
     "name": "stdout",
     "output_type": "stream",
     "text": [
      "pass u 40\n",
      "pass n 96\n",
      "pass t 77\n"
     ]
    }
   ],
   "source": []
  },
  {
   "cell_type": "code",
   "execution_count": null,
   "metadata": {},
   "outputs": [],
   "source": []
  },
  {
   "cell_type": "code",
   "execution_count": null,
   "metadata": {},
   "outputs": [],
   "source": []
  },
  {
   "cell_type": "code",
   "execution_count": null,
   "metadata": {},
   "outputs": [],
   "source": []
  },
  {
   "cell_type": "code",
   "execution_count": null,
   "metadata": {},
   "outputs": [],
   "source": []
  },
  {
   "cell_type": "code",
   "execution_count": null,
   "metadata": {},
   "outputs": [],
   "source": []
  },
  {
   "cell_type": "code",
   "execution_count": null,
   "metadata": {},
   "outputs": [],
   "source": []
  },
  {
   "cell_type": "markdown",
   "metadata": {},
   "source": [
    "# Zadanie\n",
    "Wylosujmy po 100 próbek z rozkładu normalnego, jednostajnego i t-studenta zawierających 1000 punktów, a następnie sprawdźmy na ilu z nich testy normalności się pomylą.\n",
    "\n",
    "Wykonaj analogiczne zadanie dla 100 próbek o liczności 100."
   ]
  },
  {
   "cell_type": "code",
   "execution_count": 24,
   "metadata": {},
   "outputs": [],
   "source": [
    "pass_u = 0\n",
    "pass_n = 0\n",
    "pass_t = 0\n",
    "\n",
    "for i in range(100):\n",
    "    n=1000\n",
    "    ud=stats.uniform(-1,2)\n",
    "    nd=stats.norm()\n",
    "    td=stats.t(7)\n",
    "    data_u=ud.rvs(n)\n",
    "    data_n=nd.rvs(n)\n",
    "    data_t=td.rvs(n)\n",
    "    _, pVals_t    = lilliefors(data_t)\n",
    "    _, pVals_n    = lilliefors(data_n)\n",
    "    _, pVals_u    = lilliefors(data_u)   \n",
    "    if pVals_t > 0.05:\n",
    "        pass_t = pass_t + 1\n",
    "    if pVals_n > 0.05:\n",
    "        pass_n = pass_n + 1\n",
    "    if pVals_u > 0.05:\n",
    "        pass_u = pass_u + 1        "
   ]
  },
  {
   "cell_type": "code",
   "execution_count": 25,
   "metadata": {},
   "outputs": [
    {
     "name": "stdout",
     "output_type": "stream",
     "text": [
      "Normal test pass for t-test data 12\n",
      "Normal test pass for normal data 98\n",
      "Normal test pass for uniform data 0\n"
     ]
    }
   ],
   "source": [
    "print(\"Normal test pass for t-test data\", pass_t)\n",
    "print(\"Normal test pass for normal data\", pass_n)\n",
    "print(\"Normal test pass for uniform data\", pass_u)"
   ]
  },
  {
   "cell_type": "code",
   "execution_count": 21,
   "metadata": {},
   "outputs": [],
   "source": [
    "pass_u = 0\n",
    "pass_n = 0\n",
    "pass_t = 0\n",
    "\n",
    "for i in range(100):\n",
    "    n=10\n",
    "    ud=stats.uniform(-1,2)\n",
    "    nd=stats.norm()\n",
    "    td=stats.t(7)\n",
    "    data_u=ud.rvs(n)\n",
    "    data_n=nd.rvs(n)\n",
    "    data_t=td.rvs(n)\n",
    "    _, pVals_t    = stats.kstest((data_t-np.mean(data_t))/np.std(data_t,ddof=1), 'norm')\n",
    "    _, pVals_n    = stats.kstest((data_n-np.mean(data_n))/np.std(data_n,ddof=1), 'norm')\n",
    "    _, pVals_u    = stats.kstest((data_u-np.mean(data_u))/np.std(data_u,ddof=1), 'norm')   \n",
    "    if pVals_t > 0.05:\n",
    "        pass_t = pass_t + 1\n",
    "    if pVals_n > 0.05:\n",
    "        pass_n = pass_n + 1\n",
    "    if pVals_u > 0.05:\n",
    "        pass_u = pass_u + 1        "
   ]
  },
  {
   "cell_type": "code",
   "execution_count": 19,
   "metadata": {},
   "outputs": [
    {
     "name": "stdout",
     "output_type": "stream",
     "text": [
      "Normal test pass for t-test data 99\n",
      "Normal test pass for normal data 100\n",
      "Normal test pass for uniform data 99\n"
     ]
    }
   ],
   "source": [
    "print(\"Normal test pass for t-test data\", pass_t)\n",
    "print(\"Normal test pass for normal data\", pass_n)\n",
    "print(\"Normal test pass for uniform data\", pass_u)"
   ]
  },
  {
   "cell_type": "code",
   "execution_count": null,
   "metadata": {},
   "outputs": [],
   "source": []
  },
  {
   "cell_type": "code",
   "execution_count": null,
   "metadata": {},
   "outputs": [],
   "source": []
  },
  {
   "cell_type": "code",
   "execution_count": null,
   "metadata": {},
   "outputs": [],
   "source": []
  },
  {
   "cell_type": "code",
   "execution_count": null,
   "metadata": {},
   "outputs": [],
   "source": []
  },
  {
   "cell_type": "code",
   "execution_count": null,
   "metadata": {},
   "outputs": [],
   "source": []
  },
  {
   "cell_type": "code",
   "execution_count": 4,
   "metadata": {},
   "outputs": [
    {
     "name": "stderr",
     "output_type": "stream",
     "text": [
      "C:\\Users\\admin\\anaconda3\\lib\\site-packages\\statsmodels\\stats\\_lilliefors.py:272: FutureWarning: The default pvalmethod will change from \"approx\" to \"table\" after 0.11. The \"table\" method uses values from a very large simulation and is more accurate.  Explicitly set this parameter to \"approx\" or \"table\" to silence this warning\n",
      "  warnings.warn(msg, FutureWarning)\n"
     ]
    },
    {
     "name": "stdout",
     "output_type": "stream",
     "text": [
      "Omnibus 0\n",
      "Lilliefors 36\n",
      "Kolmogorov-Smirnov 99\n",
      "Shapiro-Wilk 0\n"
     ]
    }
   ],
   "source": [
    "n=100\n",
    "count_o = 0;\n",
    "count_l = 0;\n",
    "count_k = 0;\n",
    "count_s = 0;\n",
    "for i in range(100):\n",
    "    nd=stats.uniform(-1,2)\n",
    "#     nd=stats.norm()\n",
    "    data_n=nd.rvs(n)\n",
    "    _, p_o = stats.normaltest(data_n)\n",
    "    _, p_l = lilliefors(data_n)\n",
    "    _, p_k = stats.kstest((data_n-np.mean(data_n))/np.std(data_n,ddof=1), 'norm')\n",
    "    _, p_s = stats.shapiro(data_n)\n",
    "    if( p_o > 0.05 ):\n",
    "        count_o = count_o + 1\n",
    "    if( p_l > 0.05 ):\n",
    "        count_l = count_l + 1\n",
    "    if( p_k > 0.05 ):\n",
    "        count_k = count_k + 1\n",
    "    if( p_s > 0.05 ):\n",
    "        count_s = count_s + 1\n",
    "        \n",
    "print('Omnibus ' + str(count_o))  \n",
    "print('Lilliefors ' + str(count_l))\n",
    "print('Kolmogorov-Smirnov ' + str(count_k))\n",
    "print('Shapiro-Wilk ' + str(count_s))"
   ]
  },
  {
   "cell_type": "code",
   "execution_count": null,
   "metadata": {},
   "outputs": [],
   "source": []
  },
  {
   "cell_type": "code",
   "execution_count": null,
   "metadata": {},
   "outputs": [],
   "source": []
  },
  {
   "cell_type": "code",
   "execution_count": 5,
   "metadata": {},
   "outputs": [
    {
     "data": {
      "text/plain": [
       "(506, 13)"
      ]
     },
     "execution_count": 5,
     "metadata": {},
     "output_type": "execute_result"
    }
   ],
   "source": [
    "from sklearn import datasets\n",
    "boston = datasets.load_boston()\n",
    "data=boston.data[:,0]\n",
    "boston.data.shape"
   ]
  },
  {
   "cell_type": "code",
   "execution_count": 32,
   "metadata": {},
   "outputs": [
    {
     "name": "stdout",
     "output_type": "stream",
     "text": [
      "p-values for all 506 data points: ----------------\n",
      "Omnibus               5.902608e-09\n",
      "Shapiro-Wilk          2.411160e-10\n",
      "Lilliefors            1.252791e-08\n",
      "Kolmogorov-Smirnov    2.111545e-03\n",
      "dtype: float64\n"
     ]
    },
    {
     "name": "stderr",
     "output_type": "stream",
     "text": [
      "C:\\Users\\admin\\Anaconda3\\lib\\site-packages\\ipykernel_launcher.py:14: DeprecationWarning: `lillifors` is deprecated, use `lilliefors` instead!\n",
      "Use lilliefors, lillifors will be removed in 0.9 \n",
      "(Note: misspelling missing 'e')\n",
      "  \n"
     ]
    }
   ],
   "source": [
    "data = boston.data[:,5]\n",
    "\n",
    "\n",
    "pVals = pd.Series()\n",
    "pFewVals = pd.Series()\n",
    "# The scipy normaltest is based on D-Agostino and Pearsons test that\n",
    "# combines skew and kurtosis to produce an omnibus test of normality.\n",
    "_, pVals['Omnibus']    = stats.normaltest(data)\n",
    "\n",
    "# Shapiro-Wilk test\n",
    "_, pVals['Shapiro-Wilk']    = stats.shapiro(data)\n",
    "\n",
    "# Or you can check for normality with Lilliefors-test\n",
    "_, pVals['Lilliefors']    = lillifors(data)\n",
    "\n",
    "# Alternatively with original Kolmogorov-Smirnov test\n",
    "_, pVals['Kolmogorov-Smirnov']    = stats.kstest((data-np.mean(data))/np.std(data,ddof=1), 'norm')\n",
    "\n",
    "print('p-values for all {0} data points: ----------------'.format(len(data)))\n",
    "print(pVals)\n",
    "\n",
    "if pVals['Omnibus'] > 0.05:\n",
    "    print('Data are normally distributed')"
   ]
  },
  {
   "cell_type": "code",
   "execution_count": null,
   "metadata": {
    "collapsed": true
   },
   "outputs": [],
   "source": []
  },
  {
   "cell_type": "code",
   "execution_count": 24,
   "metadata": {},
   "outputs": [
    {
     "name": "stdout",
     "output_type": "stream",
     "text": [
      "Pass n 97\n",
      "Pass u 92\n",
      "Pass t 92\n"
     ]
    }
   ],
   "source": [
    "pass_n = 0\n",
    "pass_u = 0\n",
    "pass_t = 0\n",
    "\n",
    "for i in np.arange(100):\n",
    "    n=10\n",
    "    ud=stats.uniform(-1,2)\n",
    "    nd=stats.norm()\n",
    "    td=stats.t(7)\n",
    "    data_u=ud.rvs(n)\n",
    "    data_n=nd.rvs(n)\n",
    "    data_t=td.rvs(n)\n",
    "    \n",
    "    _, pval = lilliefors(data_n)\n",
    "    if pval > 0.05:\n",
    "        pass_n = pass_n +1  \n",
    "    _, pval = lilliefors(data_u)\n",
    "    if pval > 0.05:\n",
    "        pass_u = pass_u +1    \n",
    "    _, pval = lilliefors(data_t)\n",
    "    if pval > 0.05:\n",
    "        pass_t = pass_t +1        \n",
    "print(\"Pass n\", pass_n)\n",
    "print(\"Pass u\", pass_u)\n",
    "print(\"Pass t\", pass_t)"
   ]
  },
  {
   "cell_type": "code",
   "execution_count": null,
   "metadata": {
    "collapsed": true
   },
   "outputs": [],
   "source": []
  },
  {
   "cell_type": "code",
   "execution_count": 21,
   "metadata": {},
   "outputs": [
    {
     "name": "stdout",
     "output_type": "stream",
     "text": [
      "Pass n 100\n",
      "Pass u 99\n",
      "Pass t 100\n"
     ]
    }
   ],
   "source": [
    "pass_n = 0\n",
    "pass_u = 0\n",
    "pass_t = 0\n",
    "\n",
    "for i in np.arange(100):\n",
    "    n=100\n",
    "    ud=stats.uniform(-1,2)\n",
    "    nd=stats.norm()\n",
    "    td=stats.t(7)\n",
    "    data_u=ud.rvs(n)\n",
    "    data_n=nd.rvs(n)\n",
    "    data_t=td.rvs(n)\n",
    "    \n",
    "    _, pval = stats.kstest((data_n-np.mean(data_n))/np.std(data_n,ddof=1), 'norm')\n",
    "    if pval > 0.05:\n",
    "        pass_n = pass_n +1  \n",
    "    _, pval = stats.kstest((data_u-np.mean(data_u))/np.std(data_u,ddof=1), 'norm')\n",
    "    if pval > 0.05:\n",
    "        pass_u = pass_u +1    \n",
    "    _, pval = stats.kstest((data_t-np.mean(data_t))/np.std(data_t,ddof=1), 'norm')\n",
    "    if pval > 0.05:\n",
    "        pass_t = pass_t +1        \n",
    "print(\"Pass n\", pass_n)\n",
    "print(\"Pass u\", pass_u)\n",
    "print(\"Pass t\", pass_t)"
   ]
  },
  {
   "cell_type": "code",
   "execution_count": null,
   "metadata": {},
   "outputs": [],
   "source": []
  },
  {
   "cell_type": "code",
   "execution_count": null,
   "metadata": {},
   "outputs": [],
   "source": []
  },
  {
   "cell_type": "code",
   "execution_count": null,
   "metadata": {},
   "outputs": [],
   "source": []
  }
 ],
 "metadata": {
  "kernelspec": {
   "display_name": "Python 3",
   "language": "python",
   "name": "python3"
  },
  "language_info": {
   "codemirror_mode": {
    "name": "ipython",
    "version": 3
   },
   "file_extension": ".py",
   "mimetype": "text/x-python",
   "name": "python",
   "nbconvert_exporter": "python",
   "pygments_lexer": "ipython3",
   "version": "3.7.6"
  }
 },
 "nbformat": 4,
 "nbformat_minor": 2
}
