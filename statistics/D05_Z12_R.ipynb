{
 "cells": [
  {
   "cell_type": "markdown",
   "metadata": {},
   "source": [
    "# Zadanie\n",
    "Otrzymano następujące wyniki pomiarów grubości (w mm) 10 losowo wylosowanych detali wyprodukowanych przez zakupiony agregat: 2.01, 1.94, 1.94, 2.12, 1.96, 2.03, 1.91, 1.98, 1.97, 2.08. Zakładamy, że rozkład grubości detalu jest normalny. Na poziomie ufności 0.95 podać przedział ufności dla średniej grubości detalu."
   ]
  },
  {
   "cell_type": "code",
   "execution_count": 2,
   "metadata": {},
   "outputs": [],
   "source": [
    "import matplotlib.pyplot as plt\n",
    "import numpy as np\n",
    "from scipy import stats\n",
    "from scipy import integrate"
   ]
  },
  {
   "cell_type": "code",
   "execution_count": 3,
   "metadata": {},
   "outputs": [
    {
     "name": "stdout",
     "output_type": "stream",
     "text": [
      "Średnia artymetyczna: 1.9939999999999998\n",
      "Odchylenie standardowe: 0.06636598861197239\n",
      "Przedział ufnośći na poziomie ufności 0.99: (1.9465246317260556, 2.041475368273944)\n"
     ]
    }
   ],
   "source": [
    "X = np.array([2.01, 1.94, 1.94, 2.12, 1.96, 2.03, 1.91, 1.98, 1.97, 2.08])\n",
    "X_mean = np.mean(X)\n",
    "print(\"Średnia artymetyczna: {}\".format(X_mean))\n",
    "X_std = np.std(X, ddof=1)\n",
    "print(\"Odchylenie standardowe: {}\".format(X_std))\n",
    "\n",
    "n = X.size\n",
    "alpha = 0.05\n",
    "t = stats.t.ppf(q=1-alpha/2, df=n-1)\n",
    "\n",
    "interval = (X_mean - t * X_std / np.sqrt(n), X_mean + t * X_std / np.sqrt(n))\n",
    "print(\"Przedział ufnośći na poziomie ufności 0.99: {}\".format(interval))"
   ]
  },
  {
   "cell_type": "code",
   "execution_count": null,
   "metadata": {},
   "outputs": [],
   "source": []
  }
 ],
 "metadata": {
  "kernelspec": {
   "display_name": "Python 3",
   "language": "python",
   "name": "python3"
  },
  "language_info": {
   "codemirror_mode": {
    "name": "ipython",
    "version": 3
   },
   "file_extension": ".py",
   "mimetype": "text/x-python",
   "name": "python",
   "nbconvert_exporter": "python",
   "pygments_lexer": "ipython3",
   "version": "3.7.3"
  }
 },
 "nbformat": 4,
 "nbformat_minor": 4
}
