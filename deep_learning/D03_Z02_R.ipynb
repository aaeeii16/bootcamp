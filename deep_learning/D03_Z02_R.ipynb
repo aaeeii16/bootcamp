{
 "cells": [
  {
   "cell_type": "code",
   "execution_count": 47,
   "metadata": {},
   "outputs": [],
   "source": [
    "import matplotlib.pyplot as plt\n",
    "import os\n",
    "import sys\n",
    "import numpy as np\n",
    "\n",
    "from keras.models import Sequential\n",
    "from keras.layers import Dense\n",
    "from keras.callbacks import LearningRateScheduler\n",
    "from keras.callbacks import ModelCheckpoint\n",
    "from keras.callbacks import EarlyStopping\n",
    "from keras.layers import Dropout\n",
    "from keras.layers import BatchNormalization\n",
    "from keras.layers import Activation\n",
    "from keras.layers import Flatten\n",
    "from keras.layers.convolutional import Conv2D, MaxPooling2D, AveragePooling2D\n",
    "from keras.layers import Dense, Dropout, Embedding, SimpleRNN, LSTM, Bidirectional\n",
    "from keras.preprocessing.text import Tokenizer\n",
    "from keras.preprocessing.sequence import pad_sequences\n",
    "from keras.callbacks import History\n",
    "\n",
    "\n"
   ]
  },
  {
   "cell_type": "markdown",
   "metadata": {},
   "source": [
    "The Embedding layer is defined as the first hidden layer of a network. It must specify 3 arguments:\n",
    "\n",
    "It must specify 3 arguments:\n",
    "\n",
    "* **input_dim**: This is the size of the vocabulary in the text data. For example, if your data is integer encoded to values between 0-10, then the size of the vocabulary would be 11 words.\n",
    "* **output_dim**: This is the size of the vector space in which words will be embedded. It defines the size of the output vectors from this layer for each word. For example, it could be 32 or 100 or even larger. Test different values for your problem.\n",
    "* **input_length**: This is the length of input sequences, as you would define for any input layer of a Keras model. For example, if all of your input documents are comprised of 1000 words, this would be 1000.\n",
    "\n",
    "# Zad. \n",
    "Podążamy za stroną: \n",
    "\n",
    "https://machinelearningmastery.com/use-word-embedding-layers-deep-learning-keras/\n",
    "\n",
    "mamy jakiś zbiór tekstów:"
   ]
  },
  {
   "cell_type": "code",
   "execution_count": 48,
   "metadata": {},
   "outputs": [],
   "source": [
    "# define documents\n",
    "docs = ['Well done!',\n",
    "    'Good work',\n",
    "    'Great effort',\n",
    "    'nice work',\n",
    "    'Excellent!',\n",
    "    'Weak',\n",
    "    'Poor effort!',\n",
    "    'not good',\n",
    "    'poor work',\n",
    "    'Could have done better.']\n",
    "# define class labels\n",
    "labels = np.array([1,1,1,1,1,0,0,0,0,0])"
   ]
  },
  {
   "cell_type": "markdown",
   "metadata": {},
   "source": [
    "* Do warstwy **Embedding layer** wchodzi sekwencja intów.\n",
    "\n",
    "* my wykorzystamy reprezenatację Bag of Words"
   ]
  },
  {
   "cell_type": "code",
   "execution_count": 49,
   "metadata": {},
   "outputs": [
    {
     "name": "stdout",
     "output_type": "stream",
     "text": [
      "[[12, 46], [2, 41], [28, 38], [31, 41], [26], [26], [2, 38], [40, 2], [2, 41], [49, 17, 46, 49]]\n"
     ]
    }
   ],
   "source": [
    "from keras.preprocessing.text import one_hot\n",
    "vocab_size = 50\n",
    "encoded_docs = [one_hot(d, vocab_size) for d in docs]\n",
    "print(encoded_docs)"
   ]
  },
  {
   "cell_type": "markdown",
   "metadata": {},
   "source": [
    "Sekwencje mają różne długości, a Keras wymaga aby wejścia były równej długość."
   ]
  },
  {
   "cell_type": "code",
   "execution_count": 50,
   "metadata": {},
   "outputs": [
    {
     "name": "stdout",
     "output_type": "stream",
     "text": [
      "[[12 46  0  0]\n",
      " [ 2 41  0  0]\n",
      " [28 38  0  0]\n",
      " [31 41  0  0]\n",
      " [26  0  0  0]\n",
      " [26  0  0  0]\n",
      " [ 2 38  0  0]\n",
      " [40  2  0  0]\n",
      " [ 2 41  0  0]\n",
      " [49 17 46 49]]\n"
     ]
    }
   ],
   "source": [
    "from keras.preprocessing.sequence import pad_sequences\n",
    "# pad documents to a max length of 4 words\n",
    "max_length = 4\n",
    "padded_docs = pad_sequences(encoded_docs, maxlen=max_length, padding='post')\n",
    "print(padded_docs)"
   ]
  },
  {
   "cell_type": "markdown",
   "metadata": {},
   "source": [
    "* Embeding ma rakres 50 i długość wejściową 4. Zmniejszmy embending do wymiaru 8.\n",
    "* Model jest prostym klasyfikatorem binarnym. \n",
    "* Co ważne, wynik z warstwy Embeding będzie wynosił 4 wektory o 8 wymiarach każdy, po jednym dla każdego słowa. \n",
    "* Spłaszczamy to do jednego 32-elementowego wektora, aby przejść do warstwy wyjściowej Dense."
   ]
  },
  {
   "cell_type": "code",
   "execution_count": 51,
   "metadata": {},
   "outputs": [
    {
     "name": "stdout",
     "output_type": "stream",
     "text": [
      "Model: \"sequential_8\"\n",
      "_________________________________________________________________\n",
      "Layer (type)                 Output Shape              Param #   \n",
      "=================================================================\n",
      "embedding_9 (Embedding)      (None, 4, 8)              400       \n",
      "_________________________________________________________________\n",
      "flatten_6 (Flatten)          (None, 32)                0         \n",
      "_________________________________________________________________\n",
      "dense_6 (Dense)              (None, 1)                 33        \n",
      "=================================================================\n",
      "Total params: 433\n",
      "Trainable params: 433\n",
      "Non-trainable params: 0\n",
      "_________________________________________________________________\n",
      "None\n",
      "Accuracy: 80.000001\n"
     ]
    }
   ],
   "source": [
    "history_1 = History()\n",
    "model = Sequential()\n",
    "model.add(Embedding(vocab_size, 8, input_length=max_length))\n",
    "model.add(Flatten())\n",
    "model.add(Dense(1, activation='sigmoid'))\n",
    "# compile the model\n",
    "model.compile(optimizer='adam', loss='binary_crossentropy', metrics=['accuracy'])\n",
    "# summarize the model\n",
    "print(model.summary())\n",
    "# fit the model\n",
    "model.fit(padded_docs, labels, epochs=50, verbose=0)\n",
    "# evaluate the model\n",
    "loss, accuracy = model.evaluate(padded_docs, labels, verbose=0)\n",
    "print('Accuracy: %f' % (accuracy*100))"
   ]
  },
  {
   "cell_type": "code",
   "execution_count": 55,
   "metadata": {},
   "outputs": [
    {
     "name": "stdout",
     "output_type": "stream",
     "text": [
      "Train on 9 samples, validate on 1 samples\n",
      "Epoch 1/100\n",
      "9/9 [==============================] - 0s 26ms/step - loss: 0.5526 - accuracy: 0.7778 - val_loss: 0.5826 - val_accuracy: 1.0000\n",
      "Epoch 2/100\n",
      "9/9 [==============================] - 0s 333us/step - loss: 0.5510 - accuracy: 0.7778 - val_loss: 0.5826 - val_accuracy: 1.0000\n",
      "Epoch 3/100\n",
      "9/9 [==============================] - 0s 334us/step - loss: 0.5495 - accuracy: 0.7778 - val_loss: 0.5826 - val_accuracy: 1.0000\n",
      "Epoch 4/100\n",
      "9/9 [==============================] - 0s 332us/step - loss: 0.5480 - accuracy: 0.7778 - val_loss: 0.5826 - val_accuracy: 1.0000\n",
      "Epoch 5/100\n",
      "9/9 [==============================] - 0s 444us/step - loss: 0.5465 - accuracy: 0.7778 - val_loss: 0.5826 - val_accuracy: 1.0000\n",
      "Epoch 6/100\n",
      "9/9 [==============================] - 0s 334us/step - loss: 0.5451 - accuracy: 0.7778 - val_loss: 0.5827 - val_accuracy: 1.0000\n",
      "Epoch 7/100\n",
      "9/9 [==============================] - 0s 446us/step - loss: 0.5436 - accuracy: 0.7778 - val_loss: 0.5827 - val_accuracy: 1.0000\n",
      "Epoch 8/100\n",
      "9/9 [==============================] - 0s 332us/step - loss: 0.5422 - accuracy: 0.7778 - val_loss: 0.5827 - val_accuracy: 1.0000\n",
      "Epoch 9/100\n",
      "9/9 [==============================] - 0s 332us/step - loss: 0.5409 - accuracy: 0.7778 - val_loss: 0.5827 - val_accuracy: 1.0000\n",
      "Epoch 10/100\n",
      "9/9 [==============================] - 0s 557us/step - loss: 0.5395 - accuracy: 0.7778 - val_loss: 0.5827 - val_accuracy: 1.0000\n",
      "Epoch 11/100\n",
      "9/9 [==============================] - 0s 443us/step - loss: 0.5382 - accuracy: 0.7778 - val_loss: 0.5827 - val_accuracy: 1.0000\n",
      "Epoch 12/100\n",
      "9/9 [==============================] - 0s 332us/step - loss: 0.5369 - accuracy: 0.7778 - val_loss: 0.5827 - val_accuracy: 1.0000\n",
      "Epoch 13/100\n",
      "9/9 [==============================] - 0s 334us/step - loss: 0.5356 - accuracy: 0.7778 - val_loss: 0.5828 - val_accuracy: 1.0000\n",
      "Epoch 14/100\n",
      "9/9 [==============================] - 0s 334us/step - loss: 0.5343 - accuracy: 0.7778 - val_loss: 0.5828 - val_accuracy: 1.0000\n",
      "Epoch 15/100\n",
      "9/9 [==============================] - 0s 333us/step - loss: 0.5331 - accuracy: 0.7778 - val_loss: 0.5828 - val_accuracy: 1.0000\n",
      "Epoch 16/100\n",
      "9/9 [==============================] - 0s 332us/step - loss: 0.5319 - accuracy: 0.7778 - val_loss: 0.5828 - val_accuracy: 1.0000\n",
      "Epoch 17/100\n",
      "9/9 [==============================] - 0s 334us/step - loss: 0.5307 - accuracy: 0.7778 - val_loss: 0.5828 - val_accuracy: 1.0000\n",
      "Epoch 18/100\n",
      "9/9 [==============================] - 0s 334us/step - loss: 0.5295 - accuracy: 0.7778 - val_loss: 0.5828 - val_accuracy: 1.0000\n",
      "Epoch 19/100\n",
      "9/9 [==============================] - 0s 222us/step - loss: 0.5283 - accuracy: 0.7778 - val_loss: 0.5828 - val_accuracy: 1.0000\n",
      "Epoch 20/100\n",
      "9/9 [==============================] - 0s 445us/step - loss: 0.5272 - accuracy: 0.7778 - val_loss: 0.5828 - val_accuracy: 1.0000\n",
      "Epoch 21/100\n",
      "9/9 [==============================] - 0s 335us/step - loss: 0.5261 - accuracy: 0.7778 - val_loss: 0.5829 - val_accuracy: 1.0000\n",
      "Epoch 22/100\n",
      "9/9 [==============================] - 0s 334us/step - loss: 0.5250 - accuracy: 0.7778 - val_loss: 0.5829 - val_accuracy: 1.0000\n",
      "Epoch 23/100\n",
      "9/9 [==============================] - 0s 222us/step - loss: 0.5239 - accuracy: 0.7778 - val_loss: 0.5829 - val_accuracy: 1.0000\n",
      "Epoch 24/100\n",
      "9/9 [==============================] - 0s 334us/step - loss: 0.5228 - accuracy: 0.7778 - val_loss: 0.5829 - val_accuracy: 1.0000\n",
      "Epoch 25/100\n",
      "9/9 [==============================] - 0s 334us/step - loss: 0.5217 - accuracy: 0.7778 - val_loss: 0.5830 - val_accuracy: 1.0000\n",
      "Epoch 26/100\n",
      "9/9 [==============================] - 0s 223us/step - loss: 0.5206 - accuracy: 0.7778 - val_loss: 0.5830 - val_accuracy: 1.0000\n",
      "Epoch 27/100\n",
      "9/9 [==============================] - 0s 445us/step - loss: 0.5196 - accuracy: 0.7778 - val_loss: 0.5831 - val_accuracy: 1.0000\n",
      "Epoch 28/100\n",
      "9/9 [==============================] - 0s 334us/step - loss: 0.5185 - accuracy: 0.7778 - val_loss: 0.5831 - val_accuracy: 1.0000\n",
      "Epoch 29/100\n",
      "9/9 [==============================] - 0s 333us/step - loss: 0.5175 - accuracy: 0.7778 - val_loss: 0.5832 - val_accuracy: 1.0000\n",
      "Epoch 30/100\n",
      "9/9 [==============================] - 0s 334us/step - loss: 0.5164 - accuracy: 0.7778 - val_loss: 0.5833 - val_accuracy: 1.0000\n",
      "Epoch 31/100\n",
      "9/9 [==============================] - 0s 445us/step - loss: 0.5154 - accuracy: 0.7778 - val_loss: 0.5834 - val_accuracy: 1.0000\n",
      "Epoch 32/100\n",
      "9/9 [==============================] - 0s 334us/step - loss: 0.5144 - accuracy: 0.7778 - val_loss: 0.5835 - val_accuracy: 1.0000\n",
      "Epoch 33/100\n",
      "9/9 [==============================] - 0s 334us/step - loss: 0.5133 - accuracy: 0.7778 - val_loss: 0.5836 - val_accuracy: 1.0000\n",
      "Epoch 34/100\n",
      "9/9 [==============================] - 0s 445us/step - loss: 0.5123 - accuracy: 0.7778 - val_loss: 0.5837 - val_accuracy: 1.0000\n",
      "Epoch 35/100\n",
      "9/9 [==============================] - 0s 334us/step - loss: 0.5113 - accuracy: 0.7778 - val_loss: 0.5838 - val_accuracy: 1.0000\n",
      "Epoch 36/100\n",
      "9/9 [==============================] - 0s 334us/step - loss: 0.5103 - accuracy: 0.7778 - val_loss: 0.5839 - val_accuracy: 1.0000\n",
      "Epoch 37/100\n",
      "9/9 [==============================] - 0s 334us/step - loss: 0.5092 - accuracy: 0.7778 - val_loss: 0.5840 - val_accuracy: 1.0000\n",
      "Epoch 38/100\n",
      "9/9 [==============================] - 0s 333us/step - loss: 0.5082 - accuracy: 0.7778 - val_loss: 0.5841 - val_accuracy: 1.0000\n",
      "Epoch 39/100\n",
      "9/9 [==============================] - 0s 334us/step - loss: 0.5072 - accuracy: 0.7778 - val_loss: 0.5843 - val_accuracy: 1.0000\n",
      "Epoch 40/100\n",
      "9/9 [==============================] - 0s 334us/step - loss: 0.5062 - accuracy: 0.7778 - val_loss: 0.5844 - val_accuracy: 1.0000\n",
      "Epoch 41/100\n",
      "9/9 [==============================] - 0s 333us/step - loss: 0.5052 - accuracy: 0.7778 - val_loss: 0.5845 - val_accuracy: 1.0000\n",
      "Epoch 42/100\n",
      "9/9 [==============================] - 0s 222us/step - loss: 0.5042 - accuracy: 0.7778 - val_loss: 0.5847 - val_accuracy: 1.0000\n",
      "Epoch 43/100\n",
      "9/9 [==============================] - 0s 334us/step - loss: 0.5032 - accuracy: 0.7778 - val_loss: 0.5848 - val_accuracy: 1.0000\n",
      "Epoch 44/100\n",
      "9/9 [==============================] - 0s 334us/step - loss: 0.5021 - accuracy: 0.7778 - val_loss: 0.5850 - val_accuracy: 1.0000\n",
      "Epoch 45/100\n",
      "9/9 [==============================] - 0s 334us/step - loss: 0.5011 - accuracy: 0.7778 - val_loss: 0.5851 - val_accuracy: 1.0000\n",
      "Epoch 46/100\n",
      "9/9 [==============================] - 0s 334us/step - loss: 0.5001 - accuracy: 0.7778 - val_loss: 0.5853 - val_accuracy: 1.0000\n",
      "Epoch 47/100\n",
      "9/9 [==============================] - 0s 334us/step - loss: 0.4991 - accuracy: 0.7778 - val_loss: 0.5854 - val_accuracy: 1.0000\n",
      "Epoch 48/100\n",
      "9/9 [==============================] - 0s 334us/step - loss: 0.4982 - accuracy: 0.7778 - val_loss: 0.5856 - val_accuracy: 1.0000\n",
      "Epoch 49/100\n",
      "9/9 [==============================] - 0s 334us/step - loss: 0.4972 - accuracy: 0.7778 - val_loss: 0.5858 - val_accuracy: 1.0000\n",
      "Epoch 50/100\n",
      "9/9 [==============================] - 0s 334us/step - loss: 0.4962 - accuracy: 0.7778 - val_loss: 0.5859 - val_accuracy: 1.0000\n",
      "Epoch 51/100\n",
      "9/9 [==============================] - 0s 334us/step - loss: 0.4952 - accuracy: 0.7778 - val_loss: 0.5861 - val_accuracy: 1.0000\n",
      "Epoch 52/100\n",
      "9/9 [==============================] - 0s 333us/step - loss: 0.4942 - accuracy: 0.7778 - val_loss: 0.5862 - val_accuracy: 1.0000\n",
      "Epoch 53/100\n",
      "9/9 [==============================] - 0s 334us/step - loss: 0.4932 - accuracy: 0.7778 - val_loss: 0.5864 - val_accuracy: 1.0000\n",
      "Epoch 54/100\n",
      "9/9 [==============================] - 0s 334us/step - loss: 0.4923 - accuracy: 0.7778 - val_loss: 0.5866 - val_accuracy: 1.0000\n",
      "Epoch 55/100\n",
      "9/9 [==============================] - 0s 334us/step - loss: 0.4913 - accuracy: 0.7778 - val_loss: 0.5867 - val_accuracy: 1.0000\n",
      "Epoch 56/100\n",
      "9/9 [==============================] - 0s 556us/step - loss: 0.4903 - accuracy: 0.7778 - val_loss: 0.5869 - val_accuracy: 1.0000\n",
      "Epoch 57/100\n",
      "9/9 [==============================] - 0s 333us/step - loss: 0.4893 - accuracy: 0.7778 - val_loss: 0.5870 - val_accuracy: 1.0000\n",
      "Epoch 58/100\n",
      "9/9 [==============================] - 0s 333us/step - loss: 0.4884 - accuracy: 0.7778 - val_loss: 0.5872 - val_accuracy: 1.0000\n"
     ]
    },
    {
     "name": "stdout",
     "output_type": "stream",
     "text": [
      "Epoch 59/100\n",
      "9/9 [==============================] - 0s 445us/step - loss: 0.4874 - accuracy: 0.7778 - val_loss: 0.5873 - val_accuracy: 1.0000\n",
      "Epoch 60/100\n",
      "9/9 [==============================] - 0s 445us/step - loss: 0.4865 - accuracy: 0.7778 - val_loss: 0.5875 - val_accuracy: 1.0000\n",
      "Epoch 61/100\n",
      "9/9 [==============================] - 0s 445us/step - loss: 0.4855 - accuracy: 0.7778 - val_loss: 0.5876 - val_accuracy: 1.0000\n",
      "Epoch 62/100\n",
      "9/9 [==============================] - 0s 445us/step - loss: 0.4846 - accuracy: 0.7778 - val_loss: 0.5878 - val_accuracy: 1.0000\n",
      "Epoch 63/100\n",
      "9/9 [==============================] - 0s 334us/step - loss: 0.4836 - accuracy: 0.7778 - val_loss: 0.5879 - val_accuracy: 1.0000\n",
      "Epoch 64/100\n",
      "9/9 [==============================] - 0s 445us/step - loss: 0.4827 - accuracy: 0.7778 - val_loss: 0.5881 - val_accuracy: 1.0000\n",
      "Epoch 65/100\n",
      "9/9 [==============================] - 0s 556us/step - loss: 0.4817 - accuracy: 0.7778 - val_loss: 0.5882 - val_accuracy: 1.0000\n",
      "Epoch 66/100\n",
      "9/9 [==============================] - 0s 556us/step - loss: 0.4808 - accuracy: 0.7778 - val_loss: 0.5883 - val_accuracy: 1.0000\n",
      "Epoch 67/100\n",
      "9/9 [==============================] - 0s 556us/step - loss: 0.4799 - accuracy: 0.7778 - val_loss: 0.5885 - val_accuracy: 1.0000\n",
      "Epoch 68/100\n",
      "9/9 [==============================] - 0s 445us/step - loss: 0.4789 - accuracy: 0.7778 - val_loss: 0.5886 - val_accuracy: 1.0000\n",
      "Epoch 69/100\n",
      "9/9 [==============================] - 0s 445us/step - loss: 0.4780 - accuracy: 0.7778 - val_loss: 0.5887 - val_accuracy: 1.0000\n",
      "Epoch 70/100\n",
      "9/9 [==============================] - 0s 445us/step - loss: 0.4771 - accuracy: 0.7778 - val_loss: 0.5888 - val_accuracy: 1.0000\n",
      "Epoch 71/100\n",
      "9/9 [==============================] - 0s 667us/step - loss: 0.4762 - accuracy: 0.7778 - val_loss: 0.5890 - val_accuracy: 1.0000\n",
      "Epoch 72/100\n",
      "9/9 [==============================] - 0s 334us/step - loss: 0.4753 - accuracy: 0.7778 - val_loss: 0.5891 - val_accuracy: 1.0000\n",
      "Epoch 73/100\n",
      "9/9 [==============================] - 0s 445us/step - loss: 0.4744 - accuracy: 0.7778 - val_loss: 0.5892 - val_accuracy: 1.0000\n",
      "Epoch 74/100\n",
      "9/9 [==============================] - 0s 222us/step - loss: 0.4734 - accuracy: 0.7778 - val_loss: 0.5893 - val_accuracy: 1.0000\n",
      "Epoch 75/100\n",
      "9/9 [==============================] - 0s 222us/step - loss: 0.4725 - accuracy: 0.7778 - val_loss: 0.5894 - val_accuracy: 1.0000\n",
      "Epoch 76/100\n",
      "9/9 [==============================] - 0s 334us/step - loss: 0.4716 - accuracy: 0.7778 - val_loss: 0.5895 - val_accuracy: 1.0000\n",
      "Epoch 77/100\n",
      "9/9 [==============================] - 0s 222us/step - loss: 0.4707 - accuracy: 0.7778 - val_loss: 0.5896 - val_accuracy: 1.0000\n",
      "Epoch 78/100\n",
      "9/9 [==============================] - 0s 222us/step - loss: 0.4698 - accuracy: 0.7778 - val_loss: 0.5897 - val_accuracy: 1.0000\n",
      "Epoch 79/100\n",
      "9/9 [==============================] - 0s 445us/step - loss: 0.4689 - accuracy: 0.7778 - val_loss: 0.5898 - val_accuracy: 1.0000\n",
      "Epoch 80/100\n",
      "9/9 [==============================] - 0s 334us/step - loss: 0.4681 - accuracy: 0.7778 - val_loss: 0.5899 - val_accuracy: 1.0000\n",
      "Epoch 81/100\n",
      "9/9 [==============================] - 0s 334us/step - loss: 0.4672 - accuracy: 0.7778 - val_loss: 0.5900 - val_accuracy: 1.0000\n",
      "Epoch 82/100\n",
      "9/9 [==============================] - 0s 334us/step - loss: 0.4663 - accuracy: 0.7778 - val_loss: 0.5901 - val_accuracy: 1.0000\n",
      "Epoch 83/100\n",
      "9/9 [==============================] - 0s 333us/step - loss: 0.4654 - accuracy: 0.7778 - val_loss: 0.5902 - val_accuracy: 1.0000\n",
      "Epoch 84/100\n",
      "9/9 [==============================] - 0s 334us/step - loss: 0.4645 - accuracy: 0.7778 - val_loss: 0.5903 - val_accuracy: 1.0000\n",
      "Epoch 85/100\n",
      "9/9 [==============================] - 0s 334us/step - loss: 0.4637 - accuracy: 0.7778 - val_loss: 0.5904 - val_accuracy: 1.0000\n",
      "Epoch 86/100\n",
      "9/9 [==============================] - 0s 332us/step - loss: 0.4628 - accuracy: 0.7778 - val_loss: 0.5904 - val_accuracy: 1.0000\n",
      "Epoch 87/100\n",
      "9/9 [==============================] - 0s 335us/step - loss: 0.4619 - accuracy: 0.7778 - val_loss: 0.5905 - val_accuracy: 1.0000\n",
      "Epoch 88/100\n",
      "9/9 [==============================] - 0s 333us/step - loss: 0.4611 - accuracy: 0.7778 - val_loss: 0.5906 - val_accuracy: 1.0000\n",
      "Epoch 89/100\n",
      "9/9 [==============================] - 0s 335us/step - loss: 0.4602 - accuracy: 0.7778 - val_loss: 0.5907 - val_accuracy: 1.0000\n",
      "Epoch 90/100\n",
      "9/9 [==============================] - 0s 334us/step - loss: 0.4593 - accuracy: 0.7778 - val_loss: 0.5908 - val_accuracy: 1.0000\n",
      "Epoch 91/100\n",
      "9/9 [==============================] - 0s 222us/step - loss: 0.4585 - accuracy: 0.7778 - val_loss: 0.5909 - val_accuracy: 1.0000\n",
      "Epoch 92/100\n",
      "9/9 [==============================] - 0s 444us/step - loss: 0.4576 - accuracy: 0.7778 - val_loss: 0.5910 - val_accuracy: 1.0000\n",
      "Epoch 93/100\n",
      "9/9 [==============================] - 0s 333us/step - loss: 0.4568 - accuracy: 0.7778 - val_loss: 0.5910 - val_accuracy: 1.0000\n",
      "Epoch 94/100\n",
      "9/9 [==============================] - 0s 333us/step - loss: 0.4559 - accuracy: 0.7778 - val_loss: 0.5911 - val_accuracy: 1.0000\n",
      "Epoch 95/100\n",
      "9/9 [==============================] - 0s 334us/step - loss: 0.4551 - accuracy: 0.7778 - val_loss: 0.5912 - val_accuracy: 1.0000\n",
      "Epoch 96/100\n",
      "9/9 [==============================] - 0s 224us/step - loss: 0.4543 - accuracy: 0.7778 - val_loss: 0.5913 - val_accuracy: 1.0000\n",
      "Epoch 97/100\n",
      "9/9 [==============================] - 0s 332us/step - loss: 0.4534 - accuracy: 0.7778 - val_loss: 0.5914 - val_accuracy: 1.0000\n",
      "Epoch 98/100\n",
      "9/9 [==============================] - 0s 334us/step - loss: 0.4526 - accuracy: 0.7778 - val_loss: 0.5914 - val_accuracy: 1.0000\n",
      "Epoch 99/100\n",
      "9/9 [==============================] - 0s 334us/step - loss: 0.4518 - accuracy: 0.7778 - val_loss: 0.5915 - val_accuracy: 1.0000\n",
      "Epoch 100/100\n",
      "9/9 [==============================] - 0s 333us/step - loss: 0.4510 - accuracy: 0.7778 - val_loss: 0.5916 - val_accuracy: 1.0000\n"
     ]
    },
    {
     "data": {
      "text/plain": [
       "<keras.callbacks.callbacks.History at 0x43539e3358>"
      ]
     },
     "execution_count": 55,
     "metadata": {},
     "output_type": "execute_result"
    }
   ],
   "source": [
    "# # compile the model\n",
    "# model.compile(optimizer='adam', loss='binary_crossentropy', metrics=['accuracy'])\n",
    "# # fit the model\n",
    "# model.fit(padded_docs, labels, epochs=50, verbose=0)\n",
    "\n",
    "model.compile(loss=\"binary_crossentropy\",optimizer=\"adam\", metrics=[\"accuracy\"])\n",
    "model.fit(padded_docs, labels, epochs=100, validation_split=0.1, callbacks=[history_1])"
   ]
  },
  {
   "cell_type": "code",
   "execution_count": 56,
   "metadata": {},
   "outputs": [
    {
     "name": "stdout",
     "output_type": "stream",
     "text": [
      "Accuracy: 80.000001\n"
     ]
    }
   ],
   "source": [
    "# evaluate the model\n",
    "loss, accuracy = model.evaluate(padded_docs, labels, verbose=0)\n",
    "print('Accuracy: %f' % (accuracy*100))"
   ]
  },
  {
   "cell_type": "code",
   "execution_count": 57,
   "metadata": {},
   "outputs": [
    {
     "data": {
      "image/png": "[encoded data removed]",
      "text/plain": [
       "<Figure size 432x288 with 1 Axes>"
      ]
     },
     "metadata": {
      "needs_background": "light"
     },
     "output_type": "display_data"
    }
   ],
   "source": [
    "plt.plot(history_1.history['accuracy'], label = \"tarina Adam\")\n",
    "plt.plot(history_1.history['val_accuracy'], label = \"test Adam\")\n",
    "\n",
    "\n",
    "plt.legend()\n",
    "plt.show()"
   ]
  },
  {
   "cell_type": "markdown",
   "metadata": {},
   "source": [
    "# Pretrain embedding\n",
    "\n",
    "https://keras.io/examples/pretrained_word_embeddings/\n",
    "\n",
    "* GloVe embedding data can be found at: http://nlp.stanford.edu/data/glove.6B.zip (source page: http://nlp.stanford.edu/projects/glove/)\n",
    "\n",
    "* After downloading and unzipping, you will see a few files, one of which is “glove.6B.50d.txt“, which contains a 100-dimensional version of the embedding.\n",
    "\n",
    "\n",
    "Pojedyńczy plik można pobrać z tąd:\n",
    "https://www.dropbox.com/sh/tjq47ybybgnrbel/AAAVbp0UkQTAbKWVMIi5mtHpa?dl=0"
   ]
  },
  {
   "cell_type": "code",
   "execution_count": 58,
   "metadata": {},
   "outputs": [
    {
     "name": "stdout",
     "output_type": "stream",
     "text": [
      "Indexing word vectors.\n",
      "Loaded 400000 word vectors.\n"
     ]
    }
   ],
   "source": [
    "BASE_DIR = ''\n",
    "GLOVE_DIR = os.path.join(BASE_DIR, 'glove.6B.50d')\n",
    "\n",
    "# first, build index mapping words in the embeddings set\n",
    "# to their embedding vector\n",
    "\n",
    "print('Indexing word vectors.')\n",
    "\n",
    "embeddings_index = {}\n",
    "# file = open(filename, encoding=\"utf8\")\n",
    "with open(os.path.join(GLOVE_DIR, 'glove.6B.50d.txt'), encoding=\"utf8\") as f:\n",
    "    for line in f:\n",
    "        word, coefs = line.split(maxsplit=1)\n",
    "        coefs = np.fromstring(coefs, 'f', sep=' ')\n",
    "        embeddings_index[word] = coefs\n",
    "        \n",
    "\n",
    "print('Loaded %s word vectors.' % len(embeddings_index))"
   ]
  },
  {
   "cell_type": "code",
   "execution_count": 59,
   "metadata": {},
   "outputs": [
    {
     "data": {
      "text/plain": [
       "array([ 4.1800e-01,  2.4968e-01, -4.1242e-01,  1.2170e-01,  3.4527e-01,\n",
       "       -4.4457e-02, -4.9688e-01, -1.7862e-01, -6.6023e-04, -6.5660e-01,\n",
       "        2.7843e-01, -1.4767e-01, -5.5677e-01,  1.4658e-01, -9.5095e-03,\n",
       "        1.1658e-02,  1.0204e-01, -1.2792e-01, -8.4430e-01, -1.2181e-01,\n",
       "       -1.6801e-02, -3.3279e-01, -1.5520e-01, -2.3131e-01, -1.9181e-01,\n",
       "       -1.8823e+00, -7.6746e-01,  9.9051e-02, -4.2125e-01, -1.9526e-01,\n",
       "        4.0071e+00, -1.8594e-01, -5.2287e-01, -3.1681e-01,  5.9213e-04,\n",
       "        7.4449e-03,  1.7778e-01, -1.5897e-01,  1.2041e-02, -5.4223e-02,\n",
       "       -2.9871e-01, -1.5749e-01, -3.4758e-01, -4.5637e-02, -4.4251e-01,\n",
       "        1.8785e-01,  2.7849e-03, -1.8411e-01, -1.1514e-01, -7.8581e-01],\n",
       "      dtype=float32)"
      ]
     },
     "execution_count": 59,
     "metadata": {},
     "output_type": "execute_result"
    }
   ],
   "source": [
    "embeddings_index[\"the\"]"
   ]
  },
  {
   "cell_type": "code",
   "execution_count": 6,
   "metadata": {},
   "outputs": [],
   "source": [
    "# define documents\n",
    "docs = ['Well done!',\n",
    "        'Good work',\n",
    "        'Great effort',\n",
    "        'nice work',\n",
    "        'Excellent!',\n",
    "        'Weak',\n",
    "        'Poor effort!',\n",
    "        'not good',\n",
    "        'poor work',\n",
    "        'Could have done better.']\n",
    "# define class labels\n",
    "labels = np.array([1,1,1,1,1,0,0,0,0,0])"
   ]
  },
  {
   "cell_type": "markdown",
   "metadata": {},
   "source": [
    "Keras provides a Tokenizer class that can be fit on the training data, can convert text to sequences consistently by calling the texts_to_sequences() method on the Tokenizer class, and provides access to the dictionary mapping of words to integers in a word_index attribute.\n",
    "\n",
    "https://keras.io/preprocessing/text/#tokenizer"
   ]
  },
  {
   "cell_type": "code",
   "execution_count": 7,
   "metadata": {},
   "outputs": [],
   "source": [
    "# prepare tokenizer\n",
    "t = Tokenizer()\n",
    "t.fit_on_texts(docs)\n",
    "vocab_size = len(t.word_index) + 1"
   ]
  },
  {
   "cell_type": "code",
   "execution_count": 8,
   "metadata": {},
   "outputs": [
    {
     "name": "stdout",
     "output_type": "stream",
     "text": [
      "[[6, 2], [3, 1], [7, 4], [8, 1], [9], [10], [5, 4], [11, 3], [5, 1], [12, 13, 2, 14]]\n"
     ]
    }
   ],
   "source": [
    "# integer encode the documents\n",
    "encoded_docs = t.texts_to_sequences(docs)\n",
    "print(encoded_docs)"
   ]
  },
  {
   "cell_type": "markdown",
   "metadata": {},
   "source": [
    "Sekwencje mają różne długości, a Keras wymaga aby wejścia były równej długość."
   ]
  },
  {
   "cell_type": "code",
   "execution_count": 9,
   "metadata": {},
   "outputs": [
    {
     "name": "stdout",
     "output_type": "stream",
     "text": [
      "[[ 6  2  0  0]\n",
      " [ 3  1  0  0]\n",
      " [ 7  4  0  0]\n",
      " [ 8  1  0  0]\n",
      " [ 9  0  0  0]\n",
      " [10  0  0  0]\n",
      " [ 5  4  0  0]\n",
      " [11  3  0  0]\n",
      " [ 5  1  0  0]\n",
      " [12 13  2 14]]\n"
     ]
    }
   ],
   "source": [
    "# pad documents to a max length of 4 words\n",
    "max_length = 4\n",
    "padded_docs = pad_sequences(encoded_docs, maxlen=max_length, padding='post')\n",
    "print(padded_docs)"
   ]
  },
  {
   "cell_type": "markdown",
   "metadata": {},
   "source": [
    "Next, we need to create a matrix of one embedding for each word in the training dataset. We can do that by enumerating all unique words in the Tokenizer.word_index and locating the embedding weight vector from the loaded GloVe embedding.\n",
    "\n",
    "The result is a matrix of weights only for words we will see during training."
   ]
  },
  {
   "cell_type": "code",
   "execution_count": 60,
   "metadata": {},
   "outputs": [
    {
     "data": {
      "text/plain": [
       "(50, 50)"
      ]
     },
     "execution_count": 60,
     "metadata": {},
     "output_type": "execute_result"
    }
   ],
   "source": [
    "# create a weight matrix for words in training docs\n",
    "embedding_matrix = np.zeros((vocab_size, 50))\n",
    "for word, i in t.word_index.items():\n",
    "    embedding_vector = embeddings_index.get(word)\n",
    "    if embedding_vector is not None:\n",
    "        embedding_matrix[i] = embedding_vector\n",
    "embedding_matrix.shape        "
   ]
  },
  {
   "cell_type": "code",
   "execution_count": 63,
   "metadata": {},
   "outputs": [
    {
     "data": {
      "text/plain": [
       "array([ 5.13589978e-01,  1.96950004e-01, -5.19439995e-01, -8.62179995e-01,\n",
       "        1.54940002e-02,  1.09729998e-01, -8.02929997e-01, -3.33609998e-01,\n",
       "       -1.61189993e-04,  1.01889996e-02,  4.67340015e-02,  4.67510015e-01,\n",
       "       -4.74750012e-01,  1.10380001e-01,  3.93269986e-01, -4.36520010e-01,\n",
       "        3.99839997e-01,  2.71090001e-01,  4.26499993e-01, -6.06400013e-01,\n",
       "        8.11450005e-01,  4.56299990e-01, -1.27260000e-01, -2.24739999e-01,\n",
       "        6.40709996e-01, -1.27670002e+00, -7.22310007e-01, -6.95900023e-01,\n",
       "        2.80450005e-02, -2.30719998e-01,  3.79959989e+00, -1.26249999e-01,\n",
       "       -4.79669988e-01, -9.99719977e-01, -2.19760001e-01,  5.05649984e-01,\n",
       "        2.59530004e-02,  8.05140018e-01,  1.99290007e-01,  2.87959993e-01,\n",
       "       -1.59150004e-01, -3.04380000e-01,  1.60249993e-01, -1.82899997e-01,\n",
       "       -3.85629982e-02, -1.76190004e-01,  2.70409994e-02,  4.68420014e-02,\n",
       "       -6.28970027e-01,  3.57259989e-01])"
      ]
     },
     "execution_count": 63,
     "metadata": {},
     "output_type": "execute_result"
    }
   ],
   "source": [
    "embedding_matrix[1]"
   ]
  },
  {
   "cell_type": "code",
   "execution_count": 64,
   "metadata": {},
   "outputs": [
    {
     "data": {
      "text/plain": [
       "array([0., 0., 0., 0., 0., 0., 0., 0., 0., 0., 0., 0., 0., 0., 0., 0., 0.,\n",
       "       0., 0., 0., 0., 0., 0., 0., 0., 0., 0., 0., 0., 0., 0., 0., 0., 0.,\n",
       "       0., 0., 0., 0., 0., 0., 0., 0., 0., 0., 0., 0., 0., 0., 0., 0.])"
      ]
     },
     "execution_count": 64,
     "metadata": {},
     "output_type": "execute_result"
    }
   ],
   "source": [
    "embedding_matrix[20]"
   ]
  },
  {
   "cell_type": "markdown",
   "metadata": {},
   "source": [
    "The key difference is that the embedding layer can be seeded with the GloVe word embedding weights. We chose the 50-dimensional version, therefore the Embedding layer must be defined with output_dim set to 50. Finally, we do not want to update the learned word weights in this model, therefore we will set the trainable attribute for the model to be False."
   ]
  },
  {
   "cell_type": "code",
   "execution_count": 65,
   "metadata": {},
   "outputs": [],
   "source": [
    "e = Embedding(vocab_size, 50, weights=[embedding_matrix], input_length=4, trainable=False)"
   ]
  },
  {
   "cell_type": "code",
   "execution_count": 68,
   "metadata": {},
   "outputs": [
    {
     "name": "stdout",
     "output_type": "stream",
     "text": [
      "Model: \"sequential_10\"\n",
      "_________________________________________________________________\n",
      "Layer (type)                 Output Shape              Param #   \n",
      "=================================================================\n",
      "embedding_12 (Embedding)     (None, 4, 50)             2500      \n",
      "_________________________________________________________________\n",
      "flatten_8 (Flatten)          (None, 200)               0         \n",
      "_________________________________________________________________\n",
      "dense_8 (Dense)              (None, 1)                 201       \n",
      "=================================================================\n",
      "Total params: 2,701\n",
      "Trainable params: 201\n",
      "Non-trainable params: 2,500\n",
      "_________________________________________________________________\n",
      "None\n"
     ]
    }
   ],
   "source": [
    "from keras.models import Sequential\n",
    "from keras.layers import Dense\n",
    "from keras.callbacks import LearningRateScheduler\n",
    "from keras.callbacks import ModelCheckpoint\n",
    "from keras.callbacks import EarlyStopping\n",
    "from keras.layers import Dropout\n",
    "from keras.layers import BatchNormalization\n",
    "from keras.layers import Activation\n",
    "from keras.layers import Flatten\n",
    "from keras.layers.convolutional import Conv2D, MaxPooling2D, AveragePooling2D\n",
    "from keras.callbacks import History\n",
    "\n",
    "history_2 = History()\n",
    "model = Sequential()\n",
    "e = Embedding(vocab_size, 50, weights=[embedding_matrix], input_length=4, trainable=False)\n",
    "model.add(e)\n",
    "model.add(Flatten())\n",
    "model.add(Dense(1, activation='sigmoid'))\n",
    "# compile the model\n",
    "model.compile(optimizer='adam', loss='binary_crossentropy', metrics=['accuracy'])\n",
    "# summarize the model\n",
    "print(model.summary())"
   ]
  },
  {
   "cell_type": "code",
   "execution_count": 72,
   "metadata": {},
   "outputs": [
    {
     "name": "stdout",
     "output_type": "stream",
     "text": [
      "Train on 9 samples, validate on 1 samples\n",
      "Epoch 1/100\n",
      "9/9 [==============================] - 0s 26ms/step - loss: 0.5768 - accuracy: 0.7778 - val_loss: 0.7442 - val_accuracy: 0.0000e+00\n",
      "Epoch 2/100\n",
      "9/9 [==============================] - 0s 335us/step - loss: 0.5758 - accuracy: 0.7778 - val_loss: 0.7447 - val_accuracy: 0.0000e+00\n",
      "Epoch 3/100\n",
      "9/9 [==============================] - 0s 334us/step - loss: 0.5747 - accuracy: 0.7778 - val_loss: 0.7452 - val_accuracy: 0.0000e+00\n",
      "Epoch 4/100\n",
      "9/9 [==============================] - 0s 222us/step - loss: 0.5737 - accuracy: 0.7778 - val_loss: 0.7458 - val_accuracy: 0.0000e+00\n",
      "Epoch 5/100\n",
      "9/9 [==============================] - 0s 332us/step - loss: 0.5727 - accuracy: 0.7778 - val_loss: 0.7463 - val_accuracy: 0.0000e+00\n",
      "Epoch 6/100\n",
      "9/9 [==============================] - 0s 335us/step - loss: 0.5717 - accuracy: 0.7778 - val_loss: 0.7468 - val_accuracy: 0.0000e+00\n",
      "Epoch 7/100\n",
      "9/9 [==============================] - 0s 557us/step - loss: 0.5708 - accuracy: 0.7778 - val_loss: 0.7473 - val_accuracy: 0.0000e+00\n",
      "Epoch 8/100\n",
      "9/9 [==============================] - 0s 335us/step - loss: 0.5698 - accuracy: 0.7778 - val_loss: 0.7479 - val_accuracy: 0.0000e+00\n",
      "Epoch 9/100\n",
      "9/9 [==============================] - 0s 333us/step - loss: 0.5689 - accuracy: 0.7778 - val_loss: 0.7484 - val_accuracy: 0.0000e+00\n",
      "Epoch 10/100\n",
      "9/9 [==============================] - 0s 446us/step - loss: 0.5679 - accuracy: 0.7778 - val_loss: 0.7489 - val_accuracy: 0.0000e+00\n",
      "Epoch 11/100\n",
      "9/9 [==============================] - 0s 333us/step - loss: 0.5670 - accuracy: 0.7778 - val_loss: 0.7495 - val_accuracy: 0.0000e+00\n",
      "Epoch 12/100\n",
      "9/9 [==============================] - 0s 335us/step - loss: 0.5661 - accuracy: 0.7778 - val_loss: 0.7500 - val_accuracy: 0.0000e+00\n",
      "Epoch 13/100\n",
      "9/9 [==============================] - 0s 335us/step - loss: 0.5652 - accuracy: 0.7778 - val_loss: 0.7505 - val_accuracy: 0.0000e+00\n",
      "Epoch 14/100\n",
      "9/9 [==============================] - 0s 334us/step - loss: 0.5643 - accuracy: 0.7778 - val_loss: 0.7511 - val_accuracy: 0.0000e+00\n",
      "Epoch 15/100\n",
      "9/9 [==============================] - 0s 333us/step - loss: 0.5635 - accuracy: 0.7778 - val_loss: 0.7516 - val_accuracy: 0.0000e+00\n",
      "Epoch 16/100\n",
      "9/9 [==============================] - 0s 334us/step - loss: 0.5626 - accuracy: 0.7778 - val_loss: 0.7521 - val_accuracy: 0.0000e+00\n",
      "Epoch 17/100\n",
      "9/9 [==============================] - 0s 335us/step - loss: 0.5617 - accuracy: 0.7778 - val_loss: 0.7527 - val_accuracy: 0.0000e+00\n",
      "Epoch 18/100\n",
      "9/9 [==============================] - 0s 333us/step - loss: 0.5609 - accuracy: 0.7778 - val_loss: 0.7532 - val_accuracy: 0.0000e+00\n",
      "Epoch 19/100\n",
      "9/9 [==============================] - 0s 334us/step - loss: 0.5601 - accuracy: 0.7778 - val_loss: 0.7537 - val_accuracy: 0.0000e+00\n",
      "Epoch 20/100\n",
      "9/9 [==============================] - 0s 556us/step - loss: 0.5593 - accuracy: 0.7778 - val_loss: 0.7543 - val_accuracy: 0.0000e+00\n",
      "Epoch 21/100\n",
      "9/9 [==============================] - 0s 556us/step - loss: 0.5585 - accuracy: 0.7778 - val_loss: 0.7548 - val_accuracy: 0.0000e+00\n",
      "Epoch 22/100\n",
      "9/9 [==============================] - 0s 445us/step - loss: 0.5577 - accuracy: 0.7778 - val_loss: 0.7554 - val_accuracy: 0.0000e+00\n",
      "Epoch 23/100\n",
      "9/9 [==============================] - 0s 445us/step - loss: 0.5569 - accuracy: 0.7778 - val_loss: 0.7559 - val_accuracy: 0.0000e+00\n",
      "Epoch 24/100\n",
      "9/9 [==============================] - 0s 446us/step - loss: 0.5561 - accuracy: 0.7778 - val_loss: 0.7564 - val_accuracy: 0.0000e+00\n",
      "Epoch 25/100\n",
      "9/9 [==============================] - 0s 334us/step - loss: 0.5554 - accuracy: 0.7778 - val_loss: 0.7570 - val_accuracy: 0.0000e+00\n",
      "Epoch 26/100\n",
      "9/9 [==============================] - 0s 335us/step - loss: 0.5546 - accuracy: 0.7778 - val_loss: 0.7575 - val_accuracy: 0.0000e+00\n",
      "Epoch 27/100\n",
      "9/9 [==============================] - 0s 334us/step - loss: 0.5539 - accuracy: 0.7778 - val_loss: 0.7580 - val_accuracy: 0.0000e+00\n",
      "Epoch 28/100\n",
      "9/9 [==============================] - 0s 459us/step - loss: 0.5532 - accuracy: 0.7778 - val_loss: 0.7586 - val_accuracy: 0.0000e+00\n",
      "Epoch 29/100\n",
      "9/9 [==============================] - 0s 333us/step - loss: 0.5525 - accuracy: 0.7778 - val_loss: 0.7591 - val_accuracy: 0.0000e+00\n",
      "Epoch 30/100\n",
      "9/9 [==============================] - 0s 334us/step - loss: 0.5518 - accuracy: 0.7778 - val_loss: 0.7597 - val_accuracy: 0.0000e+00\n",
      "Epoch 31/100\n",
      "9/9 [==============================] - 0s 557us/step - loss: 0.5511 - accuracy: 0.7778 - val_loss: 0.7602 - val_accuracy: 0.0000e+00\n",
      "Epoch 32/100\n",
      "9/9 [==============================] - 0s 334us/step - loss: 0.5504 - accuracy: 0.7778 - val_loss: 0.7608 - val_accuracy: 0.0000e+00\n",
      "Epoch 33/100\n",
      "9/9 [==============================] - 0s 334us/step - loss: 0.5497 - accuracy: 0.7778 - val_loss: 0.7613 - val_accuracy: 0.0000e+00\n",
      "Epoch 34/100\n",
      "9/9 [==============================] - 0s 334us/step - loss: 0.5491 - accuracy: 0.7778 - val_loss: 0.7618 - val_accuracy: 0.0000e+00\n",
      "Epoch 35/100\n",
      "9/9 [==============================] - 0s 335us/step - loss: 0.5484 - accuracy: 0.7778 - val_loss: 0.7624 - val_accuracy: 0.0000e+00\n",
      "Epoch 36/100\n",
      "9/9 [==============================] - 0s 335us/step - loss: 0.5478 - accuracy: 0.7778 - val_loss: 0.7629 - val_accuracy: 0.0000e+00\n",
      "Epoch 37/100\n",
      "9/9 [==============================] - 0s 332us/step - loss: 0.5471 - accuracy: 0.7778 - val_loss: 0.7635 - val_accuracy: 0.0000e+00\n",
      "Epoch 38/100\n",
      "9/9 [==============================] - 0s 299us/step - loss: 0.5465 - accuracy: 0.7778 - val_loss: 0.7640 - val_accuracy: 0.0000e+00\n",
      "Epoch 39/100\n",
      "9/9 [==============================] - 0s 222us/step - loss: 0.5459 - accuracy: 0.7778 - val_loss: 0.7646 - val_accuracy: 0.0000e+00\n",
      "Epoch 40/100\n",
      "9/9 [==============================] - 0s 333us/step - loss: 0.5453 - accuracy: 0.7778 - val_loss: 0.7651 - val_accuracy: 0.0000e+00\n",
      "Epoch 41/100\n",
      "9/9 [==============================] - 0s 335us/step - loss: 0.5447 - accuracy: 0.7778 - val_loss: 0.7657 - val_accuracy: 0.0000e+00\n",
      "Epoch 42/100\n",
      "9/9 [==============================] - 0s 334us/step - loss: 0.5441 - accuracy: 0.7778 - val_loss: 0.7662 - val_accuracy: 0.0000e+00\n",
      "Epoch 43/100\n",
      "9/9 [==============================] - 0s 446us/step - loss: 0.5436 - accuracy: 0.7778 - val_loss: 0.7668 - val_accuracy: 0.0000e+00\n",
      "Epoch 44/100\n",
      "9/9 [==============================] - 0s 444us/step - loss: 0.5430 - accuracy: 0.7778 - val_loss: 0.7673 - val_accuracy: 0.0000e+00\n",
      "Epoch 45/100\n",
      "9/9 [==============================] - 0s 334us/step - loss: 0.5424 - accuracy: 0.7778 - val_loss: 0.7679 - val_accuracy: 0.0000e+00\n",
      "Epoch 46/100\n",
      "9/9 [==============================] - 0s 445us/step - loss: 0.5419 - accuracy: 0.7778 - val_loss: 0.7684 - val_accuracy: 0.0000e+00\n",
      "Epoch 47/100\n",
      "9/9 [==============================] - 0s 334us/step - loss: 0.5413 - accuracy: 0.7778 - val_loss: 0.7690 - val_accuracy: 0.0000e+00\n",
      "Epoch 48/100\n",
      "9/9 [==============================] - 0s 445us/step - loss: 0.5408 - accuracy: 0.7778 - val_loss: 0.7695 - val_accuracy: 0.0000e+00\n",
      "Epoch 49/100\n",
      "9/9 [==============================] - 0s 445us/step - loss: 0.5403 - accuracy: 0.7778 - val_loss: 0.7701 - val_accuracy: 0.0000e+00\n",
      "Epoch 50/100\n",
      "9/9 [==============================] - 0s 556us/step - loss: 0.5398 - accuracy: 0.7778 - val_loss: 0.7706 - val_accuracy: 0.0000e+00\n",
      "Epoch 51/100\n",
      "9/9 [==============================] - 0s 556us/step - loss: 0.5392 - accuracy: 0.7778 - val_loss: 0.7712 - val_accuracy: 0.0000e+00\n",
      "Epoch 52/100\n",
      "9/9 [==============================] - 0s 334us/step - loss: 0.5387 - accuracy: 0.7778 - val_loss: 0.7717 - val_accuracy: 0.0000e+00\n",
      "Epoch 53/100\n",
      "9/9 [==============================] - 0s 334us/step - loss: 0.5382 - accuracy: 0.7778 - val_loss: 0.7723 - val_accuracy: 0.0000e+00\n",
      "Epoch 54/100\n",
      "9/9 [==============================] - 0s 334us/step - loss: 0.5378 - accuracy: 0.7778 - val_loss: 0.7729 - val_accuracy: 0.0000e+00\n",
      "Epoch 55/100\n",
      "9/9 [==============================] - 0s 334us/step - loss: 0.5373 - accuracy: 0.7778 - val_loss: 0.7734 - val_accuracy: 0.0000e+00\n",
      "Epoch 56/100\n",
      "9/9 [==============================] - 0s 334us/step - loss: 0.5368 - accuracy: 0.7778 - val_loss: 0.7740 - val_accuracy: 0.0000e+00\n"
     ]
    },
    {
     "name": "stdout",
     "output_type": "stream",
     "text": [
      "Epoch 57/100\n",
      "9/9 [==============================] - 0s 445us/step - loss: 0.5363 - accuracy: 0.7778 - val_loss: 0.7745 - val_accuracy: 0.0000e+00\n",
      "Epoch 58/100\n",
      "9/9 [==============================] - 0s 445us/step - loss: 0.5359 - accuracy: 0.7778 - val_loss: 0.7751 - val_accuracy: 0.0000e+00\n",
      "Epoch 59/100\n",
      "9/9 [==============================] - 0s 445us/step - loss: 0.5354 - accuracy: 0.7778 - val_loss: 0.7756 - val_accuracy: 0.0000e+00\n",
      "Epoch 60/100\n",
      "9/9 [==============================] - 0s 445us/step - loss: 0.5349 - accuracy: 0.7778 - val_loss: 0.7762 - val_accuracy: 0.0000e+00\n",
      "Epoch 61/100\n",
      "9/9 [==============================] - 0s 445us/step - loss: 0.5345 - accuracy: 0.7778 - val_loss: 0.7767 - val_accuracy: 0.0000e+00\n",
      "Epoch 62/100\n",
      "9/9 [==============================] - 0s 334us/step - loss: 0.5341 - accuracy: 0.7778 - val_loss: 0.7773 - val_accuracy: 0.0000e+00\n",
      "Epoch 63/100\n",
      "9/9 [==============================] - 0s 334us/step - loss: 0.5336 - accuracy: 0.7778 - val_loss: 0.7779 - val_accuracy: 0.0000e+00\n",
      "Epoch 64/100\n",
      "9/9 [==============================] - 0s 445us/step - loss: 0.5332 - accuracy: 0.7778 - val_loss: 0.7784 - val_accuracy: 0.0000e+00\n",
      "Epoch 65/100\n",
      "9/9 [==============================] - 0s 334us/step - loss: 0.5328 - accuracy: 0.7778 - val_loss: 0.7790 - val_accuracy: 0.0000e+00\n",
      "Epoch 66/100\n",
      "9/9 [==============================] - 0s 333us/step - loss: 0.5324 - accuracy: 0.7778 - val_loss: 0.7795 - val_accuracy: 0.0000e+00\n",
      "Epoch 67/100\n",
      "9/9 [==============================] - 0s 334us/step - loss: 0.5319 - accuracy: 0.7778 - val_loss: 0.7801 - val_accuracy: 0.0000e+00\n",
      "Epoch 68/100\n",
      "9/9 [==============================] - 0s 334us/step - loss: 0.5315 - accuracy: 0.7778 - val_loss: 0.7806 - val_accuracy: 0.0000e+00\n",
      "Epoch 69/100\n",
      "9/9 [==============================] - 0s 445us/step - loss: 0.5311 - accuracy: 0.7778 - val_loss: 0.7812 - val_accuracy: 0.0000e+00\n",
      "Epoch 70/100\n",
      "9/9 [==============================] - 0s 334us/step - loss: 0.5307 - accuracy: 0.7778 - val_loss: 0.7818 - val_accuracy: 0.0000e+00\n",
      "Epoch 71/100\n",
      "9/9 [==============================] - 0s 334us/step - loss: 0.5303 - accuracy: 0.7778 - val_loss: 0.7823 - val_accuracy: 0.0000e+00\n",
      "Epoch 72/100\n",
      "9/9 [==============================] - 0s 222us/step - loss: 0.5300 - accuracy: 0.7778 - val_loss: 0.7829 - val_accuracy: 0.0000e+00\n",
      "Epoch 73/100\n",
      "9/9 [==============================] - 0s 334us/step - loss: 0.5296 - accuracy: 0.7778 - val_loss: 0.7834 - val_accuracy: 0.0000e+00\n",
      "Epoch 74/100\n",
      "9/9 [==============================] - 0s 334us/step - loss: 0.5292 - accuracy: 0.7778 - val_loss: 0.7840 - val_accuracy: 0.0000e+00\n",
      "Epoch 75/100\n",
      "9/9 [==============================] - 0s 222us/step - loss: 0.5288 - accuracy: 0.7778 - val_loss: 0.7845 - val_accuracy: 0.0000e+00\n",
      "Epoch 76/100\n",
      "9/9 [==============================] - 0s 334us/step - loss: 0.5285 - accuracy: 0.7778 - val_loss: 0.7851 - val_accuracy: 0.0000e+00\n",
      "Epoch 77/100\n",
      "9/9 [==============================] - 0s 334us/step - loss: 0.5281 - accuracy: 0.7778 - val_loss: 0.7857 - val_accuracy: 0.0000e+00\n",
      "Epoch 78/100\n",
      "9/9 [==============================] - 0s 436us/step - loss: 0.5277 - accuracy: 0.7778 - val_loss: 0.7862 - val_accuracy: 0.0000e+00\n",
      "Epoch 79/100\n",
      "9/9 [==============================] - 0s 333us/step - loss: 0.5274 - accuracy: 0.7778 - val_loss: 0.7868 - val_accuracy: 0.0000e+00\n",
      "Epoch 80/100\n",
      "9/9 [==============================] - 0s 445us/step - loss: 0.5270 - accuracy: 0.7778 - val_loss: 0.7873 - val_accuracy: 0.0000e+00\n",
      "Epoch 81/100\n",
      "9/9 [==============================] - 0s 334us/step - loss: 0.5267 - accuracy: 0.7778 - val_loss: 0.7879 - val_accuracy: 0.0000e+00\n",
      "Epoch 82/100\n",
      "9/9 [==============================] - 0s 334us/step - loss: 0.5263 - accuracy: 0.7778 - val_loss: 0.7885 - val_accuracy: 0.0000e+00\n",
      "Epoch 83/100\n",
      "9/9 [==============================] - 0s 334us/step - loss: 0.5260 - accuracy: 0.7778 - val_loss: 0.7890 - val_accuracy: 0.0000e+00\n",
      "Epoch 84/100\n",
      "9/9 [==============================] - 0s 445us/step - loss: 0.5257 - accuracy: 0.7778 - val_loss: 0.7896 - val_accuracy: 0.0000e+00\n",
      "Epoch 85/100\n",
      "9/9 [==============================] - 0s 333us/step - loss: 0.5253 - accuracy: 0.7778 - val_loss: 0.7901 - val_accuracy: 0.0000e+00\n",
      "Epoch 86/100\n",
      "9/9 [==============================] - 0s 334us/step - loss: 0.5250 - accuracy: 0.7778 - val_loss: 0.7907 - val_accuracy: 0.0000e+00\n",
      "Epoch 87/100\n",
      "9/9 [==============================] - 0s 334us/step - loss: 0.5247 - accuracy: 0.7778 - val_loss: 0.7912 - val_accuracy: 0.0000e+00\n",
      "Epoch 88/100\n",
      "9/9 [==============================] - 0s 222us/step - loss: 0.5244 - accuracy: 0.7778 - val_loss: 0.7918 - val_accuracy: 0.0000e+00\n",
      "Epoch 89/100\n",
      "9/9 [==============================] - 0s 334us/step - loss: 0.5240 - accuracy: 0.7778 - val_loss: 0.7924 - val_accuracy: 0.0000e+00\n",
      "Epoch 90/100\n",
      "9/9 [==============================] - 0s 334us/step - loss: 0.5237 - accuracy: 0.7778 - val_loss: 0.7929 - val_accuracy: 0.0000e+00\n",
      "Epoch 91/100\n",
      "9/9 [==============================] - 0s 334us/step - loss: 0.5234 - accuracy: 0.7778 - val_loss: 0.7935 - val_accuracy: 0.0000e+00\n",
      "Epoch 92/100\n",
      "9/9 [==============================] - 0s 333us/step - loss: 0.5231 - accuracy: 0.7778 - val_loss: 0.7940 - val_accuracy: 0.0000e+00\n",
      "Epoch 93/100\n",
      "9/9 [==============================] - 0s 334us/step - loss: 0.5228 - accuracy: 0.7778 - val_loss: 0.7946 - val_accuracy: 0.0000e+00\n",
      "Epoch 94/100\n",
      "9/9 [==============================] - 0s 333us/step - loss: 0.5225 - accuracy: 0.7778 - val_loss: 0.7952 - val_accuracy: 0.0000e+00\n",
      "Epoch 95/100\n",
      "9/9 [==============================] - 0s 445us/step - loss: 0.5222 - accuracy: 0.7778 - val_loss: 0.7957 - val_accuracy: 0.0000e+00\n",
      "Epoch 96/100\n",
      "9/9 [==============================] - 0s 359us/step - loss: 0.5219 - accuracy: 0.7778 - val_loss: 0.7963 - val_accuracy: 0.0000e+00\n",
      "Epoch 97/100\n",
      "9/9 [==============================] - 0s 334us/step - loss: 0.5216 - accuracy: 0.7778 - val_loss: 0.7968 - val_accuracy: 0.0000e+00\n",
      "Epoch 98/100\n",
      "9/9 [==============================] - 0s 334us/step - loss: 0.5213 - accuracy: 0.7778 - val_loss: 0.7974 - val_accuracy: 0.0000e+00\n",
      "Epoch 99/100\n",
      "9/9 [==============================] - 0s 333us/step - loss: 0.5210 - accuracy: 0.7778 - val_loss: 0.7980 - val_accuracy: 0.0000e+00\n",
      "Epoch 100/100\n",
      "9/9 [==============================] - 0s 334us/step - loss: 0.5208 - accuracy: 0.7778 - val_loss: 0.7985 - val_accuracy: 0.0000e+00\n"
     ]
    },
    {
     "data": {
      "text/plain": [
       "<keras.callbacks.callbacks.History at 0x434a739940>"
      ]
     },
     "execution_count": 72,
     "metadata": {},
     "output_type": "execute_result"
    }
   ],
   "source": [
    "model.compile(loss=\"binary_crossentropy\",optimizer=\"adam\", metrics=[\"accuracy\"])\n",
    "model.fit(padded_docs, labels, epochs=100, validation_split=0.1, callbacks=[history_2])"
   ]
  },
  {
   "cell_type": "code",
   "execution_count": 73,
   "metadata": {},
   "outputs": [
    {
     "name": "stdout",
     "output_type": "stream",
     "text": [
      "Accuracy: 69.999999\n"
     ]
    }
   ],
   "source": [
    "loss, accuracy = model.evaluate(padded_docs, labels, verbose=0)\n",
    "print('Accuracy: %f' % (accuracy*100))"
   ]
  },
  {
   "cell_type": "code",
   "execution_count": 74,
   "metadata": {},
   "outputs": [
    {
     "data": {
      "image/png": "[encoded data removed]",
      "text/plain": [
       "<Figure size 432x288 with 1 Axes>"
      ]
     },
     "metadata": {
      "needs_background": "light"
     },
     "output_type": "display_data"
    }
   ],
   "source": [
    "plt.plot(history_1.history['accuracy'], label = \"tarina Trainable\")\n",
    "plt.plot(history_1.history['val_accuracy'], label = \"test Trainable\")\n",
    "\n",
    "plt.plot(history_2.history['accuracy'], label = \"tarina Not Trainable\")\n",
    "plt.plot(history_2.history['val_accuracy'], label = \"test Not Trainable\")\n",
    "\n",
    "\n",
    "plt.legend()\n",
    "plt.show()"
   ]
  },
  {
   "cell_type": "code",
   "execution_count": null,
   "metadata": {},
   "outputs": [],
   "source": []
  }
 ],
 "metadata": {
  "kernelspec": {
   "display_name": "Python 3",
   "language": "python",
   "name": "python3"
  },
  "language_info": {
   "codemirror_mode": {
    "name": "ipython",
    "version": 3
   },
   "file_extension": ".py",
   "mimetype": "text/x-python",
   "name": "python",
   "nbconvert_exporter": "python",
   "pygments_lexer": "ipython3",
   "version": "3.7.6"
  }
 },
 "nbformat": 4,
 "nbformat_minor": 2
}
