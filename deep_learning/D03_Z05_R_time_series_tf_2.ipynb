{
 "cells": [
  {
   "cell_type": "code",
   "execution_count": 1,
   "metadata": {},
   "outputs": [
    {
     "name": "stdout",
     "output_type": "stream",
     "text": [
      "2.3.1\n",
      "2.4.0\n"
     ]
    }
   ],
   "source": [
    "import tensorflow as tf\n",
    "from tensorflow import keras as keras\n",
    "print(tf.__version__)\n",
    "\n",
    "print(keras.__version__)"
   ]
  },
  {
   "cell_type": "code",
   "execution_count": 3,
   "metadata": {},
   "outputs": [],
   "source": [
    "import matplotlib.pyplot as plt\n",
    "import os\n",
    "import sys\n",
    "import numpy as np\n",
    "\n",
    "from tensorflow.keras.models import Sequential\n",
    "from tensorflow.keras.layers import Dense\n",
    "from tensorflow.keras.callbacks import LearningRateScheduler\n",
    "from tensorflow.keras.callbacks import ModelCheckpoint\n",
    "from tensorflow.keras.callbacks import EarlyStopping\n",
    "from tensorflow.keras.layers import Dropout\n",
    "from tensorflow.keras.layers import BatchNormalization\n",
    "from tensorflow.keras.layers import Activation\n",
    "from tensorflow.keras.layers import Flatten\n",
    "from tensorflow.python.keras.layers.convolutional import Conv2D, MaxPooling2D, AveragePooling2D\n",
    "from tensorflow.keras.layers import Dense, Dropout, Embedding, SimpleRNN, LSTM, Bidirectional\n",
    "from tensorflow.keras.callbacks import History"
   ]
  },
  {
   "cell_type": "markdown",
   "metadata": {},
   "source": [
    "# Modelowanie szeregów czasowych przy użyciu sieci rekurencyjnych\n",
    "\n",
    "https://machinelearningmastery.com/time-series-prediction-lstm-recurrent-neural-networks-python-keras/"
   ]
  },
  {
   "cell_type": "code",
   "execution_count": 4,
   "metadata": {},
   "outputs": [
    {
     "data": {
      "image/png": "[encoded data removed]",
      "text/plain": [
       "<Figure size 432x288 with 1 Axes>"
      ]
     },
     "metadata": {
      "needs_background": "light"
     },
     "output_type": "display_data"
    }
   ],
   "source": [
    "import pandas\n",
    "import matplotlib.pyplot as plt\n",
    "dataframe = pandas.read_csv('Dane/international-airline-passengers.csv', usecols=[1], engine='python', skipfooter=3)\n",
    "plt.plot(dataframe)\n",
    "plt.show()"
   ]
  },
  {
   "cell_type": "code",
   "execution_count": 5,
   "metadata": {},
   "outputs": [],
   "source": [
    "import numpy\n",
    "import matplotlib.pyplot as plt\n",
    "import pandas\n",
    "import math\n",
    "from tensorflow.keras.models import Sequential\n",
    "from tensorflow.keras.layers import Dense\n",
    "from tensorflow.keras.layers import LSTM\n",
    "from sklearn.preprocessing import MinMaxScaler\n",
    "from sklearn.metrics import mean_squared_error\n",
    "\n",
    "numpy.random.seed(7)"
   ]
  },
  {
   "cell_type": "markdown",
   "metadata": {},
   "source": [
    "**LSTM Network for Regression**\n",
    "\n",
    "We can phrase the problem as a regression problem.\n",
    "\n",
    "That is, given the number of passengers (in units of thousands) this month, what is the number of passengers next month?\n",
    "\n",
    "We can write a simple function to convert our single column of data into a two-column dataset: the first column containing this month’s (t) passenger count and the second column containing next month’s (t+1) passenger count, to be predicted."
   ]
  },
  {
   "cell_type": "code",
   "execution_count": 6,
   "metadata": {},
   "outputs": [],
   "source": [
    "dataset = dataframe.values\n",
    "dataset = dataset.astype('float32')"
   ]
  },
  {
   "cell_type": "markdown",
   "metadata": {},
   "source": [
    "LSTMs are sensitive to the scale of the input data, specifically when the sigmoid (default) or tanh activation functions are used. It can be a good practice to rescale the data to the range of 0-to-1, also called normalizing. We can easily normalize the dataset using the MinMaxScaler preprocessing class from the scikit-learn library."
   ]
  },
  {
   "cell_type": "code",
   "execution_count": 7,
   "metadata": {},
   "outputs": [],
   "source": [
    "# normalize the dataset\n",
    "scaler = MinMaxScaler(feature_range=(0, 1))\n",
    "dataset = scaler.fit_transform(dataset)"
   ]
  },
  {
   "cell_type": "code",
   "execution_count": 8,
   "metadata": {},
   "outputs": [
    {
     "name": "stdout",
     "output_type": "stream",
     "text": [
      "96 48\n"
     ]
    }
   ],
   "source": [
    "# split into train and test sets\n",
    "train_size = int(len(dataset) * 0.67)\n",
    "test_size = len(dataset) - train_size\n",
    "train, test = dataset[0:train_size,:], dataset[train_size:len(dataset),:]\n",
    "print(len(train), len(test))"
   ]
  },
  {
   "cell_type": "code",
   "execution_count": 9,
   "metadata": {},
   "outputs": [],
   "source": [
    "def create_dataset(dataset, look_back=1):\n",
    "    dataX, dataY = [], []\n",
    "    for i in range(len(dataset)-look_back-1):\n",
    "        a = dataset[i:(i+look_back), 0]\n",
    "        dataX.append(a)\n",
    "        dataY.append(dataset[i + look_back, 0])\n",
    "    return numpy.array(dataX), numpy.array(dataY)"
   ]
  },
  {
   "cell_type": "code",
   "execution_count": 10,
   "metadata": {},
   "outputs": [],
   "source": [
    "look_back = 3\n",
    "trainX, trainY = create_dataset(train, look_back)\n",
    "testX, testY = create_dataset(test, look_back)"
   ]
  },
  {
   "cell_type": "code",
   "execution_count": 11,
   "metadata": {},
   "outputs": [],
   "source": [
    "#reshape input to be [samples, time steps, features]\n",
    "trainX = numpy.reshape(trainX, (trainX.shape[0], 1, trainX.shape[1]))\n",
    "testX = numpy.reshape(testX, (testX.shape[0], 1, testX.shape[1]))"
   ]
  },
  {
   "cell_type": "code",
   "execution_count": 12,
   "metadata": {},
   "outputs": [
    {
     "name": "stdout",
     "output_type": "stream",
     "text": [
      "(92, 1, 3)\n"
     ]
    },
    {
     "data": {
      "text/plain": [
       "array([[[0.01544401, 0.02702703, 0.05405405]],\n",
       "\n",
       "       [[0.02702703, 0.05405405, 0.04826255]],\n",
       "\n",
       "       [[0.05405405, 0.04826255, 0.03281853]],\n",
       "\n",
       "       [[0.04826255, 0.03281853, 0.05984557]],\n",
       "\n",
       "       [[0.03281853, 0.05984557, 0.08494207]],\n",
       "\n",
       "       [[0.05984557, 0.08494207, 0.08494207]],\n",
       "\n",
       "       [[0.08494207, 0.08494207, 0.06177607]],\n",
       "\n",
       "       [[0.08494207, 0.06177607, 0.02895753]],\n",
       "\n",
       "       [[0.06177607, 0.02895753, 0.        ]],\n",
       "\n",
       "       [[0.02895753, 0.        , 0.02702703]],\n",
       "\n",
       "       [[0.        , 0.02702703, 0.02123553]],\n",
       "\n",
       "       [[0.02702703, 0.02123553, 0.04247104]],\n",
       "\n",
       "       [[0.02123553, 0.04247104, 0.07142857]],\n",
       "\n",
       "       [[0.04247104, 0.07142857, 0.05984557]],\n",
       "\n",
       "       [[0.07142857, 0.05984557, 0.04054055]],\n",
       "\n",
       "       [[0.05984557, 0.04054055, 0.08687258]],\n",
       "\n",
       "       [[0.04054055, 0.08687258, 0.12741312]],\n",
       "\n",
       "       [[0.08687258, 0.12741312, 0.12741312]],\n",
       "\n",
       "       [[0.12741312, 0.12741312, 0.10424709]],\n",
       "\n",
       "       [[0.12741312, 0.10424709, 0.05598456]],\n",
       "\n",
       "       [[0.10424709, 0.05598456, 0.01930502]],\n",
       "\n",
       "       [[0.05598456, 0.01930502, 0.06949806]],\n",
       "\n",
       "       [[0.01930502, 0.06949806, 0.07915059]],\n",
       "\n",
       "       [[0.06949806, 0.07915059, 0.08880308]],\n",
       "\n",
       "       [[0.07915059, 0.08880308, 0.14285713]],\n",
       "\n",
       "       [[0.08880308, 0.14285713, 0.11389962]],\n",
       "\n",
       "       [[0.14285713, 0.11389962, 0.13127413]],\n",
       "\n",
       "       [[0.11389962, 0.13127413, 0.14285713]],\n",
       "\n",
       "       [[0.13127413, 0.14285713, 0.18339768]],\n",
       "\n",
       "       [[0.14285713, 0.18339768, 0.18339768]],\n",
       "\n",
       "       [[0.18339768, 0.18339768, 0.15444016]],\n",
       "\n",
       "       [[0.18339768, 0.15444016, 0.11196911]],\n",
       "\n",
       "       [[0.15444016, 0.11196911, 0.08108109]],\n",
       "\n",
       "       [[0.11196911, 0.08108109, 0.1196911 ]],\n",
       "\n",
       "       [[0.08108109, 0.1196911 , 0.12934363]],\n",
       "\n",
       "       [[0.1196911 , 0.12934363, 0.14671814]],\n",
       "\n",
       "       [[0.12934363, 0.14671814, 0.17181468]],\n",
       "\n",
       "       [[0.14671814, 0.17181468, 0.14864865]],\n",
       "\n",
       "       [[0.17181468, 0.14864865, 0.15250966]],\n",
       "\n",
       "       [[0.14864865, 0.15250966, 0.22007722]],\n",
       "\n",
       "       [[0.15250966, 0.22007722, 0.24324325]],\n",
       "\n",
       "       [[0.22007722, 0.24324325, 0.26640925]],\n",
       "\n",
       "       [[0.24324325, 0.26640925, 0.2027027 ]],\n",
       "\n",
       "       [[0.26640925, 0.2027027 , 0.16795367]],\n",
       "\n",
       "       [[0.2027027 , 0.16795367, 0.13127413]],\n",
       "\n",
       "       [[0.16795367, 0.13127413, 0.17374519]],\n",
       "\n",
       "       [[0.13127413, 0.17374519, 0.17760617]],\n",
       "\n",
       "       [[0.17374519, 0.17760617, 0.17760617]],\n",
       "\n",
       "       [[0.17760617, 0.17760617, 0.25482625]],\n",
       "\n",
       "       [[0.17760617, 0.25482625, 0.25289574]],\n",
       "\n",
       "       [[0.25482625, 0.25289574, 0.24131274]],\n",
       "\n",
       "       [[0.25289574, 0.24131274, 0.26833975]],\n",
       "\n",
       "       [[0.24131274, 0.26833975, 0.3088803 ]],\n",
       "\n",
       "       [[0.26833975, 0.3088803 , 0.32432434]],\n",
       "\n",
       "       [[0.3088803 , 0.32432434, 0.25675675]],\n",
       "\n",
       "       [[0.32432434, 0.25675675, 0.20656371]],\n",
       "\n",
       "       [[0.25675675, 0.20656371, 0.14671814]],\n",
       "\n",
       "       [[0.20656371, 0.14671814, 0.18725869]],\n",
       "\n",
       "       [[0.14671814, 0.18725869, 0.19305018]],\n",
       "\n",
       "       [[0.18725869, 0.19305018, 0.16216215]],\n",
       "\n",
       "       [[0.19305018, 0.16216215, 0.25289574]],\n",
       "\n",
       "       [[0.16216215, 0.25289574, 0.23745173]],\n",
       "\n",
       "       [[0.25289574, 0.23745173, 0.25096524]],\n",
       "\n",
       "       [[0.23745173, 0.25096524, 0.3088803 ]],\n",
       "\n",
       "       [[0.25096524, 0.3088803 , 0.38223937]],\n",
       "\n",
       "       [[0.3088803 , 0.38223937, 0.36486486]],\n",
       "\n",
       "       [[0.38223937, 0.36486486, 0.2992278 ]],\n",
       "\n",
       "       [[0.36486486, 0.2992278 , 0.24131274]],\n",
       "\n",
       "       [[0.2992278 , 0.24131274, 0.1911197 ]],\n",
       "\n",
       "       [[0.24131274, 0.1911197 , 0.24131274]],\n",
       "\n",
       "       [[0.1911197 , 0.24131274, 0.26640925]],\n",
       "\n",
       "       [[0.24131274, 0.26640925, 0.24903473]],\n",
       "\n",
       "       [[0.26640925, 0.24903473, 0.31467178]],\n",
       "\n",
       "       [[0.24903473, 0.31467178, 0.3185328 ]],\n",
       "\n",
       "       [[0.31467178, 0.3185328 , 0.32046333]],\n",
       "\n",
       "       [[0.3185328 , 0.32046333, 0.4073359 ]],\n",
       "\n",
       "       [[0.32046333, 0.4073359 , 0.5019305 ]],\n",
       "\n",
       "       [[0.4073359 , 0.5019305 , 0.46911195]],\n",
       "\n",
       "       [[0.5019305 , 0.46911195, 0.40154442]],\n",
       "\n",
       "       [[0.46911195, 0.40154442, 0.32818535]],\n",
       "\n",
       "       [[0.40154442, 0.32818535, 0.25675675]],\n",
       "\n",
       "       [[0.32818535, 0.25675675, 0.3359073 ]],\n",
       "\n",
       "       [[0.25675675, 0.3359073 , 0.34749034]],\n",
       "\n",
       "       [[0.3359073 , 0.34749034, 0.33397684]],\n",
       "\n",
       "       [[0.34749034, 0.33397684, 0.41119692]],\n",
       "\n",
       "       [[0.33397684, 0.41119692, 0.4034749 ]],\n",
       "\n",
       "       [[0.41119692, 0.4034749 , 0.4131274 ]],\n",
       "\n",
       "       [[0.4034749 , 0.4131274 , 0.52123547]],\n",
       "\n",
       "       [[0.4131274 , 0.52123547, 0.5965251 ]],\n",
       "\n",
       "       [[0.52123547, 0.5965251 , 0.58108103]],\n",
       "\n",
       "       [[0.5965251 , 0.58108103, 0.484556  ]],\n",
       "\n",
       "       [[0.58108103, 0.484556  , 0.3899614 ]]], dtype=float32)"
      ]
     },
     "execution_count": 12,
     "metadata": {},
     "output_type": "execute_result"
    }
   ],
   "source": [
    "print(trainX.shape)\n",
    "trainX"
   ]
  },
  {
   "cell_type": "code",
   "execution_count": 13,
   "metadata": {},
   "outputs": [
    {
     "name": "stdout",
     "output_type": "stream",
     "text": [
      "Epoch 1/100\n",
      "82/82 [==============================] - 1s 15ms/step - loss: 0.0214 - val_loss: 0.0706\n",
      "Epoch 2/100\n",
      "82/82 [==============================] - 0s 2ms/step - loss: 0.0082 - val_loss: 0.0378\n",
      "Epoch 3/100\n",
      "82/82 [==============================] - 0s 2ms/step - loss: 0.0061 - val_loss: 0.0262\n",
      "Epoch 4/100\n",
      "82/82 [==============================] - 0s 3ms/step - loss: 0.0055 - val_loss: 0.0237\n",
      "Epoch 5/100\n",
      "82/82 [==============================] - 0s 2ms/step - loss: 0.0049 - val_loss: 0.0225\n",
      "Epoch 6/100\n",
      "82/82 [==============================] - 0s 2ms/step - loss: 0.0045 - val_loss: 0.0183\n",
      "Epoch 7/100\n",
      "82/82 [==============================] - 0s 3ms/step - loss: 0.0041 - val_loss: 0.0162\n",
      "Epoch 8/100\n",
      "82/82 [==============================] - 0s 3ms/step - loss: 0.0037 - val_loss: 0.0127\n",
      "Epoch 9/100\n",
      "82/82 [==============================] - 0s 2ms/step - loss: 0.0034 - val_loss: 0.0124\n",
      "Epoch 10/100\n",
      "82/82 [==============================] - 0s 4ms/step - loss: 0.0033 - val_loss: 0.0106\n",
      "Epoch 11/100\n",
      "82/82 [==============================] - 0s 2ms/step - loss: 0.0030 - val_loss: 0.0108\n",
      "Epoch 12/100\n",
      "82/82 [==============================] - 0s 2ms/step - loss: 0.0029 - val_loss: 0.0092\n",
      "Epoch 13/100\n",
      "82/82 [==============================] - 0s 3ms/step - loss: 0.0028 - val_loss: 0.0092\n",
      "Epoch 14/100\n",
      "82/82 [==============================] - 0s 3ms/step - loss: 0.0027 - val_loss: 0.0093\n",
      "Epoch 15/100\n",
      "82/82 [==============================] - 0s 2ms/step - loss: 0.0027 - val_loss: 0.0090\n",
      "Epoch 16/100\n",
      "82/82 [==============================] - 0s 3ms/step - loss: 0.0027 - val_loss: 0.0084\n",
      "Epoch 17/100\n",
      "82/82 [==============================] - 0s 3ms/step - loss: 0.0026 - val_loss: 0.0093\n",
      "Epoch 18/100\n",
      "82/82 [==============================] - 0s 3ms/step - loss: 0.0025 - val_loss: 0.0080\n",
      "Epoch 19/100\n",
      "82/82 [==============================] - 0s 3ms/step - loss: 0.0026 - val_loss: 0.0082\n",
      "Epoch 20/100\n",
      "82/82 [==============================] - 0s 3ms/step - loss: 0.0025 - val_loss: 0.0084\n",
      "Epoch 21/100\n",
      "82/82 [==============================] - 0s 2ms/step - loss: 0.0025 - val_loss: 0.0079\n",
      "Epoch 22/100\n",
      "82/82 [==============================] - 0s 2ms/step - loss: 0.0024 - val_loss: 0.0078\n",
      "Epoch 23/100\n",
      "82/82 [==============================] - 0s 3ms/step - loss: 0.0024 - val_loss: 0.0076\n",
      "Epoch 24/100\n",
      "82/82 [==============================] - 0s 3ms/step - loss: 0.0024 - val_loss: 0.0076\n",
      "Epoch 25/100\n",
      "82/82 [==============================] - 0s 3ms/step - loss: 0.0024 - val_loss: 0.0076\n",
      "Epoch 26/100\n",
      "82/82 [==============================] - 0s 3ms/step - loss: 0.0024 - val_loss: 0.0074\n",
      "Epoch 27/100\n",
      "82/82 [==============================] - 0s 3ms/step - loss: 0.0023 - val_loss: 0.0074\n",
      "Epoch 28/100\n",
      "82/82 [==============================] - 0s 3ms/step - loss: 0.0023 - val_loss: 0.0073\n",
      "Epoch 29/100\n",
      "82/82 [==============================] - 0s 3ms/step - loss: 0.0023 - val_loss: 0.0070\n",
      "Epoch 30/100\n",
      "82/82 [==============================] - 0s 3ms/step - loss: 0.0023 - val_loss: 0.0073\n",
      "Epoch 31/100\n",
      "82/82 [==============================] - 0s 3ms/step - loss: 0.0023 - val_loss: 0.0074\n",
      "Epoch 32/100\n",
      "82/82 [==============================] - 0s 3ms/step - loss: 0.0023 - val_loss: 0.0071\n",
      "Epoch 33/100\n",
      "82/82 [==============================] - 0s 3ms/step - loss: 0.0022 - val_loss: 0.0067\n",
      "Epoch 34/100\n",
      "82/82 [==============================] - 0s 3ms/step - loss: 0.0022 - val_loss: 0.0067\n",
      "Epoch 35/100\n",
      "82/82 [==============================] - 0s 3ms/step - loss: 0.0024 - val_loss: 0.0067\n",
      "Epoch 36/100\n",
      "82/82 [==============================] - 0s 3ms/step - loss: 0.0021 - val_loss: 0.0065\n",
      "Epoch 37/100\n",
      "82/82 [==============================] - 0s 3ms/step - loss: 0.0022 - val_loss: 0.0065\n",
      "Epoch 38/100\n",
      "82/82 [==============================] - 0s 3ms/step - loss: 0.0022 - val_loss: 0.0067\n",
      "Epoch 39/100\n",
      "82/82 [==============================] - 0s 3ms/step - loss: 0.0021 - val_loss: 0.0064\n",
      "Epoch 40/100\n",
      "82/82 [==============================] - 0s 3ms/step - loss: 0.0020 - val_loss: 0.0072\n",
      "Epoch 41/100\n",
      "82/82 [==============================] - 0s 3ms/step - loss: 0.0022 - val_loss: 0.0069\n",
      "Epoch 42/100\n",
      "82/82 [==============================] - 0s 3ms/step - loss: 0.0021 - val_loss: 0.0064\n",
      "Epoch 43/100\n",
      "82/82 [==============================] - 0s 2ms/step - loss: 0.0021 - val_loss: 0.0065\n",
      "Epoch 44/100\n",
      "82/82 [==============================] - 0s 3ms/step - loss: 0.0020 - val_loss: 0.0060\n",
      "Epoch 45/100\n",
      "82/82 [==============================] - 0s 2ms/step - loss: 0.0021 - val_loss: 0.0059\n",
      "Epoch 46/100\n",
      "82/82 [==============================] - 0s 3ms/step - loss: 0.0019 - val_loss: 0.0068\n",
      "Epoch 47/100\n",
      "82/82 [==============================] - 0s 2ms/step - loss: 0.0020 - val_loss: 0.0059\n",
      "Epoch 48/100\n",
      "82/82 [==============================] - 0s 3ms/step - loss: 0.0020 - val_loss: 0.0056\n",
      "Epoch 49/100\n",
      "82/82 [==============================] - 0s 2ms/step - loss: 0.0021 - val_loss: 0.0057\n",
      "Epoch 50/100\n",
      "82/82 [==============================] - 0s 3ms/step - loss: 0.0020 - val_loss: 0.0056\n",
      "Epoch 51/100\n",
      "82/82 [==============================] - 0s 3ms/step - loss: 0.0021 - val_loss: 0.0069\n",
      "Epoch 52/100\n",
      "82/82 [==============================] - 0s 2ms/step - loss: 0.0020 - val_loss: 0.0057\n",
      "Epoch 53/100\n",
      "82/82 [==============================] - 0s 3ms/step - loss: 0.0019 - val_loss: 0.0054\n",
      "Epoch 54/100\n",
      "82/82 [==============================] - 0s 3ms/step - loss: 0.0019 - val_loss: 0.0054\n",
      "Epoch 55/100\n",
      "82/82 [==============================] - 0s 2ms/step - loss: 0.0019 - val_loss: 0.0057\n",
      "Epoch 56/100\n",
      "82/82 [==============================] - 0s 3ms/step - loss: 0.0019 - val_loss: 0.0057\n",
      "Epoch 57/100\n",
      "82/82 [==============================] - 0s 3ms/step - loss: 0.0019 - val_loss: 0.0053\n",
      "Epoch 58/100\n",
      "82/82 [==============================] - 0s 3ms/step - loss: 0.0019 - val_loss: 0.0051\n",
      "Epoch 59/100\n",
      "82/82 [==============================] - 0s 2ms/step - loss: 0.0019 - val_loss: 0.0052\n",
      "Epoch 60/100\n",
      "82/82 [==============================] - 0s 2ms/step - loss: 0.0019 - val_loss: 0.0053\n",
      "Epoch 61/100\n",
      "82/82 [==============================] - 0s 3ms/step - loss: 0.0019 - val_loss: 0.0051\n",
      "Epoch 62/100\n",
      "82/82 [==============================] - 0s 3ms/step - loss: 0.0018 - val_loss: 0.0055\n",
      "Epoch 63/100\n",
      "82/82 [==============================] - 0s 3ms/step - loss: 0.0018 - val_loss: 0.0052\n",
      "Epoch 64/100\n",
      "82/82 [==============================] - 0s 3ms/step - loss: 0.0019 - val_loss: 0.0052\n",
      "Epoch 65/100\n",
      "82/82 [==============================] - 0s 3ms/step - loss: 0.0018 - val_loss: 0.0051\n",
      "Epoch 66/100\n",
      "82/82 [==============================] - 0s 3ms/step - loss: 0.0019 - val_loss: 0.0048\n",
      "Epoch 67/100\n",
      "82/82 [==============================] - 0s 3ms/step - loss: 0.0018 - val_loss: 0.0050\n",
      "Epoch 68/100\n",
      "82/82 [==============================] - 0s 2ms/step - loss: 0.0018 - val_loss: 0.0049\n",
      "Epoch 69/100\n",
      "82/82 [==============================] - 0s 3ms/step - loss: 0.0018 - val_loss: 0.0047\n",
      "Epoch 70/100\n",
      "82/82 [==============================] - 0s 3ms/step - loss: 0.0018 - val_loss: 0.0048\n",
      "Epoch 71/100\n",
      "82/82 [==============================] - 0s 3ms/step - loss: 0.0018 - val_loss: 0.0048\n",
      "Epoch 72/100\n",
      "82/82 [==============================] - 0s 3ms/step - loss: 0.0018 - val_loss: 0.0048\n",
      "Epoch 73/100\n",
      "82/82 [==============================] - 0s 3ms/step - loss: 0.0018 - val_loss: 0.0045\n",
      "Epoch 74/100\n",
      "82/82 [==============================] - 0s 3ms/step - loss: 0.0018 - val_loss: 0.0045\n",
      "Epoch 75/100\n",
      "82/82 [==============================] - 0s 3ms/step - loss: 0.0017 - val_loss: 0.0053\n",
      "Epoch 76/100\n",
      "82/82 [==============================] - 0s 3ms/step - loss: 0.0019 - val_loss: 0.0048\n",
      "Epoch 77/100\n",
      "82/82 [==============================] - 0s 3ms/step - loss: 0.0017 - val_loss: 0.0052\n",
      "Epoch 78/100\n",
      "82/82 [==============================] - 0s 3ms/step - loss: 0.0018 - val_loss: 0.0046\n",
      "Epoch 79/100\n",
      "82/82 [==============================] - 0s 3ms/step - loss: 0.0018 - val_loss: 0.0048\n",
      "Epoch 80/100\n",
      "82/82 [==============================] - 0s 3ms/step - loss: 0.0017 - val_loss: 0.0047\n",
      "Epoch 81/100\n",
      "82/82 [==============================] - 0s 3ms/step - loss: 0.0018 - val_loss: 0.0046\n",
      "Epoch 82/100\n",
      "82/82 [==============================] - 0s 3ms/step - loss: 0.0017 - val_loss: 0.0044\n",
      "Epoch 83/100\n"
     ]
    },
    {
     "name": "stdout",
     "output_type": "stream",
     "text": [
      "82/82 [==============================] - 0s 3ms/step - loss: 0.0017 - val_loss: 0.0045\n",
      "Epoch 84/100\n",
      "82/82 [==============================] - 0s 3ms/step - loss: 0.0018 - val_loss: 0.0045\n",
      "Epoch 85/100\n",
      "82/82 [==============================] - 0s 3ms/step - loss: 0.0018 - val_loss: 0.0043\n",
      "Epoch 86/100\n",
      "82/82 [==============================] - 0s 3ms/step - loss: 0.0017 - val_loss: 0.0042\n",
      "Epoch 87/100\n",
      "82/82 [==============================] - 0s 3ms/step - loss: 0.0018 - val_loss: 0.0042\n",
      "Epoch 88/100\n",
      "82/82 [==============================] - 0s 3ms/step - loss: 0.0017 - val_loss: 0.0041\n",
      "Epoch 89/100\n",
      "82/82 [==============================] - 0s 3ms/step - loss: 0.0017 - val_loss: 0.0040\n",
      "Epoch 90/100\n",
      "82/82 [==============================] - 0s 3ms/step - loss: 0.0017 - val_loss: 0.0042\n",
      "Epoch 91/100\n",
      "82/82 [==============================] - 0s 3ms/step - loss: 0.0017 - val_loss: 0.0041\n",
      "Epoch 92/100\n",
      "82/82 [==============================] - 0s 3ms/step - loss: 0.0017 - val_loss: 0.0047\n",
      "Epoch 93/100\n",
      "82/82 [==============================] - 0s 3ms/step - loss: 0.0018 - val_loss: 0.0042\n",
      "Epoch 94/100\n",
      "82/82 [==============================] - 0s 3ms/step - loss: 0.0017 - val_loss: 0.0041\n",
      "Epoch 95/100\n",
      "82/82 [==============================] - 0s 3ms/step - loss: 0.0017 - val_loss: 0.0043\n",
      "Epoch 96/100\n",
      "82/82 [==============================] - 0s 3ms/step - loss: 0.0016 - val_loss: 0.0038\n",
      "Epoch 97/100\n",
      "82/82 [==============================] - 0s 3ms/step - loss: 0.0016 - val_loss: 0.0043\n",
      "Epoch 98/100\n",
      "82/82 [==============================] - 0s 3ms/step - loss: 0.0017 - val_loss: 0.0039\n",
      "Epoch 99/100\n",
      "82/82 [==============================] - 0s 3ms/step - loss: 0.0016 - val_loss: 0.0038\n",
      "Epoch 100/100\n",
      "82/82 [==============================] - 0s 3ms/step - loss: 0.0016 - val_loss: 0.0041\n"
     ]
    },
    {
     "data": {
      "text/plain": [
       "<tensorflow.python.keras.callbacks.History at 0xff223e8c48>"
      ]
     },
     "execution_count": 13,
     "metadata": {},
     "output_type": "execute_result"
    }
   ],
   "source": [
    "# create and fit the LSTM network\n",
    "model = Sequential()\n",
    "model.add(LSTM(4, input_shape=(1, look_back)))\n",
    "model.add(Dense(1))\n",
    "model.compile(loss='mean_squared_error', optimizer='adam')\n",
    "model.fit(trainX, trainY, epochs=100, batch_size=1, validation_split=0.1)"
   ]
  },
  {
   "cell_type": "code",
   "execution_count": 14,
   "metadata": {},
   "outputs": [
    {
     "name": "stdout",
     "output_type": "stream",
     "text": [
      "Train Score: 22.33 RMSE\n",
      "Test Score: 52.49 RMSE\n"
     ]
    }
   ],
   "source": [
    "# make predictions\n",
    "trainPredict = model.predict(trainX)\n",
    "testPredict = model.predict(testX)\n",
    "# invert predictions\n",
    "trainPredict = scaler.inverse_transform(trainPredict)\n",
    "trainY = scaler.inverse_transform([trainY])\n",
    "testPredict = scaler.inverse_transform(testPredict)\n",
    "testY = scaler.inverse_transform([testY])\n",
    "# calculate root mean squared error\n",
    "trainScore = math.sqrt(mean_squared_error(trainY[0], trainPredict[:,0]))\n",
    "print('Train Score: %.2f RMSE' % (trainScore))\n",
    "testScore = math.sqrt(mean_squared_error(testY[0], testPredict[:,0]))\n",
    "print('Test Score: %.2f RMSE' % (testScore))"
   ]
  },
  {
   "cell_type": "code",
   "execution_count": 15,
   "metadata": {},
   "outputs": [
    {
     "data": {
      "image/png": "[encoded data removed]",
      "text/plain": [
       "<Figure size 432x288 with 1 Axes>"
      ]
     },
     "metadata": {
      "needs_background": "light"
     },
     "output_type": "display_data"
    }
   ],
   "source": [
    "# shift train predictions for plotting\n",
    "trainPredictPlot = numpy.empty_like(dataset)\n",
    "trainPredictPlot[:, :] = numpy.nan\n",
    "trainPredictPlot[look_back:len(trainPredict)+look_back, :] = trainPredict\n",
    "# shift test predictions for plotting\n",
    "testPredictPlot = numpy.empty_like(dataset)\n",
    "testPredictPlot[:, :] = numpy.nan\n",
    "testPredictPlot[len(trainPredict)+(look_back*2)+1:len(dataset)-1, :] = testPredict\n",
    "# plot baseline and predictions\n",
    "plt.plot(scaler.inverse_transform(dataset))\n",
    "plt.plot(trainPredictPlot)\n",
    "plt.plot(testPredictPlot)\n",
    "plt.show()"
   ]
  },
  {
   "cell_type": "code",
   "execution_count": null,
   "metadata": {},
   "outputs": [],
   "source": []
  }
 ],
 "metadata": {
  "kernelspec": {
   "display_name": "Python 3",
   "language": "python",
   "name": "python3"
  },
  "language_info": {
   "codemirror_mode": {
    "name": "ipython",
    "version": 3
   },
   "file_extension": ".py",
   "mimetype": "text/x-python",
   "name": "python",
   "nbconvert_exporter": "python",
   "pygments_lexer": "ipython3",
   "version": "3.7.6"
  }
 },
 "nbformat": 4,
 "nbformat_minor": 2
}
