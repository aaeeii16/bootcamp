{
 "cells": [
  {
   "cell_type": "code",
   "execution_count": 1,
   "metadata": {},
   "outputs": [
    {
     "name": "stdout",
     "output_type": "stream",
     "text": [
      "2.3.1\n",
      "2.4.0\n"
     ]
    }
   ],
   "source": [
    "import tensorflow as tf\n",
    "from tensorflow import keras as keras\n",
    "print(tf.__version__)\n",
    "\n",
    "print(keras.__version__)"
   ]
  },
  {
   "cell_type": "code",
   "execution_count": 2,
   "metadata": {},
   "outputs": [],
   "source": [
    "import matplotlib.pyplot as plt\n",
    "import os\n",
    "import sys\n",
    "import numpy as np\n",
    "\n",
    "from tensorflow.keras.models import Sequential\n",
    "from tensorflow.keras.layers import Dense\n",
    "from tensorflow.keras.callbacks import LearningRateScheduler\n",
    "from tensorflow.keras.callbacks import ModelCheckpoint\n",
    "from tensorflow.keras.callbacks import EarlyStopping\n",
    "from tensorflow.keras.layers import Dropout\n",
    "from tensorflow.keras.layers import BatchNormalization\n",
    "from tensorflow.keras.layers import Activation\n",
    "from tensorflow.keras.layers import Flatten\n",
    "from tensorflow.python.keras.layers.convolutional import Conv2D, MaxPooling2D, AveragePooling2D\n",
    "from tensorflow.keras.layers import Dense, Dropout, Embedding, SimpleRNN, LSTM, Bidirectional\n",
    "from tensorflow.keras.callbacks import History"
   ]
  },
  {
   "cell_type": "markdown",
   "metadata": {},
   "source": [
    "The Embedding layer is defined as the first hidden layer of a network. It must specify 3 arguments:\n",
    "\n",
    "It must specify 3 arguments:\n",
    "\n",
    "* **input_dim**: This is the size of the vocabulary in the text data. For example, if your data is integer encoded to values between 0-10, then the size of the vocabulary would be 11 words.\n",
    "* **output_dim**: This is the size of the vector space in which words will be embedded. It defines the size of the output vectors from this layer for each word. For example, it could be 32 or 100 or even larger. Test different values for your problem.\n",
    "* **input_length**: This is the length of input sequences, as you would define for any input layer of a Keras model. For example, if all of your input documents are comprised of 1000 words, this would be 1000.\n",
    "\n",
    "# Zad.\n",
    "\n",
    "Poberz dane z konkursu http://2017.poleval.pl/index.php/tasks/ Task 2. Sentiment analysis\n",
    "\n",
    "Pojedyńczy plik można pobrać z tąd:\n",
    "https://www.dropbox.com/sh/tjq47ybybgnrbel/AAAVbp0UkQTAbKWVMIi5mtHpa?dl=0\n"
   ]
  },
  {
   "cell_type": "code",
   "execution_count": 3,
   "metadata": {},
   "outputs": [
    {
     "name": "stdout",
     "output_type": "stream",
     "text": [
      "(5000, 300)\n"
     ]
    }
   ],
   "source": [
    "file_with_filtered_embeddings = \"Dane/data_poleval/embeddings.txt\"\n",
    "\n",
    "words2ids = {}\n",
    "embeddings = []\n",
    "\n",
    "embeddings.append(np.zeros(300)) # rezerwujemy embeddingi na paddin i nieznane slowa\n",
    "embeddings.append(np.zeros(300))\n",
    "\n",
    "i = 0\n",
    "with open(file_with_filtered_embeddings,\"r\", encoding=\"utf8\")as f:\n",
    "    for line in f:\n",
    "        toks = line.split(\" \")\n",
    "        word = toks[0]\n",
    "        embeddings.append(np.array([float(x) for x in toks[1:]]))\n",
    "        words2ids[word] = i+2 # +3 - przesuniecie po to zeby specjalne embeddingi byly na pozycji 0 i 1\n",
    "        i = i + 1\n",
    "\n",
    "\n",
    "embeddings = np.array(embeddings)\n",
    "print(embeddings.shape)"
   ]
  },
  {
   "cell_type": "code",
   "execution_count": 4,
   "metadata": {},
   "outputs": [
    {
     "data": {
      "text/plain": [
       "2731"
      ]
     },
     "execution_count": 4,
     "metadata": {},
     "output_type": "execute_result"
    }
   ],
   "source": [
    "words2ids[\"Słodkawy\"]"
   ]
  },
  {
   "cell_type": "code",
   "execution_count": 5,
   "metadata": {},
   "outputs": [
    {
     "data": {
      "text/plain": [
       "array([ 0.0695675 , -0.0123177 ,  0.0190564 ,  0.0205853 , -0.0586069 ,\n",
       "        0.123962  , -0.0113998 ,  0.0486168 , -0.0593128 ,  0.0244056 ,\n",
       "        0.00806909, -0.0123139 ,  0.0318254 ,  0.0375928 ,  0.0488764 ,\n",
       "       -0.0311151 , -0.0571845 ,  0.00886492, -0.023981  , -0.0729585 ,\n",
       "        0.00780728, -0.0103228 ,  0.0451543 , -0.00375595, -0.01016   ,\n",
       "        0.0157066 ,  0.0933215 ,  0.00742586,  0.0662036 ,  0.0147866 ,\n",
       "       -0.0326982 , -0.105277  ,  0.0939024 , -0.141137  , -0.0390246 ,\n",
       "        0.0307554 , -0.124878  ,  0.092467  , -0.0449775 ,  0.0278756 ,\n",
       "        0.0120974 ,  0.0402319 , -0.0602183 ,  0.117348  , -0.0286395 ,\n",
       "        0.0226578 , -0.0100841 ,  0.0928551 ,  0.0676152 , -0.0280563 ,\n",
       "        0.0516412 ,  0.0899037 , -0.0634045 ,  0.0149937 , -0.0472655 ,\n",
       "       -0.0638853 , -0.00977132, -0.0440674 ,  0.00945409, -0.0873957 ,\n",
       "        0.0113474 ,  0.00536351,  0.0406797 ,  0.051127  ,  0.0194782 ,\n",
       "        0.00793247,  0.00938793,  0.0813627 , -0.0323478 ,  0.00834836,\n",
       "       -0.0307443 , -0.00129854,  0.0432319 ,  0.133133  ,  0.025146  ,\n",
       "       -0.00617633, -0.0998303 ,  0.0437879 ,  0.139863  ,  0.0770133 ,\n",
       "        0.00529203, -0.0904055 ,  0.0356017 , -0.092935  ,  0.00502568,\n",
       "        0.00720983,  0.0144587 ,  0.0504662 ,  0.106105  , -0.0596305 ,\n",
       "        0.0165428 , -0.0756499 , -0.0548418 , -0.0436699 , -0.00525561,\n",
       "        0.0554075 ,  0.0690609 ,  0.09896   ,  0.0120319 , -0.0420232 ,\n",
       "        0.00035797, -0.0137097 ,  0.0175877 , -0.148398  , -0.0668958 ,\n",
       "        0.0681549 , -0.0670223 , -0.00222621, -0.047205  , -0.0354883 ,\n",
       "        0.0521945 , -0.00938699, -0.110972  , -0.0411835 , -0.0262399 ,\n",
       "       -0.0245242 , -0.0205056 ,  0.119049  , -0.0968168 ,  0.00101308,\n",
       "        0.0438422 ,  0.0132003 , -0.0552679 ,  0.0358181 ,  0.0659297 ,\n",
       "       -0.0691131 ,  0.0380908 ,  0.0678329 , -0.0180567 , -0.0153763 ,\n",
       "       -0.0928159 ,  0.0291021 ,  0.0661943 , -0.0232954 , -0.0999478 ,\n",
       "       -0.025268  ,  0.0265694 , -0.0789217 , -0.139136  , -0.043029  ,\n",
       "       -0.004668  ,  0.142589  ,  0.0491691 ,  0.0301554 , -0.0725976 ,\n",
       "       -0.0245116 , -0.0258727 , -0.081907  , -0.033818  , -0.0910337 ,\n",
       "        0.134159  , -0.0114324 ,  0.168495  ,  0.0744587 , -0.0551564 ,\n",
       "       -0.0299129 , -0.0764537 , -0.0583725 ,  0.101149  ,  0.0483574 ,\n",
       "        0.0185893 ,  0.0476507 , -0.00851304,  0.0257832 , -0.0423777 ,\n",
       "       -0.026234  , -0.0224656 , -0.0177372 , -0.0269845 , -0.0395937 ,\n",
       "       -0.0895522 , -0.0387699 ,  0.0386046 , -0.0269241 , -0.0252017 ,\n",
       "        0.00555369, -0.125734  ,  0.052703  , -0.0508996 , -0.0301596 ,\n",
       "        0.0719947 , -0.00781578,  0.0183722 ,  0.0137835 ,  0.145643  ,\n",
       "       -0.163511  ,  0.00493691,  0.00842864, -0.00523769,  0.0250127 ,\n",
       "       -0.069887  ,  0.0340264 , -0.0277308 ,  0.0666341 ,  0.0452207 ,\n",
       "        0.00394535,  0.159992  , -0.0478898 , -0.0356679 , -0.0167176 ,\n",
       "        0.0389694 ,  0.0144782 , -0.0481584 , -0.0269981 ,  0.0665881 ,\n",
       "       -0.00597176,  0.0203096 , -0.0116472 , -0.0288414 , -0.0123771 ,\n",
       "       -0.0126907 ,  0.0264299 , -0.094251  ,  0.0308239 , -0.0451183 ,\n",
       "       -0.00945021, -0.073934  ,  0.0713121 , -0.0174938 ,  0.0587443 ,\n",
       "       -0.00283306, -0.0534264 ,  0.0672013 , -0.0402565 , -0.0248949 ,\n",
       "       -0.0521673 , -0.00848431,  0.0723062 , -0.00412129,  0.0725852 ,\n",
       "        0.068625  ,  0.00367457, -0.0591261 , -0.113534  ,  0.0148794 ,\n",
       "       -0.0679527 ,  0.0171171 , -0.0326562 ,  0.087949  , -0.0723946 ,\n",
       "       -0.0454645 , -0.0426597 ,  0.0783788 ,  0.0905034 ,  0.05728   ,\n",
       "       -0.0858484 , -0.064867  ,  0.0215164 ,  0.0423614 , -0.0340275 ,\n",
       "        0.0465895 ,  0.0276519 ,  0.0410746 ,  0.0158002 , -0.154203  ,\n",
       "        0.0731088 ,  0.0101519 , -0.0274256 , -0.0583854 , -0.0184802 ,\n",
       "       -0.0752445 ,  0.0297846 ,  0.0426677 , -0.0593996 ,  0.0168314 ,\n",
       "        0.0689239 , -0.00937583, -0.00648955, -0.0126788 ,  0.0210303 ,\n",
       "        0.0957282 , -0.0613672 , -0.0333282 , -0.0210865 , -0.0843227 ,\n",
       "        0.0578791 ,  0.052726  , -0.0566956 , -0.0407154 ,  0.0603111 ,\n",
       "       -0.0569204 , -0.0586587 , -0.0135658 ,  0.0254326 , -0.0944752 ,\n",
       "       -0.07885   , -0.00470421,  0.0174975 ,  0.0462485 ,  0.0642261 ,\n",
       "        0.0310251 ,  0.102567  , -0.041987  ,  0.0700113 , -0.0171799 ,\n",
       "        0.0922816 ,  0.00777218, -0.0109217 , -0.090305  , -0.0368232 ])"
      ]
     },
     "execution_count": 5,
     "metadata": {},
     "output_type": "execute_result"
    }
   ],
   "source": [
    "embeddings[words2ids[\"Słodkawy\"]]"
   ]
  },
  {
   "cell_type": "code",
   "execution_count": 6,
   "metadata": {},
   "outputs": [],
   "source": [
    "from tensorflow.keras.preprocessing import sequence as seq\n",
    "def load_and_transform_data_to_phrases(labels, parents, tokens, words2ids):\n",
    "\n",
    "    \"\"\"\n",
    "    Dokumentacja\n",
    "    \"\"\"\n",
    "    \n",
    "\n",
    "    transform_label = {'-1':0, '0':1, '1':2}\n",
    "    \n",
    "    l = open(labels, \"r\", encoding=\"utf8\")\n",
    "    labels = [[transform_label[y] for y in x.split()] for x in l.readlines()] \n",
    "    l.close()\n",
    "\n",
    "    p = open(parents,\"r\", encoding=\"utf8\")\n",
    "    parents = [[int(y) for y in x.split()] for x in p.readlines()]\n",
    "    p.close()\n",
    "\n",
    "    t = open(tokens,\"r\", encoding=\"utf8\")\n",
    "    tokens = [x.split() for x in t.readlines()]\n",
    "    t.close()\n",
    "    \n",
    "    k = 0\n",
    "    result = []\n",
    "    \n",
    "    for labels_i,parents_i,tokens_i in zip(labels,parents,tokens):\n",
    "        \n",
    "        k = k + 1\n",
    "         \n",
    "        s = []\n",
    "        for i in range(len(tokens_i)):\n",
    "            s.append([i,int(parents_i[i]),labels_i[i],tokens_i[i]])\n",
    "\n",
    "\n",
    "        if len(s) == 1: #przypadek gdy fraza sklada sie z jednego tokena\n",
    "\n",
    "            result.append((\\\n",
    "                                  tokens[0],\n",
    "                                  np.array([words2ids.get(tokens[0], 1)]),\\\n",
    "                                  np.array(labels_i[0]) \\\n",
    "                              ))    \n",
    "                           \n",
    "        else: \n",
    "            \n",
    "            for i in range(len(s)): \n",
    "                children = []\n",
    "                for j in range(len(s)):\n",
    "                    if s[j][1] == i+1:\n",
    "                        children.append(s[j][0])\n",
    "                s[i].append(children)\n",
    "\n",
    "                \n",
    "            words = [x[0] for x in s]\n",
    "            children = [x[4] for x in s]\n",
    "            tokens = [x[3] for x in s]\n",
    "            labels_in_batch = [x[2] for x in s]\n",
    "        \n",
    "            phrases = [[k] for k in range(len(children))]\n",
    "            for i in range(len(children)):\n",
    "                for e in phrases[i]:\n",
    "                    phrases[i].extend(children[e])\n",
    "           \n",
    "            phrases = [ np.sort(x) for x in phrases]\n",
    "          \n",
    "            phrases = list(zip([np.array(tokens_i)[x] for x in phrases],\n",
    "                               [np.array([words2ids.get(t,1) for t in tokens_i])[x] for x in phrases],\n",
    "                               labels_i))\n",
    "\n",
    "            result.extend(phrases)\n",
    "           \n",
    "    return result\n"
   ]
  },
  {
   "cell_type": "code",
   "execution_count": 7,
   "metadata": {},
   "outputs": [],
   "source": [
    "train_data = load_and_transform_data_to_phrases(\"Dane/data_poleval/training-treebank/rev_labels.txt\", \"Dane/data_poleval/training-treebank/rev_parents.txt\",\"Dane/data_poleval/training-treebank/rev_sentence.txt\",words2ids)\n",
    "test_data = load_and_transform_data_to_phrases(\"Dane/data_poleval/poleval_test/gold_labels\", \"Dane/data_poleval/poleval_test/polevaltest_parents.txt\",\"Dane/data_poleval/poleval_test/polevaltest_sentence.txt\",words2ids) "
   ]
  },
  {
   "cell_type": "code",
   "execution_count": 9,
   "metadata": {},
   "outputs": [],
   "source": [
    "from tensorflow.python.keras.utils import np_utils\n",
    "from tensorflow.keras.preprocessing.sequence import pad_sequences\n",
    "\n",
    "lengths1 = [len(x[0]) for x in train_data]\n",
    "lengths2 = [len(x[0]) for x in test_data]\n",
    "max_len = max(lengths1 + lengths2)\n",
    "\n",
    "x_train = np.array([x[1] for x in train_data])\n",
    "x_test = np.array([x[1] for x in test_data])\n",
    "\n",
    "y_train = np.array([x[2] for x in train_data])\n",
    "y_test = np.array([x[2] for x in test_data])\n",
    "\n",
    "y_train = np_utils.to_categorical(y_train)\n",
    "y_test = np_utils.to_categorical(y_test)\n",
    "\n",
    "X_train = pad_sequences(x_train, maxlen=max_len)\n",
    "X_test = pad_sequences(x_test, maxlen=max_len)"
   ]
  },
  {
   "cell_type": "code",
   "execution_count": 10,
   "metadata": {},
   "outputs": [
    {
     "name": "stdout",
     "output_type": "stream",
     "text": [
      "(9510, 3)\n"
     ]
    },
    {
     "data": {
      "text/plain": [
       "array([[   0,    0,    0, ...,    0,    0, 2731],\n",
       "       [   0,    0,    0, ..., 1465,  515,    1],\n",
       "       [   0,    0,    0, ...,    0,    0, 1465],\n",
       "       ...,\n",
       "       [   0,    0,    0, ...,    0,    0, 2397],\n",
       "       [   0,    0,    0, ...,    0, 2397, 2903],\n",
       "       [   0,    0,    0, ...,    0,    0,    1]])"
      ]
     },
     "execution_count": 10,
     "metadata": {},
     "output_type": "execute_result"
    }
   ],
   "source": [
    "print(y_train.shape)\n",
    "X_train"
   ]
  },
  {
   "cell_type": "code",
   "execution_count": 11,
   "metadata": {},
   "outputs": [
    {
     "name": "stdout",
     "output_type": "stream",
     "text": [
      "Model: \"sequential\"\n",
      "_________________________________________________________________\n",
      "Layer (type)                 Output Shape              Param #   \n",
      "=================================================================\n",
      "embedding (Embedding)        (None, 40, 300)           1500000   \n",
      "_________________________________________________________________\n",
      "flatten (Flatten)            (None, 12000)             0         \n",
      "_________________________________________________________________\n",
      "dense (Dense)                (None, 3)                 36003     \n",
      "=================================================================\n",
      "Total params: 1,536,003\n",
      "Trainable params: 1,536,003\n",
      "Non-trainable params: 0\n",
      "_________________________________________________________________\n"
     ]
    }
   ],
   "source": [
    "history_1 = History()\n",
    "model = Sequential()\n",
    "model.add(Embedding(5000, 300, input_length=max_len))\n",
    "model.add(Flatten())\n",
    "model.add(Dense(3, activation='softmax'))\n",
    "model.summary()"
   ]
  },
  {
   "cell_type": "code",
   "execution_count": 12,
   "metadata": {},
   "outputs": [
    {
     "name": "stdout",
     "output_type": "stream",
     "text": [
      "Epoch 1/100\n",
      "238/238 [==============================] - 7s 30ms/step - loss: 0.4870 - categorical_accuracy: 0.8143 - val_loss: 0.4710 - val_categorical_accuracy: 0.8197\n",
      "Epoch 2/100\n",
      "238/238 [==============================] - 8s 32ms/step - loss: 0.2744 - categorical_accuracy: 0.8996 - val_loss: 0.4372 - val_categorical_accuracy: 0.8297\n",
      "Epoch 3/100\n",
      "238/238 [==============================] - 7s 30ms/step - loss: 0.1608 - categorical_accuracy: 0.9473 - val_loss: 0.4482 - val_categorical_accuracy: 0.8360\n",
      "Epoch 4/100\n",
      "238/238 [==============================] - 7s 30ms/step - loss: 0.0987 - categorical_accuracy: 0.9691 - val_loss: 0.4495 - val_categorical_accuracy: 0.8433\n",
      "Epoch 5/100\n",
      "238/238 [==============================] - 7s 29ms/step - loss: 0.0671 - categorical_accuracy: 0.9787 - val_loss: 0.4869 - val_categorical_accuracy: 0.8391\n",
      "Epoch 6/100\n",
      "238/238 [==============================] - 7s 31ms/step - loss: 0.0488 - categorical_accuracy: 0.9846 - val_loss: 0.5022 - val_categorical_accuracy: 0.8481\n",
      "Epoch 7/100\n",
      "238/238 [==============================] - ETA: 0s - loss: 0.0389 - categorical_accuracy: 0.98 - 7s 31ms/step - loss: 0.0389 - categorical_accuracy: 0.9875 - val_loss: 0.5223 - val_categorical_accuracy: 0.8449\n",
      "Epoch 8/100\n",
      "238/238 [==============================] - 8s 32ms/step - loss: 0.0306 - categorical_accuracy: 0.9900 - val_loss: 0.5614 - val_categorical_accuracy: 0.8412\n",
      "Epoch 9/100\n",
      "238/238 [==============================] - 7s 31ms/step - loss: 0.0286 - categorical_accuracy: 0.9913 - val_loss: 0.5830 - val_categorical_accuracy: 0.8496\n",
      "Epoch 10/100\n",
      "238/238 [==============================] - 7s 31ms/step - loss: 0.0252 - categorical_accuracy: 0.9915 - val_loss: 0.5953 - val_categorical_accuracy: 0.8391\n",
      "Epoch 11/100\n",
      "238/238 [==============================] - 7s 31ms/step - loss: 0.0212 - categorical_accuracy: 0.9925 - val_loss: 0.5985 - val_categorical_accuracy: 0.8449\n",
      "Epoch 12/100\n",
      "238/238 [==============================] - 7s 31ms/step - loss: 0.0199 - categorical_accuracy: 0.9933 - val_loss: 0.6421 - val_categorical_accuracy: 0.8423\n",
      "Epoch 13/100\n",
      "238/238 [==============================] - 8s 34ms/step - loss: 0.0181 - categorical_accuracy: 0.9938 - val_loss: 0.6630 - val_categorical_accuracy: 0.8328\n",
      "Epoch 14/100\n",
      "238/238 [==============================] - 7s 30ms/step - loss: 0.0182 - categorical_accuracy: 0.9937 - val_loss: 0.6503 - val_categorical_accuracy: 0.8365\n",
      "Epoch 15/100\n",
      "238/238 [==============================] - 7s 30ms/step - loss: 0.0180 - categorical_accuracy: 0.9940 - val_loss: 0.7223 - val_categorical_accuracy: 0.8444\n",
      "Epoch 16/100\n",
      "238/238 [==============================] - 9s 36ms/step - loss: 0.0167 - categorical_accuracy: 0.9946 - val_loss: 0.7502 - val_categorical_accuracy: 0.8454\n",
      "Epoch 17/100\n",
      "238/238 [==============================] - 9s 36ms/step - loss: 0.0159 - categorical_accuracy: 0.9942 - val_loss: 0.7575 - val_categorical_accuracy: 0.8438\n",
      "Epoch 18/100\n",
      "238/238 [==============================] - 8s 32ms/step - loss: 0.0150 - categorical_accuracy: 0.9942 - val_loss: 0.7185 - val_categorical_accuracy: 0.8302\n",
      "Epoch 19/100\n",
      "238/238 [==============================] - 8s 33ms/step - loss: 0.0150 - categorical_accuracy: 0.9955 - val_loss: 0.7840 - val_categorical_accuracy: 0.8465\n",
      "Epoch 20/100\n",
      "238/238 [==============================] - 7s 31ms/step - loss: 0.0136 - categorical_accuracy: 0.9957 - val_loss: 0.7654 - val_categorical_accuracy: 0.8207\n",
      "Epoch 21/100\n",
      "238/238 [==============================] - 8s 34ms/step - loss: 0.0151 - categorical_accuracy: 0.9951 - val_loss: 0.8097 - val_categorical_accuracy: 0.8402\n",
      "Epoch 22/100\n",
      "238/238 [==============================] - 7s 31ms/step - loss: 0.0163 - categorical_accuracy: 0.9947 - val_loss: 0.7904 - val_categorical_accuracy: 0.8402\n",
      "Epoch 23/100\n",
      "238/238 [==============================] - 7s 31ms/step - loss: 0.0147 - categorical_accuracy: 0.9947 - val_loss: 0.7958 - val_categorical_accuracy: 0.8381\n",
      "Epoch 24/100\n",
      "238/238 [==============================] - 7s 31ms/step - loss: 0.0133 - categorical_accuracy: 0.9950 - val_loss: 0.8314 - val_categorical_accuracy: 0.8444\n",
      "Epoch 25/100\n",
      "238/238 [==============================] - 7s 31ms/step - loss: 0.0129 - categorical_accuracy: 0.9957 - val_loss: 0.8352 - val_categorical_accuracy: 0.8360\n",
      "Epoch 26/100\n",
      "238/238 [==============================] - 8s 32ms/step - loss: 0.0128 - categorical_accuracy: 0.9955 - val_loss: 0.8149 - val_categorical_accuracy: 0.8370\n",
      "Epoch 27/100\n",
      "238/238 [==============================] - 8s 32ms/step - loss: 0.0123 - categorical_accuracy: 0.9957 - val_loss: 0.8983 - val_categorical_accuracy: 0.8417\n",
      "Epoch 28/100\n",
      "238/238 [==============================] - 8s 32ms/step - loss: 0.0112 - categorical_accuracy: 0.9958 - val_loss: 0.8877 - val_categorical_accuracy: 0.8412\n",
      "Epoch 29/100\n",
      "238/238 [==============================] - 7s 31ms/step - loss: 0.0127 - categorical_accuracy: 0.9957 - val_loss: 0.8814 - val_categorical_accuracy: 0.8412\n",
      "Epoch 30/100\n",
      "238/238 [==============================] - 7s 31ms/step - loss: 0.0122 - categorical_accuracy: 0.9947 - val_loss: 0.9509 - val_categorical_accuracy: 0.8444\n",
      "Epoch 31/100\n",
      "238/238 [==============================] - 7s 31ms/step - loss: 0.0116 - categorical_accuracy: 0.9963 - val_loss: 0.9194 - val_categorical_accuracy: 0.8454\n",
      "Epoch 32/100\n",
      "238/238 [==============================] - 8s 33ms/step - loss: 0.0118 - categorical_accuracy: 0.9957 - val_loss: 0.9116 - val_categorical_accuracy: 0.8244\n",
      "Epoch 33/100\n",
      "238/238 [==============================] - 8s 35ms/step - loss: 0.0115 - categorical_accuracy: 0.9963 - val_loss: 0.9418 - val_categorical_accuracy: 0.8396\n",
      "Epoch 34/100\n",
      "238/238 [==============================] - 9s 36ms/step - loss: 0.0119 - categorical_accuracy: 0.9946 - val_loss: 0.9377 - val_categorical_accuracy: 0.8412\n",
      "Epoch 35/100\n",
      "238/238 [==============================] - 10s 43ms/step - loss: 0.0123 - categorical_accuracy: 0.9950 - val_loss: 0.9216 - val_categorical_accuracy: 0.8323\n",
      "Epoch 36/100\n",
      "238/238 [==============================] - 9s 36ms/step - loss: 0.0112 - categorical_accuracy: 0.9965 - val_loss: 0.9348 - val_categorical_accuracy: 0.8333\n",
      "Epoch 37/100\n",
      "238/238 [==============================] - 8s 32ms/step - loss: 0.0111 - categorical_accuracy: 0.9958 - val_loss: 1.0125 - val_categorical_accuracy: 0.8407\n",
      "Epoch 38/100\n",
      "238/238 [==============================] - 8s 33ms/step - loss: 0.0097 - categorical_accuracy: 0.9970 - val_loss: 1.0373 - val_categorical_accuracy: 0.8412\n",
      "Epoch 39/100\n",
      "238/238 [==============================] - 7s 31ms/step - loss: 0.0101 - categorical_accuracy: 0.9962 - val_loss: 0.9992 - val_categorical_accuracy: 0.8412\n",
      "Epoch 40/100\n",
      "238/238 [==============================] - 9s 37ms/step - loss: 0.0100 - categorical_accuracy: 0.9955 - val_loss: 0.9961 - val_categorical_accuracy: 0.8396\n",
      "Epoch 41/100\n",
      "238/238 [==============================] - 9s 40ms/step - loss: 0.0107 - categorical_accuracy: 0.9962 - val_loss: 1.0370 - val_categorical_accuracy: 0.8412\n",
      "Epoch 42/100\n",
      "238/238 [==============================] - 7s 31ms/step - loss: 0.0097 - categorical_accuracy: 0.9959 - val_loss: 1.0389 - val_categorical_accuracy: 0.8344\n",
      "Epoch 43/100\n",
      "238/238 [==============================] - 7s 31ms/step - loss: 0.0107 - categorical_accuracy: 0.9961 - val_loss: 1.1574 - val_categorical_accuracy: 0.8396\n",
      "Epoch 44/100\n",
      "238/238 [==============================] - 7s 30ms/step - loss: 0.0108 - categorical_accuracy: 0.9957 - val_loss: 1.0476 - val_categorical_accuracy: 0.8344\n",
      "Epoch 45/100\n",
      "238/238 [==============================] - 9s 37ms/step - loss: 0.0113 - categorical_accuracy: 0.9955 - val_loss: 1.0770 - val_categorical_accuracy: 0.8407\n",
      "Epoch 46/100\n",
      "238/238 [==============================] - 10s 44ms/step - loss: 0.0111 - categorical_accuracy: 0.9962 - val_loss: 1.0887 - val_categorical_accuracy: 0.8407\n",
      "Epoch 47/100\n",
      "238/238 [==============================] - 9s 36ms/step - loss: 0.0090 - categorical_accuracy: 0.9965 - val_loss: 1.0992 - val_categorical_accuracy: 0.8396\n",
      "Epoch 48/100\n",
      "238/238 [==============================] - 7s 30ms/step - loss: 0.0091 - categorical_accuracy: 0.9961 - val_loss: 1.0846 - val_categorical_accuracy: 0.8407\n",
      "Epoch 49/100\n"
     ]
    },
    {
     "name": "stdout",
     "output_type": "stream",
     "text": [
      "238/238 [==============================] - 7s 30ms/step - loss: 0.0089 - categorical_accuracy: 0.9967 - val_loss: 1.1169 - val_categorical_accuracy: 0.8360\n",
      "Epoch 50/100\n",
      "238/238 [==============================] - 7s 29ms/step - loss: 0.0108 - categorical_accuracy: 0.9955 - val_loss: 1.1162 - val_categorical_accuracy: 0.8417\n",
      "Epoch 51/100\n",
      "238/238 [==============================] - 7s 30ms/step - loss: 0.0093 - categorical_accuracy: 0.9961 - val_loss: 1.1101 - val_categorical_accuracy: 0.8396\n",
      "Epoch 52/100\n",
      "238/238 [==============================] - 7s 30ms/step - loss: 0.0093 - categorical_accuracy: 0.9967 - val_loss: 1.1061 - val_categorical_accuracy: 0.8365\n",
      "Epoch 53/100\n",
      "238/238 [==============================] - 7s 30ms/step - loss: 0.0092 - categorical_accuracy: 0.9967 - val_loss: 1.1556 - val_categorical_accuracy: 0.8412\n",
      "Epoch 54/100\n",
      "238/238 [==============================] - 7s 29ms/step - loss: 0.0098 - categorical_accuracy: 0.9963 - val_loss: 1.1550 - val_categorical_accuracy: 0.8386\n",
      "Epoch 55/100\n",
      "238/238 [==============================] - 7s 30ms/step - loss: 0.0088 - categorical_accuracy: 0.9962 - val_loss: 1.1589 - val_categorical_accuracy: 0.8375\n",
      "Epoch 56/100\n",
      "238/238 [==============================] - 7s 30ms/step - loss: 0.0093 - categorical_accuracy: 0.9965 - val_loss: 1.1667 - val_categorical_accuracy: 0.8365\n",
      "Epoch 57/100\n",
      "238/238 [==============================] - 7s 31ms/step - loss: 0.0090 - categorical_accuracy: 0.9959 - val_loss: 1.1611 - val_categorical_accuracy: 0.8365\n",
      "Epoch 58/100\n",
      "238/238 [==============================] - 7s 30ms/step - loss: 0.0094 - categorical_accuracy: 0.9963 - val_loss: 1.2244 - val_categorical_accuracy: 0.8344\n",
      "Epoch 59/100\n",
      "238/238 [==============================] - 7s 30ms/step - loss: 0.0089 - categorical_accuracy: 0.9966 - val_loss: 1.2272 - val_categorical_accuracy: 0.8391\n",
      "Epoch 60/100\n",
      "238/238 [==============================] - 7s 28ms/step - loss: 0.0093 - categorical_accuracy: 0.9958 - val_loss: 1.1962 - val_categorical_accuracy: 0.8365\n",
      "Epoch 61/100\n",
      "238/238 [==============================] - 7s 29ms/step - loss: 0.0092 - categorical_accuracy: 0.9968 - val_loss: 1.2135 - val_categorical_accuracy: 0.8344\n",
      "Epoch 62/100\n",
      "238/238 [==============================] - 7s 29ms/step - loss: 0.0103 - categorical_accuracy: 0.9965 - val_loss: 1.2389 - val_categorical_accuracy: 0.8339\n",
      "Epoch 63/100\n",
      "238/238 [==============================] - 7s 30ms/step - loss: 0.0091 - categorical_accuracy: 0.9965 - val_loss: 1.2233 - val_categorical_accuracy: 0.8360\n",
      "Epoch 64/100\n",
      "238/238 [==============================] - 7s 29ms/step - loss: 0.0110 - categorical_accuracy: 0.9962 - val_loss: 1.2226 - val_categorical_accuracy: 0.8333\n",
      "Epoch 65/100\n",
      "238/238 [==============================] - 7s 30ms/step - loss: 0.0090 - categorical_accuracy: 0.9962 - val_loss: 1.2484 - val_categorical_accuracy: 0.8360al_accuracy: 0.\n",
      "Epoch 66/100\n",
      "238/238 [==============================] - 7s 29ms/step - loss: 0.0084 - categorical_accuracy: 0.9965 - val_loss: 1.2224 - val_categorical_accuracy: 0.8328\n",
      "Epoch 67/100\n",
      "238/238 [==============================] - 7s 31ms/step - loss: 0.0092 - categorical_accuracy: 0.9963 - val_loss: 1.3435 - val_categorical_accuracy: 0.8349\n",
      "Epoch 68/100\n",
      "238/238 [==============================] - 9s 39ms/step - loss: 0.0088 - categorical_accuracy: 0.9965 - val_loss: 1.2456 - val_categorical_accuracy: 0.8328\n",
      "Epoch 69/100\n",
      "238/238 [==============================] - 10s 44ms/step - loss: 0.0085 - categorical_accuracy: 0.9968 - val_loss: 1.2764 - val_categorical_accuracy: 0.8328\n",
      "Epoch 70/100\n",
      "238/238 [==============================] - 9s 39ms/step - loss: 0.0088 - categorical_accuracy: 0.9967 - val_loss: 1.2601 - val_categorical_accuracy: 0.8307\n",
      "Epoch 71/100\n",
      "238/238 [==============================] - 9s 40ms/step - loss: 0.0086 - categorical_accuracy: 0.9966 - val_loss: 1.2872 - val_categorical_accuracy: 0.8333\n",
      "Epoch 72/100\n",
      "238/238 [==============================] - 8s 34ms/step - loss: 0.0127 - categorical_accuracy: 0.9957 - val_loss: 1.3253 - val_categorical_accuracy: 0.8365\n",
      "Epoch 73/100\n",
      "238/238 [==============================] - 7s 31ms/step - loss: 0.0100 - categorical_accuracy: 0.9957 - val_loss: 1.3935 - val_categorical_accuracy: 0.8402\n",
      "Epoch 74/100\n",
      "238/238 [==============================] - 8s 33ms/step - loss: 0.0119 - categorical_accuracy: 0.9961 - val_loss: 1.3754 - val_categorical_accuracy: 0.8412\n",
      "Epoch 75/100\n",
      "238/238 [==============================] - 9s 38ms/step - loss: 0.0090 - categorical_accuracy: 0.9966 - val_loss: 1.2912 - val_categorical_accuracy: 0.8312\n",
      "Epoch 76/100\n",
      "238/238 [==============================] - 7s 31ms/step - loss: 0.0090 - categorical_accuracy: 0.9967 - val_loss: 1.2893 - val_categorical_accuracy: 0.8323\n",
      "Epoch 77/100\n",
      "238/238 [==============================] - 8s 34ms/step - loss: 0.0082 - categorical_accuracy: 0.9966 - val_loss: 1.2906 - val_categorical_accuracy: 0.8344\n",
      "Epoch 78/100\n",
      "238/238 [==============================] - 7s 31ms/step - loss: 0.0082 - categorical_accuracy: 0.9971 - val_loss: 1.3442 - val_categorical_accuracy: 0.8328\n",
      "Epoch 79/100\n",
      "238/238 [==============================] - 8s 34ms/step - loss: 0.0089 - categorical_accuracy: 0.9961 - val_loss: 1.3291 - val_categorical_accuracy: 0.8339\n",
      "Epoch 80/100\n",
      "238/238 [==============================] - 8s 33ms/step - loss: 0.0085 - categorical_accuracy: 0.9968 - val_loss: 1.3214 - val_categorical_accuracy: 0.8354\n",
      "Epoch 81/100\n",
      "238/238 [==============================] - 7s 29ms/step - loss: 0.0091 - categorical_accuracy: 0.9963 - val_loss: 1.3306 - val_categorical_accuracy: 0.8339\n",
      "Epoch 82/100\n",
      "238/238 [==============================] - 7s 30ms/step - loss: 0.0085 - categorical_accuracy: 0.9967 - val_loss: 1.3255 - val_categorical_accuracy: 0.8318\n",
      "Epoch 83/100\n",
      "238/238 [==============================] - 7s 30ms/step - loss: 0.0085 - categorical_accuracy: 0.9970 - val_loss: 1.3009 - val_categorical_accuracy: 0.8328\n",
      "Epoch 84/100\n",
      "238/238 [==============================] - 8s 32ms/step - loss: 0.0087 - categorical_accuracy: 0.9970 - val_loss: 1.3346 - val_categorical_accuracy: 0.8302\n",
      "Epoch 85/100\n",
      "238/238 [==============================] - 8s 33ms/step - loss: 0.0084 - categorical_accuracy: 0.9966 - val_loss: 1.3650 - val_categorical_accuracy: 0.8318\n",
      "Epoch 86/100\n",
      "238/238 [==============================] - 8s 32ms/step - loss: 0.0087 - categorical_accuracy: 0.9971 - val_loss: 1.3550 - val_categorical_accuracy: 0.8312\n",
      "Epoch 87/100\n",
      "238/238 [==============================] - 7s 31ms/step - loss: 0.0080 - categorical_accuracy: 0.9968 - val_loss: 1.3475 - val_categorical_accuracy: 0.8291\n",
      "Epoch 88/100\n",
      "238/238 [==============================] - 7s 31ms/step - loss: 0.0090 - categorical_accuracy: 0.9963 - val_loss: 1.3522 - val_categorical_accuracy: 0.8297\n",
      "Epoch 89/100\n",
      "238/238 [==============================] - 7s 31ms/step - loss: 0.0087 - categorical_accuracy: 0.9968 - val_loss: 1.3597 - val_categorical_accuracy: 0.8307\n",
      "Epoch 90/100\n",
      "238/238 [==============================] - 7s 30ms/step - loss: 0.0083 - categorical_accuracy: 0.9966 - val_loss: 1.3890 - val_categorical_accuracy: 0.7618\n",
      "Epoch 91/100\n",
      "238/238 [==============================] - 8s 32ms/step - loss: 0.0096 - categorical_accuracy: 0.9963 - val_loss: 1.4642 - val_categorical_accuracy: 0.8039\n",
      "Epoch 92/100\n",
      "238/238 [==============================] - 7s 30ms/step - loss: 0.0086 - categorical_accuracy: 0.9967 - val_loss: 1.4103 - val_categorical_accuracy: 0.8270\n",
      "Epoch 93/100\n",
      "238/238 [==============================] - 7s 31ms/step - loss: 0.0079 - categorical_accuracy: 0.9967 - val_loss: 1.4660 - val_categorical_accuracy: 0.8333\n",
      "Epoch 94/100\n",
      "238/238 [==============================] - 7s 31ms/step - loss: 0.0082 - categorical_accuracy: 0.9968 - val_loss: 1.4145 - val_categorical_accuracy: 0.8265\n",
      "Epoch 95/100\n",
      "238/238 [==============================] - 8s 32ms/step - loss: 0.0085 - categorical_accuracy: 0.9963 - val_loss: 1.4331 - val_categorical_accuracy: 0.8254\n",
      "Epoch 96/100\n",
      "238/238 [==============================] - 7s 30ms/step - loss: 0.0082 - categorical_accuracy: 0.9968 - val_loss: 1.4633 - val_categorical_accuracy: 0.8312\n",
      "Epoch 97/100\n"
     ]
    },
    {
     "name": "stdout",
     "output_type": "stream",
     "text": [
      "238/238 [==============================] - 7s 30ms/step - loss: 0.0086 - categorical_accuracy: 0.9970 - val_loss: 1.4698 - val_categorical_accuracy: 0.8307\n",
      "Epoch 98/100\n",
      "238/238 [==============================] - 7s 29ms/step - loss: 0.0080 - categorical_accuracy: 0.9971 - val_loss: 1.4529 - val_categorical_accuracy: 0.8275\n",
      "Epoch 99/100\n",
      "238/238 [==============================] - 8s 32ms/step - loss: 0.0085 - categorical_accuracy: 0.9965 - val_loss: 1.4546 - val_categorical_accuracy: 0.8307\n",
      "Epoch 100/100\n",
      "238/238 [==============================] - 7s 30ms/step - loss: 0.0085 - categorical_accuracy: 0.9963 - val_loss: 1.4419 - val_categorical_accuracy: 0.8291\n"
     ]
    },
    {
     "data": {
      "text/plain": [
       "<tensorflow.python.keras.callbacks.History at 0x519a2a6308>"
      ]
     },
     "execution_count": 12,
     "metadata": {},
     "output_type": "execute_result"
    }
   ],
   "source": [
    "model.compile(loss=\"categorical_crossentropy\", optimizer=\"adam\", metrics=[\"categorical_accuracy\"])\n",
    "model.fit(X_train, y_train, epochs=100, validation_split=0.2, callbacks=[history_1])\n",
    "# model.evaluate(x_test, y_test)"
   ]
  },
  {
   "cell_type": "code",
   "execution_count": 13,
   "metadata": {},
   "outputs": [
    {
     "name": "stdout",
     "output_type": "stream",
     "text": [
      "Accuracy: 0.744799\n"
     ]
    }
   ],
   "source": [
    "# evaluate the model\n",
    "loss, accuracy = model.evaluate(X_test, y_test, verbose=0)\n",
    "print('Accuracy: %f' % (accuracy))"
   ]
  },
  {
   "cell_type": "code",
   "execution_count": 14,
   "metadata": {},
   "outputs": [
    {
     "data": {
      "image/png": "[encoded data removed]",
      "text/plain": [
       "<Figure size 432x288 with 1 Axes>"
      ]
     },
     "metadata": {
      "needs_background": "light"
     },
     "output_type": "display_data"
    }
   ],
   "source": [
    "plt.plot(history_1.history['categorical_accuracy'], label = \"tarina\")\n",
    "plt.plot(history_1.history['val_categorical_accuracy'], label = \"test\")\n",
    "\n",
    "\n",
    "plt.legend()\n",
    "plt.show()"
   ]
  },
  {
   "cell_type": "markdown",
   "metadata": {},
   "source": [
    "# Zad\n",
    "Użyj Pretrain embedding\n"
   ]
  },
  {
   "cell_type": "code",
   "execution_count": 15,
   "metadata": {},
   "outputs": [
    {
     "name": "stdout",
     "output_type": "stream",
     "text": [
      "Model: \"sequential_1\"\n",
      "_________________________________________________________________\n",
      "Layer (type)                 Output Shape              Param #   \n",
      "=================================================================\n",
      "embedding_1 (Embedding)      (None, 40, 300)           1500000   \n",
      "_________________________________________________________________\n",
      "flatten_1 (Flatten)          (None, 12000)             0         \n",
      "_________________________________________________________________\n",
      "dense_1 (Dense)              (None, 3)                 36003     \n",
      "=================================================================\n",
      "Total params: 1,536,003\n",
      "Trainable params: 36,003\n",
      "Non-trainable params: 1,500,000\n",
      "_________________________________________________________________\n",
      "Epoch 1/100\n",
      "238/238 [==============================] - 1s 4ms/step - loss: 0.6540 - categorical_accuracy: 0.8134 - val_loss: 0.7208 - val_categorical_accuracy: 0.8218\n",
      "Epoch 2/100\n",
      "238/238 [==============================] - 1s 3ms/step - loss: 0.4196 - categorical_accuracy: 0.8956 - val_loss: 0.6991 - val_categorical_accuracy: 0.8281\n",
      "Epoch 3/100\n",
      "238/238 [==============================] - 1s 4ms/step - loss: 0.3343 - categorical_accuracy: 0.9152 - val_loss: 0.6894 - val_categorical_accuracy: 0.8333\n",
      "Epoch 4/100\n",
      "238/238 [==============================] - 1s 4ms/step - loss: 0.2805 - categorical_accuracy: 0.9284 - val_loss: 0.6805 - val_categorical_accuracy: 0.8417\n",
      "Epoch 5/100\n",
      "238/238 [==============================] - 1s 3ms/step - loss: 0.2412 - categorical_accuracy: 0.9372 - val_loss: 0.6794 - val_categorical_accuracy: 0.8496\n",
      "Epoch 6/100\n",
      "238/238 [==============================] - 1s 3ms/step - loss: 0.2122 - categorical_accuracy: 0.9448 - val_loss: 0.6872 - val_categorical_accuracy: 0.8512\n",
      "Epoch 7/100\n",
      "238/238 [==============================] - 1s 4ms/step - loss: 0.1926 - categorical_accuracy: 0.9478 - val_loss: 0.6976 - val_categorical_accuracy: 0.8517\n",
      "Epoch 8/100\n",
      "238/238 [==============================] - 1s 3ms/step - loss: 0.1767 - categorical_accuracy: 0.9499 - val_loss: 0.6956 - val_categorical_accuracy: 0.8575\n",
      "Epoch 9/100\n",
      "238/238 [==============================] - 1s 3ms/step - loss: 0.1622 - categorical_accuracy: 0.9554 - val_loss: 0.7162 - val_categorical_accuracy: 0.8549\n",
      "Epoch 10/100\n",
      "238/238 [==============================] - 1s 3ms/step - loss: 0.1499 - categorical_accuracy: 0.9575 - val_loss: 0.7351 - val_categorical_accuracy: 0.8533\n",
      "Epoch 11/100\n",
      "238/238 [==============================] - 1s 3ms/step - loss: 0.1425 - categorical_accuracy: 0.9568 - val_loss: 0.7538 - val_categorical_accuracy: 0.8533\n",
      "Epoch 12/100\n",
      "238/238 [==============================] - 1s 3ms/step - loss: 0.1333 - categorical_accuracy: 0.9611 - val_loss: 0.7598 - val_categorical_accuracy: 0.8554\n",
      "Epoch 13/100\n",
      "238/238 [==============================] - 1s 4ms/step - loss: 0.1289 - categorical_accuracy: 0.9618 - val_loss: 0.7824 - val_categorical_accuracy: 0.8533\n",
      "Epoch 14/100\n",
      "238/238 [==============================] - 1s 3ms/step - loss: 0.1208 - categorical_accuracy: 0.9642 - val_loss: 0.8121 - val_categorical_accuracy: 0.8507\n",
      "Epoch 15/100\n",
      "238/238 [==============================] - 1s 3ms/step - loss: 0.1209 - categorical_accuracy: 0.9641 - val_loss: 0.8225 - val_categorical_accuracy: 0.8481\n",
      "Epoch 16/100\n",
      "238/238 [==============================] - 1s 3ms/step - loss: 0.1136 - categorical_accuracy: 0.9657 - val_loss: 0.8497 - val_categorical_accuracy: 0.8465\n",
      "Epoch 17/100\n",
      "238/238 [==============================] - 1s 3ms/step - loss: 0.1122 - categorical_accuracy: 0.9654 - val_loss: 0.8516 - val_categorical_accuracy: 0.8496\n",
      "Epoch 18/100\n",
      "238/238 [==============================] - 1s 3ms/step - loss: 0.1063 - categorical_accuracy: 0.9661 - val_loss: 0.8784 - val_categorical_accuracy: 0.8502\n",
      "Epoch 19/100\n",
      "238/238 [==============================] - 1s 3ms/step - loss: 0.1037 - categorical_accuracy: 0.9674 - val_loss: 0.8907 - val_categorical_accuracy: 0.8502\n",
      "Epoch 20/100\n",
      "238/238 [==============================] - 1s 3ms/step - loss: 0.0990 - categorical_accuracy: 0.9699 - val_loss: 0.9257 - val_categorical_accuracy: 0.8423\n",
      "Epoch 21/100\n",
      "238/238 [==============================] - 1s 3ms/step - loss: 0.0960 - categorical_accuracy: 0.9706 - val_loss: 0.9567 - val_categorical_accuracy: 0.8438\n",
      "Epoch 22/100\n",
      "238/238 [==============================] - 1s 3ms/step - loss: 0.0950 - categorical_accuracy: 0.9692 - val_loss: 0.9679 - val_categorical_accuracy: 0.8428\n",
      "Epoch 23/100\n",
      "238/238 [==============================] - 1s 4ms/step - loss: 0.0931 - categorical_accuracy: 0.9691 - val_loss: 0.9658 - val_categorical_accuracy: 0.8502\n",
      "Epoch 24/100\n",
      "238/238 [==============================] - 1s 3ms/step - loss: 0.0950 - categorical_accuracy: 0.9694 - val_loss: 1.0378 - val_categorical_accuracy: 0.8538\n",
      "Epoch 25/100\n",
      "238/238 [==============================] - 1s 3ms/step - loss: 0.0902 - categorical_accuracy: 0.9706 - val_loss: 1.0351 - val_categorical_accuracy: 0.8481\n",
      "Epoch 26/100\n",
      "238/238 [==============================] - 1s 3ms/step - loss: 0.0889 - categorical_accuracy: 0.9720 - val_loss: 1.0274 - val_categorical_accuracy: 0.8507\n",
      "Epoch 27/100\n",
      "238/238 [==============================] - 1s 3ms/step - loss: 0.0856 - categorical_accuracy: 0.9719 - val_loss: 1.0611 - val_categorical_accuracy: 0.8496\n",
      "Epoch 28/100\n",
      "238/238 [==============================] - 1s 3ms/step - loss: 0.0850 - categorical_accuracy: 0.9721 - val_loss: 1.1123 - val_categorical_accuracy: 0.8444\n",
      "Epoch 29/100\n",
      "238/238 [==============================] - 1s 3ms/step - loss: 0.0841 - categorical_accuracy: 0.9723 - val_loss: 1.0932 - val_categorical_accuracy: 0.8470\n",
      "Epoch 30/100\n",
      "238/238 [==============================] - 1s 3ms/step - loss: 0.0838 - categorical_accuracy: 0.9738 - val_loss: 1.1104 - val_categorical_accuracy: 0.8491\n",
      "Epoch 31/100\n",
      "238/238 [==============================] - 1s 3ms/step - loss: 0.0825 - categorical_accuracy: 0.9729 - val_loss: 1.1444 - val_categorical_accuracy: 0.8465\n",
      "Epoch 32/100\n",
      "238/238 [==============================] - 1s 3ms/step - loss: 0.0802 - categorical_accuracy: 0.9736 - val_loss: 1.1442 - val_categorical_accuracy: 0.8507\n",
      "Epoch 33/100\n",
      "238/238 [==============================] - 1s 4ms/step - loss: 0.0781 - categorical_accuracy: 0.9749 - val_loss: 1.1847 - val_categorical_accuracy: 0.8460\n",
      "Epoch 34/100\n",
      "238/238 [==============================] - 1s 3ms/step - loss: 0.0798 - categorical_accuracy: 0.9750 - val_loss: 1.1781 - val_categorical_accuracy: 0.8460\n",
      "Epoch 35/100\n",
      "238/238 [==============================] - 1s 3ms/step - loss: 0.0782 - categorical_accuracy: 0.9761 - val_loss: 1.2153 - val_categorical_accuracy: 0.8470\n",
      "Epoch 36/100\n",
      "238/238 [==============================] - 1s 3ms/step - loss: 0.0744 - categorical_accuracy: 0.9767 - val_loss: 1.2178 - val_categorical_accuracy: 0.8412\n",
      "Epoch 37/100\n",
      "238/238 [==============================] - 1s 3ms/step - loss: 0.0783 - categorical_accuracy: 0.9752 - val_loss: 1.2003 - val_categorical_accuracy: 0.8423\n",
      "Epoch 38/100\n",
      "238/238 [==============================] - 1s 3ms/step - loss: 0.0829 - categorical_accuracy: 0.9733 - val_loss: 1.2637 - val_categorical_accuracy: 0.8481\n",
      "Epoch 39/100\n",
      "238/238 [==============================] - 1s 4ms/step - loss: 0.0785 - categorical_accuracy: 0.9724 - val_loss: 1.2866 - val_categorical_accuracy: 0.8470\n",
      "Epoch 40/100\n",
      "238/238 [==============================] - 1s 3ms/step - loss: 0.0798 - categorical_accuracy: 0.9749 - val_loss: 1.3097 - val_categorical_accuracy: 0.8475\n",
      "Epoch 41/100\n",
      "238/238 [==============================] - 1s 3ms/step - loss: 0.0747 - categorical_accuracy: 0.9770 - val_loss: 1.3208 - val_categorical_accuracy: 0.8512\n",
      "Epoch 42/100\n",
      "238/238 [==============================] - 1s 3ms/step - loss: 0.0721 - categorical_accuracy: 0.9762 - val_loss: 1.3388 - val_categorical_accuracy: 0.8517\n",
      "Epoch 43/100\n",
      "238/238 [==============================] - 1s 3ms/step - loss: 0.0701 - categorical_accuracy: 0.9770 - val_loss: 1.3607 - val_categorical_accuracy: 0.8454\n",
      "Epoch 44/100\n",
      "238/238 [==============================] - 1s 3ms/step - loss: 0.0713 - categorical_accuracy: 0.9783 - val_loss: 1.3769 - val_categorical_accuracy: 0.8502\n",
      "Epoch 45/100\n"
     ]
    },
    {
     "name": "stdout",
     "output_type": "stream",
     "text": [
      "238/238 [==============================] - 1s 3ms/step - loss: 0.0701 - categorical_accuracy: 0.9783 - val_loss: 1.3540 - val_categorical_accuracy: 0.8533\n",
      "Epoch 46/100\n",
      "238/238 [==============================] - 1s 3ms/step - loss: 0.0674 - categorical_accuracy: 0.9783 - val_loss: 1.4203 - val_categorical_accuracy: 0.8449\n",
      "Epoch 47/100\n",
      "238/238 [==============================] - 1s 3ms/step - loss: 0.0697 - categorical_accuracy: 0.9778 - val_loss: 1.4015 - val_categorical_accuracy: 0.8460\n",
      "Epoch 48/100\n",
      "238/238 [==============================] - 1s 3ms/step - loss: 0.0685 - categorical_accuracy: 0.9786 - val_loss: 1.4164 - val_categorical_accuracy: 0.8491\n",
      "Epoch 49/100\n",
      "238/238 [==============================] - 1s 3ms/step - loss: 0.0684 - categorical_accuracy: 0.9783 - val_loss: 1.4318 - val_categorical_accuracy: 0.8465\n",
      "Epoch 50/100\n",
      "238/238 [==============================] - 1s 4ms/step - loss: 0.0683 - categorical_accuracy: 0.9771 - val_loss: 1.4149 - val_categorical_accuracy: 0.8460\n",
      "Epoch 51/100\n",
      "238/238 [==============================] - 1s 3ms/step - loss: 0.0664 - categorical_accuracy: 0.9788 - val_loss: 1.4524 - val_categorical_accuracy: 0.8428\n",
      "Epoch 52/100\n",
      "238/238 [==============================] - 1s 4ms/step - loss: 0.0677 - categorical_accuracy: 0.9796 - val_loss: 1.4596 - val_categorical_accuracy: 0.8396\n",
      "Epoch 53/100\n",
      "238/238 [==============================] - 1s 3ms/step - loss: 0.0649 - categorical_accuracy: 0.9794 - val_loss: 1.4783 - val_categorical_accuracy: 0.8454\n",
      "Epoch 54/100\n",
      "238/238 [==============================] - 1s 3ms/step - loss: 0.0683 - categorical_accuracy: 0.9775 - val_loss: 1.4885 - val_categorical_accuracy: 0.8496\n",
      "Epoch 55/100\n",
      "238/238 [==============================] - 1s 3ms/step - loss: 0.0663 - categorical_accuracy: 0.9808 - val_loss: 1.4746 - val_categorical_accuracy: 0.8433\n",
      "Epoch 56/100\n",
      "238/238 [==============================] - 1s 4ms/step - loss: 0.0671 - categorical_accuracy: 0.9791 - val_loss: 1.5099 - val_categorical_accuracy: 0.8428\n",
      "Epoch 57/100\n",
      "238/238 [==============================] - 1s 3ms/step - loss: 0.0638 - categorical_accuracy: 0.9783 - val_loss: 1.5263 - val_categorical_accuracy: 0.8475\n",
      "Epoch 58/100\n",
      "238/238 [==============================] - 1s 3ms/step - loss: 0.0653 - categorical_accuracy: 0.9795 - val_loss: 1.5469 - val_categorical_accuracy: 0.8465\n",
      "Epoch 59/100\n",
      "238/238 [==============================] - 1s 3ms/step - loss: 0.0644 - categorical_accuracy: 0.9798 - val_loss: 1.5734 - val_categorical_accuracy: 0.8438\n",
      "Epoch 60/100\n",
      "238/238 [==============================] - 1s 3ms/step - loss: 0.0647 - categorical_accuracy: 0.9799 - val_loss: 1.5385 - val_categorical_accuracy: 0.8491\n",
      "Epoch 61/100\n",
      "238/238 [==============================] - 1s 4ms/step - loss: 0.0657 - categorical_accuracy: 0.9804 - val_loss: 1.5895 - val_categorical_accuracy: 0.8407\n",
      "Epoch 62/100\n",
      "238/238 [==============================] - 1s 3ms/step - loss: 0.0624 - categorical_accuracy: 0.9790 - val_loss: 1.5878 - val_categorical_accuracy: 0.8454\n",
      "Epoch 63/100\n",
      "238/238 [==============================] - 1s 3ms/step - loss: 0.0638 - categorical_accuracy: 0.9798 - val_loss: 1.5955 - val_categorical_accuracy: 0.8438\n",
      "Epoch 64/100\n",
      "238/238 [==============================] - 1s 3ms/step - loss: 0.0622 - categorical_accuracy: 0.9809 - val_loss: 1.6062 - val_categorical_accuracy: 0.8428\n",
      "Epoch 65/100\n",
      "238/238 [==============================] - 1s 3ms/step - loss: 0.0639 - categorical_accuracy: 0.9790 - val_loss: 1.6256 - val_categorical_accuracy: 0.8402\n",
      "Epoch 66/100\n",
      "238/238 [==============================] - 1s 3ms/step - loss: 0.0599 - categorical_accuracy: 0.9803 - val_loss: 1.6150 - val_categorical_accuracy: 0.8481\n",
      "Epoch 67/100\n",
      "238/238 [==============================] - 1s 3ms/step - loss: 0.0623 - categorical_accuracy: 0.9803 - val_loss: 1.6410 - val_categorical_accuracy: 0.8460\n",
      "Epoch 68/100\n",
      "238/238 [==============================] - 1s 3ms/step - loss: 0.0612 - categorical_accuracy: 0.9794 - val_loss: 1.6459 - val_categorical_accuracy: 0.8486\n",
      "Epoch 69/100\n",
      "238/238 [==============================] - ETA: 0s - loss: 0.0625 - categorical_accuracy: 0.98 - 1s 3ms/step - loss: 0.0625 - categorical_accuracy: 0.9805 - val_loss: 1.6464 - val_categorical_accuracy: 0.8386\n",
      "Epoch 70/100\n",
      "238/238 [==============================] - 1s 3ms/step - loss: 0.0618 - categorical_accuracy: 0.9799 - val_loss: 1.6867 - val_categorical_accuracy: 0.8449\n",
      "Epoch 71/100\n",
      "238/238 [==============================] - 1s 3ms/step - loss: 0.0592 - categorical_accuracy: 0.9813 - val_loss: 1.6774 - val_categorical_accuracy: 0.8402\n",
      "Epoch 72/100\n",
      "238/238 [==============================] - 1s 3ms/step - loss: 0.0597 - categorical_accuracy: 0.9803 - val_loss: 1.7149 - val_categorical_accuracy: 0.8460\n",
      "Epoch 73/100\n",
      "238/238 [==============================] - 1s 3ms/step - loss: 0.0600 - categorical_accuracy: 0.9812 - val_loss: 1.6993 - val_categorical_accuracy: 0.8465\n",
      "Epoch 74/100\n",
      "238/238 [==============================] - 1s 4ms/step - loss: 0.0604 - categorical_accuracy: 0.9813 - val_loss: 1.6964 - val_categorical_accuracy: 0.8460\n",
      "Epoch 75/100\n",
      "238/238 [==============================] - 1s 3ms/step - loss: 0.0618 - categorical_accuracy: 0.9819 - val_loss: 1.7221 - val_categorical_accuracy: 0.8454\n",
      "Epoch 76/100\n",
      "238/238 [==============================] - 1s 3ms/step - loss: 0.0608 - categorical_accuracy: 0.9809 - val_loss: 1.7550 - val_categorical_accuracy: 0.8433\n",
      "Epoch 77/100\n",
      "238/238 [==============================] - 1s 3ms/step - loss: 0.0594 - categorical_accuracy: 0.9809 - val_loss: 1.7589 - val_categorical_accuracy: 0.8486\n",
      "Epoch 78/100\n",
      "238/238 [==============================] - 1s 3ms/step - loss: 0.0586 - categorical_accuracy: 0.9817 - val_loss: 1.7753 - val_categorical_accuracy: 0.8423\n",
      "Epoch 79/100\n",
      "238/238 [==============================] - 1s 3ms/step - loss: 0.0593 - categorical_accuracy: 0.9815 - val_loss: 1.8727 - val_categorical_accuracy: 0.8465\n",
      "Epoch 80/100\n",
      "238/238 [==============================] - 1s 3ms/step - loss: 0.0592 - categorical_accuracy: 0.9815 - val_loss: 1.8295 - val_categorical_accuracy: 0.8465\n",
      "Epoch 81/100\n",
      "238/238 [==============================] - 1s 3ms/step - loss: 0.0573 - categorical_accuracy: 0.9820 - val_loss: 1.8544 - val_categorical_accuracy: 0.8428\n",
      "Epoch 82/100\n",
      "238/238 [==============================] - 1s 3ms/step - loss: 0.0583 - categorical_accuracy: 0.9828 - val_loss: 1.8469 - val_categorical_accuracy: 0.8444\n",
      "Epoch 83/100\n",
      "238/238 [==============================] - 1s 3ms/step - loss: 0.0595 - categorical_accuracy: 0.9811 - val_loss: 1.8563 - val_categorical_accuracy: 0.8449\n",
      "Epoch 84/100\n",
      "238/238 [==============================] - 1s 3ms/step - loss: 0.0601 - categorical_accuracy: 0.9805 - val_loss: 1.8782 - val_categorical_accuracy: 0.8470\n",
      "Epoch 85/100\n",
      "238/238 [==============================] - 1s 3ms/step - loss: 0.0571 - categorical_accuracy: 0.9808 - val_loss: 1.9048 - val_categorical_accuracy: 0.8417\n",
      "Epoch 86/100\n",
      "238/238 [==============================] - 1s 3ms/step - loss: 0.0608 - categorical_accuracy: 0.9804 - val_loss: 1.8903 - val_categorical_accuracy: 0.8428\n",
      "Epoch 87/100\n",
      "238/238 [==============================] - 1s 3ms/step - loss: 0.0600 - categorical_accuracy: 0.9813 - val_loss: 1.9002 - val_categorical_accuracy: 0.8433\n",
      "Epoch 88/100\n",
      "238/238 [==============================] - 1s 4ms/step - loss: 0.0559 - categorical_accuracy: 0.9813 - val_loss: 1.8976 - val_categorical_accuracy: 0.8465\n",
      "Epoch 89/100\n",
      "238/238 [==============================] - 1s 4ms/step - loss: 0.0577 - categorical_accuracy: 0.9817 - val_loss: 1.8956 - val_categorical_accuracy: 0.8417\n",
      "Epoch 90/100\n",
      "238/238 [==============================] - 1s 3ms/step - loss: 0.0560 - categorical_accuracy: 0.9828 - val_loss: 1.9115 - val_categorical_accuracy: 0.8481\n",
      "Epoch 91/100\n",
      "238/238 [==============================] - 1s 3ms/step - loss: 0.0568 - categorical_accuracy: 0.9821 - val_loss: 1.9134 - val_categorical_accuracy: 0.8491\n",
      "Epoch 92/100\n",
      "238/238 [==============================] - 1s 3ms/step - loss: 0.0551 - categorical_accuracy: 0.9832 - val_loss: 1.9381 - val_categorical_accuracy: 0.8475\n",
      "Epoch 93/100\n"
     ]
    },
    {
     "name": "stdout",
     "output_type": "stream",
     "text": [
      "238/238 [==============================] - 1s 4ms/step - loss: 0.0574 - categorical_accuracy: 0.9832 - val_loss: 1.9666 - val_categorical_accuracy: 0.8444\n",
      "Epoch 94/100\n",
      "238/238 [==============================] - 1s 3ms/step - loss: 0.0561 - categorical_accuracy: 0.9824 - val_loss: 1.9377 - val_categorical_accuracy: 0.8407\n",
      "Epoch 95/100\n",
      "238/238 [==============================] - 1s 3ms/step - loss: 0.0582 - categorical_accuracy: 0.9819 - val_loss: 1.9791 - val_categorical_accuracy: 0.8444\n",
      "Epoch 96/100\n",
      "238/238 [==============================] - 1s 4ms/step - loss: 0.0573 - categorical_accuracy: 0.9816 - val_loss: 1.9498 - val_categorical_accuracy: 0.8428\n",
      "Epoch 97/100\n",
      "238/238 [==============================] - 1s 3ms/step - loss: 0.0576 - categorical_accuracy: 0.9830 - val_loss: 1.9809 - val_categorical_accuracy: 0.8417\n",
      "Epoch 98/100\n",
      "238/238 [==============================] - 1s 3ms/step - loss: 0.0538 - categorical_accuracy: 0.9816 - val_loss: 1.9805 - val_categorical_accuracy: 0.8449\n",
      "Epoch 99/100\n",
      "238/238 [==============================] - 1s 3ms/step - loss: 0.0551 - categorical_accuracy: 0.9829 - val_loss: 1.9703 - val_categorical_accuracy: 0.8465\n",
      "Epoch 100/100\n",
      "238/238 [==============================] - 1s 3ms/step - loss: 0.0535 - categorical_accuracy: 0.9829 - val_loss: 2.0099 - val_categorical_accuracy: 0.8486\n"
     ]
    },
    {
     "data": {
      "text/plain": [
       "<tensorflow.python.keras.callbacks.History at 0x51997a3948>"
      ]
     },
     "execution_count": 15,
     "metadata": {},
     "output_type": "execute_result"
    }
   ],
   "source": [
    "history_2 = History()\n",
    "model = Sequential()\n",
    "model.add(Embedding(5000, 300,\n",
    "                   input_length=max_len,\n",
    "                  weights=[embeddings],\n",
    "                  trainable=False))\n",
    "model.add(Flatten())\n",
    "model.add(Dense(3, activation='softmax'))\n",
    "model.summary()\n",
    "model.compile(loss=\"categorical_crossentropy\", optimizer=\"adam\", metrics=[\"categorical_accuracy\"])\n",
    "model.fit(X_train, y_train, epochs=100, validation_split=0.2, callbacks=[history_2])"
   ]
  },
  {
   "cell_type": "code",
   "execution_count": 16,
   "metadata": {},
   "outputs": [
    {
     "name": "stdout",
     "output_type": "stream",
     "text": [
      "Accuracy: 0.754309\n"
     ]
    }
   ],
   "source": [
    "# evaluate the model\n",
    "loss, accuracy = model.evaluate(X_test, y_test, verbose=0)\n",
    "print('Accuracy: %f' % (accuracy))"
   ]
  },
  {
   "cell_type": "code",
   "execution_count": 17,
   "metadata": {},
   "outputs": [
    {
     "data": {
      "image/png": "[encoded data removed]",
      "text/plain": [
       "<Figure size 432x288 with 1 Axes>"
      ]
     },
     "metadata": {
      "needs_background": "light"
     },
     "output_type": "display_data"
    }
   ],
   "source": [
    "plt.plot(history_1.history['categorical_accuracy'], label = \"tarina Trainable\")\n",
    "plt.plot(history_1.history['val_categorical_accuracy'], label = \"test Trainable\")\n",
    "\n",
    "plt.plot(history_2.history['categorical_accuracy'], label = \"tarina Not Trainable\")\n",
    "plt.plot(history_2.history['val_categorical_accuracy'], label = \"test Not Trainable\")\n",
    "\n",
    "\n",
    "plt.legend()\n",
    "plt.show()"
   ]
  },
  {
   "cell_type": "markdown",
   "metadata": {},
   "source": [
    "# Zad\n",
    "Użyj architektury\n",
    "```python\n",
    "model = Sequential()\n",
    "model.add(Embedding(5000, 300,\n",
    "                   input_length=max_len,\n",
    "                  weights=[embeddings],\n",
    "                  trainable=False))\n",
    "model.add(LSTM(10))\n",
    "model.add(Dense(3, activation='softmax'))\n",
    "model.summary()\n",
    "```"
   ]
  },
  {
   "cell_type": "code",
   "execution_count": null,
   "metadata": {},
   "outputs": [],
   "source": []
  },
  {
   "cell_type": "markdown",
   "metadata": {},
   "source": [
    "# Zad\n",
    "Użyj architektury\n",
    "```python\n",
    "model = Sequential()\n",
    "model.add(Embedding(5000, 300,\n",
    "                   input_length=max_len,\n",
    "                  weights=[embeddings],\n",
    "                  trainable=False))\n",
    "model.add(Conv1D(50,3))\n",
    "model.add(LSTM(10))\n",
    "model.add(Dense(3, activation='softmax'))\n",
    "model.summary()\n",
    "```\n",
    "\n",
    "Co dokładnie robi \n",
    "\n",
    "```python\n",
    "from keras.layers.convolutional import Conv1D\n",
    "```"
   ]
  },
  {
   "cell_type": "code",
   "execution_count": null,
   "metadata": {},
   "outputs": [],
   "source": []
  },
  {
   "cell_type": "markdown",
   "metadata": {},
   "source": [
    "# Zad\n",
    "Użyj architektury\n",
    "\n",
    "```python\n",
    "model = Sequential()\n",
    "model.add(Embedding(5000, 300,\n",
    "                   input_length=max_len,\n",
    "                  weights=[embeddings],\n",
    "                  trainable=False))\n",
    "model.add(TimeDistributed(Dense(10,activation=\"tanh\")))\n",
    "model.add(LSTM(10))\n",
    "model.add(Dense(3, activation='softmax'))\n",
    "model.summary()\n",
    "```\n",
    "\n",
    "Co dokładnie robi \n",
    "\n",
    "```python\n",
    "from keras.layers import TimeDistributed\n",
    "```\n"
   ]
  },
  {
   "cell_type": "code",
   "execution_count": null,
   "metadata": {},
   "outputs": [],
   "source": []
  }
 ],
 "metadata": {
  "kernelspec": {
   "display_name": "Python 3",
   "language": "python",
   "name": "python3"
  },
  "language_info": {
   "codemirror_mode": {
    "name": "ipython",
    "version": 3
   },
   "file_extension": ".py",
   "mimetype": "text/x-python",
   "name": "python",
   "nbconvert_exporter": "python",
   "pygments_lexer": "ipython3",
   "version": "3.7.6"
  }
 },
 "nbformat": 4,
 "nbformat_minor": 2
}
