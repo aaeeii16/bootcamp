{
 "cells": [
  {
   "cell_type": "markdown",
   "metadata": {
    "collapsed": true
   },
   "source": [
    "# Regresja"
   ]
  },
  {
   "cell_type": "code",
   "execution_count": 45,
   "metadata": {
    "collapsed": true
   },
   "outputs": [],
   "source": [
    "import numpy as np\n",
    "import matplotlib.pyplot as plt\n",
    "from sklearn import datasets\n",
    "from sklearn.model_selection import cross_val_predict\n",
    "from sklearn.model_selection import GridSearchCV\n",
    "from sklearn import linear_model\n",
    "from sklearn.preprocessing import PolynomialFeatures\n",
    "from sklearn.linear_model import Ridge\n",
    "from sklearn.linear_model import Lasso\n",
    "from sklearn.linear_model import ElasticNet\n",
    "from sklearn.svm import SVR\n",
    "from sklearn.ensemble import RandomForestRegressor\n",
    "from sklearn.neural_network import MLPRegressor\n",
    "from sklearn.pipeline import make_pipeline\n",
    "from sklearn import model_selection\n",
    "from sklearn.pipeline import Pipeline\n",
    "from sklearn.preprocessing import StandardScaler\n",
    "from sklearn.decomposition import PCA"
   ]
  },
  {
   "cell_type": "markdown",
   "metadata": {},
   "source": [
    "Rozważmy zbiór Boston"
   ]
  },
  {
   "cell_type": "code",
   "execution_count": 30,
   "metadata": {},
   "outputs": [],
   "source": [
    "boston = datasets.load_boston()\n",
    "# print description\n",
    "# print(boston.DESCR)"
   ]
  },
  {
   "cell_type": "code",
   "execution_count": 31,
   "metadata": {
    "collapsed": true
   },
   "outputs": [],
   "source": [
    "# get the data\n",
    "boston_X = boston.data\n",
    "boston_Y = boston.target"
   ]
  },
  {
   "cell_type": "markdown",
   "metadata": {},
   "source": [
    "Podzielmy zbiór na część testową i treningową ."
   ]
  },
  {
   "cell_type": "code",
   "execution_count": 32,
   "metadata": {
    "collapsed": true
   },
   "outputs": [],
   "source": [
    "# Split the data into training/testing sets\n",
    "boston_X_train = boston_X[:-50]\n",
    "boston_X_test = boston_X[-50:]\n",
    " \n",
    "# Split the targets into training/testing sets\n",
    "boston_y_train = boston_Y[:-50]\n",
    "boston_y_test = boston_Y[-50:]"
   ]
  },
  {
   "cell_type": "code",
   "execution_count": 33,
   "metadata": {
    "collapsed": true
   },
   "outputs": [],
   "source": [
    "X=boston_X_train\n",
    "y=boston_y_train"
   ]
  },
  {
   "cell_type": "markdown",
   "metadata": {},
   "source": [
    "# Zadanie\n",
    "\n",
    "Znajdź najlepszy model dzieląc na zbiór testowy i treningowy **oraz wykorzystując maksymalnie 5 współrzędnych otrzymanych z algorytmu PCA**\n",
    "\n",
    "Sprawdź:\n",
    "\n",
    "* Linear Regression\n",
    "* Ridge Regression\n",
    "* Lasso Regression\n",
    "* ElasticNet Regression\n",
    "* SVR\n",
    "* RandomForestRegressor\n",
    "* MLPRegressor\n",
    "\n",
    "Wszytkie wyniki prównaj za pomocą \n",
    "* R2 score"
   ]
  },
  {
   "cell_type": "code",
   "execution_count": 34,
   "metadata": {
    "collapsed": true
   },
   "outputs": [],
   "source": [
    "seed=123\n",
    "kfold = model_selection.KFold(n_splits=5, random_state=seed)\n"
   ]
  },
  {
   "cell_type": "code",
   "execution_count": 36,
   "metadata": {},
   "outputs": [
    {
     "name": "stderr",
     "output_type": "stream",
     "text": [
      "C:\\Users\\admin\\Anaconda3\\lib\\site-packages\\sklearn\\linear_model\\coordinate_descent.py:491: ConvergenceWarning: Objective did not converge. You might want to increase the number of iterations. Fitting data with very small alpha may cause precision problems.\n",
      "  ConvergenceWarning)\n",
      "C:\\Users\\admin\\Anaconda3\\lib\\site-packages\\sklearn\\linear_model\\coordinate_descent.py:491: ConvergenceWarning: Objective did not converge. You might want to increase the number of iterations. Fitting data with very small alpha may cause precision problems.\n",
      "  ConvergenceWarning)\n",
      "C:\\Users\\admin\\Anaconda3\\lib\\site-packages\\sklearn\\linear_model\\coordinate_descent.py:491: ConvergenceWarning: Objective did not converge. You might want to increase the number of iterations. Fitting data with very small alpha may cause precision problems.\n",
      "  ConvergenceWarning)\n",
      "C:\\Users\\admin\\Anaconda3\\lib\\site-packages\\sklearn\\linear_model\\coordinate_descent.py:491: ConvergenceWarning: Objective did not converge. You might want to increase the number of iterations. Fitting data with very small alpha may cause precision problems.\n",
      "  ConvergenceWarning)\n",
      "C:\\Users\\admin\\Anaconda3\\lib\\site-packages\\sklearn\\linear_model\\coordinate_descent.py:491: ConvergenceWarning: Objective did not converge. You might want to increase the number of iterations. Fitting data with very small alpha may cause precision problems.\n",
      "  ConvergenceWarning)\n",
      "C:\\Users\\admin\\Anaconda3\\lib\\site-packages\\sklearn\\linear_model\\coordinate_descent.py:491: ConvergenceWarning: Objective did not converge. You might want to increase the number of iterations. Fitting data with very small alpha may cause precision problems.\n",
      "  ConvergenceWarning)\n"
     ]
    },
    {
     "data": {
      "text/plain": [
       "{'R__elasticnet__alpha': 0.3,\n",
       " 'R__polynomialfeatures__degree': 1,\n",
       " 'pca__n_components': 5}"
      ]
     },
     "execution_count": 36,
     "metadata": {},
     "output_type": "execute_result"
    }
   ],
   "source": [
    "pipe = Pipeline([\n",
    "        (\"scaler\", StandardScaler()), \n",
    "        (\"pca\", PCA(n_components=2)),\n",
    "        (\"R\", make_pipeline(PolynomialFeatures(degree=2), ElasticNet(alpha=1, tol=0.1)))    \n",
    "    ])\n",
    "\n",
    "grid = {\n",
    "    'pca__n_components': [2, 3, 4, 5], \n",
    "    'R__polynomialfeatures__degree': [1, 2, 3, 4],\n",
    "    'R__elasticnet__alpha': [0.3, 0.35, 0.4]}\n",
    "\n",
    "grid_1 = GridSearchCV(pipe,\n",
    "                    param_grid=grid,\n",
    "                    cv=kfold,\n",
    "                    refit=True)\n",
    "grid_1.fit(X, y)\n",
    "grid_1.best_params_"
   ]
  },
  {
   "cell_type": "code",
   "execution_count": 37,
   "metadata": {},
   "outputs": [
    {
     "name": "stderr",
     "output_type": "stream",
     "text": [
      "C:\\Users\\admin\\Anaconda3\\lib\\site-packages\\sklearn\\linear_model\\coordinate_descent.py:491: ConvergenceWarning: Objective did not converge. You might want to increase the number of iterations. Fitting data with very small alpha may cause precision problems.\n",
      "  ConvergenceWarning)\n"
     ]
    },
    {
     "data": {
      "text/plain": [
       "{'R__lasso__alpha': 0.1,\n",
       " 'R__polynomialfeatures__degree': 1,\n",
       " 'pca__n_components': 5}"
      ]
     },
     "execution_count": 37,
     "metadata": {},
     "output_type": "execute_result"
    }
   ],
   "source": [
    "\n",
    "pipe = Pipeline([\n",
    "        (\"scaler\", StandardScaler()), \n",
    "        (\"pca\", PCA(n_components=2)),\n",
    "        (\"R\", make_pipeline(PolynomialFeatures(degree=2), Lasso(alpha=1, tol=0.1)))    \n",
    "    ])\n",
    "\n",
    "grid = {\n",
    "    'pca__n_components': [2, 3, 4, 5], \n",
    "    'R__polynomialfeatures__degree': [1, 2, 3, 4],\n",
    "    'R__lasso__alpha': [0.1, 1, 2, 3]}\n",
    "\n",
    "\n",
    "grid_2 = GridSearchCV(pipe,\n",
    "                    param_grid=grid ,\n",
    "                    cv=5,\n",
    "                    refit=True)\n",
    "grid_2.fit(X, y)\n",
    "grid_2.best_params_"
   ]
  },
  {
   "cell_type": "code",
   "execution_count": 38,
   "metadata": {},
   "outputs": [
    {
     "data": {
      "text/plain": [
       "{'R__polynomialfeatures__degree': 1,\n",
       " 'R__ridge__alpha': 0.1,\n",
       " 'pca__n_components': 3}"
      ]
     },
     "execution_count": 38,
     "metadata": {},
     "output_type": "execute_result"
    }
   ],
   "source": [
    "pipe = Pipeline([\n",
    "        (\"scaler\", StandardScaler()), \n",
    "        (\"pca\", PCA(n_components=2)),\n",
    "        (\"R\", make_pipeline(PolynomialFeatures(degree=2), linear_model.Ridge(alpha=1, tol=0.1)))    \n",
    "    ])\n",
    "\n",
    "grid = {\n",
    "    'pca__n_components': [2, 3, 4, 5], \n",
    "    'R__polynomialfeatures__degree': [1, 2, 3, 4],\n",
    "    'R__ridge__alpha': [0.1, 1, 2, 3]}\n",
    "\n",
    "\n",
    "grid_3 = GridSearchCV(pipe,\n",
    "                    param_grid=grid,\n",
    "                    cv=5,\n",
    "                    refit=True)\n",
    "grid_3.fit(X, y)\n",
    "grid_3.best_params_"
   ]
  },
  {
   "cell_type": "code",
   "execution_count": 39,
   "metadata": {},
   "outputs": [
    {
     "name": "stdout",
     "output_type": "stream",
     "text": [
      "{'R__polynomialfeatures__degree': 1, 'pca__n_components': 3}\n"
     ]
    },
    {
     "data": {
      "text/plain": [
       "Pipeline(memory=None,\n",
       "     steps=[('scaler', StandardScaler(copy=True, with_mean=True, with_std=True)), ('pca', PCA(copy=True, iterated_power='auto', n_components=3, random_state=None,\n",
       "  svd_solver='auto', tol=0.0, whiten=False)), ('R', Pipeline(memory=None,\n",
       "     steps=[('polynomialfeatures', PolynomialFeatures(degree=1, include_bias=True, interaction_only=False)), ('linearregression', LinearRegression(copy_X=True, fit_intercept=True, n_jobs=1, normalize=False))]))])"
      ]
     },
     "execution_count": 39,
     "metadata": {},
     "output_type": "execute_result"
    }
   ],
   "source": [
    "pipe = Pipeline([\n",
    "        (\"scaler\", StandardScaler()), \n",
    "        (\"pca\", PCA(n_components=2)),\n",
    "        (\"R\", make_pipeline(PolynomialFeatures(degree=2), linear_model.LinearRegression()))    \n",
    "    ])\n",
    "\n",
    "grid = {\n",
    "    'pca__n_components': [2, 3, 4, 5], \n",
    "    'R__polynomialfeatures__degree': [1, 2, 3, 4]}\n",
    "\n",
    "\n",
    "grid_4 = GridSearchCV(pipe,\n",
    "                    param_grid=grid,\n",
    "                    cv=kfold,\n",
    "                    refit=True)\n",
    "grid_4.fit(X, y)\n",
    "print(grid_4.best_params_)\n",
    "grid_4.best_estimator_"
   ]
  },
  {
   "cell_type": "code",
   "execution_count": 42,
   "metadata": {},
   "outputs": [
    {
     "name": "stdout",
     "output_type": "stream",
     "text": [
      "{'R__C': 1000, 'R__gamma': 0.0001, 'pca__n_components': 5}\n"
     ]
    },
    {
     "data": {
      "text/plain": [
       "Pipeline(memory=None,\n",
       "     steps=[('scaler', StandardScaler(copy=True, with_mean=True, with_std=True)), ('pca', PCA(copy=True, iterated_power='auto', n_components=5, random_state=None,\n",
       "  svd_solver='auto', tol=0.0, whiten=False)), ('R', SVR(C=1000, cache_size=200, coef0=0.0, degree=3, epsilon=0.1, gamma=0.0001,\n",
       "  kernel='rbf', max_iter=-1, shrinking=True, tol=0.001, verbose=False))])"
      ]
     },
     "execution_count": 42,
     "metadata": {},
     "output_type": "execute_result"
    }
   ],
   "source": [
    "\n",
    "pipe = Pipeline([\n",
    "        (\"scaler\", StandardScaler()), \n",
    "        (\"pca\", PCA(n_components=2)),\n",
    "        (\"R\", SVR(kernel='rbf'))    \n",
    "    ])\n",
    "\n",
    "grid = {\n",
    "    'pca__n_components': [2, 3, 4, 5],     \n",
    "    \"R__C\": [0.001, 0.01, 0.1, 1, 10, 100, 1000],\n",
    "    \"R__gamma\": [ 0.0000001, 0.000001, 0.00001, 0.0001, 0.001, 0.01, 0.1, 1, 10, 100, 1000]\n",
    "       }\n",
    "\n",
    "grid_5 = GridSearchCV(pipe,\n",
    "                   param_grid=grid,\n",
    "                    cv=kfold,\n",
    "                    refit=True)\n",
    "grid_5.fit(X, y)\n",
    "print(grid_5.best_params_)\n",
    "grid_5.best_estimator_\n",
    "\n"
   ]
  },
  {
   "cell_type": "code",
   "execution_count": 44,
   "metadata": {},
   "outputs": [
    {
     "name": "stdout",
     "output_type": "stream",
     "text": [
      "{'R__max_depth': 400, 'R__max_features': 'auto', 'R__n_estimators': 300, 'pca__n_components': 5}\n"
     ]
    },
    {
     "data": {
      "text/plain": [
       "Pipeline(memory=None,\n",
       "     steps=[('scaler', StandardScaler(copy=True, with_mean=True, with_std=True)), ('pca', PCA(copy=True, iterated_power='auto', n_components=5, random_state=None,\n",
       "  svd_solver='auto', tol=0.0, whiten=False)), ('R', RandomForestRegressor(bootstrap=True, criterion='mse', max_depth=400,\n",
       "           max_featu...imators=300, n_jobs=-1,\n",
       "           oob_score=True, random_state=None, verbose=0, warm_start=False))])"
      ]
     },
     "execution_count": 44,
     "metadata": {},
     "output_type": "execute_result"
    }
   ],
   "source": [
    "pipe = Pipeline([\n",
    "        (\"scaler\", StandardScaler()), \n",
    "        (\"pca\", PCA(n_components=2)),\n",
    "        (\"R\", RandomForestRegressor(n_jobs=-1, max_features= 'sqrt', n_estimators=50, oob_score = True))    \n",
    "    ])\n",
    "\n",
    "grid = {\n",
    "    'pca__n_components': [2, 3, 4, 5],     \n",
    "    'R__n_estimators': [150, 300, 400],\n",
    "    'R__max_features': ['auto', 'sqrt', 'log2'],  \n",
    "    'R__max_depth': [ 400, 500, 600]\n",
    "       }\n",
    "\n",
    "grid_6 = GridSearchCV(pipe,\n",
    "                   param_grid=grid,\n",
    "                    cv=kfold,\n",
    "                    refit=True)\n",
    "grid_6.fit(X, y)\n",
    "print(grid_6.best_params_)\n",
    "grid_6.best_estimator_\n",
    "\n"
   ]
  },
  {
   "cell_type": "code",
   "execution_count": 47,
   "metadata": {},
   "outputs": [],
   "source": [
    "# pipe = Pipeline([\n",
    "#         (\"scaler\", StandardScaler()), \n",
    "#         (\"pca\", PCA(n_components=2)),\n",
    "#         (\"R\", MLPRegressor(hidden_layer_sizes=(100,100,100),activation='tanh',alpha=0.0001))    \n",
    "#     ])\n",
    "\n",
    "# grid = {\n",
    "#     'pca__n_components': [2, 3, 4, 5],     \n",
    "#     'R__hidden_layer_sizes': [(1000,10,10),(10,10),(100,100)],\n",
    "#     'R__alpha': [1, 10, 100 ,1000],\n",
    "#     'R__activation': ['identity', 'logistic', 'tanh', 'relu']  \n",
    "#        }\n",
    "\n",
    "# grid_7 = GridSearchCV(pipe,\n",
    "#                     param_grid=grid,\n",
    "#                     cv=kfold,\n",
    "#                     n_jobs=2,\n",
    "#                     refit=True)\n",
    "# grid_7.fit(X, y)\n",
    "# print(grid_7.best_params_)\n",
    "# grid_7.best_estimator_"
   ]
  },
  {
   "cell_type": "code",
   "execution_count": 48,
   "metadata": {},
   "outputs": [
    {
     "name": "stdout",
     "output_type": "stream",
     "text": [
      "ElasticNet\n",
      "R^2: 0.4526182873903407\n",
      "Explained variance score: 0.4660260433026925\n",
      "Median absolute error: 2.3898757741466\n",
      "Mean squared error: 10.325206506784744\n",
      "Mean absolute errors: 2.647959653280042\n",
      "Lasso\n",
      "R^2: 0.40736186435174804\n",
      "Explained variance score: 0.42365798702917323\n",
      "Median absolute error: 2.4274238973922815\n",
      "Mean squared error: 11.178873888919414\n",
      "Mean absolute errors: 2.7956278889453756\n",
      "Ridge\n",
      "R^2: 0.29895515113555937\n",
      "Explained variance score: 0.47637239175082535\n",
      "Median absolute error: 2.9633712128506087\n",
      "Mean squared error: 13.22373887964506\n",
      "Mean absolute errors: 3.007791521055942\n",
      "LR\n",
      "R^2: 0.2988854641297233\n",
      "Explained variance score: 0.47637655260645284\n",
      "Median absolute error: 2.9633048643185127\n",
      "Mean squared error: 13.225053378667445\n",
      "Mean absolute errors: 3.0079302556814556\n",
      "SVR\n",
      "R^2: 0.07057397906528062\n",
      "Explained variance score: 0.3624811588349268\n",
      "Median absolute error: 3.221597498390107\n",
      "Mean squared error: 17.53167009028952\n",
      "Mean absolute errors: 3.458243918062843\n",
      "RFR\n",
      "R^2: -1.8541637401106632\n",
      "Explained variance score: -0.728082366540787\n",
      "Median absolute error: 5.592833333333343\n",
      "Mean squared error: 53.8378052133334\n",
      "Mean absolute errors: 6.1016133333333356\n"
     ]
    }
   ],
   "source": [
    "from sklearn import  metrics\n",
    "\n",
    "X_test=boston_X_test\n",
    "y_test=boston_y_test\n",
    "\n",
    "models = []\n",
    "models.append(('ElasticNet', grid_1.best_estimator_))\n",
    "models.append(('Lasso', grid_2.best_estimator_))\n",
    "models.append(('Ridge', grid_3.best_estimator_))\n",
    "models.append(('LR', grid_4.best_estimator_))\n",
    "models.append(('SVR', grid_5.best_estimator_))\n",
    "models.append(('RFR', grid_6.best_estimator_))\n",
    "# models.append(('MLP_R', grid_7.best_estimator_))\n",
    "\n",
    "r2 = []\n",
    "explained_variance_score = []\n",
    "median_absolute_error = []\n",
    "mean_squared_error = []\n",
    "mean_absolute_error = []\n",
    "for name, model in models:\n",
    "    print(name)\n",
    "    print(\"R^2: {}\".format(metrics.r2_score(y_test, model.predict(X_test)) ))\n",
    "    print(\"Explained variance score: {}\".format( metrics.explained_variance_score(y_test, model.predict(X_test)) ))\n",
    "    print(\"Median absolute error: {}\".format( metrics.median_absolute_error(y_test, model.predict(X_test)) ))\n",
    "    print(\"Mean squared error: {}\".format( metrics.mean_squared_error(y_test, model.predict(X_test)) ))\n",
    "    print(\"Mean absolute errors: {}\".format(metrics.mean_absolute_error(y_test, model.predict(X_test)) ))\n",
    "    r2.append(metrics.r2_score(y_test, model.predict(X_test)))\n",
    "    explained_variance_score.append(metrics.explained_variance_score(y_test, model.predict(X_test)))\n",
    "    median_absolute_error.append( metrics.median_absolute_error(y_test, model.predict(X_test)))\n",
    "    mean_squared_error.append(metrics.mean_squared_error(y_test, model.predict(X_test)))\n",
    "    mean_absolute_error.append(metrics.mean_absolute_error(y_test, model.predict(X_test)))"
   ]
  },
  {
   "cell_type": "code",
   "execution_count": 49,
   "metadata": {},
   "outputs": [
    {
     "data": {
      "text/html": [
       "<div>\n",
       "<style scoped>\n",
       "    .dataframe tbody tr th:only-of-type {\n",
       "        vertical-align: middle;\n",
       "    }\n",
       "\n",
       "    .dataframe tbody tr th {\n",
       "        vertical-align: top;\n",
       "    }\n",
       "\n",
       "    .dataframe thead th {\n",
       "        text-align: right;\n",
       "    }\n",
       "</style>\n",
       "<table border=\"1\" class=\"dataframe\">\n",
       "  <thead>\n",
       "    <tr style=\"text-align: right;\">\n",
       "      <th></th>\n",
       "      <th>Method</th>\n",
       "      <th>r2</th>\n",
       "      <th>explained_variance_score</th>\n",
       "      <th>median_absolute_error</th>\n",
       "      <th>mean_squared_error</th>\n",
       "      <th>mean_absolute_error</th>\n",
       "    </tr>\n",
       "  </thead>\n",
       "  <tbody>\n",
       "    <tr>\n",
       "      <th>0</th>\n",
       "      <td>ElasticNet</td>\n",
       "      <td>0.452618</td>\n",
       "      <td>0.466026</td>\n",
       "      <td>2.389876</td>\n",
       "      <td>10.325207</td>\n",
       "      <td>2.647960</td>\n",
       "    </tr>\n",
       "    <tr>\n",
       "      <th>1</th>\n",
       "      <td>Lasso</td>\n",
       "      <td>0.407362</td>\n",
       "      <td>0.423658</td>\n",
       "      <td>2.427424</td>\n",
       "      <td>11.178874</td>\n",
       "      <td>2.795628</td>\n",
       "    </tr>\n",
       "    <tr>\n",
       "      <th>2</th>\n",
       "      <td>Ridge</td>\n",
       "      <td>0.298955</td>\n",
       "      <td>0.476372</td>\n",
       "      <td>2.963371</td>\n",
       "      <td>13.223739</td>\n",
       "      <td>3.007792</td>\n",
       "    </tr>\n",
       "    <tr>\n",
       "      <th>3</th>\n",
       "      <td>LR</td>\n",
       "      <td>0.298885</td>\n",
       "      <td>0.476377</td>\n",
       "      <td>2.963305</td>\n",
       "      <td>13.225053</td>\n",
       "      <td>3.007930</td>\n",
       "    </tr>\n",
       "    <tr>\n",
       "      <th>4</th>\n",
       "      <td>SVR</td>\n",
       "      <td>0.070574</td>\n",
       "      <td>0.362481</td>\n",
       "      <td>3.221597</td>\n",
       "      <td>17.531670</td>\n",
       "      <td>3.458244</td>\n",
       "    </tr>\n",
       "    <tr>\n",
       "      <th>5</th>\n",
       "      <td>RFR</td>\n",
       "      <td>-1.854164</td>\n",
       "      <td>-0.728082</td>\n",
       "      <td>5.592833</td>\n",
       "      <td>53.837805</td>\n",
       "      <td>6.101613</td>\n",
       "    </tr>\n",
       "  </tbody>\n",
       "</table>\n",
       "</div>"
      ],
      "text/plain": [
       "       Method        r2  explained_variance_score  median_absolute_error  \\\n",
       "0  ElasticNet  0.452618                  0.466026               2.389876   \n",
       "1       Lasso  0.407362                  0.423658               2.427424   \n",
       "2       Ridge  0.298955                  0.476372               2.963371   \n",
       "3          LR  0.298885                  0.476377               2.963305   \n",
       "4         SVR  0.070574                  0.362481               3.221597   \n",
       "5         RFR -1.854164                 -0.728082               5.592833   \n",
       "\n",
       "   mean_squared_error  mean_absolute_error  \n",
       "0           10.325207             2.647960  \n",
       "1           11.178874             2.795628  \n",
       "2           13.223739             3.007792  \n",
       "3           13.225053             3.007930  \n",
       "4           17.531670             3.458244  \n",
       "5           53.837805             6.101613  "
      ]
     },
     "execution_count": 49,
     "metadata": {},
     "output_type": "execute_result"
    }
   ],
   "source": [
    "import pandas as pd\n",
    "d = {'r2': r2, \n",
    "     'explained_variance_score': explained_variance_score, \n",
    "     'median_absolute_error': median_absolute_error,\n",
    "     'mean_squared_error' : mean_squared_error,\n",
    "     'mean_absolute_error' : mean_absolute_error,\n",
    "    }\n",
    "df = pd.DataFrame(data=d)\n",
    "df.insert(loc=0, column='Method', value=['ElasticNet','Lasso','Ridge','LR','SVR','RFR'])#,'MLP_R'])\n",
    "df"
   ]
  },
  {
   "cell_type": "code",
   "execution_count": null,
   "metadata": {
    "collapsed": true
   },
   "outputs": [],
   "source": []
  },
  {
   "cell_type": "code",
   "execution_count": null,
   "metadata": {
    "collapsed": true
   },
   "outputs": [],
   "source": []
  },
  {
   "cell_type": "code",
   "execution_count": null,
   "metadata": {
    "collapsed": true
   },
   "outputs": [],
   "source": []
  }
 ],
 "metadata": {
  "kernelspec": {
   "display_name": "Python 3",
   "language": "python",
   "name": "python3"
  },
  "language_info": {
   "codemirror_mode": {
    "name": "ipython",
    "version": 3
   },
   "file_extension": ".py",
   "mimetype": "text/x-python",
   "name": "python",
   "nbconvert_exporter": "python",
   "pygments_lexer": "ipython3",
   "version": "3.7.6"
  }
 },
 "nbformat": 4,
 "nbformat_minor": 2
}
