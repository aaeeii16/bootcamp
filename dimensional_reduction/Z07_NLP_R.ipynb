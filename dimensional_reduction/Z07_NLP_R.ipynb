{
 "cells": [
  {
   "cell_type": "code",
   "execution_count": 3,
   "metadata": {
    "collapsed": true
   },
   "outputs": [],
   "source": [
    "import numpy as np\n",
    "import pandas as pd\n",
    "import seaborn as sns\n",
    "import matplotlib.pyplot as plt\n",
    "from scipy.linalg import svd"
   ]
  },
  {
   "cell_type": "markdown",
   "metadata": {},
   "source": [
    "## Podstawowy sposób reprezentacji tekstu to macierz wystąpień słów w dokumentach - oznacza to bardzo duży wymiar danych... "
   ]
  },
  {
   "cell_type": "code",
   "execution_count": 4,
   "metadata": {
    "collapsed": true
   },
   "outputs": [],
   "source": [
    "documents = [\n",
    "    \"morze plaża woda słońce piasek\",\n",
    "    \"morze plaża piasek woda\",\n",
    "    \"morze plaża słońce\",\n",
    "    \"plaża woda piasek\",\n",
    "    \"słońce woda plaża\",\n",
    "    \"piasek woda\",\n",
    "    \"krowa pies papuga\",\n",
    "    \"pies kot\"\n",
    "]"
   ]
  },
  {
   "cell_type": "markdown",
   "metadata": {},
   "source": [
    "Wykonujemy reprezentację danych"
   ]
  },
  {
   "cell_type": "code",
   "execution_count": 5,
   "metadata": {},
   "outputs": [
    {
     "name": "stdout",
     "output_type": "stream",
     "text": [
      "['kot', 'krowa', 'morze', 'papuga', 'piasek', 'pies', 'plaża', 'słońce', 'woda']\n",
      "[[0 0 1 0 1 0 1 1 1]\n",
      " [0 0 1 0 1 0 1 0 1]\n",
      " [0 0 1 0 0 0 1 1 0]\n",
      " [0 0 0 0 1 0 1 0 1]\n",
      " [0 0 0 0 0 0 1 1 1]\n",
      " [0 0 0 0 1 0 0 0 1]\n",
      " [0 1 0 1 0 1 0 0 0]\n",
      " [1 0 0 0 0 1 0 0 0]]\n"
     ]
    }
   ],
   "source": [
    "from sklearn.feature_extraction.text import CountVectorizer \n",
    "cv = CountVectorizer()\n",
    "dtm = cv.fit_transform(documents) \n",
    "# print(dtm )\n",
    "\n",
    "print(cv.get_feature_names())\n",
    "\n",
    "x = dtm.todense()\n",
    "print(x)"
   ]
  },
  {
   "cell_type": "markdown",
   "metadata": {},
   "source": [
    "Chcemy, żeby wiersze reprezentowały kolejne słowa, a kolumny kolejne dokumenty"
   ]
  },
  {
   "cell_type": "code",
   "execution_count": 6,
   "metadata": {},
   "outputs": [
    {
     "data": {
      "text/plain": [
       "matrix([[0, 0, 0, 0, 0, 0, 0, 1],\n",
       "        [0, 0, 0, 0, 0, 0, 1, 0],\n",
       "        [1, 1, 1, 0, 0, 0, 0, 0],\n",
       "        [0, 0, 0, 0, 0, 0, 1, 0],\n",
       "        [1, 1, 0, 1, 0, 1, 0, 0],\n",
       "        [0, 0, 0, 0, 0, 0, 1, 1],\n",
       "        [1, 1, 1, 1, 1, 0, 0, 0],\n",
       "        [1, 0, 1, 0, 1, 0, 0, 0],\n",
       "        [1, 1, 0, 1, 1, 1, 0, 0]], dtype=int64)"
      ]
     },
     "execution_count": 6,
     "metadata": {},
     "output_type": "execute_result"
    }
   ],
   "source": [
    "x = dtm.todense().T\n",
    "x # wiersze słowa, kolumny - dokumenty"
   ]
  },
  {
   "cell_type": "markdown",
   "metadata": {},
   "source": [
    "### Nasz cel - wyreprezentować dokumenty w niżej wymiarowej przestrzeni - znaleźć ich znaczenie."
   ]
  },
  {
   "cell_type": "code",
   "execution_count": 7,
   "metadata": {
    "collapsed": true
   },
   "outputs": [],
   "source": [
    "U, s, V = np.linalg.svd(x)\n",
    "S = np.zeros_like(x).astype(\"float\")\n",
    "np.fill_diagonal(S,s)"
   ]
  },
  {
   "cell_type": "markdown",
   "metadata": {},
   "source": [
    "Sprawdzamy, czy można wrucić."
   ]
  },
  {
   "cell_type": "code",
   "execution_count": 8,
   "metadata": {},
   "outputs": [
    {
     "data": {
      "text/plain": [
       "array([[-0., -0., -0.,  0.,  0.,  0., -0.,  1.],\n",
       "       [ 0., -0., -0.,  0.,  0.,  0.,  1., -0.],\n",
       "       [ 1.,  1.,  1., -0., -0., -0.,  0., -0.],\n",
       "       [ 0.,  0., -0., -0.,  0.,  0.,  1., -0.],\n",
       "       [ 1.,  1., -0.,  1., -0.,  1., -0., -0.],\n",
       "       [-0., -0.,  0., -0.,  0.,  0.,  1.,  1.],\n",
       "       [ 1.,  1.,  1.,  1.,  1., -0.,  0.,  0.],\n",
       "       [ 1., -0.,  1., -0.,  1., -0.,  0.,  0.],\n",
       "       [ 1.,  1., -0.,  1.,  1.,  1.,  0., -0.]])"
      ]
     },
     "execution_count": 8,
     "metadata": {},
     "output_type": "execute_result"
    }
   ],
   "source": [
    "np.round(np.dot(np.dot(U,S),V), 1)"
   ]
  },
  {
   "cell_type": "markdown",
   "metadata": {},
   "source": [
    "# Ile wziac skladowych?"
   ]
  },
  {
   "cell_type": "code",
   "execution_count": 9,
   "metadata": {},
   "outputs": [
    {
     "data": {
      "text/plain": [
       "array([[3.9, 0. , 0. , 0. , 0. , 0. , 0. , 0. ],\n",
       "       [0. , 1.9, 0. , 0. , 0. , 0. , 0. , 0. ],\n",
       "       [0. , 0. , 1.8, 0. , 0. , 0. , 0. , 0. ],\n",
       "       [0. , 0. , 0. , 1.2, 0. , 0. , 0. , 0. ],\n",
       "       [0. , 0. , 0. , 0. , 1.1, 0. , 0. , 0. ],\n",
       "       [0. , 0. , 0. , 0. , 0. , 0.7, 0. , 0. ],\n",
       "       [0. , 0. , 0. , 0. , 0. , 0. , 0.3, 0. ],\n",
       "       [0. , 0. , 0. , 0. , 0. , 0. , 0. , 0. ],\n",
       "       [0. , 0. , 0. , 0. , 0. , 0. , 0. , 0. ]])"
      ]
     },
     "execution_count": 9,
     "metadata": {},
     "output_type": "execute_result"
    }
   ],
   "source": [
    "np.round(S , 1)"
   ]
  },
  {
   "cell_type": "code",
   "execution_count": 10,
   "metadata": {},
   "outputs": [
    {
     "data": {
      "image/png": "[encoded data removed]",
      "text/plain": [
       "<Figure size 432x288 with 1 Axes>"
      ]
     },
     "metadata": {},
     "output_type": "display_data"
    }
   ],
   "source": [
    "plt.plot(s)\n",
    "plt.show()"
   ]
  },
  {
   "cell_type": "markdown",
   "metadata": {},
   "source": [
    "Jedna kolumna macierzy V reprezentuje jeden dokument (w mniejszej przestrzeni) \n",
    "zatem bierzemy pierwsze k współrzędnych z każdego dokumentu"
   ]
  },
  {
   "cell_type": "code",
   "execution_count": 11,
   "metadata": {},
   "outputs": [
    {
     "data": {
      "text/plain": [
       "matrix([[-0.57, -0.48, -0.32, -0.39, -0.36, -0.25,  0.  ,  0.  ],\n",
       "        [-0.  ,  0.  , -0.  ,  0.  , -0.  ,  0.  , -0.85, -0.53],\n",
       "        [-0.14,  0.19, -0.67,  0.39, -0.25,  0.53,  0.  ,  0.  ]])"
      ]
     },
     "execution_count": 11,
     "metadata": {},
     "output_type": "execute_result"
    }
   ],
   "source": [
    "k = 3\n",
    "np.set_printoptions(2,suppress=True)\n",
    "\n",
    "x_n = V[:k,:] # - jedna kolumna reprezentuje jeden dokument (w mniejszej przestrzeni) \n",
    "#                 zatem bierzemy pierwsze k współrzędnych z każdego dokumentu\n",
    "x_n"
   ]
  },
  {
   "cell_type": "markdown",
   "metadata": {},
   "source": [
    "Spojrzmy na wyglad dokumentow w powyzszej przestrzeni cech ukrytych\n",
    "\n",
    "### Pytanie: jak wyreprezentować przychodzące zapytanie w naszej przestrzeni V?\n",
    "\n",
    "Spójrzmy jak otrzymać V z X mając rozkład svd:\n",
    "\n",
    "$ X = USV \\ \\ $ => $ \\ \\ U^{-1} X = SV^t \\ \\ $ => $ \\ \\ S^{-1} U^{-1} X = V^t$ \n",
    "\n",
    "i wiemy, że $U^{-1} = U^t$.\n",
    "\n",
    "Zatem co zrobić z nowym zapytanie, żeby otrzymać jego reprezentację w V? To samo co z X, czyli:\n",
    "\n",
    "$ V^t_{nowe} = S^{-1} U^t X_{nowy}$"
   ]
  },
  {
   "cell_type": "code",
   "execution_count": 12,
   "metadata": {},
   "outputs": [
    {
     "data": {
      "text/plain": [
       "matrix([[-0.57, -0.48, -0.32, -0.39, -0.36, -0.25,  0.  ,  0.  ],\n",
       "        [-0.  ,  0.  , -0.  ,  0.  , -0.  ,  0.  , -0.85, -0.53],\n",
       "        [-0.14,  0.19, -0.67,  0.39, -0.25,  0.53,  0.  ,  0.  ]])"
      ]
     },
     "execution_count": 12,
     "metadata": {},
     "output_type": "execute_result"
    }
   ],
   "source": [
    "#Zatem, aby otrzymać k-wymiarową reprezentację V z X:\n",
    "dk = np.dot(np.linalg.inv(S[:k,:k]), np.dot(U.T[:k,:],x))\n",
    "dk"
   ]
  },
  {
   "cell_type": "markdown",
   "metadata": {},
   "source": [
    "# Zad\n",
    "\n",
    "Rozważmy nowe słowo i znajdżmy jego:\n",
    "\n",
    " * reprezentację w postaci liczby wystąpień\n",
    " * w przestrzeni o zredukowanym wymiarze"
   ]
  },
  {
   "cell_type": "code",
   "execution_count": 21,
   "metadata": {},
   "outputs": [
    {
     "data": {
      "text/plain": [
       "matrix([[0],\n",
       "        [0],\n",
       "        [1],\n",
       "        [0],\n",
       "        [0],\n",
       "        [0],\n",
       "        [0],\n",
       "        [1],\n",
       "        [0]], dtype=int64)"
      ]
     },
     "execution_count": 21,
     "metadata": {},
     "output_type": "execute_result"
    }
   ],
   "source": [
    "zapytanie = [\"morze i słońce\"]\n",
    "zapytanie = cv.transform(zapytanie).todense().T # reprezentujemy zapytanie jak wektor wystapień słów\n",
    "zapytanie"
   ]
  },
  {
   "cell_type": "code",
   "execution_count": 22,
   "metadata": {},
   "outputs": [
    {
     "data": {
      "text/plain": [
       "matrix([[-0.17],\n",
       "        [-0.  ],\n",
       "        [-0.52]])"
      ]
     },
     "execution_count": 22,
     "metadata": {},
     "output_type": "execute_result"
    }
   ],
   "source": [
    "#Zatem reprezentacja zapytania w przestrzeni dokumentów:\n",
    "q = np.dot(np.linalg.inv(S[:k,:k]), np.dot(U.T[:k,:],zapytanie))\n",
    "q"
   ]
  },
  {
   "cell_type": "markdown",
   "metadata": {},
   "source": [
    "# Zad\n",
    "Teraz naszym zadaniem będzie posortowanie wszystki zdań od najbliższego do naszj frazy \"morze i słońce\" do najdalszego."
   ]
  },
  {
   "cell_type": "code",
   "execution_count": 24,
   "metadata": {},
   "outputs": [
    {
     "data": {
      "text/plain": [
       "matrix([[-0.57, -0.48, -0.32, -0.39, -0.36, -0.25,  0.  ,  0.  ],\n",
       "        [-0.  ,  0.  , -0.  ,  0.  , -0.  ,  0.  , -0.85, -0.53],\n",
       "        [-0.14,  0.19, -0.67,  0.39, -0.25,  0.53,  0.  ,  0.  ]])"
      ]
     },
     "execution_count": 24,
     "metadata": {},
     "output_type": "execute_result"
    }
   ],
   "source": [
    "dk"
   ]
  },
  {
   "cell_type": "code",
   "execution_count": 25,
   "metadata": {},
   "outputs": [
    {
     "data": {
      "text/plain": [
       "matrix([[-0.17],\n",
       "        [-0.  ],\n",
       "        [-0.52]])"
      ]
     },
     "execution_count": 25,
     "metadata": {},
     "output_type": "execute_result"
    }
   ],
   "source": [
    "q"
   ]
  },
  {
   "cell_type": "code",
   "execution_count": 26,
   "metadata": {},
   "outputs": [
    {
     "data": {
      "text/plain": [
       "array([[0.55],\n",
       "       [0.78],\n",
       "       [0.21],\n",
       "       [0.93],\n",
       "       [0.33],\n",
       "       [1.06],\n",
       "       [1.01],\n",
       "       [0.76]])"
      ]
     },
     "execution_count": 26,
     "metadata": {},
     "output_type": "execute_result"
    }
   ],
   "source": [
    "from sklearn.metrics import pairwise_distances\n",
    "pairwise_distances(dk.T,q.T)"
   ]
  },
  {
   "cell_type": "code",
   "execution_count": 27,
   "metadata": {},
   "outputs": [
    {
     "data": {
      "text/plain": [
       "array([2, 4, 0, 7, 1, 3, 6, 5], dtype=int64)"
      ]
     },
     "execution_count": 27,
     "metadata": {},
     "output_type": "execute_result"
    }
   ],
   "source": [
    "kolejnosc = pairwise_distances(dk.T,q.T).flatten().argsort()\n",
    "kolejnosc"
   ]
  },
  {
   "cell_type": "code",
   "execution_count": 28,
   "metadata": {},
   "outputs": [
    {
     "data": {
      "text/plain": [
       "array(['morze plaża słońce', 'słońce woda plaża',\n",
       "       'morze plaża woda słońce piasek', 'pies kot',\n",
       "       'morze plaża piasek woda', 'plaża woda piasek',\n",
       "       'krowa pies papuga', 'piasek woda'], dtype='<U30')"
      ]
     },
     "execution_count": 28,
     "metadata": {},
     "output_type": "execute_result"
    }
   ],
   "source": [
    "np.array(documents)[kolejnosc]"
   ]
  },
  {
   "cell_type": "code",
   "execution_count": null,
   "metadata": {
    "collapsed": true
   },
   "outputs": [],
   "source": []
  }
 ],
 "metadata": {
  "kernelspec": {
   "display_name": "Python 3",
   "language": "python",
   "name": "python3"
  },
  "language_info": {
   "codemirror_mode": {
    "name": "ipython",
    "version": 3
   },
   "file_extension": ".py",
   "mimetype": "text/x-python",
   "name": "python",
   "nbconvert_exporter": "python",
   "pygments_lexer": "ipython3",
   "version": "3.6.7"
  }
 },
 "nbformat": 4,
 "nbformat_minor": 2
}
