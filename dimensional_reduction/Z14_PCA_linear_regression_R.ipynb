{
 "cells": [
  {
   "cell_type": "code",
   "execution_count": 2,
   "metadata": {},
   "outputs": [],
   "source": [
    "import numpy as np\n",
    "import matplotlib.pyplot as plt\n",
    "from sklearn import datasets\n",
    "from sklearn.model_selection import cross_val_predict\n",
    "from sklearn import linear_model\n",
    "import matplotlib.pyplot as plt"
   ]
  },
  {
   "cell_type": "markdown",
   "metadata": {},
   "source": [
    "# Zad\n",
    "Na danych datasets wykonaj wykonaj LinearRegression w następujących krokach:\n",
    "\n",
    "* podział na train test\n",
    "* wykonaj skalowanie\n",
    "* wykonaj PCA i wyznacz optymalną ilość komponentów\n",
    "* naucz model\n",
    "    * Naucz model na wszystkich współrzędnych \n",
    "    * Naucz model na zredukowanej ilości współrzędnych\n",
    "    * porównaj wyniki\n"
   ]
  },
  {
   "cell_type": "code",
   "execution_count": 7,
   "metadata": {},
   "outputs": [],
   "source": [
    "boston = datasets.load_boston()\n",
    "# print description\n",
    "# print(boston.DESCR)"
   ]
  },
  {
   "cell_type": "code",
   "execution_count": 8,
   "metadata": {},
   "outputs": [
    {
     "name": "stdout",
     "output_type": "stream",
     "text": [
      "(506, 13)\n"
     ]
    }
   ],
   "source": [
    "X = boston.data\n",
    "y = boston.target\n",
    "print(X.shape)"
   ]
  },
  {
   "cell_type": "code",
   "execution_count": 9,
   "metadata": {},
   "outputs": [
    {
     "data": {
      "text/plain": [
       "(455, 13)"
      ]
     },
     "execution_count": 9,
     "metadata": {},
     "output_type": "execute_result"
    }
   ],
   "source": [
    "from sklearn.model_selection import train_test_split\n",
    "seed=12\n",
    "\n",
    "X_train, X_test, y_train, y_test = train_test_split(X, y, test_size=0.1, random_state=seed)\n",
    "X_train.shape"
   ]
  },
  {
   "cell_type": "code",
   "execution_count": 10,
   "metadata": {},
   "outputs": [
    {
     "name": "stderr",
     "output_type": "stream",
     "text": [
      "C:\\Users\\admin\\anaconda3\\lib\\site-packages\\sklearn\\model_selection\\_split.py:296: FutureWarning: Setting a random_state has no effect since shuffle is False. This will raise an error in 0.24. You should leave random_state to its default (None), or set shuffle=True.\n",
      "  FutureWarning\n"
     ]
    }
   ],
   "source": [
    "from sklearn import model_selection\n",
    "\n",
    "kfold = model_selection.KFold(n_splits=5, random_state=seed)"
   ]
  },
  {
   "cell_type": "code",
   "execution_count": 11,
   "metadata": {},
   "outputs": [],
   "source": [
    "# preprocessing using 0-1 scaling\n",
    "from sklearn.preprocessing import StandardScaler\n",
    "from sklearn.linear_model import LinearRegression\n",
    "\n",
    "lr = LinearRegression()\n",
    "\n",
    "scaler = StandardScaler()\n",
    "scaler.fit(X_train)\n",
    "X_train_scaled = scaler.transform(X_train)\n",
    "X_test_scaled = scaler.transform(X_test)"
   ]
  },
  {
   "cell_type": "code",
   "execution_count": 12,
   "metadata": {},
   "outputs": [
    {
     "data": {
      "text/plain": [
       "LinearRegression(copy_X=True, fit_intercept=True, n_jobs=None, normalize=False)"
      ]
     },
     "execution_count": 12,
     "metadata": {},
     "output_type": "execute_result"
    }
   ],
   "source": [
    "# learning an LR on the scaled training data\n",
    "lr.fit(X_train_scaled, y_train)"
   ]
  },
  {
   "cell_type": "code",
   "execution_count": 13,
   "metadata": {},
   "outputs": [
    {
     "name": "stdout",
     "output_type": "stream",
     "text": [
      "Scaled test set R2: 0.79\n"
     ]
    }
   ],
   "source": [
    "from sklearn import  metrics\n",
    "# scoring on the scaled test set\n",
    "print(\"Scaled test set R2: {:.2f}\".format( metrics.r2_score( y_pred = lr.predict(X_test_scaled),y_true = y_test)) )\n",
    "gl_r2 = metrics.r2_score( y_pred = lr.predict(X_test_scaled),y_true = y_test)"
   ]
  },
  {
   "cell_type": "code",
   "execution_count": 14,
   "metadata": {},
   "outputs": [
    {
     "data": {
      "image/png": "[encoded data removed]",
      "text/plain": [
       "<Figure size 432x288 with 1 Axes>"
      ]
     },
     "metadata": {
      "needs_background": "light"
     },
     "output_type": "display_data"
    }
   ],
   "source": [
    "from sklearn.decomposition import PCA\n",
    "pca = PCA()\n",
    "pca.fit(X_train_scaled)\n",
    "plt.bar(range(pca.n_components_),pca.explained_variance_ratio_)\n",
    "plt.show()"
   ]
  },
  {
   "cell_type": "code",
   "execution_count": 15,
   "metadata": {},
   "outputs": [
    {
     "name": "stdout",
     "output_type": "stream",
     "text": [
      "Scaled test set R2: 0.68\n"
     ]
    }
   ],
   "source": [
    "from sklearn.decomposition import PCA\n",
    "pca = PCA(n_components=3)\n",
    "pca.fit(X_train_scaled)\n",
    "\n",
    "X_train_scaled_pca = pca.transform(X_train_scaled)\n",
    "X_test_scaled_pca = pca.transform(X_test_scaled)\n",
    "\n",
    "lr = LinearRegression()\n",
    "# learning an LR on the scaled training data\n",
    "lr.fit(X_train_scaled_pca, y_train)\n",
    "\n",
    "# scoring on the scaled test set\n",
    "print(\"Scaled test set R2: {:.2f}\".format( metrics.r2_score( y_pred = lr.predict(X_test_scaled_pca),y_true = y_test)) )"
   ]
  },
  {
   "cell_type": "markdown",
   "metadata": {},
   "source": [
    "# Zad\n",
    "\n",
    "Wykonaj powyższe zadanie z wykorzystaniem \n",
    "\n",
    "```python \n",
    "from sklearn.pipeline import Pipeline\n",
    "```"
   ]
  },
  {
   "cell_type": "code",
   "execution_count": 16,
   "metadata": {},
   "outputs": [],
   "source": [
    "from sklearn.pipeline import Pipeline\n",
    "pipe = Pipeline([\n",
    "    (\"scaler\", StandardScaler()), \n",
    "    (\"pca\", PCA(n_components=3)),\n",
    "    (\"LR\", LinearRegression())    \n",
    "])"
   ]
  },
  {
   "cell_type": "code",
   "execution_count": 17,
   "metadata": {},
   "outputs": [
    {
     "data": {
      "text/plain": [
       "Pipeline(memory=None,\n",
       "         steps=[('scaler',\n",
       "                 StandardScaler(copy=True, with_mean=True, with_std=True)),\n",
       "                ('pca',\n",
       "                 PCA(copy=True, iterated_power='auto', n_components=3,\n",
       "                     random_state=None, svd_solver='auto', tol=0.0,\n",
       "                     whiten=False)),\n",
       "                ('LR',\n",
       "                 LinearRegression(copy_X=True, fit_intercept=True, n_jobs=None,\n",
       "                                  normalize=False))],\n",
       "         verbose=False)"
      ]
     },
     "execution_count": 17,
     "metadata": {},
     "output_type": "execute_result"
    }
   ],
   "source": [
    "pipe.fit(X_train, y_train)"
   ]
  },
  {
   "cell_type": "code",
   "execution_count": 18,
   "metadata": {},
   "outputs": [
    {
     "name": "stdout",
     "output_type": "stream",
     "text": [
      "Scaled test set R2: 0.68\n"
     ]
    }
   ],
   "source": [
    "# scoring on the scaled test set\n",
    "print(\"Scaled test set R2: {:.2f}\".format( metrics.r2_score( y_pred = pipe.predict(X_test),y_true = y_test)) )"
   ]
  },
  {
   "cell_type": "markdown",
   "metadata": {},
   "source": [
    "# Zad\n",
    "\n",
    "Narysuj zależność ilości wymiarów i miary R2 dla\n",
    "\n",
    "```python\n",
    "n_components = [2,3,4,5,6,7,8,9,10,11]\n",
    "```"
   ]
  },
  {
   "cell_type": "code",
   "execution_count": 19,
   "metadata": {},
   "outputs": [
    {
     "name": "stdout",
     "output_type": "stream",
     "text": [
      "1\n",
      "2\n",
      "3\n",
      "4\n",
      "5\n",
      "6\n",
      "7\n",
      "8\n",
      "9\n",
      "10\n",
      "11\n",
      "12\n"
     ]
    }
   ],
   "source": [
    "r2_array = []\n",
    "for i in range(1,X.shape[1]):\n",
    "    print(i)\n",
    "    pipe = Pipeline([\n",
    "        (\"scaler\", StandardScaler()), \n",
    "        (\"pca\", PCA(n_components=i)),\n",
    "        (\"LR\", LinearRegression())    \n",
    "    ])\n",
    "    pipe.fit(X_train, y_train)\n",
    "    # scoring on the scaled test set\n",
    "    r2_array.append( metrics.r2_score( y_pred = pipe.predict(X_test),y_true = y_test)) "
   ]
  },
  {
   "cell_type": "code",
   "execution_count": 20,
   "metadata": {},
   "outputs": [
    {
     "data": {
      "image/png": "[encoded data removed]",
      "text/plain": [
       "<Figure size 432x288 with 1 Axes>"
      ]
     },
     "metadata": {
      "needs_background": "light"
     },
     "output_type": "display_data"
    }
   ],
   "source": [
    "t=range(1,X.shape[1])\n",
    "\n",
    "plt.plot(r2_array, \"o-\", label=\"R2\")\n",
    "plt.xticks(range(len(t)), t, size='small', label=\"R2\")\n",
    "plt.axhline(y=gl_r2, color='r', linestyle='-')\n",
    "plt.legend()\n",
    "plt.show()"
   ]
  },
  {
   "cell_type": "markdown",
   "metadata": {},
   "source": [
    "# Zad\n",
    "Wykonaj GridSearch po ilości komponentów do której redukujesz wymiar do redukcji.\n",
    "Sprawdź\n",
    "```python\n",
    "n_components = [2,3,4,5,6,7,8,9,10]\n",
    "```"
   ]
  },
  {
   "cell_type": "code",
   "execution_count": 21,
   "metadata": {},
   "outputs": [],
   "source": [
    "pipe = Pipeline([\n",
    "        (\"scaler\", StandardScaler()), \n",
    "        (\"pca\", PCA(n_components=i)),\n",
    "        (\"LR\", LinearRegression())    \n",
    "    ])\n",
    "\n",
    "param_grid = {'scaler': [StandardScaler(), None],\n",
    "            'pca__n_components': np.arange(1, 7)}\n",
    "\n"
   ]
  },
  {
   "cell_type": "code",
   "execution_count": 22,
   "metadata": {},
   "outputs": [
    {
     "name": "stdout",
     "output_type": "stream",
     "text": [
      "Best parameters:  {'pca__n_components': 6, 'scaler': StandardScaler(copy=True, with_mean=True, with_std=True)}\n",
      "Test R2: 0.73\n"
     ]
    }
   ],
   "source": [
    "from sklearn.model_selection import GridSearchCV\n",
    "grid = GridSearchCV(pipe, param_grid=param_grid, cv=kfold)\n",
    "grid.fit(X_train, y_train)\n",
    "\n",
    "print(\"Best parameters: \", grid.best_params_)\n",
    "print(\"Test R2: {:.2f}\".format( metrics.r2_score( y_pred= grid.predict(X_test), y_true= y_test)))"
   ]
  },
  {
   "cell_type": "code",
   "execution_count": 61,
   "metadata": {},
   "outputs": [
    {
     "name": "stdout",
     "output_type": "stream",
     "text": [
      "Best parameters:  {'pca__n_components': 6, 'scaler': StandardScaler(copy=True, with_mean=True, with_std=True)}\n",
      "Test R2: 0.73\n"
     ]
    }
   ],
   "source": []
  },
  {
   "cell_type": "markdown",
   "metadata": {},
   "source": [
    "# Zad"
   ]
  },
  {
   "cell_type": "code",
   "execution_count": 62,
   "metadata": {},
   "outputs": [],
   "source": [
    "from sklearn.svm import SVR\n",
    "pipe = Pipeline([\n",
    "        (\"scaler\", StandardScaler()), \n",
    "        (\"pca\", PCA(n_components=2)),\n",
    "        (\"SVR\", SVR(kernel='rbf', gamma=0.1))    \n",
    "    ])\n",
    "\n",
    "param_grid = {'scaler': [StandardScaler(), None],\n",
    "            'pca__n_components': np.arange(1, 5),\n",
    "            \"SVR__C\": [0.001, 0.01, 0.1, 1, 10, 100, 1000, 10000], \n",
    "            \"SVR__gamma\": [0.001, 0.01, 0.1, 1, 10, 100, 1000]\n",
    "             }"
   ]
  },
  {
   "cell_type": "code",
   "execution_count": 63,
   "metadata": {},
   "outputs": [
    {
     "data": {
      "text/plain": [
       "GridSearchCV(cv=KFold(n_splits=5, random_state=12, shuffle=False),\n",
       "             error_score=nan,\n",
       "             estimator=Pipeline(memory=None,\n",
       "                                steps=[('scaler',\n",
       "                                        StandardScaler(copy=True,\n",
       "                                                       with_mean=True,\n",
       "                                                       with_std=True)),\n",
       "                                       ('pca',\n",
       "                                        PCA(copy=True, iterated_power='auto',\n",
       "                                            n_components=2, random_state=None,\n",
       "                                            svd_solver='auto', tol=0.0,\n",
       "                                            whiten=False)),\n",
       "                                       ('SVR',\n",
       "                                        SVR(C=1.0, cache_size=200, coef0=0.0,\n",
       "                                            degree=...\n",
       "                                            verbose=False))],\n",
       "                                verbose=False),\n",
       "             iid='deprecated', n_jobs=None,\n",
       "             param_grid={'SVR__C': [0.001, 0.01, 0.1, 1, 10, 100, 1000, 10000],\n",
       "                         'SVR__gamma': [0.001, 0.01, 0.1, 1, 10, 100, 1000],\n",
       "                         'pca__n_components': array([1, 2, 3, 4]),\n",
       "                         'scaler': [StandardScaler(copy=True, with_mean=True,\n",
       "                                                   with_std=True),\n",
       "                                    None]},\n",
       "             pre_dispatch='2*n_jobs', refit=True, return_train_score=False,\n",
       "             scoring=None, verbose=0)"
      ]
     },
     "execution_count": 63,
     "metadata": {},
     "output_type": "execute_result"
    }
   ],
   "source": [
    "grid = GridSearchCV(pipe, param_grid=param_grid, cv=kfold)\n",
    "grid.fit(X_train, y_train)"
   ]
  },
  {
   "cell_type": "code",
   "execution_count": 64,
   "metadata": {},
   "outputs": [
    {
     "name": "stdout",
     "output_type": "stream",
     "text": [
      "Best parameters:  {'SVR__C': 1000, 'SVR__gamma': 0.01, 'pca__n_components': 4, 'scaler': StandardScaler(copy=True, with_mean=True, with_std=True)}\n",
      "Test R2: 0.85\n"
     ]
    }
   ],
   "source": [
    "print(\"Best parameters: \", grid.best_params_)\n",
    "print(\"Test R2: {:.2f}\".format( metrics.r2_score( y_pred= grid.predict(X_test), y_true= y_test)))"
   ]
  },
  {
   "cell_type": "code",
   "execution_count": null,
   "metadata": {
    "collapsed": true
   },
   "outputs": [],
   "source": []
  },
  {
   "cell_type": "code",
   "execution_count": 136,
   "metadata": {
    "collapsed": true
   },
   "outputs": [],
   "source": [
    "from sklearn.ensemble import RandomForestRegressor\n",
    "\n",
    "pipe = Pipeline([\n",
    "        (\"scaler\", StandardScaler()), \n",
    "        (\"pca\", PCA(n_components=2)),\n",
    "        (\"RF\", RandomForestRegressor())    \n",
    "    ])\n",
    "\n",
    "param_grid = {'scaler': [StandardScaler(), None],\n",
    "            'pca__n_components': np.arange(1, 5),\n",
    "            'RF__n_estimators': [70, 200, 700, 800],\n",
    "            'RF__max_depth':  [100, 170, 200],\n",
    "            'RF__max_features': ['log2','sqrt','auto'],\n",
    "            'RF__max_leaf_nodes':  [100, 200],\n",
    "             }"
   ]
  },
  {
   "cell_type": "code",
   "execution_count": 137,
   "metadata": {},
   "outputs": [
    {
     "data": {
      "text/plain": [
       "GridSearchCV(cv=KFold(n_splits=5, random_state=123, shuffle=False),\n",
       "       error_score='raise',\n",
       "       estimator=Pipeline(memory=None,\n",
       "     steps=[('scaler', StandardScaler(copy=True, with_mean=True, with_std=True)), ('pca', PCA(copy=True, iterated_power='auto', n_components=2, random_state=None,\n",
       "  svd_solver='auto', tol=0.0, whiten=False)), ('RF', RandomForestRegressor(bootstrap=True, criterion='mse', max_depth=None,\n",
       "           max_fea...timators=10, n_jobs=1,\n",
       "           oob_score=False, random_state=None, verbose=0, warm_start=False))]),\n",
       "       fit_params=None, iid=True, n_jobs=1,\n",
       "       param_grid={'scaler': [StandardScaler(copy=True, with_mean=True, with_std=True), None], 'pca__n_components': array([1, 2, 3, 4]), 'RF__n_estimators': [70, 200, 700, 800], 'RF__max_depth': [100, 170, 200], 'RF__max_features': ['log2', 'sqrt', 'auto'], 'RF__max_leaf_nodes': [100, 200]},\n",
       "       pre_dispatch='2*n_jobs', refit=True, return_train_score='warn',\n",
       "       scoring=None, verbose=0)"
      ]
     },
     "execution_count": 137,
     "metadata": {},
     "output_type": "execute_result"
    }
   ],
   "source": [
    "grid = GridSearchCV(pipe, param_grid=param_grid, cv=kfold)\n",
    "grid.fit(X_train, y_train)"
   ]
  },
  {
   "cell_type": "code",
   "execution_count": 138,
   "metadata": {},
   "outputs": [
    {
     "name": "stdout",
     "output_type": "stream",
     "text": [
      "Best parameters:  {'RF__max_depth': 170, 'RF__max_features': 'sqrt', 'RF__max_leaf_nodes': 100, 'RF__n_estimators': 700, 'pca__n_components': 4, 'scaler': StandardScaler(copy=True, with_mean=True, with_std=True)}\n",
      "Best test R2: 0.55\n"
     ]
    }
   ],
   "source": [
    "print(\"Best parameters: \", grid.best_params_)\n",
    "print(\"Test R2: {:.2f}\".format( metrics.r2_score( y_pred= grid.predict(X_test), y_true= y_test)))"
   ]
  },
  {
   "cell_type": "code",
   "execution_count": null,
   "metadata": {
    "collapsed": true
   },
   "outputs": [],
   "source": []
  }
 ],
 "metadata": {
  "kernelspec": {
   "display_name": "Python 3",
   "language": "python",
   "name": "python3"
  },
  "language_info": {
   "codemirror_mode": {
    "name": "ipython",
    "version": 3
   },
   "file_extension": ".py",
   "mimetype": "text/x-python",
   "name": "python",
   "nbconvert_exporter": "python",
   "pygments_lexer": "ipython3",
   "version": "3.7.6"
  }
 },
 "nbformat": 4,
 "nbformat_minor": 2
}
